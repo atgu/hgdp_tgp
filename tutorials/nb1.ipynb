{
 "cells": [
  {
   "cell_type": "markdown",
   "id": "47062d02",
   "metadata": {},
   "source": [
    "# Metadata and QC\n",
    "\n",
    "Author: Zan Koenig,  Mary Yohannes, & Ally Kim"
   ]
  },
  {
   "cell_type": "markdown",
   "id": "08fc89c9",
   "metadata": {
    "pycharm": {
     "name": "#%% md\n"
    }
   },
   "source": [
    "## Index\n",
    "1. [Set Default Paths](#-1.-Set-Default-Paths)\n",
    "2. [Read in Datasets and Apply Quality Control Filters](#2.-Read-in-Datasets-and-Apply-Quality-Control-Filters)\n",
    "3. [Investigating gnomAD Sample Filters](#3.-Investigating-gnomAD-sample-filters)\n",
    "4. [Plotting Results of gnomAD Sample Filter Investigation](#-4.-Plotting-results-of-gnomAD-sample-filter-investigation)\n",
    "5. [Pre-QC Plots](#5.-Pre-QC-Plots)\n",
    "    1. [Number of SNPs](#5a-Number-of-SNPs)\n",
    "    2. [Mean Coverage](#5b-Mean-Coverage)\n",
    "    3. [Freemix](#5c-Freemix)\n",
    "6. [Post-QC Plots](#6.-Post-QC-Plots)\n",
    "    1. [Number of SNPs](#6a-Number-of-SNPs)\n",
    "    2. [Mean Coverage](#6b-Mean-Coverage)\n",
    "    3. [Freemix](#6c-Freemix)\n",
    "    4. [Site Frequency Spectrum](#6d-Site-Frequency-Spectrum)"
   ]
  },
  {
   "cell_type": "markdown",
   "id": "800a5426",
   "metadata": {
    "pycharm": {
     "name": "#%% md\n"
    }
   },
   "source": [
    "# General Overview\n",
    "The purpose of this script is to merge metadata components needed for the HGDP+1kGP dataset and then apply QC filters on that resulting dataset. The metadata included sample and variant information (e.g. geographic region, and which samples/variants passed QC) that were initially located in different datasets. The QC filters were run using sample and variant flags from the metadata datasets. These flags were generated as a result of the dataset being run through the gnomAD QC pipeline. More information on the gnomAD QC pipeline can be found [here](https://gnomad.broadinstitute.org/news/2020-10-gnomad-v3-1-new-content-methods-annotations-and-data-availability/#sample-and-variant-quality-control). To see how these [EDIT] filters were updated as a result of our analyses, see [gnomAD sample filters](#3.-Investigating-gnomAD-sample-filters) and the resulting gnomAD [minor release.](https://gnomad.broadinstitute.org/news/2021-10-gnomad-v3-1-2-minor-release/#improvements-to-the-hgdp--1kg-subset-release)\n",
    "\n",
    "**This script contains information on how to**:\n",
    "- Use plots to identify which gnomAD QC filters are removing populations entirely (`fail_n_snp_residual` is used as an example)\n",
    "- Retrieve populations being unduly removed by filters (mostly `AFR` and `OCE` populations)\n",
    "- Filter Matrix Tables using a field within the Matrix Table\n",
    "- Filter samples using a hardcoded list of samples to remove\n",
    "- Plot certain fields from the Matrix Table:\n",
    "    - Number of SNPs\n",
    "    - Coverage\n",
    "    - Site Frequency \n",
    "    - Freemix\n",
    "    - Number of samples which failed a filter"
   ]
  },
  {
   "cell_type": "code",
   "execution_count": 1,
   "id": "59fd0022",
   "metadata": {
    "pycharm": {
     "name": "#%%\n"
    }
   },
   "outputs": [],
   "source": [
    "import hail as hl\n",
    "\n",
    "# For renaming purposes\n",
    "import re\n",
    "\n",
    "# The import statements below allow for plotting in hail\n",
    "from hail.ggplot import *\n",
    "import plotly\n",
    "import pandas as pd\n",
    "\n",
    "from bokeh.io import show, output_notebook\n",
    "from bokeh.layouts import gridplot\n",
    "output_notebook()"
   ]
  },
  {
   "cell_type": "markdown",
   "id": "6ba907f7",
   "metadata": {
    "pycharm": {
     "name": "#%% md\n"
    }
   },
   "source": [
    "# 1. Set Default Paths\n",
    "These default paths can be edited by users as needed. It is recommended to run these tutorials without writing out datasets. \n",
    "\n",
    "By default all of the write sections are shown as markdown cells. If you would like to write out your own datasets, you can copy the code and paste it into a new code cell. \n",
    "\n",
    "[Back to Index](#Index)"
   ]
  },
  {
   "cell_type": "code",
   "execution_count": null,
   "id": "ff854cd7",
   "metadata": {},
   "outputs": [],
   "source": [
    "# Path for HGDP+1kGP dataset prior to applying gnomAD QC filters\n",
    "pre_qc_path = 'gs://gcp-public-data--gnomad/release/3.1.2/mt/genomes/gnomad.genomes.v3.1.2.hgdp_1kg_subset_dense.mt'\n",
    "\n",
    "# Path for HGDP+1kGP dataset after applying gnomAD QC filters\n",
    "post_qc_path = 'gs://hgdp-1kg/tutorial_datasets/metadata_and_qc/post_qc.mt'\n"
   ]
  },
  {
   "cell_type": "markdown",
   "id": "601c2534",
   "metadata": {
    "pycharm": {
     "name": "#%% md\n"
    }
   },
   "source": [
    "# 2. Read in Datasets and Apply Quality Control Filters\n",
    "\n",
    "<br>\n",
    "<details><summary> For more information on Hail methods and expressions click <u><span style=\"color:blue\">here</span></u>.</summary> \n",
    "<ul>\n",
    "<li><a href=\"https://hail.is/docs/0.2/methods/impex.html#hail.methods.read_matrix_table\"> More on  <i> read_matrix_table() </i></a></li>\n",
    "    \n",
    "<li><a href=\"https://hail.is/docs/0.2/hail.MatrixTable.html#hail.MatrixTable.count\"> More on  <i> count() </i></a></li>\n",
    "    \n",
    "<li><a href=\"https://hail.is/docs/0.2/methods/impex.html#hail.methods.read_table\"> More on  <i> read_table() </i></a></li>\n",
    "\n",
    "<li><a href=\"https://hail.is/docs/0.2/hail.MatrixTable.html#hail.MatrixTable.annotate_rows\"> More on  <i> annotate_rows() </i></a></li>\n",
    "    \n",
    "<li><a href=\"https://hail.is/docs/0.2/hail.expr.Expression.html#hail.expr.Expression.describe\"> More on  <i> describe() </i></a></li>\n",
    "    </ul>\n",
    "</details>\n",
    "\n",
    "[Back to Index](#Index)"
   ]
  },
  {
   "cell_type": "code",
   "execution_count": null,
   "id": "ebf08e53",
   "metadata": {
    "pycharm": {
     "name": "#%%\n"
    }
   },
   "outputs": [],
   "source": [
    "# Read in the HGDP+1kGP pre-QC Matrix Table (shortened as mt)\n",
    "mt = hl.read_matrix_table(pre_qc_path)\n",
    "\n",
    "# Check how many SNPs and samples there are\n",
    "print('Num of SNPs and samples prior to any analysis = ' + str(mt.count())) # 211358784 snps & 4151 samples \n",
    "\n",
    "# get mt schema\n",
    "mt.describe()"
   ]
  },
  {
   "cell_type": "code",
   "execution_count": null,
   "id": "26ff181f",
   "metadata": {},
   "outputs": [],
   "source": [
    "# Apply sample QC filters to dataset\n",
    "# Filtering samples to those who should pass gnomADs sample QC\n",
    "# This filters to only samples that passed gnomAD sample QC hard filters\n",
    "mt = mt.filter_cols(~mt.sample_filters.hard_filtered)\n",
    "\n",
    "# Apply variant QC filters to dataset\n",
    "# Subsetting the variants in the dataset to only PASS variants (those which passed gnomAD's variant QC)\n",
    "# PASS variants are variants which have an entry in the filters field.\n",
    "# This field contains an array which contains a bool if any variant qc filter was failed\n",
    "# This is the last step in the QC process\n",
    "mt = mt.filter_rows(hl.len(mt.filters) != 0, keep=False)"
   ]
  },
  {
   "cell_type": "code",
   "execution_count": null,
   "id": "fc4ba413",
   "metadata": {},
   "outputs": [],
   "source": [
    "# Writing out the dataset after applying gnomAD sample and variant QC filters\n",
    "# This is done to speed up downstream steps\n",
    "mt.write(post_qc_path)"
   ]
  },
  {
   "cell_type": "markdown",
   "id": "7ea10d07",
   "metadata": {
    "pycharm": {
     "name": "#%% md\n"
    }
   },
   "source": [
    "# 3. Investigating gnomAD sample filters\n",
    "   \n",
    "9 out of the 28 gnomAD sample filters were dropping huge numbers of ancestrally diverse individuals (mostly African (`AFR`) and Oceanian (`OCE`) populations). The filters rely on gnomAD’s ancestry principal component analysis (PCA), which captures genetic variance across the larger gnomAD callset, and smaller, under-represented groups such as those in the HGDP+1kGP callset can appear erroneously as outliers. Here we explore which original gnomAD sample QC filters remove entire populations.\n",
    "\n",
    "\n",
    "<br>\n",
    "<details><summary> For more information on Hail methods and expressions click <u><span style=\"color:blue\">here</span></u>.</summary> \n",
    "<ul>\n",
    "<li><a href=\"https://hail.is/docs/0.2/hail.MatrixTable.html#hail.MatrixTable.filter_cols\"> More on  <i> filter_cols() </i></a></li>\n",
    "\n",
    "<li><a href=\"https://hail.is/docs/0.2/hail.expr.SetExpression.html#hail.expr.SetExpression.difference\"> More on  <i> difference() </i></a></li>\n",
    "\n",
    "<li><a href=\" https://hail.is/docs/0.2/hail.expr.CollectionExpression.html#hail.expr.CollectionExpression.length\"> More on  <i> length() </i></a></li>\n",
    "    </ul>\n",
    "</details>\n",
    "\n",
    "[Back to Index](#Index)"
   ]
  },
  {
   "cell_type": "code",
   "execution_count": null,
   "id": "590a856b",
   "metadata": {
    "pycharm": {
     "name": "#%%\n"
    }
   },
   "outputs": [],
   "source": [
    "# put the gnomAD qc filters in a set \n",
    "all_sample_filters = set(mt['sample_filters']) \n",
    "\n",
    "# select out the filters that are removing whole populations which pass all other gnomAD filters\n",
    "# if a filter name starts with 'fail_', add it to a new set after removing 'fail_' from the name  \n",
    "bad_sample_filters = {re.sub('fail_', '', x) for x in all_sample_filters if x.startswith('fail_')} \n",
    "\n",
    "# filter out the samples that passed all gnomAD QC filters OR only failed the filters that were removing population wholly\n",
    "mt_filt = mt.filter_cols(mt['sample_filters']['qc_metrics_filters'].difference(bad_sample_filters).length() == 0)\n",
    "\n",
    "# how many samples were removed by the initial QC?\n",
    "print('Num of samples before initial QC = ' + str(mt.count()[1])) # 4151\n",
    "print('Num of samples after initial QC = ' + str(mt_filt.count()[1])) # 4120\n",
    "print('Samples removed = ' + str(mt.count()[1] - mt_filt.count()[1])) # 31"
   ]
  },
  {
   "cell_type": "markdown",
   "id": "255f6358",
   "metadata": {},
   "source": [
    "# 4. Plotting results of gnomAD sample filter investigation\n",
    "[Back to Index](#Index)"
   ]
  },
  {
   "cell_type": "code",
   "execution_count": null,
   "id": "97a72248",
   "metadata": {},
   "outputs": [],
   "source": [
    "# Mary to add additional information on this failed_filters_population_level file here\n",
    "filepath = \"gs://hgdp-1kg/hgdp_tgp/intermediate_files/failed_filters_population_level.csv\"\n",
    "filters = hl.import_table(filepath, delimiter=',')"
   ]
  },
  {
   "cell_type": "code",
   "execution_count": null,
   "id": "b23dea79",
   "metadata": {},
   "outputs": [],
   "source": [
    "#grab only \"sample_filters.fail_n_snp_residual\"\n",
    "n_snp_resid = filters.annotate(population = filters['\"population\"'][1:hl.len(filters['\"population\"'])-1], \\\n",
    "                                   num_samples = hl.int(filters['\"num_of_samples\"']), \\\n",
    "                                   fail_n_snp_resid = hl.int(filters['\"sample_filters.fail_n_snp_residual\"']),\\\n",
    "                                 fail_gnomAD = hl.str(filters['\"failed_gnomAD\"']))\n",
    "\n",
    "#manipulate all strings to remove the extraneous quotation marks\n",
    "n_snp_resid = n_snp_resid.select(\"population\", \"num_samples\", \"fail_n_snp_resid\", \"fail_gnomAD\")\n",
    "\n",
    "# calculate the ratio between the number of samples that failed and the total number of samples in the population. \n",
    "n_snp_resid = n_snp_resid.annotate(fail_ratio = n_snp_resid.fail_n_snp_resid/n_snp_resid.num_samples)"
   ]
  },
  {
   "cell_type": "code",
   "execution_count": null,
   "id": "33cc44e2",
   "metadata": {},
   "outputs": [],
   "source": [
    "n_snp_resid.show()"
   ]
  },
  {
   "cell_type": "code",
   "execution_count": null,
   "id": "3ffe7ab5",
   "metadata": {},
   "outputs": [],
   "source": [
    "# generate scatter plots of ratios for each filter column across all populations colored by gnomAD failure \n",
    "plot_n_snp_resid = hl.ggplot.ggplot(n_snp_resid, hl.ggplot.aes(x=n_snp_resid.population, y=n_snp_resid.fail_ratio, \\\n",
    "                                                color=n_snp_resid.fail_gnomAD)) + \\\n",
    "    hl.ggplot.geom_point() +\\\n",
    "    hl.ggplot.ylab(\"Ratio of failed samples/total samples\") + \\\n",
    "    hl.ggplot.ggtitle(\"Failure of gnomAD n_snp_resids filter by population\")+\\\n",
    "    hl.ggplot.scale_x_discrete(breaks=list(range(78)))\n",
    "\n",
    "plot_n_snp_resid.show()"
   ]
  },
  {
   "cell_type": "markdown",
   "id": "4c74c994",
   "metadata": {},
   "source": [
    "# 5. Pre-QC Plots\n",
    "When conducting quality control, it is often a good idea to create plots of your data and summary statistics. For example, we look at the number of SNPs and coverage before and after QC, so that after removing samples or variants we get a visual representation of changes in the dataset. This can potentially flag issues for further investigation.. \n",
    "\n",
    "The following plots show the dataset prior to running any sample QC filters.\n",
    "\n",
    "[Back to Index](#Index)"
   ]
  },
  {
   "cell_type": "code",
   "execution_count": null,
   "id": "11c917af",
   "metadata": {},
   "outputs": [],
   "source": [
    "# Dict that maps color for plotting to region name for both pre and post QC plots\n",
    "newnames = {'AMR':\"#E41A1C\",'AFR':\"#984EA3\", 'OCE':\"#999999\", 'CSA':\"#FF7F00\", \n",
    "            'EAS':\"#4DAF4A\", 'EUR':\"#377EB8\", 'MID':\"#A65628\" }"
   ]
  },
  {
   "cell_type": "code",
   "execution_count": null,
   "id": "c08144a9",
   "metadata": {},
   "outputs": [],
   "source": [
    "# Using func to get pre_qc version of dataset\n",
    "pre_qc = apply_qc(raw=True)\n",
    "# As of Hail v. 0.2.82, ggplot only takes in tables as input\n",
    "# Making a table of samples for plotting\n",
    "pre_qc_col = pre_qc.cols()\n",
    "pre_qc_row = pre_qc.rows()"
   ]
  },
  {
   "cell_type": "markdown",
   "id": "2a40c388",
   "metadata": {},
   "source": [
    "#### 5a. Number of SNPs - \n",
    "\n",
    "[Back to Index](#Index)"
   ]
  },
  {
   "cell_type": "code",
   "execution_count": null,
   "id": "aed623c1",
   "metadata": {},
   "outputs": [],
   "source": [
    "# Plotting histogram of number of SNPs for each individual within each global region\n",
    "n_snp_pre_qc = hl.ggplot.ggplot(pre_qc_col, hl.ggplot.aes(x = pre_qc_col.sample_qc.n_snp)) + \\\n",
    "    hl.ggplot.geom_histogram(hl.ggplot.aes(fill = pre_qc_col.hgdp_tgp_meta.Genetic.region), min_val = 5000000, \n",
    "                             max_val = 7500000, bins = 200, position=\"identity\", alpha = .7) + \\\n",
    "    hl.ggplot.xlab(\"Number of SNPs\")+ \\\n",
    "    hl.ggplot.ggtitle(\"Number of SNPs, Pre-QC\")+ \\\n",
    "    hl.ggplot.coord_cartesian(ylim = (0,260))\n",
    "\n",
    "\n",
    "# Update colors\n",
    "n_snp_pre_qc = n_snp_pre_qc.to_plotly()\n",
    "\n",
    "n_snp_pre_qc.for_each_trace(\n",
    "    lambda trace: trace.update(marker=dict(color = newnames[trace.name]))\n",
    ")\n",
    "\n",
    "# Show plot\n",
    "n_snp_pre_qc.show()"
   ]
  },
  {
   "cell_type": "markdown",
   "id": "cbc0e9ae",
   "metadata": {},
   "source": [
    "#### 5b. Mean Coverage - \n",
    "\n",
    "[Back to Index](#Index)"
   ]
  },
  {
   "cell_type": "code",
   "execution_count": null,
   "id": "e83fa785",
   "metadata": {},
   "outputs": [],
   "source": [
    "# Create a density plot of mean coverage per individual\n",
    "cov_pre_qc = hl.ggplot.ggplot(pre_qc_col, hl.ggplot.aes(x = pre_qc_col.bam_metrics.mean_coverage)) + \\\n",
    "    hl.ggplot.geom_density(hl.ggplot.aes(fill=pre_qc_col.project_meta.title),\n",
    "                             alpha = .7) + \\\n",
    "    hl.ggplot.xlab(\"Coverage (x)\")+ \\\n",
    "    hl.ggplot.ggtitle(\"Mean coverage, Pre-QC\")\n",
    "\n",
    "\n",
    "# Show plot\n",
    "cov_pre_qc.show()"
   ]
  },
  {
   "cell_type": "markdown",
   "id": "cc8789af",
   "metadata": {},
   "source": [
    "#### 5c. Freemix - \n",
    "\n",
    "[Back to Index](#Index)"
   ]
  },
  {
   "cell_type": "code",
   "execution_count": null,
   "id": "d8aad088",
   "metadata": {},
   "outputs": [],
   "source": [
    "# Plotting freemix colored by population \n",
    "freemix_pre_qc_pop = hl.ggplot.ggplot(pre_qc_col, hl.ggplot.aes(x = pre_qc_col.bam_metrics.freemix)) +\\\n",
    "    hl.ggplot.geom_histogram(hl.ggplot.aes(fill=pre_qc_col.hgdp_tgp_meta.Genetic.region), bins = 140) + \\\n",
    "    hl.ggplot.scale_y_log10(\"Count (log scale)\") +\\\n",
    "    hl.ggplot.xlab(\"Freemix\") + \\\n",
    "    hl.ggplot.ggtitle(\"Bam metrics: Freemix, Pre-QC\")+ \\\n",
    "    hl.ggplot.coord_cartesian(xlim = (0,.5))\n",
    "\n",
    "# Update legends\n",
    "# Update colors\n",
    "freemix_pre_qc_pop = freemix_pre_qc_pop.to_plotly()\n",
    "freemix_pre_qc_pop.for_each_trace(lambda trace: trace.update(marker=dict(color = newnames[trace.name])))\n",
    "\n",
    "# Show plot\n",
    "freemix_pre_qc_pop.show()"
   ]
  },
  {
   "cell_type": "code",
   "execution_count": null,
   "id": "89562794",
   "metadata": {},
   "outputs": [],
   "source": [
    "# Plotting freemix colored by project\n",
    "freemix_pre_qc_proj = hl.ggplot.ggplot(pre_qc_col, hl.ggplot.aes(x = pre_qc_col.bam_metrics.freemix)) +\\\n",
    "    hl.ggplot.geom_histogram(hl.ggplot.aes(fill=pre_qc_col.project_meta.title), position=\"identity\", bins = 140,\\\n",
    "                            alpha = .5) + \\\n",
    "    hl.ggplot.scale_y_log10(\"Count (log scale)\") +\\\n",
    "    hl.ggplot.xlab(\"Freemix\") + \\\n",
    "    hl.ggplot.ggtitle(\"Bam metrics: Freemix, Pre-QC\")+ \\\n",
    "    hl.ggplot.coord_cartesian(xlim = (0,.5))\n",
    "\n",
    "# Show plot\n",
    "freemix_pre_qc_proj.show()"
   ]
  },
  {
   "cell_type": "markdown",
   "id": "2c0b2ee4",
   "metadata": {},
   "source": [
    "# 6. Post-QC Plots\n",
    "\n",
    "The following plots are the same as those made above with pre-QC data except now the dataset has gone through:\n",
    "- sample filtering\n",
    "- variant filtering\n",
    "- duplicate removal\n",
    "- PCA outlier removal\n",
    "\n",
    "[Back to Index](#Index)"
   ]
  },
  {
   "cell_type": "code",
   "execution_count": null,
   "id": "c722fe3a",
   "metadata": {},
   "outputs": [],
   "source": [
    "# Reading in postQC Matrix Table\n",
    "post_qc = apply_qc(post_qc=True)\n",
    "\n",
    "# Making a table of samples for plotting\n",
    "post_qc_col = post_qc.cols()\n",
    "post_qc_row = post_qc.rows()"
   ]
  },
  {
   "cell_type": "markdown",
   "id": "444cfc02",
   "metadata": {},
   "source": [
    "#### 6a. Number of SNPs - \n",
    "\n",
    "[Back to Index](#Index)"
   ]
  },
  {
   "cell_type": "code",
   "execution_count": null,
   "id": "c7bad534",
   "metadata": {},
   "outputs": [],
   "source": [
    "# Using ggplot, differentiate between populations\n",
    "# Used to do fill by geographic region\n",
    "n_snp_post_qc = hl.ggplot.ggplot(post_qc_col, hl.ggplot.aes(x = post_qc_col.sample_qc.n_snp)) + \\\n",
    "    hl.ggplot.geom_histogram(hl.ggplot.aes(fill=post_qc_col.hgdp_tgp_meta.Genetic.region), min_val = 5000000, \n",
    "                             max_val = 7500000, bins = 200, position=\"identity\", alpha = .7) + \\\n",
    "    hl.ggplot.xlab(\"Number of SNPs\")+ \\\n",
    "    hl.ggplot.ggtitle(\"Number of SNPs, Post-QC\") + \\\n",
    "    hl.ggplot.coord_cartesian(ylim = (0,260)) \n",
    "\n",
    "\n",
    "# Update legends\n",
    "n_snp_post_qc = n_snp_post_qc.to_plotly()\n",
    "\n",
    "n_snp_post_qc.for_each_trace(\n",
    "    lambda trace: trace.update(marker=dict(color = newnames[trace.name]))\n",
    ")\n",
    "\n",
    "# Show plot\n",
    "n_snp_post_qc.show()"
   ]
  },
  {
   "cell_type": "markdown",
   "id": "2cb93004",
   "metadata": {},
   "source": [
    "#### 6b. Mean Coverage - \n",
    "\n",
    "[Back to Index](#Index)"
   ]
  },
  {
   "cell_type": "code",
   "execution_count": null,
   "id": "51d91ad9",
   "metadata": {},
   "outputs": [],
   "source": [
    "# Plot histogram of mean coverage from bam_metrics\n",
    "# Separate by project (HGDP or 1kGP)\n",
    "cov_post_qc = hl.ggplot.ggplot(post_qc_col, hl.ggplot.aes(x = post_qc_col.bam_metrics.mean_coverage)) + \\\n",
    "    hl.ggplot.geom_density(hl.ggplot.aes(fill=post_qc_col.project_meta.title),\n",
    "                             alpha = .7) + \\\n",
    "    hl.ggplot.xlab(\"Coverage (x)\")+ \\\n",
    "    hl.ggplot.ggtitle(\"Mean coverage, Post-QC\")\n",
    "\n",
    "cov_post_qc.show()"
   ]
  },
  {
   "cell_type": "markdown",
   "id": "e4567800",
   "metadata": {},
   "source": [
    "#### 6c. Freemix - \n",
    "\n",
    "[Back to Index](#Index)"
   ]
  },
  {
   "cell_type": "code",
   "execution_count": null,
   "id": "d2e784b7",
   "metadata": {},
   "outputs": [],
   "source": [
    "freemix_post_qc_pop = hl.ggplot.ggplot(post_qc_col, hl.ggplot.aes(x = post_qc_col.bam_metrics.freemix)) +\\\n",
    "    hl.ggplot.geom_histogram(hl.ggplot.aes(fill=post_qc_col.hgdp_tgp_meta.Genetic.region), bins = 70,\\\n",
    "                            alpha = 1) + \\\n",
    "    hl.ggplot.scale_y_log10(\"Count (log scale)\") +\\\n",
    "    hl.ggplot.xlab(\"Freemix\") + \\\n",
    "    hl.ggplot.ggtitle(\"Bam metrics: Freemix, Post-QC\")+ \\\n",
    "    hl.ggplot.coord_cartesian(xlim = (0,.5))\n",
    "\n",
    "# Update legends\n",
    "freemix_post_qc_pop = freemix_post_qc_pop.to_plotly()\n",
    "freemix_post_qc_pop.for_each_trace(lambda trace: trace.update(marker=dict(color = newnames[trace.name])))\n",
    "\n",
    "# Show plot\n",
    "freemix_post_qc_pop.show()"
   ]
  },
  {
   "cell_type": "code",
   "execution_count": null,
   "id": "ff03ba4f",
   "metadata": {},
   "outputs": [],
   "source": [
    "freemix_post_qc_proj = hl.ggplot.ggplot(post_qc_col, hl.ggplot.aes(x = post_qc_col.bam_metrics.freemix)) +\\\n",
    "    hl.ggplot.geom_histogram(hl.ggplot.aes(fill=post_qc_col.project_meta.title), position=\"identity\", bins = 70,\\\n",
    "                            alpha = .5) + \\\n",
    "    hl.ggplot.scale_y_log10(\"Count (log scale)\") +\\\n",
    "    hl.ggplot.xlab(\"Freemix\") + \\\n",
    "    hl.ggplot.ggtitle(\"Bam metrics: Freemix, Post-QC\")+ \\\n",
    "    hl.ggplot.coord_cartesian(xlim = (0,.5))\n",
    "\n",
    "# Show plot\n",
    "freemix_post_qc_proj.show()"
   ]
  },
  {
   "cell_type": "markdown",
   "id": "26d299b1",
   "metadata": {},
   "source": [
    "#### 6d. Site Frequency Spectrum -\n",
    "\n",
    "[Back to Index](#Index)"
   ]
  },
  {
   "cell_type": "markdown",
   "id": "8f646f72",
   "metadata": {},
   "source": [
    "Below is the code used to write out the file for site frequency spectrum plotting in order to cut down on runtime\n",
    "\n",
    "```python3 \n",
    "# Aggregating site frequency data for plotting\n",
    "sfs_data = ht_rows.aggregate(hl.agg.hist(post_qc.freq.AF[1], 0,1,250))\n",
    "with hl.hadoop_open('gs://hgdp-1kg/hgdp_tgp/qc_and_figure_generation/sfs_pre_qc.txt', 'w') as f:\n",
    "    f.write(str(dict(sfs_data)))\n",
    " ```"
   ]
  },
  {
   "cell_type": "code",
   "execution_count": null,
   "id": "14729418",
   "metadata": {},
   "outputs": [],
   "source": [
    "# Load in data\n",
    "sfs_post_qc = hl.hadoop_open('gs://hgdp-1kg/hgdp_tgp/qc_and_figure_generation/sfs_post_qc.txt')\n",
    "sfs_dict = eval(sfs_post_qc.read())\n",
    "sfs_struct = hl.Struct(**sfs_dict)\n",
    "\n",
    "# Plot site frequency spectrum histogram\n",
    "sfs_p = hl.plot.histogram(sfs_struct, log = True, legend = \"Frequency of major allele at site\")\n",
    "show(sfs_p)"
   ]
  }
 ],
 "metadata": {
  "kernelspec": {
   "display_name": "Python 3 (ipykernel)",
   "language": "python",
   "name": "python3"
  },
  "language_info": {
   "codemirror_mode": {
    "name": "ipython",
    "version": 3
   },
   "file_extension": ".py",
   "mimetype": "text/x-python",
   "name": "python",
   "nbconvert_exporter": "python",
   "pygments_lexer": "ipython3",
   "version": "3.8.9"
  },
  "vscode": {
   "interpreter": {
    "hash": "31f2aee4e71d21fbe5cf8b01ff0e069b9275f58929596ceb00d14d90e3e16cd6"
   }
  }
 },
 "nbformat": 4,
 "nbformat_minor": 5
}

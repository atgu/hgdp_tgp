{
 "cells": [
  {
   "cell_type": "markdown",
   "id": "1f3565ec",
   "metadata": {},
   "source": [
    "# Metadata and QC\n",
    "\n",
    "Authors: Zan Koenig,  Mary T. Yohannes, & Ally Kim"
   ]
  },
  {
   "cell_type": "markdown",
   "id": "e0c75bdf",
   "metadata": {},
   "source": [
    "**To run this tutorial, you need to have started your cluster with `--packages-gnomad`.**\n",
    "\n",
    "*If you have not done this, you will need to shut down your current cluster and start a new one with the `--packages-gnomad` argument.* \n",
    "\n",
    "See the tutorials [README](https://github.com/atgu/hgdp_tgp/tree/master/tutorials#readme) for more information on how to start a cluster."
   ]
  },
  {
   "cell_type": "markdown",
   "id": "fd05b6c0",
   "metadata": {
    "pycharm": {
     "name": "#%% md\n"
    }
   },
   "source": [
    "## Index\n",
    "1. [Set Default Paths](#1.-Set-Default-Paths)\n",
    "2. [Read in Datasets and Apply Quality Control Filters](#2.-Read-in-Datasets-and-Apply-Quality-Control-Filters)\n",
    "3. [Plots](#3.-Plots)\n",
    "    1. [Pre-QC Plots](#3a.-Pre-QC-Plots)\n",
    "        1. [Number of SNVs](#3a-1.-Number-of-SNVs)\n",
    "        2. [Mean Coverage](#3a-2.-Mean-Coverage)\n",
    "        3. [Freemix](#3a-3.-Freemix)\n",
    "        4. [Heterozygosity](#3a-4.-Heterozygosity)\n",
    "            1. [Expected Heterozygosity](#3a-4a.-Expected-Heterozygosity)\n",
    "            2. [Actual Heterozygosity](#3a-4b.-Actual-Heterozygosity)\n",
    "    2. [Post-QC Plots](#3b.-Post-QC-Plots)\n",
    "        1. [Number of SNVs](#3b-1.-Number-of-SNVs)\n",
    "        2. [Mean Coverage](#3b-2.-Mean-Coverage)\n",
    "        3. [Freemix](#3b-3.-Freemix)\n",
    "        4. [Heterozygosity](#3b-4.-Heterozygosity)\n",
    "            1. [Expected Heterozygosity](#3b-4a.-Expected-Heterozygosity)\n",
    "            2. [Actual Heterozygosity](#3b-4b.-Actual-Heterozygosity)\n",
    "            3. [Difference Between Expected and Actual Heterozygosity](#3b-4c.-Difference-Between-Expected-and-Actual-Heterozygosity)\n",
    "        5. [Site Frequency Spectrum](#3b-5.-Site-Frequency-Spectrum)\n",
    "4. [Investigating gnomAD Sample Filters](#4.-Investigating-gnomAD-Sample-Filters)\n",
    "    1. [Plotting Results of gnomAD Sample Filter Investigation](#4a.-Plotting-Results-of-gnomAD-Sample-Filter-Investigation)"
   ]
  },
  {
   "cell_type": "markdown",
   "id": "6ca5ef23",
   "metadata": {
    "pycharm": {
     "name": "#%% md\n"
    }
   },
   "source": [
    "# General Overview\n",
    "\n",
    "The purpose of this script is to merge metadata components needed for the HGDP+1kGP dataset and then apply QC filters on the resulting dataset. The metadata includes sample and variant information (ex. genetic region and samples/variants QC status) that are initially located in different datasets. The QC filters are run using sample and variant flags from the metadata datasets. These flags are generated as a result of the dataset being run through the gnomAD QC pipeline. More information on the gnomAD QC pipeline can be found [here](https://gnomad.broadinstitute.org/news/2020-10-gnomad-v3-1-new-content-methods-annotations-and-data-availability/#sample-and-variant-quality-control). To see how the gnomAD sample QC filters were updated as a result of our analyses, see [gnomAD sample filters](#3.-Investigating-gnomAD-sample-filters) and the resulting gnomAD [minor release.](https://gnomad.broadinstitute.org/news/2021-10-gnomad-v3-1-2-minor-release/#improvements-to-the-hgdp--1kg-subset-release)\n",
    "\n",
    "**This script contains information on how to**:\n",
    "- Use plots to identify which gnomAD sample QC filters are removing populations entirely (`fail_n_snp_residual` is used as an example here)\n",
    "- Retrieve populations being unduly removed by filters (mostly <code>AFR</code> and <code>OCE</code> populations)\n",
    "- Filter matrix tables using a field within the matrix table (shortened as mt)\n",
    "- Filter samples using a hardcoded list of samples to remove\n",
    "- Plot certain fields from the matrix Table:\n",
    "    - Number of SNVs\n",
    "    - Coverage\n",
    "    - Site Frequency \n",
    "    - Freemix\n",
    "    - Number of samples which failed a sample filter"
   ]
  },
  {
   "cell_type": "code",
   "execution_count": null,
   "id": "a376204c",
   "metadata": {
    "pycharm": {
     "name": "#%%\n"
    }
   },
   "outputs": [],
   "source": [
    "import hail as hl\n",
    "\n",
    "# For renaming purposes\n",
    "import re\n",
    "\n",
    "# Function from gnomAD to apply genotype filters \n",
    "from gnomad.utils.filtering import filter_to_adj\n",
    "\n",
    "# For plotting in Hail\n",
    "from hail.ggplot import *\n",
    "import plotly\n",
    "\n",
    "from bokeh.io import show, output_notebook\n",
    "from bokeh.layouts import gridplot\n",
    "output_notebook()"
   ]
  },
  {
   "cell_type": "markdown",
   "id": "0cfc62dd",
   "metadata": {
    "pycharm": {
     "name": "#%% md\n"
    }
   },
   "source": [
    "# 1. Set Default Paths\n",
    "These default paths can be edited by users as needed. It is recommended to run these tutorials without writing out datasets. \n",
    "\n",
    "By default all of the write sections are shown as markdown cells. If you would like to write out your own datasets, you can copy the code and paste it into a new code cell. \n",
    "\n",
    "[Back to Index](#Index)"
   ]
  },
  {
   "cell_type": "code",
   "execution_count": null,
   "id": "deb9df6f",
   "metadata": {},
   "outputs": [],
   "source": [
    "# Path for HGDP+1kGP dataset prior to applying gnomAD QC filters\n",
    "pre_qc_path = 'gs://gcp-public-data--gnomad/release/3.1.2/mt/genomes/gnomad.genomes.v3.1.2.hgdp_1kg_subset_dense.mt'\n",
    "\n",
    "# Path for HGDP+1kGP dataset after applying gnomAD QC filters\n",
    "post_qc_path = 'gs://hgdp-1kg/tutorial_datasets/metadata_and_qc/post_qc.mt'\n",
    "\n",
    "# Path for gnomAD's HGDP+1kGP metadata for plotting \n",
    "metadata_path = 'gs://hgdp-1kg/tutorial_datasets/metadata_and_qc/gnomad_meta_v1.tsv'\n",
    "\n",
    "## Paths for plotting \n",
    "# Pre-QC\n",
    "pre_qc_cols_path = 'gs://hgdp-1kg/tutorial_datasets/plot_datasets/pre_qc_plotting.ht' \n",
    "exp_het_pre_qc_path = 'gs://hgdp-1kg/tutorial_datasets/plot_datasets/expected_hets_pre_qc.ht' # expected heterozygosity\n",
    "act_het_pre_qc_path = 'gs://hgdp-1kg/tutorial_datasets/plot_datasets/actual_hets_pre_qc.ht' # actual heterozygosity\n",
    "\n",
    "# Post-QC\n",
    "post_qc_cols_path = 'gs://hgdp-1kg/tutorial_datasets/plot_datasets/post_qc_plotting.ht' \n",
    "exp_het_post_qc_path = 'gs://hgdp-1kg/tutorial_datasets/plot_datasets/expected_hets_post_qc.ht' # expected heterozygosity\n",
    "act_het_post_qc_path = 'gs://hgdp-1kg/tutorial_datasets/plot_datasets/actual_hets_post_qc.ht' # actual heterozygosity\n",
    "sfs_post_qc_path = 'gs://hgdp-1kg/tutorial_datasets/plot_datasets/sfs_post_qc.txt' # site frequency spectrum"
   ]
  },
  {
   "cell_type": "markdown",
   "id": "eb5672c2",
   "metadata": {
    "pycharm": {
     "name": "#%% md\n"
    }
   },
   "source": [
    "# 2. Read in Datasets and Apply Quality Control Filters\n",
    "\n",
    "<br>\n",
    "<details><summary> For more information on Hail methods and expressions click <u><span style=\"color:blue\">here</span></u>.</summary> \n",
    "<ul>\n",
    "<li><a href=\"https://hail.is/docs/0.2/methods/impex.html#hail.methods.read_matrix_table\"> More on  <i> read_matrix_table() </i></a></li>\n",
    "    \n",
    "<li><a href=\"https://hail.is/docs/0.2/hail.MatrixTable.html#hail.MatrixTable.count\"> More on  <i> count() </i></a></li>\n",
    "    \n",
    "<li><a href=\"https://hail.is/docs/0.2/methods/impex.html#hail.methods.read_table\"> More on  <i> read_table() </i></a></li>\n",
    "\n",
    "<li><a href=\"https://hail.is/docs/0.2/hail.MatrixTable.html#hail.MatrixTable.annotate_rows\"> More on  <i> annotate_rows() </i></a></li>\n",
    "    \n",
    "<li><a href=\"https://hail.is/docs/0.2/hail.expr.Expression.html#hail.expr.Expression.describe\"> More on  <i> describe() </i></a></li>\n",
    "    </ul>\n",
    "</details>\n",
    "\n",
    "[Back to Index](#Index)"
   ]
  },
  {
   "cell_type": "code",
   "execution_count": null,
   "id": "aef0e84c",
   "metadata": {
    "pycharm": {
     "name": "#%%\n"
    }
   },
   "outputs": [],
   "source": [
    "# Read in the HGDP+1kGP pre-QC mt\n",
    "pre_qc_mt = hl.read_matrix_table(pre_qc_path)\n",
    "\n",
    "# Get mt schema\n",
    "pre_qc_mt.describe()"
   ]
  },
  {
   "cell_type": "code",
   "execution_count": null,
   "id": "61a60875",
   "metadata": {},
   "outputs": [],
   "source": [
    "# Validitiy check: number of variants and samples prior to applying QC filters\n",
    "print('Num of SNVs and samples prior to any analysis = ' + str(pre_qc_mt.count())) "
   ]
  },
  {
   "cell_type": "markdown",
   "id": "fcec7bc9",
   "metadata": {},
   "source": [
    "**If running the cell below results in an error, double check that you used the  `--packages gnomad` argument when starting your cluster.**  \n",
    "- See the tutorials [README](https://github.com/atgu/hgdp_tgp/tree/master/tutorials#readme) for more information on how to start a cluster."
   ]
  },
  {
   "cell_type": "code",
   "execution_count": null,
   "id": "0f0a016e",
   "metadata": {},
   "outputs": [],
   "source": [
    "### Apply sample QC filters to dataset ### \n",
    "# This filters to only samples that passed gnomAD's sample QC hard filters  \n",
    "post_qc_mt = pre_qc_mt.filter_cols(~pre_qc_mt.gnomad_sample_filters.hard_filtered) # removed 31 samples\n",
    "\n",
    "### Apply variant QC filters to dataset ###\n",
    "# This subsets to only PASS variants - those which passed gnomAD's variant QC\n",
    "# PASS variants have an entry in the filters field \n",
    "post_qc_mt = post_qc_mt.filter_rows(hl.len(post_qc_mt.filters) != 0, keep=False)\n",
    "\n",
    "### Apply genotype QC filters to the dataset ###\n",
    "# This is done using a function imported from gnomAD and is the last step in the QC process\n",
    "post_qc_mt = filter_to_adj(post_qc_mt)"
   ]
  },
  {
   "cell_type": "code",
   "execution_count": null,
   "id": "aa0f39b4",
   "metadata": {},
   "outputs": [],
   "source": [
    "## Write out the dataset after applying gnomAD's sample, variant and genotype QC filters\n",
    "## This is done to speed up downstream steps and took ~1hr & 9min to run \n",
    "#post_qc_mt.write(post_qc_path, overwrite=False)"
   ]
  },
  {
   "cell_type": "code",
   "execution_count": null,
   "id": "2784c930",
   "metadata": {},
   "outputs": [],
   "source": [
    "# Read in the post-QC dataset that's been written out\n",
    "post_qc_mt = hl.read_matrix_table(post_qc_path)"
   ]
  },
  {
   "cell_type": "code",
   "execution_count": null,
   "id": "c4b75ba4",
   "metadata": {},
   "outputs": [],
   "source": [
    "# Validity check: number of variants and samples after applying QC filters\n",
    "print('Num of SNVs and samples after applying QC filters = ' + str(post_qc_mt.count())) "
   ]
  },
  {
   "cell_type": "markdown",
   "id": "5cc89884",
   "metadata": {},
   "source": [
    "After applying QC filters, the num of SNVs decreased from <code>189,381,961</code> to <code>159,795,273</code> and the num of samples decreased from <code>4151</code> to <code>4120</code>."
   ]
  },
  {
   "cell_type": "markdown",
   "id": "3e3a5452",
   "metadata": {},
   "source": [
    "# 3. Plots\n",
    "\n",
    "When conducting quality control, it is often a good idea to create plots of your data and summary statistics. For example, we look at the number of SNVs and coverage before and after QC so that after removing samples or variants we get a visual representation of the changes in the dataset. This can potentially flag issues for further investigation. \n",
    "\n",
    "**Make sure to run the next cell before attempting to run any of the plotting code chunks so that colors are mapped to region names and plots are generated without an error.**\n",
    "\n",
    "[Back to Index](#Index)"
   ]
  },
  {
   "cell_type": "code",
   "execution_count": null,
   "id": "b68a8420",
   "metadata": {},
   "outputs": [],
   "source": [
    "# Dictionary mapping colors to region names \n",
    "cont_colors = {'AMR':\"#E41A1C\",\n",
    "               'AFR':\"#984EA3\", \n",
    "               'OCE':\"#999999\",\n",
    "               'CSA':\"#FF7F00\",\n",
    "               'EAS':\"#4DAF4A\", \n",
    "               'EUR':\"#377EB8\", \n",
    "               'MID':\"#A65628\" }"
   ]
  },
  {
   "cell_type": "code",
   "execution_count": null,
   "id": "d3b10f12",
   "metadata": {
    "scrolled": true
   },
   "outputs": [],
   "source": [
    "# Run Hail's sample QC on both pre and post QC datasets \n",
    "pre_qc_mt = hl.sample_qc(pre_qc_mt)\n",
    "post_qc_mt = hl.sample_qc(post_qc_mt)\n",
    "\n",
    "# Read in gnomAD's HGDP+1kGP metadata for plotting \n",
    "metadata = hl.import_table(metadata_path, impute = True, key = 's')\n",
    "\n",
    "# Add plot annotations for both datasets  \n",
    "pre_qc_mt = pre_qc_mt.annotate_cols(subpop_color = metadata[pre_qc_mt.s]['hgdp_tgp_meta.Pop.colors'],\n",
    "                    subpop_shapes = metadata[pre_qc_mt.s]['hgdp_tgp_meta.Pop.shapes'],\n",
    "                    global_color = metadata[pre_qc_mt.s]['hgdp_tgp_meta.Continent.colors'])\n",
    "\n",
    "post_qc_mt = post_qc_mt.annotate_cols(subpop_color = metadata[post_qc_mt.s]['hgdp_tgp_meta.Pop.colors'],\n",
    "                    subpop_shapes = metadata[post_qc_mt.s]['hgdp_tgp_meta.Pop.shapes'],\n",
    "                    global_color = metadata[post_qc_mt.s]['hgdp_tgp_meta.Continent.colors'])"
   ]
  },
  {
   "cell_type": "markdown",
   "id": "19a4a095",
   "metadata": {},
   "source": [
    "<code>CHMI_CHMI3_WGS2</code> is a sample added by gnomAD for QC purposes, and thus doesn't have metadata information. To avoid a <code>None</code> error, we removed it prior to generating plots. From the dataset itself, it is removed together with PCA outliers in [Notebook 2: PCA and Ancestry Analyses](https://github.com/atgu/hgdp_tgp/blob/master/tutorials/nb2.ipynb). \n"
   ]
  },
  {
   "cell_type": "code",
   "execution_count": null,
   "id": "3cbab51e",
   "metadata": {},
   "outputs": [],
   "source": [
    "# Remove CHMI_CHMI3_WGS2 from both pre and post QC datasets \n",
    "pre_qc_mt = pre_qc_mt.filter_cols(pre_qc_mt.s == 'CHMI_CHMI3_WGS2', keep = False)\n",
    "post_qc_mt = post_qc_mt.filter_cols(post_qc_mt.s == 'CHMI_CHMI3_WGS2', keep = False)\n",
    "\n",
    "# Subset to column fields only \n",
    "pre_qc_cols = pre_qc_mt.cols()\n",
    "post_qc_cols = post_qc_mt.cols()"
   ]
  },
  {
   "cell_type": "code",
   "execution_count": null,
   "id": "0dcc49ab",
   "metadata": {},
   "outputs": [],
   "source": [
    "## Write out column fields to make plotting faster \n",
    "## Took 55min to run \n",
    "#pre_qc_cols.write(pre_qc_cols_path, overwrite = False)\n",
    "#post_qc_cols.write(post_qc_cols_path, overwrite = False)"
   ]
  },
  {
   "cell_type": "markdown",
   "id": "ed45a91f",
   "metadata": {},
   "source": [
    "## 3a. Pre-QC Plots\n",
    "\n",
    "The following plots show the dataset prior to running any QC filters.\n",
    "\n",
    "[Back to Index](#Index)"
   ]
  },
  {
   "cell_type": "code",
   "execution_count": null,
   "id": "aa646537",
   "metadata": {},
   "outputs": [],
   "source": [
    "# Read in the column fields of the pre-QC mt for plotting \n",
    "pre_qc_cols = hl.read_table(pre_qc_cols_path)"
   ]
  },
  {
   "cell_type": "markdown",
   "id": "d3dd2941",
   "metadata": {},
   "source": [
    "### 3a-1. Number of SNVs\n",
    "\n",
    "Histogram of number of SNVs for each individual within each genetic region\n",
    "\n",
    "[Back to Index](#Index)"
   ]
  },
  {
   "cell_type": "code",
   "execution_count": null,
   "id": "dc4f6a90",
   "metadata": {},
   "outputs": [],
   "source": [
    "# Make plot\n",
    "p = ggplot(pre_qc_cols, aes(x = pre_qc_cols.sample_qc.n_snp, fill = pre_qc_cols.hgdp_tgp_meta.genetic_region)) + \\\n",
    "    geom_histogram(min_val = 4000000, max_val = 7000000, \n",
    "                    bins = 200, position=\"identity\", alpha = .6) + \\\n",
    "    xlab(\"Number of SNVs\")+ \\\n",
    "    ggtitle(\"Number of SNVs, Pre-QC\")+ \\\n",
    "    coord_cartesian(ylim = (0,200)) +\\\n",
    "    scale_fill_manual(values=cont_colors) # use the colors specified above\n",
    "\n",
    "# Show plot\n",
    "p.show()"
   ]
  },
  {
   "cell_type": "markdown",
   "id": "910f2157",
   "metadata": {},
   "source": [
    "### 3a-2. Mean Coverage \n",
    "\n",
    "Density plot of mean coverage per individual\n",
    "\n",
    "[Back to Index](#Index)"
   ]
  },
  {
   "cell_type": "code",
   "execution_count": null,
   "id": "a183d378",
   "metadata": {},
   "outputs": [],
   "source": [
    "# Make plot\n",
    "p = ggplot(pre_qc_cols, aes(x = pre_qc_cols.bam_metrics.mean_coverage)) + \\\n",
    "    geom_density(aes(fill = pre_qc_cols.hgdp_tgp_meta.project), alpha = .7) + \\\n",
    "    xlab(\"Coverage (x)\")+ \\\n",
    "    ggtitle(\"Mean coverage, Pre-QC\")\n",
    "\n",
    "\n",
    "# Show plot\n",
    "p.show()"
   ]
  },
  {
   "cell_type": "markdown",
   "id": "523bb7d4",
   "metadata": {},
   "source": [
    "### 3a-3. Freemix \n",
    "\n",
    "[Back to Index](#Index)"
   ]
  },
  {
   "cell_type": "code",
   "execution_count": null,
   "id": "b0e70e8d",
   "metadata": {},
   "outputs": [],
   "source": [
    "# Plot freemix colored by genetic region  \n",
    "p = ggplot(pre_qc_cols, hl.ggplot.aes(x = pre_qc_cols.bam_metrics.freemix)) +\\\n",
    "    geom_histogram(aes(fill=pre_qc_cols.hgdp_tgp_meta.genetic_region), bins = 140) + \\\n",
    "    scale_y_log10(\"Count (log scale)\") +\\\n",
    "    xlab(\"Freemix\") + \\\n",
    "    ggtitle(\"Bam metrics: Freemix by genetic region, Pre-QC\")+ \\\n",
    "    coord_cartesian(xlim = (0,.5))+\\\n",
    "    scale_fill_manual(values = cont_colors)\n",
    "\n",
    "# Show plot\n",
    "p.show()"
   ]
  },
  {
   "cell_type": "code",
   "execution_count": null,
   "id": "c5a797d6",
   "metadata": {},
   "outputs": [],
   "source": [
    "# Plot freemix colored by project/study\n",
    "p = ggplot(pre_qc_cols, aes(x = pre_qc_cols.bam_metrics.freemix)) +\\\n",
    "    geom_histogram(aes(fill=pre_qc_cols.hgdp_tgp_meta.project), position=\"identity\", bins = 70,\\\n",
    "                            alpha = .5) + \\\n",
    "    scale_y_log10(\"Count (log scale)\") +\\\n",
    "    xlab(\"Freemix\") + \\\n",
    "    hl.ggplot.ggtitle(\"Bam metrics: Freemix by project, Pre-QC\")+ \\\n",
    "    hl.ggplot.coord_cartesian(xlim = (0,.5))\n",
    "\n",
    "# Show plot\n",
    "p.show()"
   ]
  },
  {
   "cell_type": "markdown",
   "id": "6addc396",
   "metadata": {},
   "source": [
    "### 3a-4. Heterozygosity\n",
    "\n",
    "[Back to Index](#Index)"
   ]
  },
  {
   "cell_type": "markdown",
   "id": "ed6d4b1a",
   "metadata": {},
   "source": [
    "### 3a-4a. Expected Heterozygosity\n",
    "\n",
    "Within each subpopulation, we first compute allele frequencies of each variant separately. Using this information, we then compute the expected heterozygosity by using the sum of variance (sum of <code>2pq</code>) across all alleles within each population.\n",
    "\n",
    "[Back to Index](#Index)"
   ]
  },
  {
   "cell_type": "code",
   "execution_count": null,
   "id": "0ae19226",
   "metadata": {},
   "outputs": [],
   "source": [
    "# Specify the equation for AF\n",
    "af_equation = hl.agg.mean(pre_qc_mt.GT.n_alt_alleles()/2)\n",
    "\n",
    "# Apply the equation specified above to aggregate AF over populations\n",
    "pop_labels = pre_qc_mt.hgdp_tgp_meta.population # grab the column with labels\n",
    "exp_het_pre_qc = pre_qc_mt.group_cols_by(pop_labels).aggregate(pop_af = af_equation)\n",
    "\n",
    "# Set the equation for expected heterozygosity (2*p*(1-p)) for each population\n",
    "var = 2*(exp_het_pre_qc.pop_af)*(1-exp_het_pre_qc.pop_af)\n",
    "\n",
    "# Annotate column named \"pop_var\" with the equation specified above\n",
    "exp_het_pre_qc = exp_het_pre_qc.annotate_cols(pop_var = hl.agg.filter(~hl.is_nan(exp_het_pre_qc.pop_af), # ignore NAs\n",
    "                                                                  hl.agg.sum(var)))\n",
    "\n",
    "# Grab only the column fields of the mt \n",
    "exp_het_pre_qc_cols = exp_het_pre_qc.cols()\n",
    "\n",
    "# Identify genetic regions \n",
    "grouped = pre_qc_cols.group_by(pre_qc_cols.hgdp_tgp_meta.population).aggregate(\n",
    "    region = hl.agg.collect_as_set(pre_qc_cols.hgdp_tgp_meta.genetic_region))\n",
    "grouped = grouped.key_by(grouped.population)\n",
    "\n",
    "# Annotate colors\n",
    "exp_het_pre_qc_cols = exp_het_pre_qc_cols.annotate(region = grouped[exp_het_pre_qc_cols.population])\n",
    "\n",
    "# Change set of colors to string\n",
    "exp_het_pre_qc_cols = exp_het_pre_qc_cols.annotate(region = hl.str(exp_het_pre_qc_cols.region.region)[2:5])\n",
    "\n",
    "# Sort by values\n",
    "exp_het_pre_qc_cols = exp_het_pre_qc_cols.order_by(hl.desc(exp_het_pre_qc_cols.pop_var))"
   ]
  },
  {
   "cell_type": "code",
   "execution_count": null,
   "id": "7a2c2bb8",
   "metadata": {},
   "outputs": [],
   "source": [
    "## Write out file to make plotting faster \n",
    "## Took 12min to run \n",
    "#exp_het_pre_qc_cols.write(exp_het_pre_qc_path, overwrite = False)"
   ]
  },
  {
   "cell_type": "code",
   "execution_count": null,
   "id": "ab84ff72",
   "metadata": {},
   "outputs": [],
   "source": [
    "# Read table back in for plotting \n",
    "exp_het_pre_qc_cols = hl.read_table(exp_het_pre_qc_path)\n",
    "exp_het_pre_qc_cols = exp_het_pre_qc_cols.filter(hl.is_missing(exp_het_pre_qc_cols.region), keep = False) # keep only non-NA individuals\n",
    "\n",
    "# Make plot \n",
    "p = ggplot(exp_het_pre_qc_cols, aes(x=exp_het_pre_qc_cols.population, y=exp_het_pre_qc_cols.pop_var)) + \\\n",
    "    geom_point(aes(color=exp_het_pre_qc_cols.region)) +\\\n",
    "    ylab(\"Expected number of heterozygous sites\") +\\\n",
    "    ggtitle(\"Expected Heterozygosity, Pre-QC\") +\\\n",
    "    scale_x_discrete(breaks=list(range(exp_het_pre_qc_cols.count()))) +\\\n",
    "    scale_color_manual(values=cont_colors)+\\\n",
    "    labs(color = 'Population')\n",
    "\n",
    "# Show plot\n",
    "p.show()"
   ]
  },
  {
   "cell_type": "markdown",
   "id": "38039cb1",
   "metadata": {},
   "source": [
    "### 3a-4b. Actual Heterozygosity\n",
    "\n",
    "To compute the number of heterozygous sites, we calculate the average <code>n_hets</code> for every locus within each subpopulation through an aggregator as we group by population. Then, we average the number of heterozygous sites across all loci within each population to result in one final number of average <code>n_hets</code>.\n",
    "\n",
    "[Back to Index](#Index)"
   ]
  },
  {
   "cell_type": "code",
   "execution_count": null,
   "id": "162cd112",
   "metadata": {},
   "outputs": [],
   "source": [
    "# Define n_het\n",
    "n_het = pre_qc_mt.sample_qc.n_het\n",
    "\n",
    "# Compute the mean number of heterozygous sites for each locus and subpopulation\n",
    "act_het_pre_qc = pre_qc_mt.group_cols_by(pre_qc_mt.hgdp_tgp_meta.population).aggregate(mean_hets = hl.agg.mean(n_het))\n",
    "\n",
    "# Average mean hets values across all loci for each population\n",
    "act_het_pre_qc = act_het_pre_qc.annotate_cols(mean_hets_final = hl.agg.filter(~hl.is_nan(act_het_pre_qc.mean_hets), hl.agg.mean(act_het_pre_qc.mean_hets)))\n",
    "\n",
    "# Subset to column fields only\n",
    "act_het_pre_qc_cols = act_het_pre_qc.cols()\n",
    "\n",
    "# Annotate colors\n",
    "act_het_pre_qc_cols = act_het_pre_qc_cols.annotate(region = grouped[act_het_pre_qc_cols.population]) # \"grouped\" is from the previous plot (expected heterozygosity)\n",
    "\n",
    "# Change set of colors to string\n",
    "act_het_pre_qc_cols = act_het_pre_qc_cols.annotate(region = hl.str(act_het_pre_qc_cols.region.region)[2:5])\n",
    "\n",
    "# Sort by values\n",
    "act_het_pre_qc_cols = act_het_pre_qc_cols.order_by(hl.desc(act_het_pre_qc_cols.mean_hets_final))"
   ]
  },
  {
   "cell_type": "code",
   "execution_count": null,
   "id": "78d50107",
   "metadata": {},
   "outputs": [],
   "source": [
    "## Write out file to make plotting faster \n",
    "## Took 22min to run\n",
    "#act_het_pre_qc_cols.write(act_het_pre_qc_path, overwrite = False)"
   ]
  },
  {
   "cell_type": "code",
   "execution_count": null,
   "id": "aa91e949",
   "metadata": {},
   "outputs": [],
   "source": [
    "# Read table back in for plotting \n",
    "act_het_pre_qc_cols = hl.read_table(act_het_pre_qc_path)\n",
    "act_het_pre_qc_cols = act_het_pre_qc_cols.filter(hl.is_missing(act_het_pre_qc_cols.region), keep = False) # keep only non-NA individuals\n",
    "\n",
    "# Make plot\n",
    "p = ggplot(act_het_pre_qc_cols, hl.ggplot.aes(x=act_het_pre_qc_cols.population, y=act_het_pre_qc_cols.mean_hets_final, \\\n",
    "                                                           color=act_het_pre_qc_cols.region)) + \\\n",
    "    geom_point() +\\\n",
    "    ylab(\"Number of heterozygous sites\") +\\\n",
    "    ggtitle(\"Actual Heterozygosity, Pre-QC\") +\\\n",
    "    scale_x_discrete(breaks=list(range(act_het_pre_qc_cols.count()))) +\\\n",
    "    scale_color_manual(values=cont_colors)+\\\n",
    "    labs(color = 'Population')\n",
    "\n",
    "# Show plot\n",
    "p.show()\n"
   ]
  },
  {
   "cell_type": "markdown",
   "id": "266753d7",
   "metadata": {},
   "source": [
    "## 3b. Post-QC Plots\n",
    "\n",
    "The following plots show the dataset after applying sample, variant and genotype QC filters.\n",
    "\n",
    "[Back to Index](#Index)"
   ]
  },
  {
   "cell_type": "code",
   "execution_count": null,
   "id": "e54860bb",
   "metadata": {},
   "outputs": [],
   "source": [
    "# Read in the column fields of the post-QC mt for plotting \n",
    "post_qc_cols = hl.read_table(post_qc_cols_path)"
   ]
  },
  {
   "cell_type": "markdown",
   "id": "99d84884",
   "metadata": {},
   "source": [
    "### 3b-1. Number of SNVs\n",
    "\n",
    "Histogram of number of SNVs for each individual within each genetic region\n",
    "\n",
    "[Back to Index](#Index)"
   ]
  },
  {
   "cell_type": "code",
   "execution_count": null,
   "id": "b5facb92",
   "metadata": {},
   "outputs": [],
   "source": [
    "# Make plot\n",
    "p = ggplot(post_qc_cols, aes(x = post_qc_cols.sample_qc.n_snp, fill = post_qc_cols.hgdp_tgp_meta.genetic_region)) + \\\n",
    "    geom_histogram(min_val = 4000000, max_val = 7000000, \n",
    "                    bins = 200, position=\"identity\", alpha = .6) + \\\n",
    "    xlab(\"Number of SNVs\")+ \\\n",
    "    ggtitle(\"Number of SNVs, Post-QC\")+ \\\n",
    "    coord_cartesian(ylim = (0,200)) +\\\n",
    "    scale_fill_manual(values=cont_colors) # use the colors specified above\n",
    "\n",
    "# Show plot\n",
    "p.show()"
   ]
  },
  {
   "cell_type": "markdown",
   "id": "3548e79e",
   "metadata": {},
   "source": [
    "### 3b-2. Mean Coverage \n",
    "\n",
    "Density plot of mean coverage per individual\n",
    "\n",
    "[Back to Index](#Index)"
   ]
  },
  {
   "cell_type": "code",
   "execution_count": null,
   "id": "8d2a0231",
   "metadata": {},
   "outputs": [],
   "source": [
    "# Make plot\n",
    "p = ggplot(post_qc_cols, aes(x = post_qc_cols.bam_metrics.mean_coverage)) + \\\n",
    "    geom_density(aes(fill = post_qc_cols.hgdp_tgp_meta.project), alpha = .7) + \\\n",
    "    xlab(\"Coverage (x)\")+ \\\n",
    "    ggtitle(\"Mean coverage, Post-QC\")\n",
    "\n",
    "\n",
    "# Show plot\n",
    "p.show()"
   ]
  },
  {
   "cell_type": "markdown",
   "id": "2e94fb39",
   "metadata": {},
   "source": [
    "### 3a-3. Freemix \n",
    "\n",
    "[Back to Index](#Index)"
   ]
  },
  {
   "cell_type": "code",
   "execution_count": null,
   "id": "c5a712fb",
   "metadata": {},
   "outputs": [],
   "source": [
    "# Plot freemix colored by genetic region  \n",
    "p = ggplot(post_qc_cols, hl.ggplot.aes(x = post_qc_cols.bam_metrics.freemix)) +\\\n",
    "    geom_histogram(aes(fill=post_qc_cols.hgdp_tgp_meta.genetic_region), bins = 70) + \\\n",
    "    scale_y_log10(\"Count (log scale)\") +\\\n",
    "    xlab(\"Freemix\") + \\\n",
    "    ggtitle(\"Bam metrics: Freemix by genetic region, Post-QC\")+ \\\n",
    "    coord_cartesian(xlim = (0,.5))+\\\n",
    "    scale_fill_manual(values = cont_colors)\n",
    "\n",
    "# Show plot\n",
    "p.show()"
   ]
  },
  {
   "cell_type": "code",
   "execution_count": null,
   "id": "30519a07",
   "metadata": {},
   "outputs": [],
   "source": [
    "# Plot freemix colored by project/study\n",
    "p = ggplot(post_qc_cols, aes(x = post_qc_cols.bam_metrics.freemix)) +\\\n",
    "    geom_histogram(aes(fill=post_qc_cols.hgdp_tgp_meta.project), position=\"identity\", bins = 70,\\\n",
    "                            alpha = .5) + \\\n",
    "    scale_y_log10(\"Count (log scale)\") +\\\n",
    "    xlab(\"Freemix\") + \\\n",
    "    hl.ggplot.ggtitle(\"Bam metrics: Freemix by project, Post-QC\")+ \\\n",
    "    hl.ggplot.coord_cartesian(xlim = (0,.5))\n",
    "\n",
    "# Show plot\n",
    "p.show()"
   ]
  },
  {
   "cell_type": "markdown",
   "id": "839f7f6f",
   "metadata": {},
   "source": [
    "### 3b-4. Heterozygosity\n",
    "\n",
    "[Back to Index](#Index)"
   ]
  },
  {
   "cell_type": "markdown",
   "id": "70462396",
   "metadata": {},
   "source": [
    "### 3b-4a. Expected Heterozygosity\n",
    "\n",
    "[Back to Index](#Index)"
   ]
  },
  {
   "cell_type": "code",
   "execution_count": null,
   "id": "1150ea0c",
   "metadata": {},
   "outputs": [],
   "source": [
    "# Specify the equation for AF\n",
    "af_equation = hl.agg.mean(post_qc_mt.GT.n_alt_alleles()/2)\n",
    "\n",
    "# Apply the equation specified above to aggregate AF over populations\n",
    "pop_labels = post_qc_mt.hgdp_tgp_meta.population # grab the column with labels\n",
    "exp_het_post_qc = post_qc_mt.group_cols_by(pop_labels).aggregate(pop_af = af_equation)\n",
    "\n",
    "# Set the equation for expected heterozygosity (2*p*(1-p)) for each population\n",
    "var = 2*(exp_het_post_qc.pop_af)*(1-exp_het_post_qc.pop_af)\n",
    "\n",
    "# Annotate column named \"pop_var\" with the equation specified above\n",
    "exp_het_post_qc = exp_het_post_qc.annotate_cols(pop_var = hl.agg.filter(~hl.is_nan(exp_het_post_qc.pop_af), # ignore NAs\n",
    "                                                                  hl.agg.sum(var)))\n",
    "\n",
    "# Grab only the column fields of the mt \n",
    "exp_het_post_qc_cols = exp_het_post_qc.cols()\n",
    "\n",
    "# Identify genetic regions \n",
    "grouped = post_qc_cols.group_by(post_qc_cols.hgdp_tgp_meta.population).aggregate(\n",
    "    region = hl.agg.collect_as_set(post_qc_cols.hgdp_tgp_meta.genetic_region))\n",
    "grouped = grouped.key_by(grouped.population)\n",
    "\n",
    "# Annotate colors\n",
    "exp_het_post_qc_cols = exp_het_post_qc_cols.annotate(region = grouped[exp_het_post_qc_cols.population])\n",
    "\n",
    "# Change set of colors to string\n",
    "exp_het_post_qc_cols = exp_het_post_qc_cols.annotate(region = hl.str(exp_het_post_qc_cols.region.region)[2:5])\n",
    "\n",
    "# Sort by values\n",
    "exp_het_post_qc_cols = exp_het_post_qc_cols.order_by(hl.desc(exp_het_post_qc_cols.pop_var))"
   ]
  },
  {
   "cell_type": "code",
   "execution_count": null,
   "id": "11d7fa5f",
   "metadata": {},
   "outputs": [],
   "source": [
    "## Write out file to make plotting faster \n",
    "## Took 8min to run \n",
    "#exp_het_post_qc_cols.write(exp_het_post_qc_path, overwrite = False)"
   ]
  },
  {
   "cell_type": "code",
   "execution_count": null,
   "id": "8c26dc2b",
   "metadata": {},
   "outputs": [],
   "source": [
    "# Read table back in for plotting \n",
    "exp_het_post_qc_cols = hl.read_table(exp_het_post_qc_path)\n",
    "exp_het_post_qc_cols = exp_het_post_qc_cols.filter(hl.is_missing(exp_het_post_qc_cols.region), keep = False) # keep only non-NA individuals\n",
    "\n",
    "# Make plot \n",
    "p = ggplot(exp_het_post_qc_cols, aes(x=exp_het_post_qc_cols.population, y=exp_het_post_qc_cols.pop_var)) + \\\n",
    "    geom_point(aes(color=exp_het_post_qc_cols.region)) +\\\n",
    "    ylab(\"Expected number of heterozygous sites\") +\\\n",
    "    ggtitle(\"Expected Heterozygosity, Post-QC\") +\\\n",
    "    scale_x_discrete(breaks=list(range(exp_het_post_qc_cols.count()))) +\\\n",
    "    scale_color_manual(values=cont_colors)+\\\n",
    "    labs(color = 'Population')\n",
    "\n",
    "# Show plot\n",
    "p.show()"
   ]
  },
  {
   "cell_type": "markdown",
   "id": "506c6eee",
   "metadata": {},
   "source": [
    "### 3b-4b. Actual Heterozygosity\n",
    "\n",
    "[Back to Index](#Index)"
   ]
  },
  {
   "cell_type": "code",
   "execution_count": null,
   "id": "0b4d3d6f",
   "metadata": {},
   "outputs": [],
   "source": [
    "# Define n_het\n",
    "n_het = post_qc_mt.sample_qc.n_het\n",
    "\n",
    "# Compute the mean number of heterozygous sites for each locus and subpopulation\n",
    "act_het_post_qc = post_qc_mt.group_cols_by(post_qc_mt.hgdp_tgp_meta.population).aggregate(mean_hets = hl.agg.mean(n_het))\n",
    "\n",
    "# Average mean hets values across all loci for each population\n",
    "act_het_post_qc = act_het_post_qc.annotate_cols(mean_hets_final = hl.agg.filter(~hl.is_nan(act_het_post_qc.mean_hets), hl.agg.mean(act_het_post_qc.mean_hets)))\n",
    "\n",
    "# Subset to column fields only\n",
    "act_het_post_qc_cols = act_het_post_qc.cols()\n",
    "\n",
    "# Annotate colors\n",
    "act_het_post_qc_cols = act_het_post_qc_cols.annotate(region = grouped[act_het_post_qc_cols.population]) # \"grouped\" is from the previous plot (expected heterozygosity)\n",
    "\n",
    "# Change set of colors to string\n",
    "act_het_post_qc_cols = act_het_post_qc_cols.annotate(region = hl.str(act_het_post_qc_cols.region.region)[2:5])\n",
    "\n",
    "# Sort by values\n",
    "act_het_post_qc_cols = act_het_post_qc_cols.order_by(hl.desc(act_het_post_qc_cols.mean_hets_final))"
   ]
  },
  {
   "cell_type": "code",
   "execution_count": null,
   "id": "c99f66a4",
   "metadata": {},
   "outputs": [],
   "source": [
    "## Write out file to make plotting faster \n",
    "## Took 8min to run\n",
    "#act_het_post_qc_cols.write(act_het_post_qc_path, overwrite = False)"
   ]
  },
  {
   "cell_type": "code",
   "execution_count": null,
   "id": "933121e7",
   "metadata": {},
   "outputs": [],
   "source": [
    "# Read table back in for plotting \n",
    "act_het_post_qc_cols = hl.read_table(act_het_post_qc_path)\n",
    "act_het_post_qc_cols = act_het_post_qc_cols.filter(hl.is_missing(act_het_post_qc_cols.region), keep = False) # keep only non-NA individuals\n",
    "\n",
    "# Make plot\n",
    "p = ggplot(act_het_post_qc_cols, hl.ggplot.aes(x=act_het_post_qc_cols.population, y=act_het_post_qc_cols.mean_hets_final, \\\n",
    "                                                           color=act_het_post_qc_cols.region)) + \\\n",
    "    geom_point() +\\\n",
    "    ylab(\"Number of heterozygous sites\") +\\\n",
    "    ggtitle(\"Actual Heterozygosity, Post-QC\") +\\\n",
    "    scale_x_discrete(breaks=list(range(act_het_post_qc_cols.count()))) +\\\n",
    "    scale_color_manual(values=cont_colors)+\\\n",
    "    labs(color = 'Population')\n",
    "\n",
    "# Show plot\n",
    "p.show()"
   ]
  },
  {
   "cell_type": "markdown",
   "id": "18f20389",
   "metadata": {},
   "source": [
    "### 3b-4c. Difference Between Expected and Actual Heterozygosity\n",
    "\n",
    "Check for stratification/artifacts \n",
    "\n",
    "[Back to Index](#Index)"
   ]
  },
  {
   "cell_type": "code",
   "execution_count": null,
   "id": "bb0b261a",
   "metadata": {},
   "outputs": [],
   "source": [
    "exp_het_post_qc_cols = exp_het_post_qc_cols.key_by(exp_het_post_qc_cols.region)\n",
    "act_het_post_qc_cols = act_het_post_qc_cols.key_by(act_het_post_qc_cols.region)\n",
    "\n",
    "diff = act_het_post_qc_cols.annotate(expected = exp_het_post_qc_cols[act_het_post_qc_cols.region].pop_var)\n",
    "\n",
    "diff = diff.annotate(obs_min_ex = diff.mean_hets_final - diff.expected)"
   ]
  },
  {
   "cell_type": "code",
   "execution_count": null,
   "id": "facddb24",
   "metadata": {},
   "outputs": [],
   "source": [
    "# Make plot\n",
    "p = ggplot(diff, aes(x=diff.population, \n",
    "                     y=diff.obs_min_ex,\n",
    "                     color=diff.region)) + \\\n",
    "    geom_point() +\\\n",
    "    ylab(\"Number of Heterozygous sites\") +\\\n",
    "    ggtitle(\"Difference of # of Heterozygous Sites Between Actual & Expected, Post-QC\") +\\\n",
    "    scale_x_discrete(breaks=list(range(diff.count()))) +\\\n",
    "    scale_color_manual(values=cont_colors)+\\\n",
    "    labs(color = 'Population')\n",
    "\n",
    "# Show plot\n",
    "p.show()"
   ]
  },
  {
   "cell_type": "markdown",
   "id": "a4ccf0aa",
   "metadata": {},
   "source": [
    "### 3b-5. Site Frequency Spectrum\n",
    "\n",
    "[Back to Index](#Index)"
   ]
  },
  {
   "cell_type": "code",
   "execution_count": null,
   "id": "fe21298a",
   "metadata": {},
   "outputs": [],
   "source": [
    "# This code chunk takes ~9min to run\n",
    "\n",
    "# Perform Hail's variant QC \n",
    "post_qc_rows = hl.variant_qc(post_qc_mt).rows() \n",
    "\n",
    "# Aggregate site frequency data for plotting\n",
    "sfs_post_qc = post_qc_rows.aggregate(hl.agg.hist(post_qc_rows.variant_qc.AF[1], 0,1,250))"
   ]
  },
  {
   "cell_type": "code",
   "execution_count": null,
   "id": "8cb90507",
   "metadata": {},
   "outputs": [],
   "source": [
    "## Write out the site frequency spectrum struct into a text file to make plotting faster \n",
    "# with hl.hadoop_open(sfs_post_qc_path, 'w') as f:\n",
    "#     f.write(str(dict(sfs_post_qc)))"
   ]
  },
  {
   "cell_type": "code",
   "execution_count": null,
   "id": "03dc5a78",
   "metadata": {},
   "outputs": [],
   "source": [
    "# Read in site frequency spectrum table \n",
    "sfs_post_qc = hl.hadoop_open(sfs_post_qc_path)\n",
    "sfs_dict = eval(sfs_post_qc.read())\n",
    "sfs_struct = hl.Struct(**sfs_dict)\n",
    "\n",
    "# Plot site frequency spectrum histogram using hl.plot\n",
    "# Similar to the other plots, this can also be plotted using ggplot. However, it does take more time to run\n",
    "sfs_p = hl.plot.histogram(sfs_struct, log = True, legend = \"Frequency of Major Allele at Site\")\n",
    "show(sfs_p)"
   ]
  },
  {
   "cell_type": "markdown",
   "id": "8f580c97",
   "metadata": {
    "pycharm": {
     "name": "#%% md\n"
    }
   },
   "source": [
    "# 4. Investigating gnomAD Sample Filters\n",
    "   \n",
    "The sample QC above already considers this (<code>mt = pre_qc_mt.filter_cols(~pre_qc_mt.gnomad_sample_filters.hard_filtered)</code>) but here we show how we retrieved samples that were wholley removed by gnomAD sample QC filters before having a field that indicated which samples were wrongly removed - <code>pre_qc_mt.gnomad_sample_filters.hard_filtered</code>. For validity check you can run <code>pre_qc_mt.aggregate_cols(hl.agg.counter(pre_qc_mt.gnomad_sample_filters.hard_filtered))</code> and the values of <code>TRUE</code> will be 31 - equal to the number of samples that were correctly removed. \n",
    "\n",
    "9 out of the 28 gnomAD sample filters were dropping huge numbers of ancestrally diverse individuals (mostly African (`AFR`) and Oceanian (`OCE`) populations): \n",
    "- BiakaPygmy\n",
    "- MbutiPygmy\n",
    "- Melanesian\n",
    "- Papuan\n",
    "- San\n",
    "\n",
    "The filters rely on gnomAD’s ancestry principal component analysis (PCA), which captures genetic variance across the larger gnomAD callset, and smaller, under-represented groups such as those in the HGDP+1kGP callset can appear erroneously as outliers. Here we explore which original gnomAD sample QC filters remove entire populations.\n",
    "\n",
    "\n",
    "<br>\n",
    "<details><summary> For more information on Hail methods and expressions click <u><span style=\"color:blue\">here</span></u>.</summary> \n",
    "<ul>\n",
    "<li><a href=\"https://hail.is/docs/0.2/hail.MatrixTable.html#hail.MatrixTable.filter_cols\"> More on  <i> filter_cols() </i></a></li>\n",
    "\n",
    "<li><a href=\"https://hail.is/docs/0.2/hail.expr.SetExpression.html#hail.expr.SetExpression.difference\"> More on  <i> difference() </i></a></li>\n",
    "\n",
    "<li><a href=\" https://hail.is/docs/0.2/hail.expr.CollectionExpression.html#hail.expr.CollectionExpression.length\"> More on  <i> length() </i></a></li>\n",
    "    </ul>\n",
    "</details>\n",
    "\n",
    "[Back to Index](#Index)"
   ]
  },
  {
   "cell_type": "code",
   "execution_count": null,
   "id": "9e053cff",
   "metadata": {
    "pycharm": {
     "name": "#%%\n"
    }
   },
   "outputs": [],
   "source": [
    "# Put the gnomAD qc filters in a set - gnomAD has them in a column field\n",
    "bad_sample_filters = set(pre_qc_mt.gnomad_sample_qc_metric_outlier_cutoffs.qc_metrics_stats) \n",
    "\n",
    "# Keep samples that passed all gnomAD QC filters OR only failed the filters that were removing populations wholly\n",
    "mt_filt = pre_qc_mt.filter_cols(pre_qc_mt['gnomad_sample_filters']['qc_metrics_filters'].difference(bad_sample_filters).length() == 0)\n",
    "\n",
    "# How many samples were removed by the gnomAD QC filters correctly? \n",
    "print('Num of samples at the beginning = ' + str(pre_qc_mt.count()[1])) \n",
    "print('Num of samples after retrieving wrongly removed ones = ' + str(mt_filt.count()[1])) \n",
    "print('Samples removed correctly by gnomAD filters = ' + str(pre_qc_mt.count()[1] - mt_filt.count()[1])) "
   ]
  },
  {
   "cell_type": "markdown",
   "id": "0500170c",
   "metadata": {},
   "source": [
    "## 4a. Plotting Results of gnomAD Sample Filter Investigation\n",
    "\n",
    "Here we only show <code>fail_n_snp_residual</code> as an example but the code can be implemented on any of the other gnomAD sample filters. \n",
    "\n",
    "[Back to Index](#Index)"
   ]
  },
  {
   "cell_type": "code",
   "execution_count": null,
   "id": "5747cd9e",
   "metadata": {},
   "outputs": [],
   "source": [
    "# Read in gnomAD's HGDP+1kGP metadata without imputing field types from the file\n",
    "metadata = hl.import_table(metadata_path)"
   ]
  },
  {
   "cell_type": "code",
   "execution_count": null,
   "id": "07ec86c0",
   "metadata": {},
   "outputs": [],
   "source": [
    "# Add gnomAD's sample filters into a list \n",
    "sample_filters = [name for name in list(metadata.row) if 'sample_filters.' in name][:-1]\n",
    "\n",
    "# Within each population, count the total number of samples and the number of samples that failed each filter   \n",
    "filters_tbl = (metadata.group_by(metadata['hgdp_tgp_meta.Population'])\n",
    "               .aggregate(n = hl.agg.count(),\n",
    "                          **{col: hl.agg.count_where(metadata[col] == 'true') for col in sample_filters}))   \n",
    "\n",
    "# Add a column to indicate the 5 populations that were filtered out by gnomAD's sample fiters \n",
    "filtered_samples = hl.set([\"BiakaPygmy\", \"MbutiPygmy\", \"Melanesian\", \"Papuan\", \"San\"])\n",
    "filters_tbl = filters_tbl.annotate(failed_gnomAD = hl.if_else(filtered_samples.contains(filters_tbl['hgdp_tgp_meta.Population']), 'TRUE', 'FALSE'))\n",
    "\n",
    "# Grab only \"sample_filters.fail_n_snp_residual\" column \n",
    "filters_tbl = filters_tbl.key_by() # unkey table first so the population column isn't duplicated \n",
    "n_snp_resid = filters_tbl.select(population = filters_tbl['hgdp_tgp_meta.Population'],\n",
    "                       num_samples = filters_tbl['n'],\n",
    "                       fail_n_snp_resid = filters_tbl['sample_filters.fail_n_snp_residual'],\n",
    "                       fail_gnomAD = filters_tbl['failed_gnomAD'])\n",
    "\n",
    "# Calculate the ratio between the number of samples that failed and the total number of samples in the population. \n",
    "n_snp_resid = n_snp_resid.annotate(fail_ratio = n_snp_resid.fail_n_snp_resid/n_snp_resid.num_samples)\n",
    "\n",
    "# Generate a scatter plot of ratios across all populations colored by gnomAD failure \n",
    "p = ggplot(n_snp_resid, aes(x=n_snp_resid.population, \n",
    "                            y=n_snp_resid.fail_ratio, \n",
    "                            color=n_snp_resid.fail_gnomAD)) +\\\n",
    "    geom_point() +\\\n",
    "    ylab(\"Ratio of failed samples/total samples\") + \\\n",
    "    ggtitle(\"Failure of gnomAD n_snp_resids Filter by Population\") +\\\n",
    "    labs(color = 'Failed gnomAD filters') +\\\n",
    "    scale_x_discrete(breaks=list(range(n_snp_resid.count())))\n",
    "\n",
    "# Show Plot\n",
    "p.show()"
   ]
  },
  {
   "cell_type": "markdown",
   "id": "bebfc7b8",
   "metadata": {},
   "source": [
    "[Back to Index](#Index)"
   ]
  }
 ],
 "metadata": {
  "kernelspec": {
   "display_name": "Python 3",
   "language": "python",
   "name": "python3"
  },
  "language_info": {
   "codemirror_mode": {
    "name": "ipython",
    "version": 3
   },
   "file_extension": ".py",
   "mimetype": "text/x-python",
   "name": "python",
   "nbconvert_exporter": "python",
   "pygments_lexer": "ipython3",
   "version": "3.7.9"
  },
  "vscode": {
   "interpreter": {
    "hash": "31f2aee4e71d21fbe5cf8b01ff0e069b9275f58929596ceb00d14d90e3e16cd6"
   }
  }
 },
 "nbformat": 4,
 "nbformat_minor": 5
}

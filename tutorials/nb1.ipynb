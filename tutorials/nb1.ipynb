{
 "cells": [
  {
   "cell_type": "markdown",
   "id": "6e9b97f0",
   "metadata": {},
   "source": [
    "# Metadata and QC\n",
    "\n",
    "Authors: Zan Koenig,  Mary T. Yohannes, & Ally Kim"
   ]
  },
  {
   "cell_type": "markdown",
   "id": "ed23c47c",
   "metadata": {},
   "source": [
    "**To run this tutorial, you need to have started your cluster with `--packages-gnomad`.**\n",
    "\n",
    "*If you have not done this, you will need to shut down your current cluster and start a new one with the `--packages-gnomad` argument.* \n",
    "\n",
    "See the tutorials [README](https://github.com/atgu/hgdp_tgp/tree/master/tutorials#readme) for more information on how to start a cluster."
   ]
  },
  {
   "cell_type": "markdown",
   "id": "99cc948a",
   "metadata": {
    "pycharm": {
     "name": "#%% md\n"
    }
   },
   "source": [
    "## Index\n",
    "1. [Set Default Paths](#1.-Set-Default-Paths)\n",
    "2. [Read in Pre-QC Dataset and Apply Quality Control Filters](#2.-Read-in-Pre-QC-Dataset-and-Apply-Quality-Control-Filters)\n",
    "3. [Data and Function Set Up for Plots](#3.-Data-and-Function-Set-Up-for-Plots)\n",
    "4. [Plots](#4.-Plots)\n",
    "    1. [Number of SNVs](#4.a.-Number-of-SNVs)\n",
    "    2. [Mean Coverage](#4.b.-Mean-Coverage)\n",
    "    3. [Freemix](#4.c.-Freemix)\n",
    "    4. [Heterozygosity](#4.d.-Heterozygosity)\n",
    "        1. [Expected Heterozygosity](#4.d.1.-Expected-Heterozygosity)\n",
    "        2. [Actual Heterozygosity](#4.d.2.-Actual-Heterozygosity)\n",
    "        3. [Difference Between Expected and Actual Heterozygosity (Post-QC only)](#4.d.3.-Difference-Between-Expected-and-Actual-Heterozygosity-(Post-QC-only))\n",
    "    5. [Site Frequency Spectrum](#4.e.-Site-Frequency-Spectrum)\n",
    "5. [Investigating gnomAD Sample Filters](#5.-Investigating-gnomAD-Sample-Filters)\n",
    "    1. [Plotting Results of gnomAD Sample Filter Investigation](#5.a.-Plotting-Results-of-gnomAD-Sample-Filter-Investigation)"
   ]
  },
  {
   "cell_type": "markdown",
   "id": "73a411a8",
   "metadata": {
    "pycharm": {
     "name": "#%% md\n"
    }
   },
   "source": [
    "# General Overview\n",
    "\n",
    "The purpose of this script is to merge metadata components needed for the HGDP+1kGP dataset and apply QC filters on the resulting dataset. The metadata includes sample and variant information (ex. genetic region and samples/variants QC status) that are initially located in different datasets. The QC filters are run using sample and variant flags from the metadata datasets. These flags are generated as a result of the dataset being run through the gnomAD QC pipeline. More information on the gnomAD QC pipeline can be found [here](https://gnomad.broadinstitute.org/news/2020-10-gnomad-v3-1-new-content-methods-annotations-and-data-availability/#sample-and-variant-quality-control). To see how the gnomAD sample QC filters were updated as a result of our analyses, see [gnomAD sample filters](#3.-Investigating-gnomAD-sample-filters) and the resulting gnomAD [minor release.](https://gnomad.broadinstitute.org/news/2021-10-gnomad-v3-1-2-minor-release/#improvements-to-the-hgdp--1kg-subset-release)\n",
    "\n",
    "**This script contains information on how to**:\n",
    "- Read in and write out a matrix table (shortened as mt) \n",
    "- Filter a matrix table using a field within the matrix table and a function imported from an external library\n",
    "- Use plots to identify which gnomAD sample QC filters are removing populations entirely (`fail_n_snp_residual` is used as an example here)\n",
    "- Retrieve populations being unduly removed by filters (mostly <code>AFR</code> and <code>OCE</code> populations)\n",
    "- Filter a matrix table using a list of samples to remove\n",
    "- Plot certain fields from the matrix table:\n",
    "    - Number of SNVs\n",
    "    - Coverage\n",
    "    - Site Frequency \n",
    "    - Freemix\n",
    "    - Number of samples which failed a sample filter"
   ]
  },
  {
   "cell_type": "code",
   "execution_count": 2,
   "id": "66eab746",
   "metadata": {
    "pycharm": {
     "name": "#%%\n"
    }
   },
   "outputs": [
    {
     "data": {
      "text/html": [
       "    <style>\n",
       "        .bk-notebook-logo {\n",
       "            display: block;\n",
       "            width: 20px;\n",
       "            height: 20px;\n",
       "            background-image: url(data:image/png;base64,iVBORw0KGgoAAAANSUhEUgAAABQAAAAUCAYAAACNiR0NAAAABHNCSVQICAgIfAhkiAAAAAlwSFlzAAALEgAACxIB0t1+/AAAABx0RVh0U29mdHdhcmUAQWRvYmUgRmlyZXdvcmtzIENTNui8sowAAAOkSURBVDiNjZRtaJVlGMd/1/08zzln5zjP1LWcU9N0NkN8m2CYjpgQYQXqSs0I84OLIC0hkEKoPtiH3gmKoiJDU7QpLgoLjLIQCpEsNJ1vqUOdO7ppbuec5+V+rj4ctwzd8IIbbi6u+8f1539dt3A78eXC7QizUF7gyV1fD1Yqg4JWz84yffhm0qkFqBogB9rM8tZdtwVsPUhWhGcFJngGeWrPzHm5oaMmkfEg1usvLFyc8jLRqDOMru7AyC8saQr7GG7f5fvDeH7Ej8CM66nIF+8yngt6HWaKh7k49Soy9nXurCi1o3qUbS3zWfrYeQDTB/Qj6kX6Ybhw4B+bOYoLKCC9H3Nu/leUTZ1JdRWkkn2ldcCamzrcf47KKXdAJllSlxAOkRgyHsGC/zRday5Qld9DyoM4/q/rUoy/CXh3jzOu3bHUVZeU+DEn8FInkPBFlu3+nW3Nw0mk6vCDiWg8CeJaxEwuHS3+z5RgY+YBR6V1Z1nxSOfoaPa4LASWxxdNp+VWTk7+4vzaou8v8PN+xo+KY2xsw6une2frhw05CTYOmQvsEhjhWjn0bmXPjpE1+kplmmkP3suftwTubK9Vq22qKmrBhpY4jvd5afdRA3wGjFAgcnTK2s4hY0/GPNIb0nErGMCRxWOOX64Z8RAC4oCXdklmEvcL8o0BfkNK4lUg9HTl+oPlQxdNo3Mg4Nv175e/1LDGzZen30MEjRUtmXSfiTVu1kK8W4txyV6BMKlbgk3lMwYCiusNy9fVfvvwMxv8Ynl6vxoByANLTWplvuj/nF9m2+PDtt1eiHPBr1oIfhCChQMBw6Aw0UulqTKZdfVvfG7VcfIqLG9bcldL/+pdWTLxLUy8Qq38heUIjh4XlzZxzQm19lLFlr8vdQ97rjZVOLf8nclzckbcD4wxXMidpX30sFd37Fv/GtwwhzhxGVAprjbg0gCAEeIgwCZyTV2Z1REEW8O4py0wsjeloKoMr6iCY6dP92H6Vw/oTyICIthibxjm/DfN9lVz8IqtqKYLUXfoKVMVQVVJOElGjrnnUt9T9wbgp8AyYKaGlqingHZU/uG2NTZSVqwHQTWkx9hxjkpWDaCg6Ckj5qebgBVbT3V3NNXMSiWSDdGV3hrtzla7J+duwPOToIg42ChPQOQjspnSlp1V+Gjdged7+8UN5CRAV7a5EdFNwCjEaBR27b3W890TE7g24NAP/mMDXRWrGoFPQI9ls/MWO2dWFAar/xcOIImbbpA3zgAAAABJRU5ErkJggg==);\n",
       "        }\n",
       "    </style>\n",
       "    <div>\n",
       "        <a href=\"https://bokeh.org\" target=\"_blank\" class=\"bk-notebook-logo\"></a>\n",
       "        <span id=\"cc89ba05-2bb0-4dca-af04-1243bf16a597\">Loading BokehJS ...</span>\n",
       "    </div>\n"
      ]
     },
     "metadata": {},
     "output_type": "display_data"
    },
    {
     "data": {
      "application/javascript": [
       "(function(root) {\n",
       "  function now() {\n",
       "    return new Date();\n",
       "  }\n",
       "\n",
       "  const force = true;\n",
       "\n",
       "  if (typeof root._bokeh_onload_callbacks === \"undefined\" || force === true) {\n",
       "    root._bokeh_onload_callbacks = [];\n",
       "    root._bokeh_is_loading = undefined;\n",
       "  }\n",
       "\n",
       "const JS_MIME_TYPE = 'application/javascript';\n",
       "  const HTML_MIME_TYPE = 'text/html';\n",
       "  const EXEC_MIME_TYPE = 'application/vnd.bokehjs_exec.v0+json';\n",
       "  const CLASS_NAME = 'output_bokeh rendered_html';\n",
       "\n",
       "  /**\n",
       "   * Render data to the DOM node\n",
       "   */\n",
       "  function render(props, node) {\n",
       "    const script = document.createElement(\"script\");\n",
       "    node.appendChild(script);\n",
       "  }\n",
       "\n",
       "  /**\n",
       "   * Handle when an output is cleared or removed\n",
       "   */\n",
       "  function handleClearOutput(event, handle) {\n",
       "    function drop(id) {\n",
       "      const view = Bokeh.index.get_by_id(id)\n",
       "      if (view != null) {\n",
       "        view.model.document.clear()\n",
       "        Bokeh.index.delete(view)\n",
       "      }\n",
       "    }\n",
       "\n",
       "    const cell = handle.cell;\n",
       "\n",
       "    const id = cell.output_area._bokeh_element_id;\n",
       "    const server_id = cell.output_area._bokeh_server_id;\n",
       "\n",
       "    // Clean up Bokeh references\n",
       "    if (id != null) {\n",
       "      drop(id)\n",
       "    }\n",
       "\n",
       "    if (server_id !== undefined) {\n",
       "      // Clean up Bokeh references\n",
       "      const cmd_clean = \"from bokeh.io.state import curstate; print(curstate().uuid_to_server['\" + server_id + \"'].get_sessions()[0].document.roots[0]._id)\";\n",
       "      cell.notebook.kernel.execute(cmd_clean, {\n",
       "        iopub: {\n",
       "          output: function(msg) {\n",
       "            const id = msg.content.text.trim()\n",
       "            drop(id)\n",
       "          }\n",
       "        }\n",
       "      });\n",
       "      // Destroy server and session\n",
       "      const cmd_destroy = \"import bokeh.io.notebook as ion; ion.destroy_server('\" + server_id + \"')\";\n",
       "      cell.notebook.kernel.execute(cmd_destroy);\n",
       "    }\n",
       "  }\n",
       "\n",
       "  /**\n",
       "   * Handle when a new output is added\n",
       "   */\n",
       "  function handleAddOutput(event, handle) {\n",
       "    const output_area = handle.output_area;\n",
       "    const output = handle.output;\n",
       "\n",
       "    // limit handleAddOutput to display_data with EXEC_MIME_TYPE content only\n",
       "    if ((output.output_type != \"display_data\") || (!Object.prototype.hasOwnProperty.call(output.data, EXEC_MIME_TYPE))) {\n",
       "      return\n",
       "    }\n",
       "\n",
       "    const toinsert = output_area.element.find(\".\" + CLASS_NAME.split(' ')[0]);\n",
       "\n",
       "    if (output.metadata[EXEC_MIME_TYPE][\"id\"] !== undefined) {\n",
       "      toinsert[toinsert.length - 1].firstChild.textContent = output.data[JS_MIME_TYPE];\n",
       "      // store reference to embed id on output_area\n",
       "      output_area._bokeh_element_id = output.metadata[EXEC_MIME_TYPE][\"id\"];\n",
       "    }\n",
       "    if (output.metadata[EXEC_MIME_TYPE][\"server_id\"] !== undefined) {\n",
       "      const bk_div = document.createElement(\"div\");\n",
       "      bk_div.innerHTML = output.data[HTML_MIME_TYPE];\n",
       "      const script_attrs = bk_div.children[0].attributes;\n",
       "      for (let i = 0; i < script_attrs.length; i++) {\n",
       "        toinsert[toinsert.length - 1].firstChild.setAttribute(script_attrs[i].name, script_attrs[i].value);\n",
       "        toinsert[toinsert.length - 1].firstChild.textContent = bk_div.children[0].textContent\n",
       "      }\n",
       "      // store reference to server id on output_area\n",
       "      output_area._bokeh_server_id = output.metadata[EXEC_MIME_TYPE][\"server_id\"];\n",
       "    }\n",
       "  }\n",
       "\n",
       "  function register_renderer(events, OutputArea) {\n",
       "\n",
       "    function append_mime(data, metadata, element) {\n",
       "      // create a DOM node to render to\n",
       "      const toinsert = this.create_output_subarea(\n",
       "        metadata,\n",
       "        CLASS_NAME,\n",
       "        EXEC_MIME_TYPE\n",
       "      );\n",
       "      this.keyboard_manager.register_events(toinsert);\n",
       "      // Render to node\n",
       "      const props = {data: data, metadata: metadata[EXEC_MIME_TYPE]};\n",
       "      render(props, toinsert[toinsert.length - 1]);\n",
       "      element.append(toinsert);\n",
       "      return toinsert\n",
       "    }\n",
       "\n",
       "    /* Handle when an output is cleared or removed */\n",
       "    events.on('clear_output.CodeCell', handleClearOutput);\n",
       "    events.on('delete.Cell', handleClearOutput);\n",
       "\n",
       "    /* Handle when a new output is added */\n",
       "    events.on('output_added.OutputArea', handleAddOutput);\n",
       "\n",
       "    /**\n",
       "     * Register the mime type and append_mime function with output_area\n",
       "     */\n",
       "    OutputArea.prototype.register_mime_type(EXEC_MIME_TYPE, append_mime, {\n",
       "      /* Is output safe? */\n",
       "      safe: true,\n",
       "      /* Index of renderer in `output_area.display_order` */\n",
       "      index: 0\n",
       "    });\n",
       "  }\n",
       "\n",
       "  // register the mime type if in Jupyter Notebook environment and previously unregistered\n",
       "  if (root.Jupyter !== undefined) {\n",
       "    const events = require('base/js/events');\n",
       "    const OutputArea = require('notebook/js/outputarea').OutputArea;\n",
       "\n",
       "    if (OutputArea.prototype.mime_types().indexOf(EXEC_MIME_TYPE) == -1) {\n",
       "      register_renderer(events, OutputArea);\n",
       "    }\n",
       "  }\n",
       "  if (typeof (root._bokeh_timeout) === \"undefined\" || force === true) {\n",
       "    root._bokeh_timeout = Date.now() + 5000;\n",
       "    root._bokeh_failed_load = false;\n",
       "  }\n",
       "\n",
       "  const NB_LOAD_WARNING = {'data': {'text/html':\n",
       "     \"<div style='background-color: #fdd'>\\n\"+\n",
       "     \"<p>\\n\"+\n",
       "     \"BokehJS does not appear to have successfully loaded. If loading BokehJS from CDN, this \\n\"+\n",
       "     \"may be due to a slow or bad network connection. Possible fixes:\\n\"+\n",
       "     \"</p>\\n\"+\n",
       "     \"<ul>\\n\"+\n",
       "     \"<li>re-rerun `output_notebook()` to attempt to load from CDN again, or</li>\\n\"+\n",
       "     \"<li>use INLINE resources instead, as so:</li>\\n\"+\n",
       "     \"</ul>\\n\"+\n",
       "     \"<code>\\n\"+\n",
       "     \"from bokeh.resources import INLINE\\n\"+\n",
       "     \"output_notebook(resources=INLINE)\\n\"+\n",
       "     \"</code>\\n\"+\n",
       "     \"</div>\"}};\n",
       "\n",
       "  function display_loaded() {\n",
       "    const el = document.getElementById(\"cc89ba05-2bb0-4dca-af04-1243bf16a597\");\n",
       "    if (el != null) {\n",
       "      el.textContent = \"BokehJS is loading...\";\n",
       "    }\n",
       "    if (root.Bokeh !== undefined) {\n",
       "      if (el != null) {\n",
       "        el.textContent = \"BokehJS \" + root.Bokeh.version + \" successfully loaded.\";\n",
       "      }\n",
       "    } else if (Date.now() < root._bokeh_timeout) {\n",
       "      setTimeout(display_loaded, 100)\n",
       "    }\n",
       "  }\n",
       "\n",
       "  function run_callbacks() {\n",
       "    try {\n",
       "      root._bokeh_onload_callbacks.forEach(function(callback) {\n",
       "        if (callback != null)\n",
       "          callback();\n",
       "      });\n",
       "    } finally {\n",
       "      delete root._bokeh_onload_callbacks\n",
       "    }\n",
       "    console.debug(\"Bokeh: all callbacks have finished\");\n",
       "  }\n",
       "\n",
       "  function load_libs(css_urls, js_urls, callback) {\n",
       "    if (css_urls == null) css_urls = [];\n",
       "    if (js_urls == null) js_urls = [];\n",
       "\n",
       "    root._bokeh_onload_callbacks.push(callback);\n",
       "    if (root._bokeh_is_loading > 0) {\n",
       "      console.debug(\"Bokeh: BokehJS is being loaded, scheduling callback at\", now());\n",
       "      return null;\n",
       "    }\n",
       "    if (js_urls == null || js_urls.length === 0) {\n",
       "      run_callbacks();\n",
       "      return null;\n",
       "    }\n",
       "    console.debug(\"Bokeh: BokehJS not loaded, scheduling load and callback at\", now());\n",
       "    root._bokeh_is_loading = css_urls.length + js_urls.length;\n",
       "\n",
       "    function on_load() {\n",
       "      root._bokeh_is_loading--;\n",
       "      if (root._bokeh_is_loading === 0) {\n",
       "        console.debug(\"Bokeh: all BokehJS libraries/stylesheets loaded\");\n",
       "        run_callbacks()\n",
       "      }\n",
       "    }\n",
       "\n",
       "    function on_error(url) {\n",
       "      console.error(\"failed to load \" + url);\n",
       "    }\n",
       "\n",
       "    for (let i = 0; i < css_urls.length; i++) {\n",
       "      const url = css_urls[i];\n",
       "      const element = document.createElement(\"link\");\n",
       "      element.onload = on_load;\n",
       "      element.onerror = on_error.bind(null, url);\n",
       "      element.rel = \"stylesheet\";\n",
       "      element.type = \"text/css\";\n",
       "      element.href = url;\n",
       "      console.debug(\"Bokeh: injecting link tag for BokehJS stylesheet: \", url);\n",
       "      document.body.appendChild(element);\n",
       "    }\n",
       "\n",
       "    for (let i = 0; i < js_urls.length; i++) {\n",
       "      const url = js_urls[i];\n",
       "      const element = document.createElement('script');\n",
       "      element.onload = on_load;\n",
       "      element.onerror = on_error.bind(null, url);\n",
       "      element.async = false;\n",
       "      element.src = url;\n",
       "      console.debug(\"Bokeh: injecting script tag for BokehJS library: \", url);\n",
       "      document.head.appendChild(element);\n",
       "    }\n",
       "  };\n",
       "\n",
       "  function inject_raw_css(css) {\n",
       "    const element = document.createElement(\"style\");\n",
       "    element.appendChild(document.createTextNode(css));\n",
       "    document.body.appendChild(element);\n",
       "  }\n",
       "\n",
       "  const js_urls = [\"https://cdn.bokeh.org/bokeh/release/bokeh-3.3.2.min.js\", \"https://cdn.bokeh.org/bokeh/release/bokeh-gl-3.3.2.min.js\", \"https://cdn.bokeh.org/bokeh/release/bokeh-widgets-3.3.2.min.js\", \"https://cdn.bokeh.org/bokeh/release/bokeh-tables-3.3.2.min.js\", \"https://cdn.bokeh.org/bokeh/release/bokeh-mathjax-3.3.2.min.js\"];\n",
       "  const css_urls = [];\n",
       "\n",
       "  const inline_js = [    function(Bokeh) {\n",
       "      Bokeh.set_log_level(\"info\");\n",
       "    },\n",
       "function(Bokeh) {\n",
       "    }\n",
       "  ];\n",
       "\n",
       "  function run_inline_js() {\n",
       "    if (root.Bokeh !== undefined || force === true) {\n",
       "          for (let i = 0; i < inline_js.length; i++) {\n",
       "      inline_js[i].call(root, root.Bokeh);\n",
       "    }\n",
       "if (force === true) {\n",
       "        display_loaded();\n",
       "      }} else if (Date.now() < root._bokeh_timeout) {\n",
       "      setTimeout(run_inline_js, 100);\n",
       "    } else if (!root._bokeh_failed_load) {\n",
       "      console.log(\"Bokeh: BokehJS failed to load within specified timeout.\");\n",
       "      root._bokeh_failed_load = true;\n",
       "    } else if (force !== true) {\n",
       "      const cell = $(document.getElementById(\"cc89ba05-2bb0-4dca-af04-1243bf16a597\")).parents('.cell').data().cell;\n",
       "      cell.output_area.append_execute_result(NB_LOAD_WARNING)\n",
       "    }\n",
       "  }\n",
       "\n",
       "  if (root._bokeh_is_loading === 0) {\n",
       "    console.debug(\"Bokeh: BokehJS loaded, going straight to plotting\");\n",
       "    run_inline_js();\n",
       "  } else {\n",
       "    load_libs(css_urls, js_urls, function() {\n",
       "      console.debug(\"Bokeh: BokehJS plotting callback run at\", now());\n",
       "      run_inline_js();\n",
       "    });\n",
       "  }\n",
       "}(window));"
      ],
      "application/vnd.bokehjs_load.v0+json": ""
     },
     "metadata": {},
     "output_type": "display_data"
    },
    {
     "data": {
      "text/html": [
       "    <style>\n",
       "        .bk-notebook-logo {\n",
       "            display: block;\n",
       "            width: 20px;\n",
       "            height: 20px;\n",
       "            background-image: url(data:image/png;base64,iVBORw0KGgoAAAANSUhEUgAAABQAAAAUCAYAAACNiR0NAAAABHNCSVQICAgIfAhkiAAAAAlwSFlzAAALEgAACxIB0t1+/AAAABx0RVh0U29mdHdhcmUAQWRvYmUgRmlyZXdvcmtzIENTNui8sowAAAOkSURBVDiNjZRtaJVlGMd/1/08zzln5zjP1LWcU9N0NkN8m2CYjpgQYQXqSs0I84OLIC0hkEKoPtiH3gmKoiJDU7QpLgoLjLIQCpEsNJ1vqUOdO7ppbuec5+V+rj4ctwzd8IIbbi6u+8f1539dt3A78eXC7QizUF7gyV1fD1Yqg4JWz84yffhm0qkFqBogB9rM8tZdtwVsPUhWhGcFJngGeWrPzHm5oaMmkfEg1usvLFyc8jLRqDOMru7AyC8saQr7GG7f5fvDeH7Ej8CM66nIF+8yngt6HWaKh7k49Soy9nXurCi1o3qUbS3zWfrYeQDTB/Qj6kX6Ybhw4B+bOYoLKCC9H3Nu/leUTZ1JdRWkkn2ldcCamzrcf47KKXdAJllSlxAOkRgyHsGC/zRday5Qld9DyoM4/q/rUoy/CXh3jzOu3bHUVZeU+DEn8FInkPBFlu3+nW3Nw0mk6vCDiWg8CeJaxEwuHS3+z5RgY+YBR6V1Z1nxSOfoaPa4LASWxxdNp+VWTk7+4vzaou8v8PN+xo+KY2xsw6une2frhw05CTYOmQvsEhjhWjn0bmXPjpE1+kplmmkP3suftwTubK9Vq22qKmrBhpY4jvd5afdRA3wGjFAgcnTK2s4hY0/GPNIb0nErGMCRxWOOX64Z8RAC4oCXdklmEvcL8o0BfkNK4lUg9HTl+oPlQxdNo3Mg4Nv175e/1LDGzZen30MEjRUtmXSfiTVu1kK8W4txyV6BMKlbgk3lMwYCiusNy9fVfvvwMxv8Ynl6vxoByANLTWplvuj/nF9m2+PDtt1eiHPBr1oIfhCChQMBw6Aw0UulqTKZdfVvfG7VcfIqLG9bcldL/+pdWTLxLUy8Qq38heUIjh4XlzZxzQm19lLFlr8vdQ97rjZVOLf8nclzckbcD4wxXMidpX30sFd37Fv/GtwwhzhxGVAprjbg0gCAEeIgwCZyTV2Z1REEW8O4py0wsjeloKoMr6iCY6dP92H6Vw/oTyICIthibxjm/DfN9lVz8IqtqKYLUXfoKVMVQVVJOElGjrnnUt9T9wbgp8AyYKaGlqingHZU/uG2NTZSVqwHQTWkx9hxjkpWDaCg6Ckj5qebgBVbT3V3NNXMSiWSDdGV3hrtzla7J+duwPOToIg42ChPQOQjspnSlp1V+Gjdged7+8UN5CRAV7a5EdFNwCjEaBR27b3W890TE7g24NAP/mMDXRWrGoFPQI9ls/MWO2dWFAar/xcOIImbbpA3zgAAAABJRU5ErkJggg==);\n",
       "        }\n",
       "    </style>\n",
       "    <div>\n",
       "        <a href=\"https://bokeh.org\" target=\"_blank\" class=\"bk-notebook-logo\"></a>\n",
       "        <span id=\"a92ab56f-82ff-46ce-8cda-a3adc26ee597\">Loading BokehJS ...</span>\n",
       "    </div>\n"
      ]
     },
     "metadata": {},
     "output_type": "display_data"
    },
    {
     "data": {
      "application/javascript": [
       "(function(root) {\n",
       "  function now() {\n",
       "    return new Date();\n",
       "  }\n",
       "\n",
       "  const force = true;\n",
       "\n",
       "  if (typeof root._bokeh_onload_callbacks === \"undefined\" || force === true) {\n",
       "    root._bokeh_onload_callbacks = [];\n",
       "    root._bokeh_is_loading = undefined;\n",
       "  }\n",
       "\n",
       "const JS_MIME_TYPE = 'application/javascript';\n",
       "  const HTML_MIME_TYPE = 'text/html';\n",
       "  const EXEC_MIME_TYPE = 'application/vnd.bokehjs_exec.v0+json';\n",
       "  const CLASS_NAME = 'output_bokeh rendered_html';\n",
       "\n",
       "  /**\n",
       "   * Render data to the DOM node\n",
       "   */\n",
       "  function render(props, node) {\n",
       "    const script = document.createElement(\"script\");\n",
       "    node.appendChild(script);\n",
       "  }\n",
       "\n",
       "  /**\n",
       "   * Handle when an output is cleared or removed\n",
       "   */\n",
       "  function handleClearOutput(event, handle) {\n",
       "    function drop(id) {\n",
       "      const view = Bokeh.index.get_by_id(id)\n",
       "      if (view != null) {\n",
       "        view.model.document.clear()\n",
       "        Bokeh.index.delete(view)\n",
       "      }\n",
       "    }\n",
       "\n",
       "    const cell = handle.cell;\n",
       "\n",
       "    const id = cell.output_area._bokeh_element_id;\n",
       "    const server_id = cell.output_area._bokeh_server_id;\n",
       "\n",
       "    // Clean up Bokeh references\n",
       "    if (id != null) {\n",
       "      drop(id)\n",
       "    }\n",
       "\n",
       "    if (server_id !== undefined) {\n",
       "      // Clean up Bokeh references\n",
       "      const cmd_clean = \"from bokeh.io.state import curstate; print(curstate().uuid_to_server['\" + server_id + \"'].get_sessions()[0].document.roots[0]._id)\";\n",
       "      cell.notebook.kernel.execute(cmd_clean, {\n",
       "        iopub: {\n",
       "          output: function(msg) {\n",
       "            const id = msg.content.text.trim()\n",
       "            drop(id)\n",
       "          }\n",
       "        }\n",
       "      });\n",
       "      // Destroy server and session\n",
       "      const cmd_destroy = \"import bokeh.io.notebook as ion; ion.destroy_server('\" + server_id + \"')\";\n",
       "      cell.notebook.kernel.execute(cmd_destroy);\n",
       "    }\n",
       "  }\n",
       "\n",
       "  /**\n",
       "   * Handle when a new output is added\n",
       "   */\n",
       "  function handleAddOutput(event, handle) {\n",
       "    const output_area = handle.output_area;\n",
       "    const output = handle.output;\n",
       "\n",
       "    // limit handleAddOutput to display_data with EXEC_MIME_TYPE content only\n",
       "    if ((output.output_type != \"display_data\") || (!Object.prototype.hasOwnProperty.call(output.data, EXEC_MIME_TYPE))) {\n",
       "      return\n",
       "    }\n",
       "\n",
       "    const toinsert = output_area.element.find(\".\" + CLASS_NAME.split(' ')[0]);\n",
       "\n",
       "    if (output.metadata[EXEC_MIME_TYPE][\"id\"] !== undefined) {\n",
       "      toinsert[toinsert.length - 1].firstChild.textContent = output.data[JS_MIME_TYPE];\n",
       "      // store reference to embed id on output_area\n",
       "      output_area._bokeh_element_id = output.metadata[EXEC_MIME_TYPE][\"id\"];\n",
       "    }\n",
       "    if (output.metadata[EXEC_MIME_TYPE][\"server_id\"] !== undefined) {\n",
       "      const bk_div = document.createElement(\"div\");\n",
       "      bk_div.innerHTML = output.data[HTML_MIME_TYPE];\n",
       "      const script_attrs = bk_div.children[0].attributes;\n",
       "      for (let i = 0; i < script_attrs.length; i++) {\n",
       "        toinsert[toinsert.length - 1].firstChild.setAttribute(script_attrs[i].name, script_attrs[i].value);\n",
       "        toinsert[toinsert.length - 1].firstChild.textContent = bk_div.children[0].textContent\n",
       "      }\n",
       "      // store reference to server id on output_area\n",
       "      output_area._bokeh_server_id = output.metadata[EXEC_MIME_TYPE][\"server_id\"];\n",
       "    }\n",
       "  }\n",
       "\n",
       "  function register_renderer(events, OutputArea) {\n",
       "\n",
       "    function append_mime(data, metadata, element) {\n",
       "      // create a DOM node to render to\n",
       "      const toinsert = this.create_output_subarea(\n",
       "        metadata,\n",
       "        CLASS_NAME,\n",
       "        EXEC_MIME_TYPE\n",
       "      );\n",
       "      this.keyboard_manager.register_events(toinsert);\n",
       "      // Render to node\n",
       "      const props = {data: data, metadata: metadata[EXEC_MIME_TYPE]};\n",
       "      render(props, toinsert[toinsert.length - 1]);\n",
       "      element.append(toinsert);\n",
       "      return toinsert\n",
       "    }\n",
       "\n",
       "    /* Handle when an output is cleared or removed */\n",
       "    events.on('clear_output.CodeCell', handleClearOutput);\n",
       "    events.on('delete.Cell', handleClearOutput);\n",
       "\n",
       "    /* Handle when a new output is added */\n",
       "    events.on('output_added.OutputArea', handleAddOutput);\n",
       "\n",
       "    /**\n",
       "     * Register the mime type and append_mime function with output_area\n",
       "     */\n",
       "    OutputArea.prototype.register_mime_type(EXEC_MIME_TYPE, append_mime, {\n",
       "      /* Is output safe? */\n",
       "      safe: true,\n",
       "      /* Index of renderer in `output_area.display_order` */\n",
       "      index: 0\n",
       "    });\n",
       "  }\n",
       "\n",
       "  // register the mime type if in Jupyter Notebook environment and previously unregistered\n",
       "  if (root.Jupyter !== undefined) {\n",
       "    const events = require('base/js/events');\n",
       "    const OutputArea = require('notebook/js/outputarea').OutputArea;\n",
       "\n",
       "    if (OutputArea.prototype.mime_types().indexOf(EXEC_MIME_TYPE) == -1) {\n",
       "      register_renderer(events, OutputArea);\n",
       "    }\n",
       "  }\n",
       "  if (typeof (root._bokeh_timeout) === \"undefined\" || force === true) {\n",
       "    root._bokeh_timeout = Date.now() + 5000;\n",
       "    root._bokeh_failed_load = false;\n",
       "  }\n",
       "\n",
       "  const NB_LOAD_WARNING = {'data': {'text/html':\n",
       "     \"<div style='background-color: #fdd'>\\n\"+\n",
       "     \"<p>\\n\"+\n",
       "     \"BokehJS does not appear to have successfully loaded. If loading BokehJS from CDN, this \\n\"+\n",
       "     \"may be due to a slow or bad network connection. Possible fixes:\\n\"+\n",
       "     \"</p>\\n\"+\n",
       "     \"<ul>\\n\"+\n",
       "     \"<li>re-rerun `output_notebook()` to attempt to load from CDN again, or</li>\\n\"+\n",
       "     \"<li>use INLINE resources instead, as so:</li>\\n\"+\n",
       "     \"</ul>\\n\"+\n",
       "     \"<code>\\n\"+\n",
       "     \"from bokeh.resources import INLINE\\n\"+\n",
       "     \"output_notebook(resources=INLINE)\\n\"+\n",
       "     \"</code>\\n\"+\n",
       "     \"</div>\"}};\n",
       "\n",
       "  function display_loaded() {\n",
       "    const el = document.getElementById(\"a92ab56f-82ff-46ce-8cda-a3adc26ee597\");\n",
       "    if (el != null) {\n",
       "      el.textContent = \"BokehJS is loading...\";\n",
       "    }\n",
       "    if (root.Bokeh !== undefined) {\n",
       "      if (el != null) {\n",
       "        el.textContent = \"BokehJS \" + root.Bokeh.version + \" successfully loaded.\";\n",
       "      }\n",
       "    } else if (Date.now() < root._bokeh_timeout) {\n",
       "      setTimeout(display_loaded, 100)\n",
       "    }\n",
       "  }\n",
       "\n",
       "  function run_callbacks() {\n",
       "    try {\n",
       "      root._bokeh_onload_callbacks.forEach(function(callback) {\n",
       "        if (callback != null)\n",
       "          callback();\n",
       "      });\n",
       "    } finally {\n",
       "      delete root._bokeh_onload_callbacks\n",
       "    }\n",
       "    console.debug(\"Bokeh: all callbacks have finished\");\n",
       "  }\n",
       "\n",
       "  function load_libs(css_urls, js_urls, callback) {\n",
       "    if (css_urls == null) css_urls = [];\n",
       "    if (js_urls == null) js_urls = [];\n",
       "\n",
       "    root._bokeh_onload_callbacks.push(callback);\n",
       "    if (root._bokeh_is_loading > 0) {\n",
       "      console.debug(\"Bokeh: BokehJS is being loaded, scheduling callback at\", now());\n",
       "      return null;\n",
       "    }\n",
       "    if (js_urls == null || js_urls.length === 0) {\n",
       "      run_callbacks();\n",
       "      return null;\n",
       "    }\n",
       "    console.debug(\"Bokeh: BokehJS not loaded, scheduling load and callback at\", now());\n",
       "    root._bokeh_is_loading = css_urls.length + js_urls.length;\n",
       "\n",
       "    function on_load() {\n",
       "      root._bokeh_is_loading--;\n",
       "      if (root._bokeh_is_loading === 0) {\n",
       "        console.debug(\"Bokeh: all BokehJS libraries/stylesheets loaded\");\n",
       "        run_callbacks()\n",
       "      }\n",
       "    }\n",
       "\n",
       "    function on_error(url) {\n",
       "      console.error(\"failed to load \" + url);\n",
       "    }\n",
       "\n",
       "    for (let i = 0; i < css_urls.length; i++) {\n",
       "      const url = css_urls[i];\n",
       "      const element = document.createElement(\"link\");\n",
       "      element.onload = on_load;\n",
       "      element.onerror = on_error.bind(null, url);\n",
       "      element.rel = \"stylesheet\";\n",
       "      element.type = \"text/css\";\n",
       "      element.href = url;\n",
       "      console.debug(\"Bokeh: injecting link tag for BokehJS stylesheet: \", url);\n",
       "      document.body.appendChild(element);\n",
       "    }\n",
       "\n",
       "    for (let i = 0; i < js_urls.length; i++) {\n",
       "      const url = js_urls[i];\n",
       "      const element = document.createElement('script');\n",
       "      element.onload = on_load;\n",
       "      element.onerror = on_error.bind(null, url);\n",
       "      element.async = false;\n",
       "      element.src = url;\n",
       "      console.debug(\"Bokeh: injecting script tag for BokehJS library: \", url);\n",
       "      document.head.appendChild(element);\n",
       "    }\n",
       "  };\n",
       "\n",
       "  function inject_raw_css(css) {\n",
       "    const element = document.createElement(\"style\");\n",
       "    element.appendChild(document.createTextNode(css));\n",
       "    document.body.appendChild(element);\n",
       "  }\n",
       "\n",
       "  const js_urls = [\"https://cdn.bokeh.org/bokeh/release/bokeh-3.3.2.min.js\", \"https://cdn.bokeh.org/bokeh/release/bokeh-gl-3.3.2.min.js\", \"https://cdn.bokeh.org/bokeh/release/bokeh-widgets-3.3.2.min.js\", \"https://cdn.bokeh.org/bokeh/release/bokeh-tables-3.3.2.min.js\", \"https://cdn.bokeh.org/bokeh/release/bokeh-mathjax-3.3.2.min.js\"];\n",
       "  const css_urls = [];\n",
       "\n",
       "  const inline_js = [    function(Bokeh) {\n",
       "      Bokeh.set_log_level(\"info\");\n",
       "    },\n",
       "function(Bokeh) {\n",
       "    }\n",
       "  ];\n",
       "\n",
       "  function run_inline_js() {\n",
       "    if (root.Bokeh !== undefined || force === true) {\n",
       "          for (let i = 0; i < inline_js.length; i++) {\n",
       "      inline_js[i].call(root, root.Bokeh);\n",
       "    }\n",
       "if (force === true) {\n",
       "        display_loaded();\n",
       "      }} else if (Date.now() < root._bokeh_timeout) {\n",
       "      setTimeout(run_inline_js, 100);\n",
       "    } else if (!root._bokeh_failed_load) {\n",
       "      console.log(\"Bokeh: BokehJS failed to load within specified timeout.\");\n",
       "      root._bokeh_failed_load = true;\n",
       "    } else if (force !== true) {\n",
       "      const cell = $(document.getElementById(\"a92ab56f-82ff-46ce-8cda-a3adc26ee597\")).parents('.cell').data().cell;\n",
       "      cell.output_area.append_execute_result(NB_LOAD_WARNING)\n",
       "    }\n",
       "  }\n",
       "\n",
       "  if (root._bokeh_is_loading === 0) {\n",
       "    console.debug(\"Bokeh: BokehJS loaded, going straight to plotting\");\n",
       "    run_inline_js();\n",
       "  } else {\n",
       "    load_libs(css_urls, js_urls, function() {\n",
       "      console.debug(\"Bokeh: BokehJS plotting callback run at\", now());\n",
       "      run_inline_js();\n",
       "    });\n",
       "  }\n",
       "}(window));"
      ],
      "application/vnd.bokehjs_load.v0+json": ""
     },
     "metadata": {},
     "output_type": "display_data"
    }
   ],
   "source": [
    "import hail as hl\n",
    "\n",
    "# For renaming purposes\n",
    "import re\n",
    "\n",
    "# Function from gnomAD library to apply genotype filters \n",
    "from gnomad.utils.filtering import filter_to_adj\n",
    "\n",
    "# For plotting in Hail\n",
    "from hail.ggplot import *\n",
    "import plotly\n",
    "\n",
    "from bokeh.io import show, output_notebook\n",
    "from bokeh.layouts import gridplot\n",
    "output_notebook()"
   ]
  },
  {
   "cell_type": "code",
   "execution_count": null,
   "id": "6dc785dd",
   "metadata": {},
   "outputs": [],
   "source": [
    "# Initializing Hail \n",
    "hl.init()"
   ]
  },
  {
   "cell_type": "code",
   "execution_count": null,
   "id": "aeb64821",
   "metadata": {},
   "outputs": [],
   "source": [
    "# Allow output scrolling in Jupyter nb viewer for cells with long outputs \n",
    "\n",
    "from IPython.core.display import HTML\n",
    "css = open('format.css').read()\n",
    "HTML('<style>{}</style>'.format(css))"
   ]
  },
  {
   "cell_type": "markdown",
   "id": "2bb4535d",
   "metadata": {
    "pycharm": {
     "name": "#%% md\n"
    }
   },
   "source": [
    "# 1. Set Default Paths\n",
    "\n",
    "These default paths can be edited by users as needed. It is recommended to run these tutorials without writing out datasets. \n",
    "\n",
    "**By default all of the dataset write out sections are shown as markdown cells. If you would like to write out your own dataset, you can copy the code and paste it into a new code cell. Don't forget to change the paths in the following cell accordingly and edit the ```overwrite``` argument if you are writing out a dataset more than once.** \n",
    "\n",
    "[Back to Index](#Index)"
   ]
  },
  {
   "cell_type": "code",
   "execution_count": 3,
   "id": "0510eefa",
   "metadata": {},
   "outputs": [],
   "source": [
    "# Path for HGDP+1kGP dataset prior to applying gnomAD QC filters\n",
    "pre_qc_path = 'gs://gcp-public-data--gnomad/release/3.1.2/mt/genomes/gnomad.genomes.v3.1.2.hgdp_1kg_subset_dense.mt'\n",
    "\n",
    "# Path for gnomAD's HGDP+1kGP metadata with updated population labels\n",
    "metadata_path = 'gs://gcp-public-data--gnomad/release/3.1/secondary_analyses/hgdp_1kg_v2/metadata_and_qc/gnomad_meta_updated.tsv'\n",
    "\n",
    "## Paths for plotting \n",
    "# Pre-QC\n",
    "pre_qc_cols_path = 'gs://gcp-public-data--gnomad/release/3.1/secondary_analyses/hgdp_1kg_v2/plot_datasets/pre_qc_plotting.ht' \n",
    "exp_het_pre_qc_path = 'gs://gcp-public-data--gnomad/release/3.1/secondary_analyses/hgdp_1kg_v2/plot_datasets/expected_hets_pre_qc.ht'# expected heterozygosity\n",
    "act_het_pre_qc_path = 'gs://gcp-public-data--gnomad/release/3.1/secondary_analyses/hgdp_1kg_v2/plot_datasets/actual_hets_pre_qc.ht' # actual heterozygosity\n",
    "\n",
    "# Post-QC\n",
    "post_qc_cols_path = 'gs://gcp-public-data--gnomad/release/3.1/secondary_analyses/hgdp_1kg_v2/plot_datasets/post_qc_plotting.ht' \n",
    "exp_het_post_qc_path = 'gs://gcp-public-data--gnomad/release/3.1/secondary_analyses/hgdp_1kg_v2/plot_datasets/expected_hets_post_qc.ht' # expected heterozygosity\n",
    "act_het_post_qc_path = 'gs://gcp-public-data--gnomad/release/3.1/secondary_analyses/hgdp_1kg_v2/plot_datasets/actual_hets_post_qc.ht' # actual heterozygosity\n",
    "sfs_post_qc_path = 'gs://gcp-public-data--gnomad/release/3.1/secondary_analyses/hgdp_1kg_v2/plot_datasets/sfs_post_qc.txt' # site frequency spectrum"
   ]
  },
  {
   "cell_type": "markdown",
   "id": "96ca6d00",
   "metadata": {
    "pycharm": {
     "name": "#%% md\n"
    }
   },
   "source": [
    "# 2. Read in Pre-QC Dataset and Apply Quality Control Filters\n",
    "\n",
    "<br>\n",
    "<details><summary> For more information on Hail methods and expressions click <u><span style=\"color:blue\">here</span></u>.</summary> \n",
    "<ul>\n",
    "<li><a href=\"https://hail.is/docs/0.2/methods/impex.html#hail.methods.read_matrix_table\"> More on  <i> read_matrix_table() </i></a></li>\n",
    "        \n",
    "<li><a href=\"https://hail.is/docs/0.2/hail.expr.Expression.html#hail.expr.Expression.describe\"> More on  <i> describe() </i></a></li>\n",
    "\n",
    "<li><a href=\"https://hail.is/docs/0.2/hail.MatrixTable.html#hail.MatrixTable.count\"> More on  <i> count() </i></a></li>\n",
    "    \n",
    "<li><a href=\"https://hail.is/docs/0.2/linalg/hail.linalg.BlockMatrix.html#hail.linalg.BlockMatrix.filter_cols\"> More on  <i> filter_cols() </i></a></li>\n",
    "\n",
    "<li><a href=\"https://hail.is/docs/0.2/linalg/hail.linalg.BlockMatrix.html#hail.linalg.BlockMatrix.filter_rows\"> More on  <i> filter_rows() </i></a></li>\n",
    "</ul>\n",
    "</details>\n",
    "    \n",
    "[Back to Index](#Index)"
   ]
  },
  {
   "cell_type": "code",
   "execution_count": 4,
   "id": "201fe6a4",
   "metadata": {
    "pycharm": {
     "name": "#%%\n"
    }
   },
   "outputs": [
    {
     "name": "stderr",
     "output_type": "stream",
     "text": [
      "[Stage 0:=============================>                             (2 + 2) / 4]\r"
     ]
    },
    {
     "data": {
      "text/html": [
       "<table><thead><tr><td style=\"white-space: nowrap; max-width: 500px; overflow: hidden; text-overflow: ellipsis; \" colspan=\"1\"><div style=\"text-align: left;\"></div></td><td style=\"white-space: nowrap; max-width: 500px; overflow: hidden; text-overflow: ellipsis; \" colspan=\"1\"><div style=\"text-align: left;\"></div></td></tr><tr><td style=\"white-space: nowrap; max-width: 500px; overflow: hidden; text-overflow: ellipsis; \" colspan=\"1\"><div style=\"text-align: left;border-bottom: solid 2px #000; padding-bottom: 5px\">locus</div></td><td style=\"white-space: nowrap; max-width: 500px; overflow: hidden; text-overflow: ellipsis; \" colspan=\"1\"><div style=\"text-align: left;border-bottom: solid 2px #000; padding-bottom: 5px\">alleles</div></td></tr><tr><td style=\"white-space: nowrap; max-width: 500px; overflow: hidden; text-overflow: ellipsis; text-align: left;\">locus&lt;GRCh38&gt;</td><td style=\"white-space: nowrap; max-width: 500px; overflow: hidden; text-overflow: ellipsis; text-align: left;\">array&lt;str&gt;</td></tr>\n",
       "</thead><tbody><tr><td style=\"white-space: nowrap; max-width: 500px; overflow: hidden; text-overflow: ellipsis; \">chr1:10055</td><td style=\"white-space: nowrap; max-width: 500px; overflow: hidden; text-overflow: ellipsis; \">[&quot;T&quot;,&quot;C&quot;]</td></tr>\n",
       "<tr><td style=\"white-space: nowrap; max-width: 500px; overflow: hidden; text-overflow: ellipsis; \">chr1:10061</td><td style=\"white-space: nowrap; max-width: 500px; overflow: hidden; text-overflow: ellipsis; \">[&quot;T&quot;,&quot;C&quot;]</td></tr>\n",
       "<tr><td style=\"white-space: nowrap; max-width: 500px; overflow: hidden; text-overflow: ellipsis; \">chr1:10109</td><td style=\"white-space: nowrap; max-width: 500px; overflow: hidden; text-overflow: ellipsis; \">[&quot;A&quot;,&quot;T&quot;]</td></tr>\n",
       "<tr><td style=\"white-space: nowrap; max-width: 500px; overflow: hidden; text-overflow: ellipsis; \">chr1:10109</td><td style=\"white-space: nowrap; max-width: 500px; overflow: hidden; text-overflow: ellipsis; \">[&quot;AACCCT&quot;,&quot;A&quot;]</td></tr>\n",
       "<tr><td style=\"white-space: nowrap; max-width: 500px; overflow: hidden; text-overflow: ellipsis; \">chr1:10114</td><td style=\"white-space: nowrap; max-width: 500px; overflow: hidden; text-overflow: ellipsis; \">[&quot;T&quot;,&quot;C&quot;]</td></tr>\n",
       "<tr><td style=\"white-space: nowrap; max-width: 500px; overflow: hidden; text-overflow: ellipsis; \">chr1:10114</td><td style=\"white-space: nowrap; max-width: 500px; overflow: hidden; text-overflow: ellipsis; \">[&quot;TA&quot;,&quot;T&quot;]</td></tr>\n",
       "<tr><td style=\"white-space: nowrap; max-width: 500px; overflow: hidden; text-overflow: ellipsis; \">chr1:10116</td><td style=\"white-space: nowrap; max-width: 500px; overflow: hidden; text-overflow: ellipsis; \">[&quot;A&quot;,&quot;G&quot;]</td></tr>\n",
       "<tr><td style=\"white-space: nowrap; max-width: 500px; overflow: hidden; text-overflow: ellipsis; \">chr1:10119</td><td style=\"white-space: nowrap; max-width: 500px; overflow: hidden; text-overflow: ellipsis; \">[&quot;CT&quot;,&quot;C&quot;]</td></tr>\n",
       "<tr><td style=\"white-space: nowrap; max-width: 500px; overflow: hidden; text-overflow: ellipsis; \">chr1:10120</td><td style=\"white-space: nowrap; max-width: 500px; overflow: hidden; text-overflow: ellipsis; \">[&quot;T&quot;,&quot;A&quot;]</td></tr>\n",
       "<tr><td style=\"white-space: nowrap; max-width: 500px; overflow: hidden; text-overflow: ellipsis; \">chr1:10122</td><td style=\"white-space: nowrap; max-width: 500px; overflow: hidden; text-overflow: ellipsis; \">[&quot;A&quot;,&quot;G&quot;]</td></tr>\n",
       "</tbody></table><p style=\"background: #fdd; padding: 0.4em;\">showing top 10 rows</p>\n",
       "<p style=\"background: #fdd; padding: 0.4em;\">showing the first 0 of 4151 columns</p>\n"
      ],
      "text/plain": [
       "+---------------+----------------+\n",
       "| locus         | alleles        |\n",
       "+---------------+----------------+\n",
       "| locus<GRCh38> | array<str>     |\n",
       "+---------------+----------------+\n",
       "| chr1:10055    | [\"T\",\"C\"]      |\n",
       "| chr1:10061    | [\"T\",\"C\"]      |\n",
       "| chr1:10109    | [\"A\",\"T\"]      |\n",
       "| chr1:10109    | [\"AACCCT\",\"A\"] |\n",
       "| chr1:10114    | [\"T\",\"C\"]      |\n",
       "| chr1:10114    | [\"TA\",\"T\"]     |\n",
       "| chr1:10116    | [\"A\",\"G\"]      |\n",
       "| chr1:10119    | [\"CT\",\"C\"]     |\n",
       "| chr1:10120    | [\"T\",\"A\"]      |\n",
       "| chr1:10122    | [\"A\",\"G\"]      |\n",
       "+---------------+----------------+\n",
       "showing top 10 rows\n",
       "showing the first 0 of 4151 columns"
      ]
     },
     "metadata": {},
     "output_type": "display_data"
    }
   ],
   "source": [
    "# Read in the HGDP+1kGP pre-QC mt\n",
    "pre_qc_mt = hl.read_matrix_table(pre_qc_path)\n",
    "\n",
    "# Get mt schema\n",
    "pre_qc_mt.show()"
   ]
  },
  {
   "cell_type": "code",
   "execution_count": 6,
   "id": "842fce1d",
   "metadata": {},
   "outputs": [
    {
     "name": "stdout",
     "output_type": "stream",
     "text": [
      "Num of SNVs and samples prior to any analysis = (189381961, 4151)\n"
     ]
    }
   ],
   "source": [
    "# Validitiy check: number of variants and samples prior to applying QC filters\n",
    "print('Num of SNVs and samples prior to any analysis = ' + str(pre_qc_mt.count())) "
   ]
  },
  {
   "cell_type": "markdown",
   "id": "0375f841",
   "metadata": {},
   "source": [
    "The following function applies the quality control filters to the pre-QC dataset. Since the post-QC mt will not be written out, the same function is applied the other notebooks where the post-QC dataset is used. \n",
    "\n",
    "**To avoid errors, make sure to run the next two cells before running any code that includes the post-QC dataset.**\n",
    "\n",
    "**If running the cell below results in an error, double check that you used the  `--packages gnomad` argument when starting your cluster.**  \n",
    "\n",
    "- See the tutorials [README](https://github.com/atgu/hgdp_tgp/tree/master/tutorials#readme) for more information on how to start a cluster.\n",
    "\n",
    "[Back to Index](#Index)"
   ]
  },
  {
   "cell_type": "code",
   "execution_count": 10,
   "id": "8a36d0bd",
   "metadata": {},
   "outputs": [],
   "source": [
    "# Set up function to:\n",
    "# apply gnomAD's sample, variant and genotype QC filters\n",
    "# remove two contaminated samples identified using CHARR - https://pubmed.ncbi.nlm.nih.gov/37425834/\n",
    "# remove the gnomAD sample that's added for QC purposes\n",
    "# only keep the variants which are found in the samples that are left \n",
    "# add gnomAD's HGDP+1kGP metadata with the updated population labels as a column field \n",
    "\n",
    "def run_qc(mt):\n",
    "    \n",
    "    ## Apply sample QC filters to dataset \n",
    "    # This filters to only samples that passed gnomAD's sample QC hard filters  \n",
    "    mt = mt.filter_cols(~mt.gnomad_sample_filters.hard_filtered) # removed 31 samples\n",
    "    \n",
    "    ## Apply variant QC filters to dataset\n",
    "    # This subsets to only PASS variants - those which passed gnomAD's variant QC\n",
    "    # PASS variants have an entry in the filters field \n",
    "    mt = mt.filter_rows(hl.len(mt.filters) != 0, keep=False)\n",
    "    \n",
    "    # Remove the two contaminated samples identified by CHARR and 'CHMI_CHMI3_WGS2'\n",
    "    contaminated_samples = {'HGDP01371', 'LP6005441-DNA_A09'}\n",
    "    contaminated_samples_list = hl.literal(contaminated_samples)\n",
    "    mt = mt.filter_cols(~contaminated_samples_list.contains(mt['s']))\n",
    "    \n",
    "    # CHMI_CHMI3_WGS2 is a sample added by gnomAD for QC purposes and has no metadata info \n",
    "    mt = mt.filter_cols(mt.s == 'CHMI_CHMI3_WGS2', keep = False)\n",
    "\n",
    "    # Only keep the variants which are found in the samples that are left \n",
    "    mt = mt.filter_rows(hl.agg.any(mt.GT.is_non_ref()))\n",
    "    \n",
    "    # Read in and add the metadata with the updated population labels as a column field \n",
    "    metadata = hl.import_table(metadata_path, impute = True, key = 's') \n",
    "    mt = mt.annotate_cols(meta_updated = metadata[mt.s])\n",
    "    \n",
    "    ## Apply genotype QC filters to the dataset\n",
    "    # This is done using a function imported from gnomAD and is the last step in the QC process\n",
    "    mt = filter_to_adj(mt)\n",
    "\n",
    "    return mt"
   ]
  },
  {
   "cell_type": "code",
   "execution_count": null,
   "id": "4031981d",
   "metadata": {},
   "outputs": [],
   "source": [
    "# Run QC \n",
    "post_qc_mt = run_qc(pre_qc_mt)"
   ]
  },
  {
   "cell_type": "code",
   "execution_count": 7,
   "id": "57e0d577",
   "metadata": {},
   "outputs": [
    {
     "name": "stderr",
     "output_type": "stream",
     "text": [
      "[Stage 5:==================================================>(49999 + 1) / 50000]\r"
     ]
    },
    {
     "name": "stdout",
     "output_type": "stream",
     "text": [
      "Num of SNVs and samples after applying QC filters = (159339147, 4117)\n"
     ]
    }
   ],
   "source": [
    "# Validity check: number of variants and samples after applying QC filters\n",
    "# Took ~9min to print\n",
    "print('Num of SNVs and samples after applying QC filters = ' + str(post_qc_mt.count()))"
   ]
  },
  {
   "cell_type": "markdown",
   "id": "52060f46",
   "metadata": {},
   "source": [
    "After applying QC filters, the num of SNVs decreased from <code>189,381,961</code> to <code>159,339,147</code> and the num of samples decreased from <code>4151</code> to <code>4117</code>.\n",
    "\n",
    "[Back to Index](#Index)"
   ]
  },
  {
   "cell_type": "markdown",
   "id": "17d6d5e0",
   "metadata": {},
   "source": [
    "# 3. Data and Function Set Up for Plots  \n",
    "\n",
    "When conducting quality control, it is often a good idea to create plots of your data and summary statistics. For example, we look at the number of SNVs and coverage before and after QC so that after removing samples or variants, we get a visual representation of the changes in the dataset. This can potentially flag issues for further investigation. \n",
    "\n",
    "**Make sure to run the next cell before attempting to run any of the plotting code chunks so that colors are mapped to region names and plots are generated without an error.**\n",
    "\n",
    "[Back to Index](#Index)"
   ]
  },
  {
   "cell_type": "code",
   "execution_count": null,
   "id": "f7095a98",
   "metadata": {},
   "outputs": [],
   "source": [
    "post_qc_mt.meta_updated.describe()"
   ]
  },
  {
   "cell_type": "code",
   "execution_count": 10,
   "id": "7722cd72",
   "metadata": {},
   "outputs": [],
   "source": [
    "# Dictionary mapping colors to region names \n",
    "cont_colors = {'AMR':\"#E41A1C\",\n",
    "               'AFR':\"#984EA3\", \n",
    "               'OCE':\"#999999\",\n",
    "               'CSA':\"#FF7F00\",\n",
    "               'EAS':\"#4DAF4A\", \n",
    "               'EUR':\"#377EB8\", \n",
    "               'MID':\"#A65628\" }"
   ]
  },
  {
   "cell_type": "code",
   "execution_count": null,
   "id": "8eac68b4",
   "metadata": {},
   "outputs": [],
   "source": [
    "# Run Hail's sample QC on both pre and post-QC datasets \n",
    "pre_qc_mt = hl.sample_qc(pre_qc_mt)\n",
    "post_qc_mt = hl.sample_qc(post_qc_mt)\n",
    "\n",
    "# Read in gnomAD's HGDP+1kGP metadata for plotting \n",
    "metadata = hl.import_table(metadata_path, impute = True, key = 's')\n",
    "\n",
    "# Add plot annotations for both datasets  \n",
    "pre_qc_mt = pre_qc_mt.annotate_cols(subpop_color = metadata[pre_qc_mt.s]['hgdp_tgp_meta.Pop.colors'],\n",
    "                    subpop_shapes = metadata[pre_qc_mt.s]['hgdp_tgp_meta.Pop.shapes'],\n",
    "                    global_color = metadata[pre_qc_mt.s]['hgdp_tgp_meta.Continent.colors'])\n",
    "\n",
    "post_qc_mt = post_qc_mt.annotate_cols(subpop_color = metadata[post_qc_mt.s]['hgdp_tgp_meta.Pop.colors'],\n",
    "                    subpop_shapes = metadata[post_qc_mt.s]['hgdp_tgp_meta.Pop.shapes'],\n",
    "                    global_color = metadata[post_qc_mt.s]['hgdp_tgp_meta.Continent.colors'])"
   ]
  },
  {
   "cell_type": "markdown",
   "id": "33ff8008",
   "metadata": {},
   "source": [
    "<code>CHMI_CHMI3_WGS2</code> is a sample added by gnomAD for QC purposes, and thus doesn't have metadata information. To avoid a <code>None</code> error, we removed it prior to generating plots. From the dataset itself, it is removed together with PCA outliers in [Notebook 2: PCA and Ancestry Analyses](https://github.com/atgu/hgdp_tgp/blob/master/tutorials/nb2.ipynb). \n",
    "\n",
    "[Back to Index](#Index)"
   ]
  },
  {
   "cell_type": "code",
   "execution_count": null,
   "id": "3b0c0b2a",
   "metadata": {},
   "outputs": [],
   "source": [
    "# Remove CHMI_CHMI3_WGS2 from pre-QC dataset \n",
    "# Already removed from post-QC mt during QC \n",
    "pre_qc_mt = pre_qc_mt.filter_cols(pre_qc_mt.s == 'CHMI_CHMI3_WGS2', keep = False)\n",
    "\n",
    "# Subset to column fields only \n",
    "pre_qc_cols = pre_qc_mt.cols()\n",
    "post_qc_cols = post_qc_mt.cols()"
   ]
  },
  {
   "cell_type": "markdown",
   "id": "5ae7b692",
   "metadata": {},
   "source": [
    "- Write out column fields to make plotting faster (took ~55min to run) \n",
    "\n",
    "```python3\n",
    "    pre_qc_cols.write(pre_qc_cols_path, overwrite = False) # pre-QC\n",
    "    post_qc_cols.write(post_qc_cols_path, overwrite = False) # post-QC\n",
    "``` \n",
    "\n",
    "[Back to Index](#Index)"
   ]
  },
  {
   "cell_type": "markdown",
   "id": "39089053",
   "metadata": {},
   "source": [
    "### *Number of SNVs*\n",
    "\n",
    "Function to plot a histogram of number of SNVs for each individual within each genetic region\n",
    "\n",
    "[Back to Index](#Index)"
   ]
  },
  {
   "cell_type": "code",
   "execution_count": 13,
   "id": "ef024e1d",
   "metadata": {},
   "outputs": [],
   "source": [
    "def plot_snvs(ht):\n",
    "    p = ggplot(ht, aes(x = ht.sample_qc.n_snp, fill = ht.hgdp_tgp_meta.genetic_region)) + \\\n",
    "        geom_histogram(min_val = 4000000, max_val = 7000000, bins = 200, position=\"identity\", alpha = .6) + \\\n",
    "        xlab(\"Number of SNVs\")+ \\\n",
    "        coord_cartesian(ylim = (0,200)) +\\\n",
    "        scale_fill_manual(values=cont_colors) # use the colors specified above\n",
    "    \n",
    "    return p"
   ]
  },
  {
   "cell_type": "markdown",
   "id": "dffce164",
   "metadata": {},
   "source": [
    "### *Mean Coverage* \n",
    "\n",
    "Function to plot a density plot of mean coverage per individual\n",
    "\n",
    "[Back to Index](#Index)"
   ]
  },
  {
   "cell_type": "code",
   "execution_count": 14,
   "id": "8a142b43",
   "metadata": {},
   "outputs": [],
   "source": [
    "def plot_mean_cov(ht):\n",
    "    p = ggplot(ht, aes(x = ht.bam_metrics.mean_coverage)) + \\\n",
    "        geom_density(aes(fill = ht.hgdp_tgp_meta.project), alpha = .7) + \\\n",
    "        xlab(\"Coverage (x)\")\n",
    "    \n",
    "    return p"
   ]
  },
  {
   "cell_type": "markdown",
   "id": "d1d6c237",
   "metadata": {},
   "source": [
    "### *Freemix*\n",
    "\n",
    "[Back to Index](#Index)"
   ]
  },
  {
   "cell_type": "markdown",
   "id": "af2c49da",
   "metadata": {},
   "source": [
    "Function to plot freemix colored by genetic region  "
   ]
  },
  {
   "cell_type": "code",
   "execution_count": 15,
   "id": "40984a14",
   "metadata": {},
   "outputs": [],
   "source": [
    "def plot_freemix_reg(ht, n_bins):\n",
    "    p = ggplot(ht, hl.ggplot.aes(x = ht.bam_metrics.freemix)) +\\\n",
    "        geom_histogram(aes(fill=ht.hgdp_tgp_meta.genetic_region), bins = n_bins) + \\\n",
    "        scale_y_log10(\"Count (log scale)\") +\\\n",
    "        xlab(\"Freemix\") + \\\n",
    "        coord_cartesian(xlim = (0,.5))+\\\n",
    "        scale_fill_manual(values = cont_colors)\n",
    "    \n",
    "    return p"
   ]
  },
  {
   "cell_type": "markdown",
   "id": "07a78c44",
   "metadata": {},
   "source": [
    "Function to plot freemix colored by project/study"
   ]
  },
  {
   "cell_type": "code",
   "execution_count": 16,
   "id": "f272e5fd",
   "metadata": {},
   "outputs": [],
   "source": [
    "def plot_freemix_proj(ht):\n",
    "    p = ggplot(ht, aes(x = ht.bam_metrics.freemix)) +\\\n",
    "        geom_histogram(aes(fill=ht.hgdp_tgp_meta.project), position=\"identity\", bins = 70, alpha = .5) + \\\n",
    "        scale_y_log10(\"Count (log scale)\") +\\\n",
    "        xlab(\"Freemix\") + \\\n",
    "        hl.ggplot.coord_cartesian(xlim = (0,.5))\n",
    "    \n",
    "    return p"
   ]
  },
  {
   "cell_type": "markdown",
   "id": "4efd10b0",
   "metadata": {},
   "source": [
    "### *Heterozygosity*\n",
    "\n",
    "[Back to Index](#Index)"
   ]
  },
  {
   "cell_type": "markdown",
   "id": "c16e0c5a",
   "metadata": {},
   "source": [
    "#### Expected Heterozygosity\n",
    "\n",
    "Within each subpopulation, we first compute allele frequencies of each variant separately. Using this information, we then compute the expected heterozygosity by using the sum of variance (sum of <code>2pq</code>) across all alleles within each population. This is done for both pre and post-QC using the following function. \n",
    "\n",
    "[Back to Index](#Index)"
   ]
  },
  {
   "cell_type": "code",
   "execution_count": 17,
   "id": "8705c76b",
   "metadata": {},
   "outputs": [],
   "source": [
    "# Set up function to compute expected heterozygosity\n",
    "def run_exp_het(mt, ht):\n",
    "    # Specify the equation for AF\n",
    "    af_equation = hl.agg.mean(mt.GT.n_alt_alleles()/2)\n",
    "\n",
    "    # Apply the equation specified above to aggregate AF over populations\n",
    "    # pop_labels = mt.meta_updated.population # grab the column with labels\n",
    "    exp_het = mt.group_cols_by(mt.meta_updated.population).aggregate(pop_af = af_equation)\n",
    "\n",
    "    # Set the equation for expected heterozygosity (2*p*(1-p)) for each population\n",
    "    var = 2*(exp_het.pop_af)*(1-exp_het.pop_af)\n",
    "\n",
    "    # Annotate column named \"pop_var\" with the equation specified above\n",
    "    exp_het = exp_het.annotate_cols(pop_var = hl.agg.filter(~hl.is_nan(exp_het.pop_af), # ignore NAs\n",
    "                                                            hl.agg.sum(var)))\n",
    "\n",
    "    # Grab only the column fields of the mt \n",
    "    exp_het_cols = exp_het.cols()\n",
    "\n",
    "    # Identify genetic regions \n",
    "    grouped = ht.group_by(ht.meta_updated.population).aggregate(\n",
    "        region = hl.agg.collect_as_set(ht.hgdp_tgp_meta.genetic_region))\n",
    "    grouped = grouped.key_by(grouped.population)\n",
    "\n",
    "    # Annotate colors\n",
    "    exp_het_cols = exp_het_cols.annotate(region = grouped[exp_het_cols.population])\n",
    "\n",
    "    # Change set of colors to string\n",
    "    exp_het_cols = exp_het_cols.annotate(region = hl.str(exp_het_cols.region.region)[2:5])\n",
    "\n",
    "    # Sort by values\n",
    "    exp_het_cols = exp_het_cols.order_by(hl.desc(exp_het_cols.pop_var))\n",
    "    \n",
    "    return exp_het_cols"
   ]
  },
  {
   "cell_type": "code",
   "execution_count": null,
   "id": "c6de6944",
   "metadata": {},
   "outputs": [],
   "source": [
    "post_qc_mt.show()"
   ]
  },
  {
   "cell_type": "code",
   "execution_count": null,
   "id": "4b540f40",
   "metadata": {},
   "outputs": [],
   "source": [
    "# Compute expected heterozygosity \n",
    "\n",
    "# pre-QC\n",
    "exp_het_pre_qc_cols = run_exp_het(pre_qc_mt, pre_qc_cols)\n",
    "\n",
    "# post-QC\n",
    "exp_het_post_qc_cols = run_exp_het(post_qc_mt, post_qc_cols)"
   ]
  },
  {
   "cell_type": "markdown",
   "id": "cdeccf39",
   "metadata": {},
   "source": [
    "- Write out file to make plotting faster \n",
    "\n",
    "```python3\n",
    "exp_het_pre_qc_cols.write(exp_het_pre_qc_path, overwrite = False) # pre-QC - took 12min to run\n",
    "exp_het_post_qc_cols.write(exp_het_post_qc_path, overwrite = False) # post-QC - took 8min to run \n",
    "\n",
    "```\n",
    "\n",
    "[Back to Index](#Index)"
   ]
  },
  {
   "cell_type": "markdown",
   "id": "a28cbc6b",
   "metadata": {},
   "source": [
    "Function to plot expected heterozygosity"
   ]
  },
  {
   "cell_type": "code",
   "execution_count": 20,
   "id": "c0a4b177",
   "metadata": {},
   "outputs": [],
   "source": [
    "def plot_exp_het(ht):\n",
    "    ht = ht.filter(hl.is_missing(ht.region), keep = False) # keep only non-NA individuals\n",
    "    p = ggplot(ht, aes(x=ht.population, y=ht.pop_var)) + \\\n",
    "        geom_point(aes(color=ht.region)) +\\\n",
    "        ylab(\"Expected number of heterozygous sites\") +\\\n",
    "        scale_x_discrete(breaks=list(range(ht.count()))) +\\\n",
    "        scale_color_manual(values=cont_colors)+\\\n",
    "        labs(color = 'Population')\n",
    "    return p"
   ]
  },
  {
   "cell_type": "markdown",
   "id": "7e4a1f73",
   "metadata": {},
   "source": [
    "#### Actual Heterozygosity\n",
    "\n",
    "To compute the number of heterozygous sites, we calculate the average <code>n_hets</code> for every locus within each subpopulation through an aggregator as we group by population. Then, we average the number of heterozygous sites across all loci within each population to result in one final number of average <code>n_hets</code>. This is done for both pre and post-QC using the following function.\n",
    "\n",
    "[Back to Index](#Index)"
   ]
  },
  {
   "cell_type": "code",
   "execution_count": 22,
   "id": "c3db3a25",
   "metadata": {},
   "outputs": [],
   "source": [
    "# Set up function to compute actual heterozygosity\n",
    "def run_act_het(mt, ht):\n",
    "\n",
    "    # Run Hail sample QC\n",
    "    mt = hl.sample_qc(mt)\n",
    "\n",
    "    # Define n_het\n",
    "    n_het = mt.sample_qc.n_het\n",
    "\n",
    "    # Compute the mean number of heterozygous sites for each locus and subpopulation\n",
    "    act_het = mt.group_cols_by(mt.meta_updated.population).aggregate(mean_hets = hl.agg.mean(n_het))\n",
    "\n",
    "    # Average mean hets values across all loci for each population\n",
    "    act_het = act_het.annotate_cols(mean_hets_final = hl.agg.filter(~hl.is_nan(act_het.mean_hets), hl.agg.mean(act_het.mean_hets)))\n",
    "\n",
    "    # Subset to column fields only\n",
    "    act_het_cols = act_het.cols()\n",
    "\n",
    "    # Identify genetic regions\n",
    "    grouped = ht.group_by(ht.meta_updated.population).aggregate(\n",
    "        region = hl.agg.collect_as_set(ht.hgdp_tgp_meta.genetic_region))\n",
    "    grouped = grouped.key_by(grouped.population)\n",
    "\n",
    "    # Annotate colors\n",
    "    act_het_cols = act_het_cols.annotate(region = grouped[act_het_cols.population])\n",
    "\n",
    "    # Change set of colors to string\n",
    "    act_het_cols = act_het_cols.annotate(region = hl.str(act_het_cols.region.region)[2:5])\n",
    "\n",
    "    # Sort by values\n",
    "    act_het_cols = act_het_cols.order_by(hl.desc(act_het_cols.mean_hets_final))\n",
    "\n",
    "    return act_het_cols"
   ]
  },
  {
   "cell_type": "code",
   "execution_count": null,
   "id": "faa71edf",
   "metadata": {},
   "outputs": [],
   "source": [
    "# Compute actual heterozygosity \n",
    "\n",
    "# pre-QC\n",
    "act_het_pre_qc_cols = run_act_het(pre_qc_mt, pre_qc_cols)\n",
    "\n",
    "# post-QC\n",
    "act_het_post_qc_cols = run_act_het(post_qc_mt, post_qc_cols)"
   ]
  },
  {
   "cell_type": "markdown",
   "id": "5f5fc2c5",
   "metadata": {},
   "source": [
    "- Write out file to make plotting faster \n",
    "\n",
    "```python3\n",
    "act_het_pre_qc_cols.write(act_het_pre_qc_path, overwrite = False) # pre-QC - took 22min to run\n",
    "act_het_post_qc_cols.write(act_het_post_qc_path, overwrite = False) # post-QC - took 8min to run\n",
    "```\n",
    "\n",
    "[Back to Index](#Index)"
   ]
  },
  {
   "cell_type": "markdown",
   "id": "9e5ecf9c",
   "metadata": {},
   "source": [
    "Function to plot actual heterozygosity"
   ]
  },
  {
   "cell_type": "code",
   "execution_count": 26,
   "id": "3769f385",
   "metadata": {},
   "outputs": [],
   "source": [
    "def plot_act_het(ht):\n",
    "    ht = ht.filter(hl.is_missing(ht.region), keep = False) # keep only non-NA individuals\n",
    "    p = ggplot(ht, hl.ggplot.aes(x=ht.population, y=ht.mean_hets_final, color=ht.region)) + \\\n",
    "        geom_point() +\\\n",
    "        ylab(\"Number of heterozygous sites\") +\\\n",
    "        scale_x_discrete(breaks=list(range(ht.count()))) +\\\n",
    "        scale_color_manual(values=cont_colors)+\\\n",
    "        labs(color = 'Population')\n",
    "    return p "
   ]
  },
  {
   "cell_type": "markdown",
   "id": "475228f4",
   "metadata": {},
   "source": [
    "# 4. Plots"
   ]
  },
  {
   "cell_type": "markdown",
   "id": "ecb7f202",
   "metadata": {},
   "source": [
    "\n",
    "The following plots show the dataset before and after running sample, variant and genotype QC filters.\n",
    "\n",
    "**Make sure to run all code chunks in section 3 above for this section to run without any errors.**\n",
    "\n",
    "**Reading in already-written out files makes plotting faster.**\n",
    "\n",
    "[Back to Index](#Index)"
   ]
  },
  {
   "cell_type": "code",
   "execution_count": null,
   "id": "62d75517",
   "metadata": {},
   "outputs": [],
   "source": [
    "# Read in the column fields of the pre and post-QC mt for plotting (makes plotting faster)\n",
    "pre_qc_cols = hl.read_table(pre_qc_cols_path)\n",
    "post_qc_cols = hl.read_table(post_qc_cols_path)"
   ]
  },
  {
   "cell_type": "markdown",
   "id": "4e2a2660",
   "metadata": {},
   "source": [
    "## 4.a. Number of SNVs\n",
    "\n",
    "Histogram of number of SNVs for each individual within each genetic region\n",
    "\n",
    "[Back to Index](#Index)"
   ]
  },
  {
   "cell_type": "code",
   "execution_count": 27,
   "id": "dcb36a42",
   "metadata": {},
   "outputs": [
    {
     "name": "stderr",
     "output_type": "stream",
     "text": [
      "[Stage 12:======================================>              (128 + 48) / 176]\r"
     ]
    },
    {
     "data": {
      "text/html": [
       "<iframe\n",
       "    scrolling=\"no\"\n",
       "    width=\"100%\"\n",
       "    height=\"545px\"\n",
       "    src=\"iframe_figures/figure_27.html\"\n",
       "    frameborder=\"0\"\n",
       "    allowfullscreen\n",
       "></iframe>\n"
      ]
     },
     "metadata": {},
     "output_type": "display_data"
    },
    {
     "name": "stderr",
     "output_type": "stream",
     "text": [
      "[Stage 17:=======================================>             (128 + 44) / 172]\r"
     ]
    },
    {
     "data": {
      "text/html": [
       "<iframe\n",
       "    scrolling=\"no\"\n",
       "    width=\"100%\"\n",
       "    height=\"545px\"\n",
       "    src=\"iframe_figures/figure_8.html\"\n",
       "    frameborder=\"0\"\n",
       "    allowfullscreen\n",
       "></iframe>\n"
      ]
     },
     "metadata": {},
     "output_type": "display_data"
    }
   ],
   "source": [
    "# Pre-QC\n",
    "pre_snvs = plot_snvs(pre_qc_cols)\n",
    "pre_snvs = pre_snvs + ggtitle(\"Number of SNVs, Pre-QC\")\n",
    "pre_snvs.show()\n",
    "\n",
    "# Post-QC\n",
    "post_snvs = plot_snvs(post_qc_cols)\n",
    "post_snvs = post_snvs + ggtitle(\"Number of SNVs, Post-QC\")\n",
    "post_snvs.show()"
   ]
  },
  {
   "cell_type": "markdown",
   "id": "a56f74ec",
   "metadata": {},
   "source": [
    "## 4.b. Mean Coverage \n",
    "\n",
    "Density plot of mean coverage per individual\n",
    "\n",
    "[Back to Index](#Index)"
   ]
  },
  {
   "cell_type": "code",
   "execution_count": null,
   "id": "3a432845",
   "metadata": {},
   "outputs": [],
   "source": [
    "# Pre-QC\n",
    "pre_mean_cov = plot_mean_cov(pre_qc_cols)\n",
    "pre_mean_cov = pre_mean_cov + ggtitle(\"Mean coverage, Pre-QC\")\n",
    "pre_mean_cov.show()\n",
    "\n",
    "# Post-QC\n",
    "post_mean_cov = plot_mean_cov(post_qc_cols)\n",
    "post_mean_cov = post_mean_cov + ggtitle(\"Mean coverage, Post-QC\")\n",
    "post_mean_cov.show()"
   ]
  },
  {
   "cell_type": "markdown",
   "id": "1798e620",
   "metadata": {},
   "source": [
    "## 4.c. Freemix \n",
    "\n",
    "[Back to Index](#Index)"
   ]
  },
  {
   "cell_type": "markdown",
   "id": "6dc1db7e",
   "metadata": {},
   "source": [
    "Plot freemix colored by genetic region"
   ]
  },
  {
   "cell_type": "code",
   "execution_count": null,
   "id": "6fb47cb5",
   "metadata": {},
   "outputs": [],
   "source": [
    "# Pre-QC with 140 bins\n",
    "pre_freemix_reg = plot_freemix_reg(pre_qc_cols, 140)\n",
    "pre_freemix_reg = pre_freemix_reg + ggtitle(\"Bam metrics: Freemix by genetic region, Pre-QC\")\n",
    "pre_freemix_reg.show()\n",
    "\n",
    "# Post-QC with 70 bins \n",
    "post_freemix_reg = plot_freemix_reg(post_qc_cols, 70)\n",
    "post_freemix_reg = post_freemix_reg + ggtitle(\"Bam metrics: Freemix by genetic region, Post-QC\")\n",
    "post_freemix_reg.show()"
   ]
  },
  {
   "cell_type": "markdown",
   "id": "28431835",
   "metadata": {},
   "source": [
    "Plot freemix colored by project/study"
   ]
  },
  {
   "cell_type": "code",
   "execution_count": null,
   "id": "b9346e9d",
   "metadata": {},
   "outputs": [],
   "source": [
    "# Pre-QC\n",
    "pre_freemix_proj = plot_freemix_proj(pre_qc_cols)\n",
    "pre_freemix_proj = pre_freemix_proj + hl.ggplot.ggtitle(\"Bam metrics: Freemix by project, Pre-QC\")\n",
    "pre_freemix_proj.show()\n",
    "\n",
    "# Post-QC\n",
    "post_freemix_proj = plot_freemix_proj(post_qc_cols)\n",
    "post_freemix_proj = post_freemix_proj + hl.ggplot.ggtitle(\"Bam metrics: Freemix by project, Post-QC\")\n",
    "post_freemix_proj.show()"
   ]
  },
  {
   "cell_type": "markdown",
   "id": "a944d587",
   "metadata": {},
   "source": [
    "## 4.d. Heterozygosity \n",
    "\n",
    "[Back to Index](#Index)"
   ]
  },
  {
   "cell_type": "markdown",
   "id": "3d640d00",
   "metadata": {},
   "source": [
    "### 4.d.1. Expected Heterozygosity\n",
    "\n",
    "[Back to Index](#Index)"
   ]
  },
  {
   "cell_type": "code",
   "execution_count": 16,
   "id": "b1acd569",
   "metadata": {},
   "outputs": [],
   "source": [
    "# Read in the pre and post-QC files which are specifically generated for expected heterozygosity plots\n",
    "exp_het_pre_qc_cols = hl.read_table(exp_het_pre_qc_path) # pre-QC\n",
    "exp_het_post_qc_cols = hl.read_table(exp_het_post_qc_path) # post-QC"
   ]
  },
  {
   "cell_type": "code",
   "execution_count": null,
   "id": "7fc2c778",
   "metadata": {},
   "outputs": [],
   "source": [
    "# Pre-QC\n",
    "pre_exp_het = plot_exp_het(exp_het_pre_qc_cols)\n",
    "pre_exp_het = pre_exp_het + ggtitle(\"Expected heterozygosity, Pre-QC\")\n",
    "pre_exp_het.show()\n",
    "\n",
    "# Post-QC\n",
    "post_exp_het = plot_exp_het(exp_het_post_qc_cols)\n",
    "post_exp_het = post_exp_het + ggtitle(\"Expected heterozygosity, Post-QC\")\n",
    "post_exp_het.show()"
   ]
  },
  {
   "cell_type": "markdown",
   "id": "24b9a593",
   "metadata": {},
   "source": [
    "### 4.d.2. Actual Heterozygosity\n",
    "\n",
    "[Back to Index](#Index)"
   ]
  },
  {
   "cell_type": "code",
   "execution_count": 18,
   "id": "cd850801",
   "metadata": {},
   "outputs": [],
   "source": [
    "# Read in the pre and post-QC files which are specifically generated for actual heterozygosity plots\n",
    "act_het_pre_qc_cols = hl.read_table(act_het_pre_qc_path) # pre-QC\n",
    "act_het_post_qc_cols = hl.read_table(act_het_post_qc_path) # post-QC"
   ]
  },
  {
   "cell_type": "code",
   "execution_count": null,
   "id": "f05695d6",
   "metadata": {},
   "outputs": [],
   "source": [
    "# Pre-QC\n",
    "pre_act_het = plot_act_het(act_het_pre_qc_cols)\n",
    "pre_act_het = pre_act_het + ggtitle(\"Actual heterozygosity, Pre-QC\")\n",
    "pre_act_het.show()\n",
    "\n",
    "# Post-QC\n",
    "post_act_het = plot_act_het(act_het_post_qc_cols)\n",
    "post_act_het = post_act_het + ggtitle(\"Actual heterozygosity, Post-QC\")\n",
    "post_act_het.show()"
   ]
  },
  {
   "cell_type": "markdown",
   "id": "08a8d388",
   "metadata": {},
   "source": [
    "### 4.d.3. Difference Between Expected and Actual Heterozygosity (Post-QC only)\n",
    "\n",
    "Check for stratification/artifacts \n",
    "\n",
    "[Back to Index](#Index)"
   ]
  },
  {
   "cell_type": "code",
   "execution_count": null,
   "id": "ea2d4b66",
   "metadata": {},
   "outputs": [],
   "source": [
    "exp_het_post_qc_cols = exp_het_post_qc_cols.key_by(exp_het_post_qc_cols.region)\n",
    "act_het_post_qc_cols = act_het_post_qc_cols.key_by(act_het_post_qc_cols.region)\n",
    "\n",
    "diff = act_het_post_qc_cols.annotate(expected = exp_het_post_qc_cols[act_het_post_qc_cols.region].pop_var)\n",
    "\n",
    "diff = diff.annotate(obs_min_ex = diff.mean_hets_final - diff.expected)\n",
    "diff = diff.filter(hl.is_missing(diff.region), keep = False) # keep only non-NA individuals\n",
    "\n",
    "\n",
    "# Make plot\n",
    "p = ggplot(diff, aes(x=diff.population, \n",
    "                     y=diff.obs_min_ex,\n",
    "                     color=diff.region)) + \\\n",
    "    geom_point() +\\\n",
    "    ylab(\"Number of Heterozygous sites\") +\\\n",
    "    ggtitle(\"Difference in # of heterozygous sites between Actual & Expected, Post-QC\") +\\\n",
    "    scale_x_discrete(breaks=list(range(diff.count()))) +\\\n",
    "    scale_color_manual(values=cont_colors)+\\\n",
    "    labs(color = 'Population')\n",
    "\n",
    "# Show plot\n",
    "p.show()"
   ]
  },
  {
   "cell_type": "markdown",
   "id": "13e0756f",
   "metadata": {},
   "source": [
    "### 4.e. Site Frequency Spectrum\n",
    "\n",
    "[Back to Index](#Index)"
   ]
  },
  {
   "cell_type": "code",
   "execution_count": null,
   "id": "9c57e393",
   "metadata": {},
   "outputs": [],
   "source": [
    "# This code chunk takes ~14min to run\n",
    "\n",
    "# Perform Hail's variant QC \n",
    "post_qc_rows = hl.variant_qc(post_qc_mt).rows() \n",
    "\n",
    "# Aggregate site frequency data for plotting\n",
    "sfs_post_qc = post_qc_rows.aggregate(hl.agg.hist(post_qc_rows.variant_qc.AF[1], 0,1,250))"
   ]
  },
  {
   "cell_type": "markdown",
   "id": "fb373280",
   "metadata": {},
   "source": [
    "- Write out the site frequency spectrum struct into a text file to make plotting faster \n",
    "\n",
    "```python3\n",
    "with hl.hadoop_open(sfs_post_qc_path, 'w') as f:\n",
    "    f.write(str(dict(sfs_post_qc)))\n",
    "```\n",
    "\n",
    "[Back to Index](#Index)"
   ]
  },
  {
   "cell_type": "code",
   "execution_count": 21,
   "id": "ab3500e8",
   "metadata": {},
   "outputs": [
    {
     "data": {
      "text/html": [
       "\n",
       "\n",
       "\n",
       "\n",
       "\n",
       "\n",
       "  <div class=\"bk-root\" id=\"45ca5ac0-451f-4dfa-8ced-62bed353bf06\" data-root-id=\"1002\"></div>\n"
      ]
     },
     "metadata": {},
     "output_type": "display_data"
    },
    {
     "data": {
      "application/javascript": [
       "(function(root) {\n",
       "  function embed_document(root) {\n",
       "    \n",
       "  var docs_json = {\"068b8cc6-5cbc-4c50-8c1d-95c8dfc316b5\":{\"roots\":{\"references\":[{\"attributes\":{\"background_fill_color\":{\"value\":\"#EEEEEE\"},\"below\":[{\"id\":\"1012\",\"type\":\"LinearAxis\"}],\"center\":[{\"id\":\"1016\",\"type\":\"Grid\"},{\"id\":\"1021\",\"type\":\"Grid\"},{\"id\":\"1046\",\"type\":\"Legend\"}],\"left\":[{\"id\":\"1017\",\"type\":\"LinearAxis\"}],\"renderers\":[{\"id\":\"1038\",\"type\":\"GlyphRenderer\"}],\"title\":null,\"toolbar\":{\"id\":\"1028\",\"type\":\"Toolbar\"},\"x_range\":{\"id\":\"1004\",\"type\":\"Range1d\"},\"x_scale\":{\"id\":\"1008\",\"type\":\"LinearScale\"},\"y_range\":{\"id\":\"1006\",\"type\":\"DataRange1d\"},\"y_scale\":{\"id\":\"1010\",\"type\":\"LinearScale\"}},\"id\":\"1002\",\"subtype\":\"Figure\",\"type\":\"Plot\"},{\"attributes\":{\"callback\":null,\"data\":{\"left\":[0.0,0.004,0.008,0.012,0.016,0.02,0.024,0.028,0.032,0.036000000000000004,0.04,0.044,0.048,0.052000000000000005,0.056,0.06,0.064,0.068,0.07200000000000001,0.076,0.08,0.084,0.088,0.092,0.096,0.1,0.10400000000000001,0.108,0.112,0.116,0.12,0.124,0.128,0.132,0.136,0.14,0.14400000000000002,0.148,0.152,0.156,0.16,0.164,0.168,0.17200000000000001,0.176,0.18,0.184,0.188,0.192,0.196,0.2,0.20400000000000001,0.20800000000000002,0.212,0.216,0.22,0.224,0.228,0.232,0.23600000000000002,0.24,0.244,0.248,0.252,0.256,0.26,0.264,0.268,0.272,0.276,0.28,0.28400000000000003,0.28800000000000003,0.292,0.296,0.3,0.304,0.308,0.312,0.316,0.32,0.324,0.328,0.332,0.336,0.34,0.34400000000000003,0.34800000000000003,0.352,0.356,0.36,0.364,0.368,0.372,0.376,0.38,0.384,0.388,0.392,0.396,0.4,0.404,0.40800000000000003,0.41200000000000003,0.41600000000000004,0.42,0.424,0.428,0.432,0.436,0.44,0.444,0.448,0.452,0.456,0.46,0.464,0.468,0.47200000000000003,0.47600000000000003,0.48,0.484,0.488,0.492,0.496,0.5,0.504,0.508,0.512,0.516,0.52,0.524,0.528,0.532,0.536,0.54,0.544,0.548,0.552,0.556,0.56,0.5640000000000001,0.5680000000000001,0.5720000000000001,0.5760000000000001,0.58,0.584,0.588,0.592,0.596,0.6,0.604,0.608,0.612,0.616,0.62,0.624,0.628,0.632,0.636,0.64,0.644,0.648,0.652,0.656,0.66,0.664,0.668,0.672,0.676,0.68,0.684,0.6880000000000001,0.6920000000000001,0.6960000000000001,0.7000000000000001,0.704,0.708,0.712,0.716,0.72,0.724,0.728,0.732,0.736,0.74,0.744,0.748,0.752,0.756,0.76,0.764,0.768,0.772,0.776,0.78,0.784,0.788,0.792,0.796,0.8,0.804,0.808,0.812,0.8160000000000001,0.8200000000000001,0.8240000000000001,0.8280000000000001,0.8320000000000001,0.836,0.84,0.844,0.848,0.852,0.856,0.86,0.864,0.868,0.872,0.876,0.88,0.884,0.888,0.892,0.896,0.9,0.904,0.908,0.912,0.916,0.92,0.924,0.928,0.932,0.936,0.9400000000000001,0.9440000000000001,0.9480000000000001,0.9520000000000001,0.9560000000000001,0.96,0.964,0.968,0.972,0.976,0.98,0.984,0.988,0.992,0.996],\"right\":[0.004,0.008,0.012,0.016,0.02,0.024,0.028,0.032,0.036000000000000004,0.04,0.044,0.048,0.052000000000000005,0.056,0.06,0.064,0.068,0.07200000000000001,0.076,0.08,0.084,0.088,0.092,0.096,0.1,0.10400000000000001,0.108,0.112,0.116,0.12,0.124,0.128,0.132,0.136,0.14,0.14400000000000002,0.148,0.152,0.156,0.16,0.164,0.168,0.17200000000000001,0.176,0.18,0.184,0.188,0.192,0.196,0.2,0.20400000000000001,0.20800000000000002,0.212,0.216,0.22,0.224,0.228,0.232,0.23600000000000002,0.24,0.244,0.248,0.252,0.256,0.26,0.264,0.268,0.272,0.276,0.28,0.28400000000000003,0.28800000000000003,0.292,0.296,0.3,0.304,0.308,0.312,0.316,0.32,0.324,0.328,0.332,0.336,0.34,0.34400000000000003,0.34800000000000003,0.352,0.356,0.36,0.364,0.368,0.372,0.376,0.38,0.384,0.388,0.392,0.396,0.4,0.404,0.40800000000000003,0.41200000000000003,0.41600000000000004,0.42,0.424,0.428,0.432,0.436,0.44,0.444,0.448,0.452,0.456,0.46,0.464,0.468,0.47200000000000003,0.47600000000000003,0.48,0.484,0.488,0.492,0.496,0.5,0.504,0.508,0.512,0.516,0.52,0.524,0.528,0.532,0.536,0.54,0.544,0.548,0.552,0.556,0.56,0.5640000000000001,0.5680000000000001,0.5720000000000001,0.5760000000000001,0.58,0.584,0.588,0.592,0.596,0.6,0.604,0.608,0.612,0.616,0.62,0.624,0.628,0.632,0.636,0.64,0.644,0.648,0.652,0.656,0.66,0.664,0.668,0.672,0.676,0.68,0.684,0.6880000000000001,0.6920000000000001,0.6960000000000001,0.7000000000000001,0.704,0.708,0.712,0.716,0.72,0.724,0.728,0.732,0.736,0.74,0.744,0.748,0.752,0.756,0.76,0.764,0.768,0.772,0.776,0.78,0.784,0.788,0.792,0.796,0.8,0.804,0.808,0.812,0.8160000000000001,0.8200000000000001,0.8240000000000001,0.8280000000000001,0.8320000000000001,0.836,0.84,0.844,0.848,0.852,0.856,0.86,0.864,0.868,0.872,0.876,0.88,0.884,0.888,0.892,0.896,0.9,0.904,0.908,0.912,0.916,0.92,0.924,0.928,0.932,0.936,0.9400000000000001,0.9440000000000001,0.9480000000000001,0.9520000000000001,0.9560000000000001,0.96,0.964,0.968,0.972,0.976,0.98,0.984,0.988,0.992,0.996,1.0],\"top\":[8.130834867447907,6.73515631658991,6.422538627505436,6.221545940821342,6.064951157494823,5.940683795528375,5.841944810163231,5.749522979768783,5.67200174809739,5.602761895140642,5.548413988554237,5.4899373966567095,5.44358839075426,5.400099156232502,5.36131600517537,5.329163887224392,5.294481657671051,5.263368546010274,5.240841175745469,5.212605711260013,5.196026879288802,5.178018140919157,5.164537243060306,5.13458187776977,5.111030514247737,5.106394903130426,5.085654419510589,5.068568021176177,5.0563063317905526,5.042169771456053,5.023807836648862,5.021962068932429,5.009268130706258,4.985278240743891,4.97805263012357,4.966803234338218,4.9564949893598635,4.943088721057631,4.9283036573220675,4.9237930177264575,4.908281227981833,4.912631174360361,4.892406291981895,4.883661435153618,4.879560331891949,4.867873896276253,4.855301045100613,4.844551726339273,4.842540595690268,4.8356335071547285,4.830896478855896,4.824769961012482,4.81664556922991,4.811239772753289,4.797205197435356,4.780677274433368,4.7776370309401806,4.771756462774961,4.762220775672432,4.758533422237287,4.749512155594427,4.740591620780847,4.74237944299809,4.729852957445686,4.725976934826094,4.720605776726121,4.70963454740572,4.700478725478213,4.694982301079004,4.690346727493063,4.676510710282553,4.678609416558926,4.671191362340761,4.670820819694757,4.6589267449862755,4.6562707350808115,4.650851265176372,4.647461214323804,4.647001327594049,4.634930473325185,4.62576503395,4.626371167309944,4.623238949929992,4.61559237384182,4.610606937465461,4.606080264581204,4.593230668783007,4.590786123860879,4.585235063365776,4.591298394964111,4.581767669168663,4.578364107879965,4.574123907335984,4.554137705701171,4.551437798518334,4.553020861135004,4.544030817513511,4.53822173223912,4.5334161417958905,4.532295644094248,4.538875222525595,4.519604884930404,4.513497270248867,4.520902558987522,4.512844426120799,4.497275286357995,4.496403750481394,4.509229412797779,4.479503329652423,4.4792441009448245,4.491473755370671,4.4961544186506615,4.485139138464265,4.472858796225402,4.471188994136752,4.472083283223357,4.464116794444044,4.454677205220384,4.447064958266483,4.443169075796116,4.436719078227576,4.431106328181145,4.427063943715794,4.425354857665515,4.404885008214813,4.45006426282523,4.410068291238362,4.416207661190231,4.408528268276236,4.402948829344405,4.398217868234877,4.411333448612566,4.396199347095736,4.390281408229663,4.381313673105942,4.399708325240421,4.387674516274786,4.374455052409963,4.373537231192786,4.363104066074635,4.362048717714715,4.366441636156833,4.355259905527379,4.365731271401678,4.3593800878746345,4.356331860011421,4.355029856357047,4.339471317029283,4.330251389917909,4.327297617895854,4.347212886404863,4.338615838490599,4.32778790759305,4.321121832708528,4.311096625999569,4.299180310745347,4.299202117603422,4.294928933093567,4.309438524641924,4.297344614534694,4.286770736714056,4.294003025725598,4.291124546612215,4.280555608006274,4.287712175443486,4.279142006491639,4.279963367458737,4.272189831450441,4.278158896244664,4.268086304447384,4.2682736719666154,4.2690690833279765,4.2545239086857,4.258110255321881,4.2577505514152545,4.249858472417371,4.244178125022544,4.242764977752096,4.248757722627297,4.24206911233894,4.23345302204072,4.230806428468883,4.231112629056352,4.213836388325274,4.2081456345353505,4.199096656305616,4.203658299456246,4.208495102429837,4.209085869762748,4.21648259735246,4.205366787866476,4.200467449950159,4.213916009644023,4.1783149348321595,4.185797047446199,4.189995339964319,4.183839037056421,4.200905191684992,4.1836399042213515,4.175772659601535,4.181214548490415,4.162415036106447,4.156609718165699,4.152869054217012,4.162683865877892,4.165066178389756,4.143982292223977,4.155487862141282,4.158694118177861,4.124895304988493,4.135132651376775,4.126618375522951,4.138397442990546,4.1230345297535065,4.13424087594659,4.110623375233331,4.115876664268445,4.12862540487595,4.110657037558031,4.0948203803548,4.087781417809542,4.090187487575421,4.078601800355392,4.074340942365077,4.077367905284157,4.0776585490841315,4.068482713761754,4.069038764986071,4.0893751608160995,4.057742155828753,4.058843414668761,4.07700432679335,4.089092255842719,4.084003990608029,4.069963937850763,4.085718595165402,4.081491328525699,4.108835527934605,4.1079219001862795,4.150265086978703,4.154941044730327,4.1786316753932535,4.232411578420846,4.229784197840634,4.2964238485037765,4.333950804387247,4.361708953238316,4.39031676847084,4.466036775232349,4.79773829078546]},\"selected\":{\"id\":\"1055\",\"type\":\"Selection\"},\"selection_policy\":{\"id\":\"1054\",\"type\":\"UnionRenderers\"}},\"id\":\"1035\",\"type\":\"ColumnDataSource\"},{\"attributes\":{\"axis_label\":\"Frequency of major allele at site\",\"formatter\":{\"id\":\"1041\",\"type\":\"BasicTickFormatter\"},\"ticker\":{\"id\":\"1013\",\"type\":\"BasicTicker\"}},\"id\":\"1012\",\"type\":\"LinearAxis\"},{\"attributes\":{},\"id\":\"1025\",\"type\":\"SaveTool\"},{\"attributes\":{},\"id\":\"1010\",\"type\":\"LinearScale\"},{\"attributes\":{\"items\":[{\"id\":\"1047\",\"type\":\"LegendItem\"}]},\"id\":\"1046\",\"type\":\"Legend\"},{\"attributes\":{\"bottom\":{\"value\":0},\"fill_alpha\":{\"value\":0.1},\"fill_color\":{\"value\":\"#1f77b4\"},\"left\":{\"field\":\"left\"},\"line_alpha\":{\"value\":0.1},\"line_color\":{\"value\":\"#1f77b4\"},\"right\":{\"field\":\"right\"},\"top\":{\"field\":\"top\"}},\"id\":\"1037\",\"type\":\"Quad\"},{\"attributes\":{\"overlay\":{\"id\":\"1045\",\"type\":\"BoxAnnotation\"}},\"id\":\"1024\",\"type\":\"BoxZoomTool\"},{\"attributes\":{},\"id\":\"1018\",\"type\":\"BasicTicker\"},{\"attributes\":{\"data_source\":{\"id\":\"1035\",\"type\":\"ColumnDataSource\"},\"glyph\":{\"id\":\"1036\",\"type\":\"Quad\"},\"hover_glyph\":null,\"muted_glyph\":null,\"nonselection_glyph\":{\"id\":\"1037\",\"type\":\"Quad\"},\"selection_glyph\":null,\"view\":{\"id\":\"1039\",\"type\":\"CDSView\"}},\"id\":\"1038\",\"type\":\"GlyphRenderer\"},{\"attributes\":{},\"id\":\"1027\",\"type\":\"HelpTool\"},{\"attributes\":{\"axis_label\":\"log10 Frequency\",\"formatter\":{\"id\":\"1043\",\"type\":\"BasicTickFormatter\"},\"ticker\":{\"id\":\"1018\",\"type\":\"BasicTicker\"}},\"id\":\"1017\",\"type\":\"LinearAxis\"},{\"attributes\":{},\"id\":\"1041\",\"type\":\"BasicTickFormatter\"},{\"attributes\":{\"source\":{\"id\":\"1035\",\"type\":\"ColumnDataSource\"}},\"id\":\"1039\",\"type\":\"CDSView\"},{\"attributes\":{\"bottom\":{\"value\":0},\"fill_color\":{\"value\":\"#1f77b4\"},\"left\":{\"field\":\"left\"},\"right\":{\"field\":\"right\"},\"top\":{\"field\":\"top\"}},\"id\":\"1036\",\"type\":\"Quad\"},{\"attributes\":{\"ticker\":{\"id\":\"1013\",\"type\":\"BasicTicker\"}},\"id\":\"1016\",\"type\":\"Grid\"},{\"attributes\":{},\"id\":\"1022\",\"type\":\"PanTool\"},{\"attributes\":{\"callback\":null},\"id\":\"1006\",\"type\":\"DataRange1d\"},{\"attributes\":{},\"id\":\"1055\",\"type\":\"Selection\"},{\"attributes\":{\"active_drag\":\"auto\",\"active_inspect\":\"auto\",\"active_multi\":null,\"active_scroll\":\"auto\",\"active_tap\":\"auto\",\"tools\":[{\"id\":\"1022\",\"type\":\"PanTool\"},{\"id\":\"1023\",\"type\":\"WheelZoomTool\"},{\"id\":\"1024\",\"type\":\"BoxZoomTool\"},{\"id\":\"1025\",\"type\":\"SaveTool\"},{\"id\":\"1026\",\"type\":\"ResetTool\"},{\"id\":\"1027\",\"type\":\"HelpTool\"}]},\"id\":\"1028\",\"type\":\"Toolbar\"},{\"attributes\":{},\"id\":\"1054\",\"type\":\"UnionRenderers\"},{\"attributes\":{\"dimension\":1,\"ticker\":{\"id\":\"1018\",\"type\":\"BasicTicker\"}},\"id\":\"1021\",\"type\":\"Grid\"},{\"attributes\":{},\"id\":\"1043\",\"type\":\"BasicTickFormatter\"},{\"attributes\":{},\"id\":\"1023\",\"type\":\"WheelZoomTool\"},{\"attributes\":{},\"id\":\"1026\",\"type\":\"ResetTool\"},{\"attributes\":{\"callback\":null,\"end\":1.05,\"start\":-0.05},\"id\":\"1004\",\"type\":\"Range1d\"},{\"attributes\":{\"label\":{\"value\":\"Frequency of major allele at site\"},\"renderers\":[{\"id\":\"1038\",\"type\":\"GlyphRenderer\"}]},\"id\":\"1047\",\"type\":\"LegendItem\"},{\"attributes\":{},\"id\":\"1013\",\"type\":\"BasicTicker\"},{\"attributes\":{},\"id\":\"1008\",\"type\":\"LinearScale\"},{\"attributes\":{\"bottom_units\":\"screen\",\"fill_alpha\":{\"value\":0.5},\"fill_color\":{\"value\":\"lightgrey\"},\"left_units\":\"screen\",\"level\":\"overlay\",\"line_alpha\":{\"value\":1.0},\"line_color\":{\"value\":\"black\"},\"line_dash\":[4,4],\"line_width\":{\"value\":2},\"render_mode\":\"css\",\"right_units\":\"screen\",\"top_units\":\"screen\"},\"id\":\"1045\",\"type\":\"BoxAnnotation\"}],\"root_ids\":[\"1002\"]},\"title\":\"Bokeh Application\",\"version\":\"1.4.0\"}};\n",
       "  var render_items = [{\"docid\":\"068b8cc6-5cbc-4c50-8c1d-95c8dfc316b5\",\"roots\":{\"1002\":\"45ca5ac0-451f-4dfa-8ced-62bed353bf06\"}}];\n",
       "  root.Bokeh.embed.embed_items_notebook(docs_json, render_items);\n",
       "\n",
       "  }\n",
       "  if (root.Bokeh !== undefined) {\n",
       "    embed_document(root);\n",
       "  } else {\n",
       "    var attempts = 0;\n",
       "    var timer = setInterval(function(root) {\n",
       "      if (root.Bokeh !== undefined) {\n",
       "        clearInterval(timer);\n",
       "        embed_document(root);\n",
       "      } else {\n",
       "        attempts++;\n",
       "        if (attempts > 100) {\n",
       "          clearInterval(timer);\n",
       "          console.log(\"Bokeh: ERROR: Unable to run BokehJS code because BokehJS library is missing\");\n",
       "        }\n",
       "      }\n",
       "    }, 10, root)\n",
       "  }\n",
       "})(window);"
      ],
      "application/vnd.bokehjs_exec.v0+json": ""
     },
     "metadata": {
      "application/vnd.bokehjs_exec.v0+json": {
       "id": "1002"
      }
     },
     "output_type": "display_data"
    }
   ],
   "source": [
    "# Read in site frequency spectrum table \n",
    "sfs_post_qc = hl.hadoop_open(sfs_post_qc_path)\n",
    "sfs_dict = eval(sfs_post_qc.read())\n",
    "sfs_struct = hl.Struct(**sfs_dict)\n",
    "\n",
    "# Plot site frequency spectrum histogram using hl.plot\n",
    "# Similar to the other plots, this can also be plotted using ggplot. However, it does take more time to run\n",
    "sfs_p = hl.plot.histogram(sfs_struct, log = True, legend = \"Frequency of major allele at site\")\n",
    "show(sfs_p)"
   ]
  },
  {
   "cell_type": "markdown",
   "id": "2eda4917",
   "metadata": {
    "pycharm": {
     "name": "#%% md\n"
    }
   },
   "source": [
    "# 5. Investigating gnomAD Sample Filters\n",
    "   \n",
    "The sample QC above already considers this (<code>mt = pre_qc_mt.filter_cols(~pre_qc_mt.gnomad_sample_filters.hard_filtered)</code>) but here we show how we retrieved samples that were wholley removed by gnomAD sample QC filters before having a field that indicated which samples were wrongly removed - <code>pre_qc_mt.gnomad_sample_filters.hard_filtered</code>. For validity check you can run <code>pre_qc_mt.aggregate_cols(hl.agg.counter(pre_qc_mt.gnomad_sample_filters.hard_filtered))</code> and the values of <code>TRUE</code> will be 31 - equal to the number of samples that were correctly removed. \n",
    "\n",
    "9 out of the 28 gnomAD sample filters were dropping huge numbers of ancestrally diverse individuals (mostly African (`AFR`) and Oceanian (`OCE`) populations): \n",
    "- Biaka\n",
    "- Mbuti\n",
    "- Bougainville\n",
    "- PapuanSepik\n",
    "- PapuanHighlands\n",
    "- San\n",
    "\n",
    "The filters rely on gnomAD’s ancestry principal component analysis (PCA) which captures genetic variance across the larger gnomAD callset, and smaller, under-represented groups such as those in the HGDP+1kGP callset can appear erroneously as outliers. Here we explore which original gnomAD sample QC filters removed entire populations.\n",
    "\n",
    "\n",
    "<br>\n",
    "<details><summary> For more information on Hail methods and expressions click <u><span style=\"color:blue\">here</span></u>.</summary> \n",
    "<ul>\n",
    "<li><a href=\"https://hail.is/docs/0.2/hail.MatrixTable.html#hail.MatrixTable.filter_cols\"> More on  <i> filter_cols() </i></a></li>\n",
    "\n",
    "<li><a href=\"https://hail.is/docs/0.2/hail.expr.SetExpression.html#hail.expr.SetExpression.difference\"> More on  <i> difference() </i></a></li>\n",
    "\n",
    "<li><a href=\" https://hail.is/docs/0.2/hail.expr.CollectionExpression.html#hail.expr.CollectionExpression.length\"> More on  <i> length() </i></a></li>\n",
    "    </ul>\n",
    "</details>\n",
    "\n",
    "[Back to Index](#Index)"
   ]
  },
  {
   "cell_type": "code",
   "execution_count": 36,
   "id": "086ed56d",
   "metadata": {
    "pycharm": {
     "name": "#%%\n"
    }
   },
   "outputs": [
    {
     "name": "stdout",
     "output_type": "stream",
     "text": [
      "Num of samples at the beginning = 4150\n",
      "Num of samples after retrieving wrongly removed ones = 4119\n",
      "Samples removed correctly by gnomAD filters = 31\n"
     ]
    }
   ],
   "source": [
    "# Put the gnomAD QC filters in a set - gnomAD has them in a column field\n",
    "bad_sample_filters = set(pre_qc_mt.gnomad_sample_qc_metric_outlier_cutoffs.qc_metrics_stats) \n",
    "\n",
    "# Keep samples that passed all gnomAD QC filters OR only failed the filters that removed populations wholly\n",
    "mt_filt = pre_qc_mt.filter_cols(pre_qc_mt['gnomad_sample_filters']['qc_metrics_filters'].difference(bad_sample_filters).length() == 0)\n",
    "\n",
    "# How many samples were removed by the gnomAD QC filters correctly? \n",
    "print('Num of samples at the beginning = ' + str(pre_qc_mt.count()[1])) \n",
    "print('Num of samples after retrieving wrongly removed ones = ' + str(mt_filt.count()[1])) \n",
    "print('Samples removed correctly by gnomAD filters = ' + str(pre_qc_mt.count()[1] - mt_filt.count()[1])) "
   ]
  },
  {
   "cell_type": "markdown",
   "id": "5ec11f4a",
   "metadata": {},
   "source": [
    "## 5.a. Plotting Results of gnomAD Sample Filter Investigation\n",
    "\n",
    "Here we only show <code>fail_n_snp_residual</code> as an example but the code can be implemented on any of the other gnomAD sample filters. \n",
    "\n",
    "[Back to Index](#Index)"
   ]
  },
  {
   "cell_type": "code",
   "execution_count": null,
   "id": "10919134",
   "metadata": {},
   "outputs": [],
   "source": [
    "# Read in gnomAD's HGDP+1kGP metadata without imputing field types from the file\n",
    "metadata = hl.import_table(metadata_path)"
   ]
  },
  {
   "cell_type": "code",
   "execution_count": null,
   "id": "cdca72cb",
   "metadata": {},
   "outputs": [],
   "source": [
    "# Add gnomAD's sample filters into a list \n",
    "sample_filters = [name for name in list(metadata.row) if 'sample_filters.' in name][:-1]\n",
    "\n",
    "# Within each population, count the total number of samples and the number of samples that failed each filter   \n",
    "filters_ht = (metadata.group_by(metadata['population'])\n",
    "               .aggregate(n = hl.agg.count(),\n",
    "                          **{col: hl.agg.count_where(metadata[col] == 'true') for col in sample_filters}))   \n",
    "\n",
    "# Add a column to indicate the 6 populations that were filtered out by gnomAD's sample fiters \n",
    "filtered_samples = hl.set([\"Biaka\", \"Mbuti\", \"Bougainville\", \"PapuanSepik\", \"PapuanHighlands\", \"San\"])\n",
    "filters_ht = filters_ht.annotate(failed_gnomAD = hl.if_else(filtered_samples.contains(filters_ht['population']), 'TRUE', 'FALSE'))\n",
    "\n",
    "# Grab only \"sample_filters.fail_n_snp_residual\" column \n",
    "filters_ht = filters_ht.key_by() # unkey table first so the population column isn't duplicated \n",
    "n_snp_resid = filters_ht.select(population = filters_ht['population'],\n",
    "                       num_samples = filters_ht['n'],\n",
    "                       fail_n_snp_resid = filters_ht['sample_filters.fail_n_snp_residual'],\n",
    "                       fail_gnomAD = filters_ht['failed_gnomAD'])\n",
    "\n",
    "# Calculate the ratio between the number of samples that failed and the total number of samples in the population \n",
    "n_snp_resid = n_snp_resid.annotate(fail_ratio = n_snp_resid.fail_n_snp_resid/n_snp_resid.num_samples)\n",
    "\n",
    "# Generate a scatter plot of ratios across all populations colored by gnomAD failure \n",
    "p = ggplot(n_snp_resid, aes(x=n_snp_resid.population, \n",
    "                            y=n_snp_resid.fail_ratio, \n",
    "                            color=n_snp_resid.fail_gnomAD)) +\\\n",
    "    geom_point() +\\\n",
    "    ylab(\"Ratio of failed samples/total samples\") + \\\n",
    "    ggtitle(\"Failure of gnomAD's n_snp_residual sample filter (population-level)\") +\\\n",
    "    labs(color = 'Failed gnomAD filters') +\\\n",
    "    scale_x_discrete(breaks=list(range(n_snp_resid.count())))\n",
    "\n",
    "# Show Plot\n",
    "p.show()"
   ]
  },
  {
   "cell_type": "markdown",
   "id": "9ddb27c4",
   "metadata": {},
   "source": [
    "### NOTE: The gnomAD sample filters were first investigated and plotted (with better resolution) using R. Click [here](https://github.com/atgu/hgdp_tgp/blob/master/figure_generation/obtain_failed_samples_plot_ratio.Rmd) for more information."
   ]
  },
  {
   "cell_type": "markdown",
   "id": "d1ec09cb",
   "metadata": {},
   "source": [
    "[Back to Index](#Index)"
   ]
  }
 ],
 "metadata": {
  "kernelspec": {
   "display_name": "Python 3 (ipykernel)",
   "language": "python",
   "name": "python3"
  },
  "language_info": {
   "codemirror_mode": {
    "name": "ipython",
    "version": 3
   },
   "file_extension": ".py",
   "mimetype": "text/x-python",
   "name": "python",
   "nbconvert_exporter": "python",
   "pygments_lexer": "ipython3",
   "version": "3.9.16"
  },
  "vscode": {
   "interpreter": {
    "hash": "31f2aee4e71d21fbe5cf8b01ff0e069b9275f58929596ceb00d14d90e3e16cd6"
   }
  }
 },
 "nbformat": 4,
 "nbformat_minor": 5
}

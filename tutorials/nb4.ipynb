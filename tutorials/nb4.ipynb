{
 "cells": [
  {
   "cell_type": "markdown",
   "id": "883541a1",
   "metadata": {},
   "source": [
    "Notebook 4: filtering to common independent SNPS, relatedness, PCA, joint calling with new dataset, applying RF on new dataset. Analyses that need to be run:\n",
    "1. Work with Lindo:\n",
    "    - Joint calling with GGV, sample QC \n",
    "    - Use gnomAD RF (subset to variants in RF model) - doesn’t need VQSR \n",
    "    - Intersect HGDP+1kG+GGV, build a RF with 1kG+ HGDP, apply it to a new dataset (GGV) - doesn’t need VQSR \n",
    "2. PCA plots - Ally \n",
    "    - already implemented in R, just need to plot it in Hail"
   ]
  },
  {
   "cell_type": "markdown",
   "id": "3e751fa4",
   "metadata": {},
   "source": [
    "## Index\n",
    "- [General Overview](#General-Overview)\n",
    "- [Variant Filter and LD Pruning](#Variant-Filter-and-LD-Pruning)\n",
    "- [Run PC Relate](#Run-PC-Relate)\n",
    "- [PCA](#PCA)\n",
    "    - [Function to Run PCA on Unrelated Individuals](#Function-to-Run-PCA-on-Unrelated-Individuals)\n",
    "    - [Function to Project Related Individuals](#Function-to-Project-Related-Individuals)\n",
    "    - [Global PCA](#Global-PCA)\n",
    "    - [Subcontinental PCA](#Subcontinental-PCA)\n",
    "- [Outlier Removal](#Outlier-Removal)\n",
    "- [Rerun PCA](#Rerun-PCA)\n",
    "    - [Global PCA](#Global-PCA)\n",
    "    - [Subcontinental PCA](#Subcontinental-PCA)\n",
    "- [Write Out Matrix Table](#Write-Out-Matrix-Table)"
   ]
  },
  {
   "cell_type": "markdown",
   "id": "d0b27ceb",
   "metadata": {},
   "source": [
    "# General Overview \n",
    "The purpose of this notebook is to further filter the matrix table obtained from notebook 3, run relatedness and PCA, joint call with new data set, and apply RF. It contains steps on how to:\n",
    "\n",
    "- Read in the a matrix table and run Hail common variant statistics  \n",
    "- Filter using allele frequency and call rate\n",
    "- Run LD pruning \n",
    "- Run relatedness and separate related and unrelated individuals\n",
    "- Calculate PC scores and project samples on to a PC space  \n",
    "- Run global and Subcontinental PCA and plot them \n",
    "- Remove PCA outliers (filter using sample IDs)\n",
    "- Joint call with a new data set\n",
    "- Build/apply RF\n",
    "- Write out a matrix table \n",
    "\n",
    "Author: Mary T. Yohannes"
   ]
  },
  {
   "cell_type": "code",
   "execution_count": null,
   "id": "f8a0d454",
   "metadata": {},
   "outputs": [],
   "source": [
    "# import hail\n",
    "import hail as hl"
   ]
  },
  {
   "cell_type": "markdown",
   "id": "1f3ce4cb",
   "metadata": {},
   "source": [
    "# Variant Filter and LD Pruning"
   ]
  },
  {
   "cell_type": "code",
   "execution_count": null,
   "id": "0f1ed437",
   "metadata": {},
   "outputs": [],
   "source": [
    "# read-in the right intermediate file \n",
    "mt_filt = hl.read_matrix_table('gs://hgdp-1kg/hgdp_tgp/intermediate_files/pre_running_varqc.mt')"
   ]
  },
  {
   "cell_type": "code",
   "execution_count": null,
   "id": "e18d90c0",
   "metadata": {},
   "outputs": [],
   "source": [
    "# run common variant statistics (quality control metrics) - more info https://hail.is/docs/0.2/methods/genetics.html#hail.methods.variant_qc  \n",
    "mt_var = hl.variant_qc(mt_filt) "
   ]
  },
  {
   "cell_type": "code",
   "execution_count": null,
   "id": "92ea1d25",
   "metadata": {},
   "outputs": [],
   "source": [
    "# trying to get down to ~100-300k SNPs - might need to change values later accordingly  \n",
    "# AF: allele freq and call_rate: fraction of calls neither missing nor filtered\n",
    "# mt.variant_qc.AF[0] is referring to the first element of the list under that column field  \n",
    "mt_var_filt = mt_var.filter_rows((mt_var.variant_qc.AF[0] > 0.05) & (mt_var.variant_qc.AF[0] < 0.95) & (mt_var.variant_qc.call_rate > 0.999))"
   ]
  },
  {
   "cell_type": "code",
   "execution_count": null,
   "id": "93c8454e",
   "metadata": {},
   "outputs": [],
   "source": [
    "# ~20min to run \n",
    "mt_var_filt.count() # started with 155648020 snps and ended up with 6787034 snps "
   ]
  },
  {
   "cell_type": "code",
   "execution_count": null,
   "id": "d0d46bb7",
   "metadata": {},
   "outputs": [],
   "source": [
    "# LD pruning (~113 min to run) \n",
    "pruned = hl.ld_prune(mt_var_filt.GT, r2=0.1, bp_window_size=500000) "
   ]
  },
  {
   "cell_type": "code",
   "execution_count": null,
   "id": "7a216906",
   "metadata": {},
   "outputs": [],
   "source": [
    "# subset data even further   \n",
    "mt_var_pru_filt = mt_var_filt.filter_rows(hl.is_defined(pruned[mt_var_filt.row_key])) "
   ]
  },
  {
   "cell_type": "code",
   "execution_count": null,
   "id": "b10bd390",
   "metadata": {},
   "outputs": [],
   "source": [
    "# write out the output as a temp file - make sure to save the file on this step b/c the pruning step takes a while to run\n",
    "# saving took ~23 min \n",
    "mt_var_pru_filt.write('gs://hgdp-1kg/hgdp_tgp/intermediate_files/filtered_n_pruned_output_updated.mt', overwrite=False)"
   ]
  },
  {
   "cell_type": "code",
   "execution_count": null,
   "id": "b02cfb77",
   "metadata": {},
   "outputs": [],
   "source": [
    "# after saving the pruned file to the cloud, reading it back in for the next steps \n",
    "# Duplicate file - gs://hgdp-1kg/filtered_n_pruned_output_updated.mt\n",
    "mt_var_pru_filt = hl.read_matrix_table('gs://hgdp-1kg/hgdp_tgp/intermediate_files/filtered_n_pruned_output_updated.mt') "
   ]
  },
  {
   "cell_type": "code",
   "execution_count": null,
   "id": "2a2baaf7",
   "metadata": {},
   "outputs": [],
   "source": [
    "# how many snps are left after filtering and prunning? \n",
    "mt_var_pru_filt.count() # 248,634 snps \n",
    "# between ~100-300k so we proceed without any value adjustments  "
   ]
  },
  {
   "cell_type": "markdown",
   "id": "da79ad5f",
   "metadata": {},
   "source": [
    "# Run PC Relate   "
   ]
  },
  {
   "cell_type": "code",
   "execution_count": null,
   "id": "ada3c31c",
   "metadata": {},
   "outputs": [],
   "source": [
    "# compute relatedness estimates between individuals using a variant of the PC-Relate method (https://hail.is/docs/0.2/methods/relatedness.html#hail.methods.pc_relate)\n",
    "# only compute the kinship statistic using:\n",
    "# a minimum minor allele frequency filter of 0.05, \n",
    "# excluding sample-pairs with kinship less than 0.05, and \n",
    "# 20 principal components to control for population structure \n",
    "# a hail table is produced (~4min to run) \n",
    "relatedness_ht = hl.pc_relate(mt_var_pru_filt.GT, min_individual_maf=0.05, min_kinship=0.05, statistics='kin', k=20).key_by()"
   ]
  },
  {
   "cell_type": "code",
   "execution_count": null,
   "id": "707b59bb",
   "metadata": {},
   "outputs": [],
   "source": [
    "# identify related individuals in pairs to remove - returns a list of sample IDs (~2hr & 22 min to run) - previous one took ~13min\n",
    "related_samples_to_remove = hl.maximal_independent_set(relatedness_ht.i, relatedness_ht.j, False)"
   ]
  },
  {
   "cell_type": "code",
   "execution_count": null,
   "id": "9f0412c3",
   "metadata": {},
   "outputs": [],
   "source": [
    "# using sample IDs (col_key of the matrixTable), pick out the samples that are not found in 'related_samples_to_remove' (had 'False' values for the comparison)  \n",
    "# subset the mt to those only \n",
    "mt_unrel = mt_var_pru_filt.filter_cols(hl.is_defined(related_samples_to_remove[mt_var_pru_filt.col_key]), keep=False) \n",
    "\n",
    "# do the same as above but this time for the samples with 'True' values (found in 'related_samples_to_remove')  \n",
    "mt_rel = mt_var_pru_filt.filter_cols(hl.is_defined(related_samples_to_remove[mt_var_pru_filt.col_key]), keep=True) "
   ]
  },
  {
   "cell_type": "code",
   "execution_count": null,
   "id": "d5211280",
   "metadata": {},
   "outputs": [],
   "source": [
    "# write out mts of unrelated and related samples on to the cloud \n",
    "\n",
    "# unrelated mt\n",
    "mt_unrel.write('gs://hgdp-1kg/hgdp_tgp/unrel_updated.mt', overwrite=False) \n",
    "\n",
    "# related mt \n",
    "mt_rel.write('gs://hgdp-1kg/hgdp_tgp/rel_updated.mt', overwrite=False) "
   ]
  },
  {
   "cell_type": "code",
   "execution_count": null,
   "id": "395b51c3",
   "metadata": {},
   "outputs": [],
   "source": [
    "# read saved mts back in \n",
    "\n",
    "# unrelated mt\n",
    "mt_unrel = hl.read_matrix_table('gs://hgdp-1kg/hgdp_tgp/unrel_updated.mt') \n",
    "\n",
    "# related mt \n",
    "mt_rel = hl.read_matrix_table('gs://hgdp-1kg/hgdp_tgp/rel_updated.mt') "
   ]
  },
  {
   "cell_type": "markdown",
   "id": "a0e1cf64",
   "metadata": {},
   "source": [
    "# PCA"
   ]
  },
  {
   "cell_type": "markdown",
   "id": "bb91a403",
   "metadata": {},
   "source": [
    "### Function to Run PCA on Unrelated Individuals"
   ]
  },
  {
   "cell_type": "code",
   "execution_count": null,
   "id": "d3e67dad",
   "metadata": {},
   "outputs": [],
   "source": [
    "def run_pca(mt: hl.MatrixTable, reg_name:str, out_prefix: str, overwrite: bool = False):\n",
    "    \"\"\"\n",
    "    Runs PCA on a dataset\n",
    "    :param mt: dataset to run PCA on\n",
    "    :param reg_name: region name for saving output purposes\n",
    "    :param out_prefix: path for where to save the outputs\n",
    "    :return:\n",
    "    \"\"\"\n",
    "\n",
    "    pca_evals, pca_scores, pca_loadings = hl.hwe_normalized_pca(mt.GT, k=20, compute_loadings=True)\n",
    "    pca_mt = mt.annotate_rows(pca_af=hl.agg.mean(mt.GT.n_alt_alleles()) / 2)\n",
    "    pca_loadings = pca_loadings.annotate(pca_af=pca_mt.rows()[pca_loadings.key].pca_af)\n",
    "    pca_scores = pca_scores.transmute(**{f'PC{i}': pca_scores.scores[i - 1] for i in range(1, 21)})\n",
    "    \n",
    "    pca_scores.export(out_prefix + reg_name + '_scores.txt.bgz')  # save individual-level genetic region PCs\n",
    "    pca_loadings.write(out_prefix + reg_name + '_loadings.ht', overwrite)  # save PCA loadings"
   ]
  },
  {
   "cell_type": "markdown",
   "id": "df2e8585",
   "metadata": {},
   "source": [
    "### Function to Project Related Individuals"
   ]
  },
  {
   "cell_type": "code",
   "execution_count": null,
   "id": "02813e26",
   "metadata": {},
   "outputs": [],
   "source": [
    "#if running on GCS, need to add \"--packages gnomad\" when starting a cluster in order for the import to work  \n",
    "from gnomad.sample_qc.ancestry import *\n",
    "\n",
    "def project_individuals(pca_loadings, project_mt, reg_name:str, out_prefix: str, overwrite: bool = False):\n",
    "    \"\"\"\n",
    "    Project samples into predefined PCA space\n",
    "    :param pca_loadings: existing PCA space - unrelated samples \n",
    "    :param project_mt: matrixTable of data to project - related samples \n",
    "    :param reg_name: region name for saving output purposes\n",
    "    :param project_prefix: path for where to save PCA projection outputs\n",
    "    :return:\n",
    "    \"\"\"\n",
    "    ht_projections = pc_project(project_mt, pca_loadings)  \n",
    "    ht_projections = ht_projections.transmute(**{f'PC{i}': ht_projections.scores[i - 1] for i in range(1, 21)}) \n",
    "    ht_projections.export(out_prefix + reg_name + '_projected_scores.txt.bgz') # save output \n",
    "    #return ht_projections # return to user  "
   ]
  },
  {
   "cell_type": "markdown",
   "id": "08e71871",
   "metadata": {},
   "source": [
    "## Global PCA"
   ]
  },
  {
   "cell_type": "code",
   "execution_count": null,
   "id": "971a3492",
   "metadata": {},
   "outputs": [],
   "source": [
    "# run 'run_pca' function for global pca   \n",
    "run_pca(mt_unrel, 'global', 'gs://hgdp-1kg/hgdp_tgp/pca_preoutlier/', False)"
   ]
  },
  {
   "cell_type": "code",
   "execution_count": null,
   "id": "3910b6ec",
   "metadata": {},
   "outputs": [],
   "source": [
    "# run 'project_relateds' function for global pca \n",
    "loadings = hl.read_table('gs://hgdp-1kg/hgdp_tgp/pca_preoutlier/global_loadings.ht') # read in the PCA loadings that were obtained from 'run_pca' function \n",
    "project_individuals(loadings, mt_rel, 'global', 'gs://hgdp-1kg/hgdp_tgp/pca_preoutlier/', False) "
   ]
  },
  {
   "cell_type": "markdown",
   "id": "6c2e0217",
   "metadata": {},
   "source": [
    "## Subcontinental PCA "
   ]
  },
  {
   "cell_type": "code",
   "execution_count": null,
   "id": "d93e3459",
   "metadata": {},
   "outputs": [],
   "source": [
    "# obtain a list of the genetic regions in the dataset - used the unrelated dataset since it had more samples \n",
    "regions = mt_unrel['hgdp_tgp_meta']['Genetic']['region'].collect()\n",
    "regions = list(dict.fromkeys(regions)) # 7 regions - ['EUR', 'AFR', 'AMR', 'EAS', 'CSA', 'OCE', 'MID']"
   ]
  },
  {
   "cell_type": "code",
   "execution_count": null,
   "id": "dc065062",
   "metadata": {},
   "outputs": [],
   "source": [
    "# set argument values \n",
    "subcont_pca_prefix = 'gs://hgdp-1kg/hgdp_tgp/pca_preoutlier/subcont_pca/subcont_pca_' # path for outputs \n",
    "overwrite = False "
   ]
  },
  {
   "cell_type": "code",
   "execution_count": null,
   "id": "4a77e78b",
   "metadata": {
    "scrolled": true
   },
   "outputs": [],
   "source": [
    "# run 'run_pca' function for each region - nb freezes after printing the log for AMR  \n",
    "# don't restart it - just let it run and you can follow the progress through the SparkUI\n",
    "# even after all the outputs are produced and the run is complete, the code chunk will seem as if it's still running (* in the left square bracket)\n",
    "# can check if the run is complete by either checking the output files in the Google cloud bucket or using the SparkUI \n",
    "# after checking the desired outputs are generated and the run is done, exit the current nb, open a new session, and proceed to the next step\n",
    "# ~27min to run \n",
    "for i in regions:\n",
    "    subcont_unrel = mt_unrel.filter_cols(mt_unrel['hgdp_tgp_meta']['Genetic']['region'] == i)  # filter the unrelateds per region\n",
    "    run_pca(subcont_unrel, i, subcont_pca_prefix, overwrite)"
   ]
  },
  {
   "cell_type": "code",
   "execution_count": null,
   "id": "f5be197a",
   "metadata": {},
   "outputs": [],
   "source": [
    "# run 'project_relateds' function for each region (~2min to run)\n",
    "for i in regions:\n",
    "    loadings = hl.read_table(subcont_pca_prefix + i + '_loadings.ht') # for each region, read in the PCA loadings that were obtained from 'run_pca' function \n",
    "    subcont_rel = mt_rel.filter_cols(mt_rel['hgdp_tgp_meta']['Genetic']['region'] == i)  # filter the relateds per region \n",
    "    project_individuals(loadings, subcont_rel, i, subcont_pca_prefix, overwrite) "
   ]
  },
  {
   "cell_type": "markdown",
   "id": "f6c1783b",
   "metadata": {},
   "source": [
    "# Outlier Removal\n",
    "#### After plotting the PCs, 22 outliers that need to be removed were identified (the table below will be completed for the final report)\n",
    "\n",
    "\n",
    "| s | Genetic region | Population | Note |\n",
    "| --- | --- | --- | -- |\n",
    "| NA20314 | AFR | ASW | Clusters with AMR in global PCA | \n",
    "| NA20299 | - | - | - |\n",
    "| NA20274 | - | - | - |\n",
    "| HG01880 | - | - | - |\n",
    "| HG01881 | - | - | - |\n",
    "| HG01628 | - | - | - |\n",
    "| HG01629 | - | - | - |\n",
    "| HG01630 | - | - | - |\n",
    "| HG01694 | - | - | - |\n",
    "| HG01696 | - | - | - |\n",
    "| HGDP00013 | - | - | - |\n",
    "| HGDP00150 | - | - | - |\n",
    "| HGDP00029 | - | - | - |\n",
    "| HGDP01298 | - | - | - |\n",
    "| HGDP00130 | CSA | Makrani | Closer to AFR than most CSA |\n",
    "| HGDP01303 | - | - | - |\n",
    "| HGDP01300 | - | - | - |\n",
    "| HGDP00621 | MID | Bedouin | Closer to AFR than most MID |\n",
    "| HGDP01270 | MID | Mozabite | Closer to AFR than most MID |\n",
    "| HGDP01271 | MID | Mozabite | Closer to AFR than most MID |\n",
    "| HGDP00057 | - | - | - | \n",
    "| LP6005443-DNA_B02 | - | - | - |\n",
    "\n",
    "\n",
    "\n",
    "\n",
    "\n",
    "\n",
    "\n",
    "\n",
    "\n",
    "\n",
    "\n",
    "\n",
    "\n",
    "\n",
    "\n",
    "\n",
    "\n",
    "\n",
    "\t\n"
   ]
  },
  {
   "cell_type": "code",
   "execution_count": null,
   "id": "b0fe4ec1",
   "metadata": {},
   "outputs": [],
   "source": [
    "# read back in the unrelated and related mts to remove outliers and run pca \n",
    "# bucket was moved to another project so different paths are used from where these mts were previously saved \n",
    "mt_unrel_unfiltered = hl.read_matrix_table('gs://hgdp-1kg/hgdp_tgp/unrel_updated.mt') # unrelated mt\n",
    "mt_rel_unfiltered = hl.read_matrix_table('gs://hgdp-1kg/hgdp_tgp/rel_updated.mt') # related mt"
   ]
  },
  {
   "cell_type": "code",
   "execution_count": null,
   "id": "a032a4cc",
   "metadata": {},
   "outputs": [],
   "source": [
    "# read the outliers file into a list\n",
    "with hl.utils.hadoop_open('gs://hgdp-1kg/hgdp_tgp/pca_outliers_v2.txt') as file: \n",
    "    outliers = [line.rstrip('\\n') for line in file]\n",
    "    \n",
    "# capture and broadcast the list as an expression\n",
    "outliers_list = hl.literal(outliers)"
   ]
  },
  {
   "cell_type": "code",
   "execution_count": null,
   "id": "0a16ba7b",
   "metadata": {},
   "outputs": [],
   "source": [
    "# remove 22 outliers \n",
    "mt_unrel = mt_unrel_unfiltered.filter_cols(~outliers_list.contains(mt_unrel_unfiltered['s']))\n",
    "mt_rel = mt_rel_unfiltered.filter_cols(~outliers_list.contains(mt_rel_unfiltered['s']))"
   ]
  },
  {
   "cell_type": "code",
   "execution_count": null,
   "id": "6eb8e44d",
   "metadata": {},
   "outputs": [],
   "source": [
    "# sanity check \n",
    "print('Unrelated: Before outlier removal ' + str(mt_unrel_unfiltered.count()[1]) + ' | After outlier removal ' + str(mt_unrel.count()[1]))\n",
    "print('Related: Before outlier removal: ' + str(mt_rel_unfiltered.count()[1]) + ' | After outlier removal ' + str(mt_rel.count()[1]))\n",
    "\n",
    "num_outliers = (mt_unrel_unfiltered.count()[1] - mt_unrel.count()[1]) + (mt_rel_unfiltered.count()[1] - mt_rel.count()[1])\n",
    "print('Total samples removed = ' + str(num_outliers))"
   ]
  },
  {
   "cell_type": "markdown",
   "id": "62322cc3",
   "metadata": {},
   "source": [
    "# Rerun PCA\n",
    "### - The following steps are similar to the ones prior to removing the outliers except now we are using the updated unrelated & related dataset and a new GCS bucket path to save the outputs "
   ]
  },
  {
   "cell_type": "markdown",
   "id": "fbe1f80e",
   "metadata": {},
   "source": [
    "## Global PCA"
   ]
  },
  {
   "cell_type": "code",
   "execution_count": null,
   "id": "b9e2a20e",
   "metadata": {},
   "outputs": [],
   "source": [
    "# run 'run_pca' function for global pca - make sure the code block for the function (located above) is run prior to running this    \n",
    "run_pca(mt_unrel, 'global', 'gs://hgdp-1kg/hgdp_tgp/pca_postoutlier/', False)"
   ]
  },
  {
   "cell_type": "code",
   "execution_count": null,
   "id": "011fdf8a",
   "metadata": {},
   "outputs": [],
   "source": [
    "# run 'project_relateds' function for global pca - make sure the code block for the function (located above) is run prior to running this    \n",
    "loadings = hl.read_table('gs://hgdp-1kg/hgdp_tgp/pca_postoutlier/global_loadings.ht') # read in the PCA loadings that were obtained from 'run_pca' function \n",
    "project_individuals(loadings, mt_rel, 'global', 'gs://hgdp-1kg/hgdp_tgp/pca_postoutlier/', False) "
   ]
  },
  {
   "cell_type": "markdown",
   "id": "d2b6183d",
   "metadata": {},
   "source": [
    "## Subcontinental PCA"
   ]
  },
  {
   "cell_type": "code",
   "execution_count": null,
   "id": "918c633f",
   "metadata": {},
   "outputs": [],
   "source": [
    "# obtain a list of the genetic regions in the dataset - used the unrelated dataset since it had more samples  \n",
    "regions = mt_unrel['hgdp_tgp_meta']['Genetic']['region'].collect()\n",
    "regions = list(dict.fromkeys(regions)) # 7 regions - ['EUR', 'AFR', 'AMR', 'EAS', 'CSA', 'OCE', 'MID']"
   ]
  },
  {
   "cell_type": "code",
   "execution_count": null,
   "id": "87de6da8",
   "metadata": {},
   "outputs": [],
   "source": [
    "# set argument values \n",
    "subcont_pca_prefix = 'gs://hgdp-1kg/hgdp_tgp/pca_postoutlier/subcont_pca/subcont_pca_' # path for outputs \n",
    "overwrite = False "
   ]
  },
  {
   "cell_type": "code",
   "execution_count": null,
   "id": "4da6fdc4",
   "metadata": {},
   "outputs": [],
   "source": [
    "# run 'run_pca' function (located above) for each region \n",
    "# notebook became slow and got stuck - don't restart it, just let it run and you can follow the progress through the SparkUI\n",
    "# after checking the desired outputs are generated (GCS bucket) and the run is done (SparkUI), exit the current nb, open a new session, and proceed to the next step\n",
    "# took roughly 25-27 min  \n",
    "for i in regions:\n",
    "    subcont_unrel = mt_unrel.filter_cols(mt_unrel['hgdp_tgp_meta']['Genetic']['region'] == i)  # filter the unrelateds per region\n",
    "    run_pca(subcont_unrel, i, subcont_pca_prefix, overwrite)"
   ]
  },
  {
   "cell_type": "code",
   "execution_count": null,
   "id": "50edb266",
   "metadata": {
    "scrolled": true
   },
   "outputs": [],
   "source": [
    "# run 'project_relateds' function (located above) for each region - took ~3min \n",
    "for i in regions:\n",
    "    loadings = hl.read_table(subcont_pca_prefix + i + '_loadings.ht') # for each region, read in the PCA loadings that were obtained from 'run_pca' function \n",
    "    subcont_rel = mt_rel.filter_cols(mt_rel['hgdp_tgp_meta']['Genetic']['region'] == i)  # filter the relateds per region \n",
    "    project_individuals(loadings, subcont_rel, i, subcont_pca_prefix, overwrite) "
   ]
  },
  {
   "cell_type": "markdown",
   "id": "e381a8d6",
   "metadata": {},
   "source": [
    "# Write Out Matrix Table "
   ]
  },
  {
   "cell_type": "code",
   "execution_count": null,
   "id": "afd1f586",
   "metadata": {},
   "outputs": [],
   "source": [
    "# write out mts of unrelated and related samples separately (post-outlier removal) \n",
    "\n",
    "mt_unrel.write('gs://hgdp-1kg/hgdp_tgp/datasets_for_others/lindo/ds_without_outliers/unrelated.mt', overwrite=False) #unrelated mt\n",
    "mt_rel.write('gs://hgdp-1kg/hgdp_tgp/datasets_for_others/lindo/ds_without_outliers/related.mt', overwrite=False) #related mt"
   ]
  }
 ],
 "metadata": {
  "kernelspec": {
   "display_name": "Python 3",
   "language": "python",
   "name": "python3"
  },
  "language_info": {
   "codemirror_mode": {
    "name": "ipython",
    "version": 3
   },
   "file_extension": ".py",
   "mimetype": "text/x-python",
   "name": "python",
   "nbconvert_exporter": "python",
   "pygments_lexer": "ipython3",
   "version": "3.8.12"
  }
 },
 "nbformat": 4,
 "nbformat_minor": 5
}
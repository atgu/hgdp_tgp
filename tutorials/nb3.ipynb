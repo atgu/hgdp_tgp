{
 "cells": [
  {
   "cell_type": "markdown",
   "id": "1ab5c547",
   "metadata": {},
   "source": [
    "Notebook 3: Sequencing/diversity and QC metrics notebook\n",
    "\n",
    "Plots that need to be added to nb (currently in the works by Ally)\n",
    "1. Contamination/Freemix - sample_filters.contamination and bam_metrics.freemix\n",
    "2. Heterozygosity - plot distribution to show how it doesn’t work with diverse popns as expected (e.g. high for AFR, low for FIN)\n",
    "3. Plot fail_n_snp_residual and using that as an example, explain the rest in the description - the plots were created early on in the project showing which gnomAD QC filters were dropping whole populations. Currently in R, but needs to be implemented in Hail "
   ]
  },
  {
   "cell_type": "markdown",
   "id": "61def438",
   "metadata": {},
   "source": [
    "## Index\n",
    "- [General Overview](#General-Overview)\n",
    "- [Read in Datasets and Annotate](#Read-in-Datasets-and-Annotate)\n",
    "- [gnomAD Filter QC](#gnomAD-Filter-QC)\n",
    "- [Remove Duplicate Sample](#Remove-Duplicate-Sample)\n",
    "- [Filter to Only PASS Variants](#Filter-to-Only-PASS-Variants)\n",
    "- [Write Out Matrix Table](#Write-Out-Matrix-Table)"
   ]
  },
  {
   "cell_type": "markdown",
   "id": "cb6e9b57",
   "metadata": {},
   "source": [
    "# General Overview \n",
    "The purpose of this notebook is to setup the merged HGDP+1kGP dataset correctly so it can be used for subsequent analyses. It contains steps on how to: \n",
    "\n",
    "- Read in the merged Hail matrix table and annotate a variant QC metadata (in a form of a Hail table) onto it  \n",
    "- Using plots, identify which gnomAD QC filters are removing populations entirely (fail_n_snp_residual used as an example)\n",
    "- Retrive those populations (mostly AFR and OCE populations)\n",
    "- Remove a dublicate sample \n",
    "- Filter matrix table to only PASS variants (those which passed variant QC)\n",
    "- Write out a matrix table and read it back in \n",
    "- Plot certain fields from the matrix table:\n",
    "    - Contamination\n",
    "    - Freemix\n",
    "    - Heterozygosity (plot distribution to show how it doesn’t work with diverse populations as expected (e.g. high for AFR, low for FIN)\n",
    "\n",
    "Author: Mary T. Yohannes"
   ]
  },
  {
   "cell_type": "code",
   "execution_count": null,
   "id": "48e4719b",
   "metadata": {},
   "outputs": [],
   "source": [
    "# import hail\n",
    "import hail as hl"
   ]
  },
  {
   "cell_type": "markdown",
   "id": "7c719ec9",
   "metadata": {},
   "source": [
    "# Read in Datasets and Annotate"
   ]
  },
  {
   "cell_type": "code",
   "execution_count": null,
   "id": "26405afc",
   "metadata": {},
   "outputs": [],
   "source": [
    "# read in the dataset Ally produced \n",
    "# metadata from Alicia + sample QC metadata from Julia + densified mt from Konrad\n",
    "# no samples or variants removed yet  \n",
    "mt = hl.read_matrix_table('gs://hgdp-1kg/hgdp_tgp/qc_and_figure_generation/pre_qc_final.mt') \n",
    "print(mt.count()) # 211358784 snps & 4151 samples - counts prior to any analysis  "
   ]
  },
  {
   "cell_type": "code",
   "execution_count": null,
   "id": "726aedbb",
   "metadata": {},
   "outputs": [],
   "source": [
    "# read in variant QC metadata - I believe it's gnomAD's \n",
    "var_meta = hl.read_table('gs://gcp-public-data--gnomad/release/3.1.1/ht/genomes/gnomad.genomes.v3.1.1.sites.ht')\n",
    "\n",
    "# annotate variant QC metadata onto mt \n",
    "mt = mt.annotate_rows(**var_meta[mt.locus, mt.alleles]) \n",
    "\n",
    "mt.describe()"
   ]
  },
  {
   "cell_type": "markdown",
   "id": "d3e5b381",
   "metadata": {},
   "source": [
    "# gnomAD Filter QC"
   ]
  },
  {
   "cell_type": "code",
   "execution_count": null,
   "id": "a7358755",
   "metadata": {},
   "outputs": [],
   "source": [
    "# editing the format of the filter names and putting them together in a set so that we won't have an issue later when filtering the matrixTable using difference()\n",
    "# create a set of the gnomAD qc filters (column names under \"sample filters\") - looks like: {'sex_aneuploidy', 'insert_size', ...} but not in a certain order (randomly ordered)\n",
    "all_sample_filters = set(mt['sample_filters']) "
   ]
  },
  {
   "cell_type": "code",
   "execution_count": null,
   "id": "4676bbf0",
   "metadata": {},
   "outputs": [],
   "source": [
    "import re # for renaming purposes\n",
    "\n",
    "# bad_sample_filters are filters that removed whole populations despite them passing all other gnomAD filters (mostly AFR and OCE popns)\n",
    "# remove \"fail_\" from the filter names and pick those out (9 filters) - if the filter name starts with 'fail_' then replace it with ''\n",
    "bad_sample_filters = {re.sub('fail_', '', x) for x in all_sample_filters if x.startswith('fail_')} "
   ]
  },
  {
   "cell_type": "code",
   "execution_count": null,
   "id": "81031fea",
   "metadata": {},
   "outputs": [],
   "source": [
    "# this filters to only samples that passed all gnomad QC or only failed filters in bad_sample_filters\n",
    "# 'qc_metrics_filters' is under 'sample_filters' and includes a set of all qc filters a particular sample failed \n",
    "# if a sample passed all gnomAD qc filters then the column entry for that sample under 'qc_metrics_filters' is an empty set\n",
    "# so this line goes through the 'qc_metrics_filters'column and sees if there are any samples that passed all the other qc filters except for the ones in the \"bad_sample_filters\" set (difference()) \n",
    "# if a sample has an empty set for the 'qc_metrics_filters' column or if it only failed the filters that are found in the bad_sample_filters set, then a value of zero is returned and we would keep that sample \n",
    "# if a sample failed any filters that are not in the \"bad_sample_filters\" set, remove it\n",
    "# same as gs://african-seq-data/hgdp_tgp/hgdp_tgp_dense_meta_filt.mt - 211358784 snps & 4120 samples  \n",
    "mt_filt = mt.filter_cols(mt['sample_filters']['qc_metrics_filters'].difference(bad_sample_filters).length() == 0) "
   ]
  },
  {
   "cell_type": "code",
   "execution_count": null,
   "id": "d44ee564",
   "metadata": {},
   "outputs": [],
   "source": [
    "# How many samples were removed by the initial QC?\n",
    "\n",
    "print('Num of samples before initial QC = ' + str(mt.count()[1])) # 4151\n",
    "print('Num of samples after initial QC = ' + str(mt_filt.count()[1])) # 4120\n",
    "print('Samples removed = ' + str(mt.count()[1] - mt_filt.count()[1])) # 31"
   ]
  },
  {
   "cell_type": "markdown",
   "id": "8e2823d8",
   "metadata": {},
   "source": [
    "# Remove Duplicate Sample"
   ]
  },
  {
   "cell_type": "code",
   "execution_count": null,
   "id": "2b73d81e",
   "metadata": {},
   "outputs": [],
   "source": [
    "# duplicate sample - NA06985\n",
    "mt_filt = mt_filt.distinct_by_col()\n",
    "print('Num of samples after removal of duplicate sample = ' + str(mt_filt.count()[1])) # 4119"
   ]
  },
  {
   "cell_type": "markdown",
   "id": "f9188585",
   "metadata": {},
   "source": [
    "# Filter to Only PASS Variants"
   ]
  },
  {
   "cell_type": "code",
   "execution_count": null,
   "id": "87d19b5d",
   "metadata": {},
   "outputs": [],
   "source": [
    "# subset to only PASS variants (those which passed variant QC) ~13min to run \n",
    "mt_filt = mt_filt.filter_rows(hl.len(mt_filt.filters) !=0, keep=False)\n",
    "print('Num of only PASS variants = ' + str(mt_filt.count()[0])) # 155648020"
   ]
  },
  {
   "cell_type": "markdown",
   "id": "a099d1d7",
   "metadata": {},
   "source": [
    "# Write Out Matrix Table "
   ]
  },
  {
   "cell_type": "code",
   "execution_count": null,
   "id": "22649a85",
   "metadata": {},
   "outputs": [],
   "source": [
    "# write out file since it is used across multiple nbs (>1hr to run)\n",
    "mt_filt.write('gs://hgdp-1kg/hgdp_tgp/intermediate_files/pre_running_varqc.mt', overwrite=False)"
   ]
  }
 ],
 "metadata": {
  "kernelspec": {
   "display_name": "Python 3",
   "language": "python",
   "name": "python3"
  },
  "language_info": {
   "codemirror_mode": {
    "name": "ipython",
    "version": 3
   },
   "file_extension": ".py",
   "mimetype": "text/x-python",
   "name": "python",
   "nbconvert_exporter": "python",
   "pygments_lexer": "ipython3",
   "version": "3.8.12"
  }
 },
 "nbformat": 4,
 "nbformat_minor": 5
}
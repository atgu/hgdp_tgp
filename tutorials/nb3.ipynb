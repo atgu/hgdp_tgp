{
 "cells": [
  {
   "cell_type": "markdown",
   "id": "c8103db4",
   "metadata": {},
   "source": [
    "Notebook 3: Sequencing/diversity and QC metrics notebook\n",
    "\n",
    "Plots that need to be added to nb (currently in the works by Ally) \n",
    "1. Contamination/Freemix - sample_filters.contamination and bam_metrics.freemix - *DONE*\n",
    "2. Heterozygosity - plot distribution to show how it doesn’t work with diverse popns as expected (e.g. high for AFR, low for FIN) - *PENDING*\n",
    "3. Plot fail_n_snp_residual and using that as an example, explain the rest in the description - the plots were created early on in the project showing which gnomAD QC filters were dropping whole populations. Currently in R, but needs to be implemented in Hail - *PENDING*\n",
    "\n",
    "---------------------\n",
    "Further edits needed in this nb:\n",
    "- Add Ally's code for plots "
   ]
  },
  {
   "cell_type": "markdown",
   "id": "08fc89c9",
   "metadata": {},
   "source": [
    "## Index\n",
    "1. [General Overview](#1.-General-Overview)\n",
    "2. [Read in Datasets and Annotate](#2.-Read-in-Datasets-and-Annotate)\n",
    "3. [gnomAD Filter QC](#3.-gnomAD-Filter-QC)\n",
    "4. [Remove Duplicate Sample](#4.-Remove-Duplicate-Sample)\n",
    "5. [Filter to Only PASS Variants](#5.-Filter-to-Only-PASS-Variants)\n",
    "6. [Write Out Matrix Table](#6.-Write-Out-Matrix-Table)"
   ]
  },
  {
   "cell_type": "markdown",
   "id": "800a5426",
   "metadata": {},
   "source": [
    "# 1. General Overview \n",
    "The purpose of this notebook is to setup the merged HGDP+1kGP dataset correctly so it can be used for subsequent analyses. It contains steps on how to: \n",
    "\n",
    "- Read in the merged Hail matrix table and annotate a variant QC metadata (in a form of a Hail table) onto it  \n",
    "- Using plots, identify which gnomAD QC filters are removing populations entirely (fail_n_snp_residual used as an example)\n",
    "- Retrive those populations (mostly AFR and OCE populations)\n",
    "- Remove a dublicate sample \n",
    "- Filter matrix table to only PASS variants (those which passed variant QC)\n",
    "- Write out a matrix table and read it back in \n",
    "- Plot certain fields from the matrix table:\n",
    "    - Contamination\n",
    "    - Freemix\n",
    "    - Heterozygosity (plot distribution to show how it doesn’t work with diverse populations as expected (e.g. high for AFR, low for FIN)\n",
    "\n",
    "Author: Mary T. Yohannes"
   ]
  },
  {
   "cell_type": "markdown",
   "id": "901244e4",
   "metadata": {},
   "source": [
    "1a. Import needed libraries and packages "
   ]
  },
  {
   "cell_type": "code",
   "execution_count": 7,
   "id": "59fd0022",
   "metadata": {},
   "outputs": [],
   "source": [
    "# import hail\n",
    "import hail as hl\n",
    "\n",
    "# for renaming purposes\n",
    "import re "
   ]
  },
  {
   "cell_type": "markdown",
   "id": "214d9785",
   "metadata": {},
   "source": [
    "1b. Input and output path variables to be edited by users as needed "
   ]
  },
  {
   "cell_type": "code",
   "execution_count": 1,
   "id": "9868243d",
   "metadata": {},
   "outputs": [],
   "source": [
    "# input \n",
    "input_path = 'gs://hgdp-1kg/hgdp_tgp/qc_and_figure_generation/pre_qc_final.mt'\n",
    "\n",
    "# output \n",
    "output_path = 'gs://hgdp-1kg/hgdp_tgp/intermediate_files/pre_running_varqc.mt'"
   ]
  },
  {
   "cell_type": "markdown",
   "id": "9425495e",
   "metadata": {},
   "source": [
    "# 2. Read in Datasets and Annotate"
   ]
  },
  {
   "cell_type": "markdown",
   "id": "152866ba",
   "metadata": {},
   "source": [
    "<details>\n",
    "<summary> - More about the input dataset [click here] </summary>\n",
    "<br>\n",
    "This input matrix table is a combination of 3 datasets: a harmonized sample metadata for the HGDP+1KG dataset, a gnomAD v3.1 sample qc metadata with samples that failed gnomAD QC filters flagged, and a densified HGDP+1KG matrix table. \n",
    "</details>"
   ]
  },
  {
   "cell_type": "code",
   "execution_count": null,
   "id": "b2843df5",
   "metadata": {},
   "outputs": [],
   "source": [
    "# read-in the matrix table (shortened as mt)\n",
    "mt = hl.read_matrix_table(input_path) \n",
    "\n",
    "# how many snps and samples are there? counts \n",
    "print('Num of snps and samples prior to any analysis = ' + str(mt.count())) # 211358784 snps & 4151 samples \n",
    "\n",
    "# read in variant QC metadata containing information on which variants passed/failed gnomAD QC filters\n",
    "var_meta = hl.read_table('gs://gcp-public-data--gnomad/release/3.1.1/ht/genomes/gnomad.genomes.v3.1.1.sites.ht')\n",
    "\n",
    "# annotate variant QC metadata onto mt \n",
    "mt = mt.annotate_rows(**var_meta[mt.locus, mt.alleles]) \n",
    "\n",
    "# explore combined mt \n",
    "mt.describe()"
   ]
  },
  {
   "cell_type": "markdown",
   "id": "2b20aea8",
   "metadata": {},
   "source": [
    "<details>\n",
    "<summary> - More information on Hail methods and expressions [click here] </summary>\n",
    "\n",
    "- <a href=\"https://hail.is/docs/0.2/methods/impex.html#hail.methods.read_matrix_table\"> More on  <i> read_matrix_table() </i></a>\n",
    "\n",
    "- <a href=\"https://hail.is/docs/0.2/hail.MatrixTable.html#hail.MatrixTable.count\"> More on  <i> count() </i></a>\n",
    "\n",
    "- <a href=\"https://hail.is/docs/0.2/methods/impex.html#hail.methods.read_table\"> More on  <i> read_table() </i></a>\n",
    "\n",
    "- <a href=\"https://hail.is/docs/0.2/hail.MatrixTable.html#hail.MatrixTable.annotate_rows\"> More on  <i> annotate_rows() </i></a>\n",
    "\n",
    "- <a href=\"https://hail.is/docs/0.2/hail.expr.Expression.html#hail.expr.Expression.describe\"> More on  <i> describe() </i></a>\n",
    "</details>"
   ]
  },
  {
   "cell_type": "markdown",
   "id": "acb4355e",
   "metadata": {},
   "source": [
    "# 3. gnomAD Filter QC"
   ]
  },
  {
   "cell_type": "markdown",
   "id": "3d726b02",
   "metadata": {},
   "source": [
    "<details>\n",
    "<summary> - Why are we doing this? [click here] </summary>\n",
    "    \n",
    "9 out of the 28 gnomAD sample filters were dropping huge numbers of ancestrally diverse individuals (mostly African (AFR) and Oceanian (OCE) populations). The filters use gnomAD’s principal component analysis (PCA) which is obtained from other samples to residualize the distribution of values from different populations and identify outliers. If there is an error and outliers are identified, the sample fails the filter. \n",
    "</details>"
   ]
  },
  {
   "cell_type": "code",
   "execution_count": 18,
   "id": "665cd967",
   "metadata": {},
   "outputs": [],
   "source": [
    "# put the gnomAD qc filters in a set \n",
    "all_sample_filters = set(mt['sample_filters']) \n",
    "\n",
    "# select out the filters that are removing whole populations despite them passing all other gnomAD filters\n",
    "# if a filter name starts with 'fail_', add it to a new set after removing 'fail_' from the name  \n",
    "bad_sample_filters = {re.sub('fail_', '', x) for x in all_sample_filters if x.startswith('fail_')} \n",
    "\n",
    "# filter out the samples that passed all gnomad QC filters OR only failed the filters that were removing population wholly\n",
    "mt_filt = mt.filter_cols(mt['sample_filters']['qc_metrics_filters'].difference(bad_sample_filters).length() == 0)\n",
    "\n",
    "# how many samples were removed by the initial QC?\n",
    "print('Num of samples before initial QC = ' + str(mt.count()[1])) # 4151\n",
    "print('Num of samples after initial QC = ' + str(mt_filt.count()[1])) # 4120\n",
    "print('Samples removed = ' + str(mt.count()[1] - mt_filt.count()[1])) # 31"
   ]
  },
  {
   "cell_type": "markdown",
   "id": "0b1a56d9",
   "metadata": {},
   "source": [
    "<details>\n",
    "<summary> - More information on Hail methods and expressions [click here] </summary>\n",
    "\n",
    "- <a href=\"https://hail.is/docs/0.2/hail.MatrixTable.html#hail.MatrixTable.filter_cols\"> More on  <i> filter_cols() </i></a>\n",
    "\n",
    "- <a href=\"https://hail.is/docs/0.2/hail.expr.SetExpression.html#hail.expr.SetExpression.difference\"> More on  <i> difference() </i></a>\n",
    "\n",
    "- <a href=\" https://hail.is/docs/0.2/hail.expr.CollectionExpression.html#hail.expr.CollectionExpression.length\"> More on  <i> length() </i></a>\n",
    "</details>"
   ]
  },
  {
   "cell_type": "markdown",
   "id": "3e30d0ee",
   "metadata": {},
   "source": [
    "# 4. Remove Duplicate Sample"
   ]
  },
  {
   "cell_type": "code",
   "execution_count": 22,
   "id": "23a95999",
   "metadata": {},
   "outputs": [
    {
     "name": "stdout",
     "output_type": "stream",
     "text": [
      "Num of samples after removal of duplicate sample = 4119\n"
     ]
    }
   ],
   "source": [
    "# NA06985 is duplicate sample in the dataset \n",
    "mt_filt = mt_filt.distinct_by_col()\n",
    "print('Num of samples after removal of duplicate sample = ' + str(mt_filt.count()[1])) # 4119"
   ]
  },
  {
   "cell_type": "markdown",
   "id": "78b5a1fe",
   "metadata": {},
   "source": [
    "<details>\n",
    "<summary> - More information on Hail methods and expressions [click here] </summary>\n",
    "    \n",
    "- <a href=\"https://hail.is/docs/0.2/hail.MatrixTable.html#hail.MatrixTable.distinct_by_col\"> More on  <i> distinct_by_col() </i></a>\n",
    "</details>"
   ]
  },
  {
   "cell_type": "markdown",
   "id": "89775fdb",
   "metadata": {},
   "source": [
    "# 5. Filter to Only PASS Variants"
   ]
  },
  {
   "cell_type": "code",
   "execution_count": 23,
   "id": "11205fd0",
   "metadata": {},
   "outputs": [
    {
     "name": "stdout",
     "output_type": "stream",
     "text": [
      "Num of only PASS variants = 155648020\n"
     ]
    }
   ],
   "source": [
    "# subset dataset to variants that passed gnomAD's variant QC \n",
    "mt_filt = mt_filt.filter_rows(hl.len(mt_filt.filters) !=0, keep=False) # ~13min to run \n",
    "print('Num of only PASS variants = ' + str(mt_filt.count()[0])) # 155648020"
   ]
  },
  {
   "cell_type": "markdown",
   "id": "9ffce90d",
   "metadata": {},
   "source": [
    "<details>\n",
    "<summary> - More information on Hail methods and expressions [click here] </summary>\n",
    "    \n",
    "- <a href=\"https://hail.is/docs/0.2/hail.MatrixTable.html#hail.MatrixTable.filter_rows\"> More on  <i> filter_rows() </i></a>\n",
    "\n",
    "- <a href=\"https://hail.is/docs/0.2/functions/collections.html#hail.expr.functions.len\"> More on  <i> hl.len() </i></a>\n",
    "</details>"
   ]
  },
  {
   "cell_type": "markdown",
   "id": "ab61423d",
   "metadata": {},
   "source": [
    "# 6. Write Out Matrix Table "
   ]
  },
  {
   "cell_type": "code",
   "execution_count": null,
   "id": "2d05f026",
   "metadata": {},
   "outputs": [],
   "source": [
    "# write out dataset since it is used across multiple tutorial notebooks \n",
    "mt_filt.write(output_path, overwrite=False) # >1hr to run"
   ]
  },
  {
   "cell_type": "markdown",
   "id": "f76d8f4e",
   "metadata": {},
   "source": [
    "<details>\n",
    "<summary> - More information on Hail methods and expressions [click here] </summary>\n",
    "    \n",
    "- <a href=\"https://hail.is/docs/0.2/hail.MatrixTable.html#hail.MatrixTable.write\"> More on  <i> write() </i></a>\n",
    "</details>"
   ]
  }
 ],
 "metadata": {
  "kernelspec": {
   "display_name": "Python 3 (ipykernel)",
   "language": "python",
   "name": "python3"
  },
  "language_info": {
   "codemirror_mode": {
    "name": "ipython",
    "version": 3
   },
   "file_extension": ".py",
   "mimetype": "text/x-python",
   "name": "python",
   "nbconvert_exporter": "python",
   "pygments_lexer": "ipython3",
   "version": "3.8.13"
  }
 },
 "nbformat": 4,
 "nbformat_minor": 5
}

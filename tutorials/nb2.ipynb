{
 "cells": [
  {
   "cell_type": "markdown",
   "id": "2bfaec93",
   "metadata": {},
   "source": [
    "PCA plots - Ally - *PENDING*\n",
    "    - already implemented in R, just need to plot it in Hail\n",
    "    \n",
    "----------------------------------------\n",
    "Further edits needed in this nb: \n",
    "- Add the path to the PCA plotting Rmarkdown (in section 5) once available  \n",
    "- Complete the table in section 5 - need Alicia's help with that \n",
    "- Add Ally's code for plots "
   ]
  },
  {
   "cell_type": "markdown",
   "id": "95691f36",
   "metadata": {},
   "source": [
    "# PCA and Ancestry Analyses\n",
    "\n",
    "\n",
    "Author: Mary T. Yohannes"
   ]
  },
  {
   "cell_type": "markdown",
   "id": "4a416c24",
   "metadata": {},
   "source": [
    "# Index\n",
    "1. [Setting Default Paths](#1.-Set-Default-Paths)\n",
    "2. [Annotating Plotting Metadata onto Matrix Table](#-2.-Annotating-Plotting-Metadata)\n",
    "3. [Variant Filtering and LD Pruning](#3.-Variant-Filtering-and-LD-Pruning)\n",
    "    1. [Variant Filtering](#-3a.-Variant-Filtering)\n",
    "    2. [LD Pruning](#-3b.-LD-Pruning)\n",
    "    3. [Write out an intermediate file](#-3c.-Write-out-an-intermediate-file)\n",
    "4. [Run PC Relate](#4.-Run-PC-Relate)\n",
    "5. [PCA](#5.-PCA)\n",
    "    1. [Function to Run PCA on Unrelated Individuals](#5a.-Function-to-Run-PCA-on-Unrelated-Individuals)\n",
    "    2. [Function to Project Related Individuals](#5b.-Function-to-Project-Related-Individuals)\n",
    "    3. [Global PCA](#5c.-Global-PCA)\n",
    "    4. [Subcontinental PCA](#5d.-Subcontinental-PCA)\n",
    "6. [Outlier Removal](#6.-Outlier-Removal)\n",
    "7. [Rerun PCA](#7.-Rerun-PCA)\n",
    "    1. [Global PCA](#7a.-Global-PCA)\n",
    "    2. [Subcontinental PCA](#7b.-Subcontinental-PCA)\n",
    "8. [Writing out Matrix Table](#8.-Write-Out-Matrix-Table)"
   ]
  },
  {
   "cell_type": "markdown",
   "id": "a86ed110",
   "metadata": {},
   "source": [
    "# General Overview \n",
    "\n",
    "The purpose of this notebook is to further filter the postQC Matrix Table to prepare it for LD pruning, compute relatedness and run Principal Component Analysis (PCA).\n",
    "\n",
    "**This script contains information on how to:**\n",
    "- Read in the a Matrix Table and run Hail common variant statistics  \n",
    "- Filter using allele frequency and call rate\n",
    "- Run LD pruning \n",
    "- Run relatedness and separate related and unrelated individuals\n",
    "- Calculate PC scores and project samples on to a PC space  \n",
    "- Run global and Subcontinental PCA and plot them \n",
    "- Remove PCA outliers (filter using sample IDs)\n",
    "- Rerun global and subcontinental PCA\n",
    "- Write out a Matrix Table \n"
   ]
  },
  {
   "cell_type": "code",
   "execution_count": null,
   "id": "844eb587",
   "metadata": {},
   "outputs": [],
   "source": [
    "import hail as hl\n",
    "\n",
    "# Importing methods from gnomAD needed to project individuals\n",
    "from gnomad.sample_qc.ancestry import *"
   ]
  },
  {
   "cell_type": "markdown",
   "id": "64e2f6eb",
   "metadata": {},
   "source": [
    "# 1. Set Default Paths\n",
    "These default paths can be edited by users as needed. It is recommended to run these tutorials without writing out datasets. \n",
    "\n",
    "Certain steps such as [LD Pruning](#2.-Variant-Filtering-and-LD-Pruning) and [`pc_relate`](#3.-Run-PC-Relate) can take around 2 hours to run. We have written out datasets at these steps so users can run the tutorials without waiting for these steps to complete.  \n",
    "\n",
    "By default all of the write sections are shown as markdown cells. If you would like to write out your own datasets, you can copy the code and paste it into a new code cell. \n",
    "\n",
    "[Back to Index](#Index)"
   ]
  },
  {
   "cell_type": "code",
   "execution_count": null,
   "id": "c83f2cff",
   "metadata": {},
   "outputs": [],
   "source": [
    "# Path for dataset after applying gnomAD's sample and variant QC\n",
    "post_qc_path = 'gs://hgdp-1kg/hgdp_tgp/intermediate_files/pre_running_varqc.mt'\n",
    "\n",
    "# Path to save the filtered and LD pruned mt as an intermediate file since LD pruning takes a while to rerun\n",
    "intermediate_file_path = 'gs://hgdp-1kg/hgdp_tgp/intermediate_files/filtered_n_pruned_output_updated.mt'\n",
    "\n",
    "# Path for the metadata file which contains colors for PCA plotting\n",
    "plotting_metadata_path = 'gs://hgdp-1kg/hgdp_tgp/qc_and_figure_generation/hgdp_1kgp_plotting_meta.tsv'\n",
    "\n",
    "# Paths for unrelated and related samples (prior to outlier identification and removal) \n",
    "unrel_preoutlier_path = 'gs://hgdp-1kg/hgdp_tgp/unrel_updated.mt'\n",
    "rel_preoutlier_path = 'gs://hgdp-1kg/hgdp_tgp/rel_updated.mt' \n",
    "\n",
    "# Path for pre-outlier PCA results - global & subcontinental PCA \n",
    "pca_preoutlier_path = 'gs://hgdp-1kg/hgdp_tgp/pca_preoutlier/'\n",
    "\n",
    "# Outliers file \n",
    "outliers_path = 'gs://hgdp-1kg/hgdp_tgp/pca_outliers_v2.txt'\n",
    "\n",
    "# Path for post-outlier PCA results - global & subcontinental PCA \n",
    "pca_postoutlier_path = 'gs://hgdp-1kg/hgdp_tgp/pca_postoutlier/'\n",
    "\n",
    "# Final output paths for unrelated and related samples (post-outlier)\n",
    "unrel_final_output = 'gs://hgdp-1kg/hgdp_tgp/datasets_for_others/lindo/ds_without_outliers/unrelated.mt'\n",
    "rel_final_output = 'gs://hgdp-1kg/hgdp_tgp/datasets_for_others/lindo/ds_without_outliers/related.mt'"
   ]
  },
  {
   "cell_type": "markdown",
   "id": "57c6ad33",
   "metadata": {},
   "source": [
    "# 2. Annotating Plotting Metadata\n",
    "Below we are adding information from a metadata file which contains information on which shapes and colors to use for each population when plotting PCA"
   ]
  },
  {
   "cell_type": "code",
   "execution_count": null,
   "id": "162c4258",
   "metadata": {},
   "outputs": [],
   "source": [
    "# Reading in the plotting metadata file\n",
    "plotting_meta = hl.read_table(plotting_metadata_path)\n",
    "\n",
    "# Reading in the dataset after applying gnomAD's sample and variant QC filters\n",
    "post_qc = hl.read_matrix_table(post_qc_path)\n",
    "\n",
    "# Using hl.annotate_cols() method to annotate the plotting metadata onto the Matrix Table\n",
    "mt_filt = post_qc.annotate_cols(**plotting_meta[post_qc.s])"
   ]
  },
  {
   "cell_type": "markdown",
   "id": "8298ce96",
   "metadata": {},
   "source": [
    "# 3. Variant Filtering and LD Pruning\n",
    "<br>\n",
    "<details><summary> Click <u><span style=\"color:blue\">here</span></u> to learn why we are doing this. </summary>\n",
    "    \n",
    "At this point, we have 155,648,020 SNPs and since we need fewer number of variants (~100-300k) for PCA, we filter on:\n",
    "- AF - allele frequency \n",
    "- call rate - fraction of calls neither missing nor filtered\n",
    "\n",
    "and then run LD pruning.     \n",
    "  \n",
    "Linkage disequilibrium (LD) is the correlation between nearby variants such that the alleles at neighboring polymorphisms (observed on the same chromosome) are associated within a population more often than if they were unlinked.\n",
    "<br>    \n",
    "For more information on LD pruning click <a href=\"\"> here </a>\n",
    "</details>\n",
    "\n",
    "<br>\n",
    "<details><summary> For more information on Hail methods and expressions click <u><span style=\"color:blue\">here</span></u>.</summary> \n",
    "<ul>\n",
    "<li><a href=\"https://hail.is/docs/0.2/methods/genetics.html#hail.methods.variant_qc\"> More on  <i> variant_qc() </i></a></li>\n",
    "\n",
    "<li><a href=\"https://hail.is/docs/0.2/methods/genetics.html#hail.methods.ld_prune\"> More on  <i> ld_prune() </i></a></li>\n",
    "    </ul>\n",
    "</details>\n",
    "\n",
    "[Back to Index](#Index)"
   ]
  },
  {
   "cell_type": "markdown",
   "id": "72287ed5",
   "metadata": {},
   "source": [
    "#### 3a. Variant Filtering "
   ]
  },
  {
   "cell_type": "code",
   "execution_count": null,
   "id": "b1b329fd",
   "metadata": {},
   "outputs": [],
   "source": [
    "# Run Hail's common variant statistics (QC metrics) \n",
    "mt_var = hl.variant_qc(mt_filt) \n",
    "\n",
    "# Filter to variants with AF between 0.05 & 0.95, and call rate greater than 0.999    \n",
    "mt_var_filt = mt_var.filter_rows((mt_var.variant_qc.AF[0] > 0.05) & \n",
    "                                 (mt_var.variant_qc.AF[0] < 0.95) & (mt_var.variant_qc.call_rate > 0.999))\n",
    "\n",
    "# Should print 6787034 snps; this line take ~20min to run \n",
    "print('Num of variants after filtering = ' + str(mt_var_filt.count()[0]))"
   ]
  },
  {
   "cell_type": "markdown",
   "id": "e031578b",
   "metadata": {},
   "source": [
    "#### 3b. LD Pruning\n",
    "Since the number of variants after this step is now in the ~100-300k range, we proceed to the PCA analysis without any more adjustments.  "
   ]
  },
  {
   "cell_type": "code",
   "execution_count": null,
   "id": "9fa26718",
   "metadata": {},
   "outputs": [],
   "source": [
    "# Remove correlated variants \n",
    "pruned = hl.ld_prune(mt_var_filt.GT, r2=0.1, bp_window_size=500000) # ~113 min to run  \n",
    "mt_var_pru_filt = mt_var_filt.filter_rows(hl.is_defined(pruned[mt_var_filt.row_key])) \n",
    "print('Num of variants after LD pruning = ' + str(mt_var_pru_filt.count()[0])) # 248634 snps"
   ]
  },
  {
   "cell_type": "markdown",
   "id": "7cb607ef",
   "metadata": {},
   "source": [
    "#### 3c. Write out an intermediate file\n",
    "The LD pruning step takes a non negligble time to run so to ensure that the downstream analyses steps don't take a very long time we write out an intermediate file. This write out step should take around 23 minutes to run. \n",
    "\n",
    "Due to the use of the apply_qc function however, you do not need to run through the write out step. Instead, the function will automatically read in the version of the dataset we wrote out when creating these tutorials. \n",
    "\n",
    "If the user wishes to export their own intermediate file, they can do so by changing the intermediate path and then replacing the apply_qc() function call with `hl.read_matrix_table(intermediate_path)`"
   ]
  },
  {
   "cell_type": "code",
   "execution_count": null,
   "id": "5bf49568",
   "metadata": {},
   "outputs": [],
   "source": [
    "# # this step will take ~23 min\n",
    "# # writing out an intermediate file to speed up subsequent analyses\n",
    "# mt_var_pru_filt.write(intermediate_file_path, overwrite=False)\n",
    "\n",
    "# Read the intermediate file back in for subsequent analyses\n",
    "mt_var_pru_filt = apply_qc(ld_prune=True)"
   ]
  },
  {
   "cell_type": "markdown",
   "id": "79623b3e",
   "metadata": {},
   "source": [
    "# 4. Run PC Relate   \n",
    "<br>\n",
    "<details><summary>Click <u><span style=\"color:blue\">here</span></u> to learn why we are doing this. </summary>\n",
    "<br>\n",
    "When doing Principal Component Analysis (PCA), we need to separate the related and unrelated samples before computing the PC scores and ploting them. This is because if we compute PCA with the related samples in the data set, the population structure and clustering will be affected by the relatedness that exists among those samples. Thus, we first have to identify the related individuals by computing relatedness estimates (kinship statistic in this case) using a variant of the PC-Relate method in Hail. We used a minimum minor allele frequency (MAF) filter of 0.05, excluded sample pairs with kinship less than 0.05, and used 20 principal components (PC) to control for population structure. After getting the sample ID pairs for the related samples, we then separate the filtered and pruned mt into relateds and unrelateds.\n",
    "   \n",
    "    \n",
    "For more information on relatedness click <a href=\"https://hail.is/docs/0.2/methods/relatedness.html#relatedness\"> here</a>.\n",
    "    \n",
    "</details>\n",
    "\n",
    "<br>\n",
    "<details><summary> Click <u><span style=\"color:blue\">here</span></u> to learn what metrics we used for pc_relate. \n",
    " </summary>\n",
    "    \n",
    "<br>\n",
    "We computed the kinship statistic using:\n",
    "<ul>\n",
    "<li>a minimum minor allele frequency filter of 0.05</li>\n",
    "<li>excluding sample-pairs with kinship less than 0.05</li>\n",
    "<li>20 principal components to control for population structure</li>\n",
    "</ul>\n",
    "    \n",
    "For more information on the pc_relate method click <a href=\"https://www.ncbi.nlm.nih.gov/pmc/articles/PMC4716688/\">here</a>.\n",
    "    \n",
    "</details>\n",
    "\n",
    "<br>\n",
    "<details><summary> For more information on Hail methods and expressions click <u><span style=\"color:blue\">here</span></u>.</summary> \n",
    "    \n",
    "<ul>\n",
    "<li><a href=\"https://hail.is/docs/0.2/methods/relatedness.html#hail.methods.pc_relate\"> More on  <i> pc_relate() </i></a></li>\n",
    "\n",
    "<li><a href=\"https://hail.is/docs/0.2/methods/misc.html#hail.methods.maximal_independent_set\"> More on  <i> maximal_independent_set() </i></a></li>\n",
    "</ul>\n",
    "    \n",
    "</details>\n",
    "\n",
    "[Back to Index](#Index)"
   ]
  },
  {
   "cell_type": "code",
   "execution_count": null,
   "id": "9224da3a",
   "metadata": {},
   "outputs": [],
   "source": [
    "# Compute kinship statistic\n",
    "# Takes ~4min to run\n",
    "relatedness_ht = hl.pc_relate(\n",
    "    mt_var_pru_filt.GT, min_individual_maf=0.05, min_kinship=0.05, statistics='kin', k=20).key_by() \n",
    "\n",
    "# Identify closely related individuals in pairs (list of sample IDs) \n",
    "# Takes ~2hr & 22min to run\n",
    "related_samples_to_remove = hl.maximal_independent_set(relatedness_ht.i, relatedness_ht.j, False) \n",
    "\n",
    "# Subset the filtered and pruned mt to samples that are NOT present in the list of related individuals  \n",
    "mt_unrel = mt_var_pru_filt.filter_cols(hl.is_defined(related_samples_to_remove[mt_var_pru_filt.col_key]), keep=False) \n",
    "\n",
    "# Do the same as above but this time subset to samples that are present in the related-individuals list   \n",
    "mt_rel = mt_var_pru_filt.filter_cols(hl.is_defined(related_samples_to_remove[mt_var_pru_filt.col_key]), keep=True) "
   ]
  },
  {
   "cell_type": "code",
   "execution_count": null,
   "id": "9b7a6d46",
   "metadata": {},
   "outputs": [],
   "source": [
    "# # Write out the unrelated and related mts since they are used beyond this notebook in other analyses     \n",
    "# # Unrelated mt\n",
    "# mt_unrel.write(unrel_path, overwrite=False) \n",
    "\n",
    "# # Related mt \n",
    "# mt_rel.write(rel_path, overwrite=False)"
   ]
  },
  {
   "cell_type": "code",
   "execution_count": null,
   "id": "e993a2bb",
   "metadata": {},
   "outputs": [],
   "source": [
    "# Read the related and unrelated mts back in using apply_qc\n",
    "# Unrelated mt\n",
    "mt_unrel = apply_qc(rel_unrel='unrelated_pre_outlier') \n",
    "\n",
    "# Related mt \n",
    "mt_rel = apply_qc(rel_unrel='related_pre_outlier')"
   ]
  },
  {
   "cell_type": "markdown",
   "id": "5cd32ee8",
   "metadata": {},
   "source": [
    "# 5. PCA\n",
    "<br>\n",
    "<details><summary>Click <u><span style=\"color:blue\">here</span></u> to learn why we are doing this. </summary>\n",
    "<br>\n",
    "PCA is ran on the unrelated samples first. Then, the related samples are projected onto the PC space of the unrelated samples to get their PC scores. This way the population structure and clustering is not affected by the relatedness among samples.  \n",
    "    \n",
    "</details>\n",
    "\n",
    "[Back to Index](#Index)"
   ]
  },
  {
   "cell_type": "markdown",
   "id": "08301c08",
   "metadata": {},
   "source": [
    "### 5a. Function to Run PCA on Unrelated Individuals\n",
    "\n",
    "[Back to Index](#Index)"
   ]
  },
  {
   "cell_type": "code",
   "execution_count": null,
   "id": "87de6034",
   "metadata": {},
   "outputs": [],
   "source": [
    "def run_pca(mt: hl.MatrixTable, reg_name:str, out_path: str, overwrite: bool = False):\n",
    "    \"\"\"\n",
    "    Runs PCA on a data set\n",
    "    :param mt: data set to run PCA on\n",
    "    :param reg_name: region name for saving output purposes\n",
    "    :param out_path: path for where to save the outputs\n",
    "    :return:\n",
    "    \"\"\"\n",
    "\n",
    "    pca_evals, pca_scores, pca_loadings = hl.hwe_normalized_pca(mt.GT, k=20, compute_loadings=True)\n",
    "    pca_mt = mt.annotate_rows(pca_af=hl.agg.mean(mt.GT.n_alt_alleles()) / 2)\n",
    "    pca_loadings = pca_loadings.annotate(pca_af=pca_mt.rows()[pca_loadings.key].pca_af)\n",
    "    pca_scores = pca_scores.transmute(**{f'PC{i}': pca_scores.scores[i - 1] for i in range(1, 21)})\n",
    "    \n",
    "    pca_scores.export(out_path + reg_name + '_scores.txt.bgz')  # save individual-level-genetic-region PCs\n",
    "    pca_loadings.write(out_path + reg_name + '_loadings.ht', overwrite)  # save PCA loadings"
   ]
  },
  {
   "cell_type": "markdown",
   "id": "2da90d17",
   "metadata": {},
   "source": [
    "### 5b. Function to Project Related Individuals\n",
    "<br>\n",
    "<details><summary> For troubleshooting information click <u><span style=\"color:blue\">here</span></u>. </summary>\n",
    "\n",
    "If this function is not working, make sure you used the  <code>--packages gnomad</code> argument when starting your cluster\n",
    "    \n",
    "</details>\n",
    "\n",
    "[Back to Index](#Index)"
   ]
  },
  {
   "cell_type": "code",
   "execution_count": null,
   "id": "28cc1497",
   "metadata": {},
   "outputs": [
    {
     "ename": "ModuleNotFoundError",
     "evalue": "No module named 'gnomad'",
     "output_type": "error",
     "traceback": [
      "\u001b[0;31m---------------------------------------------------------------------------\u001b[0m",
      "\u001b[0;31mModuleNotFoundError\u001b[0m                       Traceback (most recent call last)",
      "Input \u001b[0;32mIn [1]\u001b[0m, in \u001b[0;36m<cell line: 2>\u001b[0;34m()\u001b[0m\n\u001b[1;32m      1\u001b[0m \u001b[38;5;66;03m#if running on GCS, need to add \"--packages gnomad\" when starting a cluster in order for the import to work  \u001b[39;00m\n\u001b[0;32m----> 2\u001b[0m \u001b[38;5;28;01mfrom\u001b[39;00m \u001b[38;5;21;01mgnomad\u001b[39;00m\u001b[38;5;21;01m.\u001b[39;00m\u001b[38;5;21;01msample_qc\u001b[39;00m\u001b[38;5;21;01m.\u001b[39;00m\u001b[38;5;21;01mancestry\u001b[39;00m \u001b[38;5;28;01mimport\u001b[39;00m \u001b[38;5;241m*\u001b[39m\n\u001b[1;32m      4\u001b[0m \u001b[38;5;28;01mdef\u001b[39;00m \u001b[38;5;21mproject_individuals\u001b[39m(pca_loadings, project_mt, reg_name:\u001b[38;5;28mstr\u001b[39m, out_prefix: \u001b[38;5;28mstr\u001b[39m, overwrite: \u001b[38;5;28mbool\u001b[39m \u001b[38;5;241m=\u001b[39m \u001b[38;5;28;01mFalse\u001b[39;00m):\n\u001b[1;32m      5\u001b[0m     \u001b[38;5;124;03m\"\"\"\u001b[39;00m\n\u001b[1;32m      6\u001b[0m \u001b[38;5;124;03m    Project samples into predefined PCA space\u001b[39;00m\n\u001b[1;32m      7\u001b[0m \u001b[38;5;124;03m    :param pca_loadings: existing PCA space - unrelated samples \u001b[39;00m\n\u001b[0;32m   (...)\u001b[0m\n\u001b[1;32m     11\u001b[0m \u001b[38;5;124;03m    :return:\u001b[39;00m\n\u001b[1;32m     12\u001b[0m \u001b[38;5;124;03m    \"\"\"\u001b[39;00m\n",
      "\u001b[0;31mModuleNotFoundError\u001b[0m: No module named 'gnomad'"
     ]
    }
   ],
   "source": [
    "from gnomad.sample_qc.ancestry import *\n",
    "\n",
    "def project_individuals(pca_loadings, project_mt, reg_name:str, out_path: str, overwrite: bool = False):\n",
    "    \"\"\"\n",
    "    Project samples into predefined PCA space\n",
    "    :param pca_loadings: existing PCA space of unrelated samples \n",
    "    :param project_mt: Matrix Table of related samples to project  \n",
    "    :param reg_name: region name for saving output purposes\n",
    "    :param out_path: path for where to save PCA projection outputs\n",
    "    :return:\n",
    "    \"\"\"\n",
    "    ht_projections = pc_project(project_mt, pca_loadings)  \n",
    "    ht_projections = ht_projections.transmute(**{f'PC{i}': ht_projections.scores[i - 1] for i in range(1, 21)}) \n",
    "    ht_projections.export(out_path + reg_name + '_projected_scores.txt.bgz') # save output   "
   ]
  },
  {
   "cell_type": "markdown",
   "id": "7e1ade90",
   "metadata": {},
   "source": [
    "### 5c. Global PCA\n",
    "\n",
    "<br>\n",
    "<details><summary> Click <u><span style=\"color:blue\">here</span></u> to learn why are we doing this.</summary>\n",
    "<br>\n",
    "    \n",
    "To see the population structure and clustering on a continental level and contextualize the data globally.    \n",
    "    \n",
    "</details>\n",
    "\n",
    "[Back to Index](#Index)"
   ]
  },
  {
   "cell_type": "code",
   "execution_count": null,
   "id": "b320777f",
   "metadata": {},
   "outputs": [],
   "source": [
    "# Run PCA on the unrelated samples\n",
    "run_pca(mt_unrel, 'global', pca_preoutlier_path, False)  \n",
    "\n",
    "# Read in the PCA loadings of the unrelated samples\n",
    "loadings = hl.read_table(pca_preoutlier_path+'global_loadings.ht') \n",
    "\n",
    "# Project the related samples onto the unrelated-samples' PC space \n",
    "project_individuals(loadings, mt_rel, 'global', pca_preoutlier_path, False) "
   ]
  },
  {
   "cell_type": "markdown",
   "id": "883f86f5",
   "metadata": {},
   "source": [
    "### 5d. Subcontinental PCA \n",
    "<br>\n",
    "\n",
    "When running the following section, the notebook might freeze after printing the log for EUR, AFR and AMR. If this happens, do not restart it. Let it run and follow the progress with the outputs being generated.  \n",
    "\n",
    "When complete, check for the following in your specified output path:\n",
    "- 21 total output files (3 for each region)\n",
    "\n",
    "Once you have confirmed you have the desired output do the following:\n",
    "1. Save close and halt the current notebook\n",
    "2. Open a new session\n",
    "3. Proceed to the next step (run project_relateds function)\n",
    "\n",
    "\n",
    "<br>\n",
    "<details><summary> Click <u><span style=\"color:blue\">here</span></u> to learn why are we doing this. </summary>\n",
    "<br>\n",
    "    \n",
    "To see the population structure and clustering on a subcontinental level and contextualize data within continental regions. This also helped us identify outliers which were removed later on.     \n",
    "\n",
    "</details>\n",
    "<br>\n",
    "\n",
    "<details><summary> For more information on Hail methods and expressions click <u><span style=\"color:blue\">here</span></u>.</summary> \n",
    "\n",
    "<ul>\n",
    "<li><a href=\"more info https://hail.is/docs/0.2/methods/genetics.html#hail.methods.hwe_normalized_pca\"> More on <i> hwe_normalized_pca() </i></a></li>\n",
    "    \n",
    "<li><a href=\"more info https://hail.is/docs/0.2/hail.MatrixTable.html#hail.MatrixTable.annotate_rows\"> More on <i> annotate_rows() </i></a></li>\n",
    "    \n",
    "<li><a href=\"more info https://hail.is/docs/0.2/hail.Table.html#hail.Table.annotate\"> More on <i> annotate() </i></a></li>\n",
    "    \n",
    "<li><a href=\"more info https://hail.is/docs/0.2/hail.Table.html#hail.Table.transmute\"> More on <i> transmute() </i></a></li>\n",
    "    \n",
    "<li><a href=\"more info https://hail.is/docs/0.2/hail.Table.html#hail.Table.export\"> More on <i> export() </i></a></li>\n",
    "    \n",
    "<li><a href=\"more info https://hail.is/docs/0.2/experimental/index.html#hail.experimental.pc_project\"> More on <i> pc_project() </i></a></li>\n",
    "    \n",
    "<li><a href=\"more info https://hail.is/docs/0.2/hail.expr.Expression.html#hail.expr.Expression.collect\"> More on <i> collect() </i></a></li>\n",
    "</ul>\n",
    "    \n",
    "</details>\n",
    "\n",
    "[Back to Index](#Index)"
   ]
  },
  {
   "cell_type": "code",
   "execution_count": null,
   "id": "2a71cfd7",
   "metadata": {},
   "outputs": [],
   "source": [
    "# Obtain a list of the continental regions in the data set (used the unrelated data set since it had more samples) \n",
    "regions = mt_unrel['hgdp_tgp_meta']['Genetic']['region'].collect()\n",
    "regions = list(dict.fromkeys(regions)) # convert into a list\n",
    "# There are 7 regions: EUR, AFR, AMR, EAS, CSA, OCE, and MID\n",
    "\n",
    "# Set argument values for PCA \n",
    "subcont_pca_prefix = pca_preoutlier_path+'subcont_pca/' # path for outputs \n",
    "overwrite = False\n",
    "\n",
    "# For each region, run PCA on the unrelated samples (~27min to run)\n",
    "for i in regions:  \n",
    "    # filter the unrelateds per region\n",
    "    subcont_unrel = mt_unrel.filter_cols(mt_unrel['hgdp_tgp_meta']['Genetic']['region'] == i)  \n",
    "    run_pca(subcont_unrel, i, subcont_pca_prefix, overwrite)"
   ]
  },
  {
   "cell_type": "code",
   "execution_count": null,
   "id": "c2eae548",
   "metadata": {},
   "outputs": [],
   "source": [
    "# For each region, project the related samples onto the unrelated-samples' PC space (~2min to run)\n",
    "for i in regions:\n",
    "    # Read in the PCA loadings of the unrelated samples for each region \n",
    "    loadings = hl.read_table(subcont_pca_prefix + i + '_loadings.ht') \n",
    "    \n",
    "    # Filter the related mt per region \n",
    "    subcont_rel = mt_rel.filter_cols(mt_rel['hgdp_tgp_meta']['Genetic']['region'] == i)  \n",
    "    \n",
    "    # Project \n",
    "    project_individuals(loadings, subcont_rel, i, subcont_pca_prefix, overwrite) "
   ]
  },
  {
   "cell_type": "markdown",
   "id": "1517116b",
   "metadata": {},
   "source": [
    "# 6. Outlier Removal\n",
    "\n",
    "After plotting the PCs using R (link_the_plotting_Rmarkdown_here), 22 outliers were identified (complete_the_table)\n",
    "\n",
    "| s | Genetic region | Population | Note |\n",
    "| --- | --- | --- | -- |\n",
    "| HG01880 | AFR | ACB | - |\n",
    "| HG01881 | AFR | ACB | - |\n",
    "| NA20274 | AFR | ASW | - |\n",
    "| NA20299 | AFR | ASW | - |\n",
    "| NA20314 | AFR | ASW | Clusters with AMR in global PCA | \n",
    "| HGDP00013 | CSA | Brahui | - |\n",
    "| HGDP00029 | CSA | Brahui | - |\n",
    "| HGDP00057 | CSA | Balochi | - | \n",
    "| HGDP00130 | CSA | Makrani | Closer to AFR than most CSA |\n",
    "| HGDP00150 | CSA | Makrani | - |\n",
    "| HGDP01298 | EAS | Uygur | - |\n",
    "| HGDP01303 | EAS | Uygur | - |\n",
    "| HGDP01300 | EAS | Uygur | - |\n",
    "| LP6005443-DNA_B02 | EAS | Uygur | - |\n",
    "| HG01628 | EUR | IBS | - |\n",
    "| HG01629 | EUR | IBS | - |\n",
    "| HG01630 | EUR | IBS | - |\n",
    "| HG01694 | EUR | IBS | - |\n",
    "| HG01696 | EUR | IBS | - |\n",
    "| HGDP00621 | MID | Bedouin | Closer to AFR than most MID |\n",
    "| HGDP01270 | MID | Mozabite | Closer to AFR than most MID |\n",
    "| HGDP01271 | MID | Mozabite | Closer to AFR than most MID |"
   ]
  },
  {
   "cell_type": "code",
   "execution_count": null,
   "id": "b74a1ec3",
   "metadata": {},
   "outputs": [],
   "source": [
    "# Read in the unrelated and related mts to remove outliers and rerun pca  \n",
    "mt_unrel_unfiltered = apply_qc(rel_unrel='unrelated_pre_outlier') # unrelated mt\n",
    "mt_rel_unfiltered = apply_qc(rel_unrel='related_pre_outlier') # related mt\n",
    "\n",
    "# Read the outliers file into a list\n",
    "with hl.utils.hadoop_open(outliers_path) as file: \n",
    "    outliers = [line.rstrip('\\n') for line in file]\n",
    "    \n",
    "# Capture and broadcast the list as an expression\n",
    "outliers_list = hl.literal(outliers)\n",
    "\n",
    "# Remove the 22 outliers from both mts\n",
    "mt_unrel = mt_unrel_unfiltered.filter_cols(~outliers_list.contains(mt_unrel_unfiltered['s']))\n",
    "mt_rel = mt_rel_unfiltered.filter_cols(~outliers_list.contains(mt_rel_unfiltered['s']))\n",
    "\n",
    "# Validity check \n",
    "print('Unrelated: Before outlier removal ' + \n",
    "      str(mt_unrel_unfiltered.count()[1]) + ' | After outlier removal ' + \n",
    "      str(mt_unrel.count()[1]))\n",
    "\n",
    "print('Related: Before outlier removal: ' + \n",
    "      str(mt_rel_unfiltered.count()[1]) + ' | After outlier removal ' + \n",
    "      str(mt_rel.count()[1])) num_outliers = (mt_unrel_unfiltered.count()[1] - \n",
    "                                              mt_unrel.count()[1]) + (mt_rel_unfiltered.count()[1] - \n",
    "                                                                      mt_rel.count()[1])\n",
    "print('Total samples removed = ' + str(num_outliers))"
   ]
  },
  {
   "cell_type": "markdown",
   "id": "c69a3b1a",
   "metadata": {},
   "source": [
    "# 7. Rerun PCA\n",
    "\n",
    "**Before running the sections below make sure you have run sections 5a (PCA) and 5b (projection) above.**\n",
    "\n",
    "<br>\n",
    "<details><summary> To learn what is different from the prior PCA run click <u><span style=\"color:blue\">here</span></u>.</summary>\n",
    "<ul>\n",
    "<li>updated unrelated and related mts (outliers removed)</li>\n",
    "<li>new paths for the outputs</li>  \n",
    "    </ul>\n",
    "</details>\n",
    "\n",
    "[Back to Index](#Index)"
   ]
  },
  {
   "cell_type": "markdown",
   "id": "18a09ac3",
   "metadata": {},
   "source": [
    "### 7a. Global PCA (without outliers)"
   ]
  },
  {
   "cell_type": "code",
   "execution_count": null,
   "id": "a1b29d03",
   "metadata": {},
   "outputs": [],
   "source": [
    "# Run PCA on the unrelated samples  \n",
    "run_pca(mt_unrel, 'global', pca_postoutlier_path, False)\n",
    "\n",
    "# Read in the PCA loadings of the unrelated samples  \n",
    "loadings = hl.read_table(pca_postoutlier_path+'global_loadings.ht') \n",
    "\n",
    "# Project the related samples onto the unrelated-samples' PC space \n",
    "project_individuals(loadings, mt_rel, 'global', pca_postoutlier_path, False) "
   ]
  },
  {
   "cell_type": "markdown",
   "id": "cc260642",
   "metadata": {},
   "source": [
    "### 7b. Subcontinental PCA (without outliers)\n",
    "\n",
    "When running the following section, the notebook might freeze after printing the log for EUR, AFR and AMR. If this happens, do not restart it. Let it run and follow the progress with the outputs being generated.  \n",
    "\n",
    "When complete, check for the following in your specified output path:\n",
    "- 21 total output files (3 for each region)\n",
    "\n",
    "Once you have confirmed you have the desired output do the following:\n",
    "1. Save close and halt the current notebook\n",
    "2. Open a new session\n",
    "3. Proceed to the next step (run project_relateds function)\n",
    "\n",
    "<br>\n",
    "<details><summary>For more information on Hail methods and expressions click <u><span style=\"color:blue\">here</span></u>.</summary> \n",
    "\n",
    "<ul>\n",
    "<li><a href=\"more info https://hail.is/docs/0.2/methods/genetics.html#hail.methods.hwe_normalized_pca\"> More on <i> hwe_normalized_pca() </i></a></li>\n",
    "    \n",
    "<li><a href=\"more info https://hail.is/docs/0.2/hail.MatrixTable.html#hail.MatrixTable.annotate_rows\"> More on <i> annotate_rows() </i></a></li>\n",
    "    \n",
    "<li><a href=\"more info https://hail.is/docs/0.2/hail.Table.html#hail.Table.annotate\"> More on <i> annotate() </i></a></li>\n",
    "    \n",
    "<li><a href=\"more info https://hail.is/docs/0.2/hail.Table.html#hail.Table.transmute\"> More on <i> transmute() </i></a></li>\n",
    "    \n",
    "<li><a href=\"more info https://hail.is/docs/0.2/hail.Table.html#hail.Table.export\"> More on <i> export() </i></a></li>\n",
    "    \n",
    "<li><a href=\"more info https://hail.is/docs/0.2/experimental/index.html#hail.experimental.pc_project\"> More on <i> pc_project() </i></a></li>\n",
    "    \n",
    "<li><a href=\"more info https://hail.is/docs/0.2/hail.expr.Expression.html#hail.expr.Expression.collect\"> More on <i> collect() </i></a></li>\n",
    "    </ul>\n",
    "    \n",
    "</details>\n",
    "\n",
    "[Back to Index](#Index)"
   ]
  },
  {
   "cell_type": "code",
   "execution_count": null,
   "id": "76a6dc3d",
   "metadata": {},
   "outputs": [],
   "source": [
    "# Set argument values for PCA \n",
    "subcont_pca_prefix = pca_postoutlier_path+'subcont_pca/' # path for outputs \n",
    "overwrite = False \n",
    "\n",
    "\n",
    "# For each region, run PCA on the unrelated samples (~26 min to run) \n",
    "# \"regions\" is a list containing the 7 continental regions in the data set from section 4d\n",
    "for i in regions: \n",
    "    # filter the unrelateds per region\n",
    "    subcont_unrel = mt_unrel.filter_cols(mt_unrel['hgdp_tgp_meta']['Genetic']['region'] == i)  \n",
    "    run_pca(subcont_unrel, i, subcont_pca_prefix, overwrite)"
   ]
  },
  {
   "cell_type": "code",
   "execution_count": null,
   "id": "dc60a9dd",
   "metadata": {},
   "outputs": [],
   "source": [
    "# For each region, project the related samples onto the unrelated-samples' PC space (~3min to run)\n",
    "for i in regions:\n",
    "    # Read in the PCA loadings of the unrelated samples for each region\n",
    "    loadings = hl.read_table(subcont_pca_prefix + i + '_loadings.ht') \n",
    "    \n",
    "    # Filter the relateds per region \n",
    "    subcont_rel = mt_rel.filter_cols(mt_rel['hgdp_tgp_meta']['Genetic']['region'] == i)  \n",
    "    \n",
    "    # Project \n",
    "    project_individuals(loadings, subcont_rel, i, subcont_pca_prefix, overwrite) "
   ]
  },
  {
   "cell_type": "markdown",
   "id": "ab5b2bb2",
   "metadata": {},
   "source": [
    "# 8. Write Out Matrix Table \n",
    "[Back to Index](#Index)"
   ]
  },
  {
   "cell_type": "markdown",
   "id": "89958a9e",
   "metadata": {},
   "source": [
    "```python3\n",
    "# Write out mts of unrelated and related samples separately (post-outlier removal) \n",
    "# Unrelated mt\n",
    "mt_unrel.write('gs://hgdp-1kg/hgdp_tgp/datasets_for_others/lindo/ds_without_outliers/unrelated.mt',\n",
    "                overwrite=False)\n",
    "# Related mt\n",
    " mt_rel.write('gs://hgdp-1kg/hgdp_tgp/datasets_for_others/lindo/ds_without_outliers/related.mt',\n",
    "               overwrite=False)\n",
    "```"
   ]
  }
 ],
 "metadata": {
  "kernelspec": {
   "display_name": "Python 3 (ipykernel)",
   "language": "python",
   "name": "python3"
  },
  "language_info": {
   "codemirror_mode": {
    "name": "ipython",
    "version": 3
   },
   "file_extension": ".py",
   "mimetype": "text/x-python",
   "name": "python",
   "nbconvert_exporter": "python",
   "pygments_lexer": "ipython3",
   "version": "3.8.9"
  },
  "vscode": {
   "interpreter": {
    "hash": "31f2aee4e71d21fbe5cf8b01ff0e069b9275f58929596ceb00d14d90e3e16cd6"
   }
  }
 },
 "nbformat": 4,
 "nbformat_minor": 5
}

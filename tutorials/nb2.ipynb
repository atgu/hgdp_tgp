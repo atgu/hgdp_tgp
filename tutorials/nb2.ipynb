{
 "cells": [
  {
   "cell_type": "markdown",
   "metadata": {},
   "source": [
    "## PCA and Ancestry Analyses\n",
    "\n",
    "Author: Mary T. Yohannes\n",
    "\n",
    "#### To run this tutorial you need to have started your cluster with --packages-gnomad.\n",
    "\n",
    "If you have not done this, you will need to shut down your current cluster and start a new one with the --packages-gnomad argument.\n",
    "\n",
    "See the tutorials README for more information on how to start a cluster."
   ]
  },
  {
   "cell_type": "markdown",
   "metadata": {},
   "source": [
    "# Index\n",
    "1. [Setting Default Paths](#1.-Set-Default-Paths)\n",
    "2. [Variant Filtering and LD Pruning](#2.-Variant-Filtering-and-LD-Pruning)\n",
    "3. [Run PC Relate](#3.-Run-PC-Relate)\n",
    "4. [PCA](#4.-PCA)\n",
    "    1. [Function to Run PCA on Unrelated Individuals](#4a.-Function-to-Run-PCA-on-Unrelated-Individuals)\n",
    "    2. [Function to Project Related Individuals](#4b.-Function-to-Project-Related-Individuals)\n",
    "    3. [Global PCA](#4c.-Global-PCA)\n",
    "    4. [Subcontinental PCA](#4d.-Subcontinental-PCA)\n",
    "5. [Outlier Removal](#5.-Outlier-Removal)\n",
    "6. [Rerun PCA](#6.-Rerun-PCA)\n",
    "    1. [Global PCA](#6a.-Global-PCA)\n",
    "    2. [Subcontinental PCA](#6b.-Subcontinental-PCA)\n",
    "7. [Writing out Matrix Table](#7.-Write-Out-Matrix-Table)"
   ]
  },
  {
   "cell_type": "markdown",
   "metadata": {},
   "source": [
    "# General Overview \n",
    "The purpose of this notebook is to further filter the post-QC matrix table to prepare it for LD pruning, compute relatedness, and run Principal Component Analysis (PCA).\n",
    "\n",
    "**This script contains information on how to:**\n",
    "- Read in a matrix table and run Hail common variant statistics \n",
    "- Filter using allele frequency and call rate\n",
    "- Run LD pruning \n",
    "- Run relatedness and separate related and unrelated individuals\n",
    "- Calculate PC scores and project samples on to a PC space  \n",
    "- Run global and subcontinental PCA and plot them \n",
    "- Remove PCA outliers (filter using sample IDs)\n",
    "- Rerun global and subcontinental PCA\n",
    "- Write out a matrix table "
   ]
  },
  {
   "cell_type": "code",
   "execution_count": null,
   "metadata": {},
   "outputs": [],
   "source": [
    "import hail as hl\n",
    "\n",
    "# importing methods from gnomAD needed to project individuals\n",
    "from gnomad.sample_qc.ancestry import *"
   ]
  },
  {
   "cell_type": "markdown",
   "metadata": {},
   "source": [
    "# 1. Set Default Paths\n",
    "These default paths can be edited by users as needed. \n",
    "\n",
    "By default we have commented out all of the write steps of the tutorials, if you would like to write out your own datasets, uncomment those sections and replace the paths with your own. Don't forget to change the read-in paths as well. \n",
    "\n",
    "[Back to Index](#Index)"
   ]
  },
  {
   "cell_type": "code",
   "execution_count": null,
   "metadata": {},
   "outputs": [],
   "source": [
    "# input file \n",
    "input_path = 'gs://hgdp-1kg/hgdp_tgp/intermediate_files/pre_running_varqc.mt'\n",
    "\n",
    "# save the filtered and LD pruned mt as an intermediate file since LD pruning takes a while to rerun\n",
    "intermediate_file_path = 'gs://hgdp-1kg/hgdp_tgp/intermediate_files/filtered_n_pruned_output_updated.mt'\n",
    "\n",
    "# paths for unrelated and related samples (prior to outlier identification and removal) \n",
    "unrel_preoutlier_path = 'gs://hgdp-1kg/hgdp_tgp/unrel_updated.mt'\n",
    "rel_preoutlier_path = 'gs://hgdp-1kg/hgdp_tgp/rel_updated.mt' \n",
    "\n",
    "# path for pre-outlier PCA results - global & subcontinental PCA \n",
    "pca_preoutlier_path = 'gs://hgdp-1kg/hgdp_tgp/pca_preoutlier/'\n",
    "\n",
    "# outliers file \n",
    "outliers_path = 'gs://hgdp-1kg/hgdp_tgp/pca_outliers_v2.txt'\n",
    "\n",
    "# path for post-outlier PCA results - global & subcontinental PCA \n",
    "pca_postoutlier_path = 'gs://hgdp-1kg/hgdp_tgp/pca_postoutlier/'\n",
    "\n",
    "# final output paths for unrelated and related samples (post-outlier)\n",
    "unrel_final_output = 'gs://hgdp-1kg/hgdp_tgp/datasets_for_others/lindo/ds_without_outliers/unrelated.mt'\n",
    "rel_final_output = 'gs://hgdp-1kg/hgdp_tgp/datasets_for_others/lindo/ds_without_outliers/related.mt'"
   ]
  },
  {
   "cell_type": "markdown",
   "metadata": {},
   "source": [
    "# 2. Variant Filtering and LD Pruning\n",
    "   \n",
    "At this point, we have 155,648,020 SNVs. We want fewer variants (~100-300k) for PCA for computational efficiency, so we apply filters on: allele frequency (<code>AF</code>) and missingness (<code>call rate</code>), then run LD pruning.  \n",
    "\n",
    "Linkage disequilibrium (LD) is the correlation between nearby variants such that the alleles at neighboring polymorphisms (observed on the same chromosome) are associated within a population more often than if they were unlinked.    \n",
    "    \n",
    "For more information on LD pruning click <a href=\"\"> here </a>\n",
    "\n",
    "\n",
    "<br>\n",
    "<details><summary> For more information on Hail methods and expressions click <u><span style=\"color:blue\">here</span></u>.</summary> \n",
    "<ul>\n",
    "<li><a href=\"https://hail.is/docs/0.2/methods/genetics.html#hail.methods.variant_qc\"> More on  <i> variant_qc() </i></a></li>\n",
    "\n",
    "<li><a href=\"https://hail.is/docs/0.2/methods/genetics.html#hail.methods.ld_prune\"> More on  <i> ld_prune() </i></a></li>\n",
    "    </ul>\n",
    "</details>\n",
    "\n",
    "[Back to Index](#Index)"
   ]
  },
  {
   "cell_type": "code",
   "execution_count": null,
   "metadata": {},
   "outputs": [],
   "source": [
    "# read-in the right input file \n",
    "mt_filt = hl.read_matrix_table(input_path)"
   ]
  },
  {
   "cell_type": "markdown",
   "metadata": {},
   "source": [
    "### 2a. Variant Filtering \n",
    "\n",
    "[Back to Index](#Index)"
   ]
  },
  {
   "cell_type": "code",
   "execution_count": null,
   "metadata": {},
   "outputs": [],
   "source": [
    "# run Hail's common variant statistics (QC metrics) \n",
    "mt_var = hl.variant_qc(mt_filt) \n",
    "\n",
    "# filter to variants with AF between 0.05 & 0.95, and call rate greater than 0.999    \n",
    "mt_var_filt = mt_var.filter_rows((mt_var.variant_qc.AF[0] > 0.05) & \n",
    "                                 (mt_var.variant_qc.AF[0] < 0.95) & \n",
    "                                 (mt_var.variant_qc.call_rate > 0.999))\n",
    "\n",
    "# this line take ~20min to print \n",
    "print('Num of variants after filtering = ' + str(mt_var_filt.count()[0]))"
   ]
  },
  {
   "cell_type": "markdown",
   "metadata": {},
   "source": [
    "We started with 155,648,020 SNVs, then after filtering on allele frequency and call rate, we ended with 6,787,034 SNVs."
   ]
  },
  {
   "cell_type": "markdown",
   "metadata": {},
   "source": [
    "### 2b. LD Pruning\n",
    "\n",
    "[Back to Index](#Index)"
   ]
  },
  {
   "cell_type": "markdown",
   "metadata": {},
   "source": [
    "We have too many variants for PCA that are also non-independent. We address this by pruning SNVs based on LD."
   ]
  },
  {
   "cell_type": "code",
   "execution_count": null,
   "metadata": {},
   "outputs": [],
   "source": [
    "# remove correlated variants \n",
    "pruned = hl.ld_prune(mt_var_filt.GT, r2=0.1, bp_window_size=500000) # ~113 min to run  \n",
    "mt_var_pru_filt = mt_var_filt.filter_rows(hl.is_defined(pruned[mt_var_filt.row_key])) \n",
    "print('Num of variants after LD pruning = ' + str(mt_var_pru_filt.count()[0])) # 248,634 SNVs"
   ]
  },
  {
   "cell_type": "markdown",
   "metadata": {},
   "source": [
    "Since the number of variants after this step is now in the ~100-300k range, we proceed to the PCA analysis without any more adjustments."
   ]
  },
  {
   "cell_type": "markdown",
   "metadata": {},
   "source": [
    "### 2c. Write out an intermediate file\n",
    "\n",
    "The LD pruning step takes a non-negligible amount of time to run, so to ensure that the downstream analyses steps don't take a very long time, we write out an intermediate file. This write out step should take around 23 minutes to run.\n",
    "\n",
    "\n",
    "If the user wishes to export their own intermediate file, they can do so by changing the intermediate file path. Once a file has been written out, the <code>overwrite</code> argument can be used to replace it with a new file or keep the original one.  \n",
    "\n",
    "[Back to Index](#Index)"
   ]
  },
  {
   "cell_type": "code",
   "execution_count": null,
   "metadata": {},
   "outputs": [],
   "source": [
    "## writing out an intermediate file to speed up subsequent analyses; take ~23 min to run\n",
    "# mt_var_pru_filt.write(intermediate_file_path, overwrite=False) \n",
    "\n",
    "# read the intermediate file back in for subsequent analyses\n",
    "mt_var_pru_filt = hl.read_matrix_table(intermediate_file_path) "
   ]
  },
  {
   "cell_type": "markdown",
   "metadata": {},
   "source": [
    "# 3. Run PC Relate   \n",
    "\n",
    "When doing Principal Component Analysis (PCA), we need to separate the related and unrelated samples before computing the PC scores and plotting them. This is because if we compute PCA with the related samples in the data set, the population structure and clustering will be affected by the relatedness that exists among those samples. Thus, we first have to identify the related individuals by computing relatedness estimates (kinship statistic in this case) using a variant of the PC-Relate method in Hail. We used a minimum minor allele frequency (MAF) filter of 0.05, excluded sample pairs with kinship less than 0.05, and used 20 principal components (PC) to control for population structure. After getting the sample ID pairs for the related samples, we then separate the filtered and pruned mt into relateds and unrelateds.\n",
    "\n",
    "<br>\n",
    "We computed the kinship statistic using (metrics for <code>pc_relate</code>):\n",
    "    <ul>\n",
    "        <li>a minimum minor allele frequency filter of 0.05</li>\n",
    "        <li>excluding sample-pairs with kinship less than 0.05</li>\n",
    "        <li>20 principal components to control for population structure</li>\n",
    "    </ul>\n",
    "\n",
    "<br>    \n",
    "<details><summary>For more information on relatedness click <u><span style=\"color:blue\">here</span></u>.</summary>\n",
    "    <ul>\n",
    "        <li><a href=\"https://www.ncbi.nlm.nih.gov/pmc/articles/PMC4716688/\">Paper</a></li>\n",
    "        <li><a href=\"https://hail.is/docs/0.2/methods/relatedness.html#relatedness\">Hail documentation</a></li>\n",
    "    </ul>\n",
    "</details>\n",
    "\n",
    "<br>\n",
    "<details><summary> For more information on Hail methods and expressions click <u><span style=\"color:blue\">here</span></u>.</summary> \n",
    "    <ul>\n",
    "        <li><a href=\"https://hail.is/docs/0.2/methods/relatedness.html#hail.methods.pc_relate\"> More on  <i> pc_relate() </i></a>\n",
    "        </li>\n",
    "        <li><a href=\"https://hail.is/docs/0.2/methods/misc.html#hail.methods.maximal_independent_set\"> More on  <i> maximal_independent_set() </i></a>\n",
    "        </li>\n",
    "    </ul>\n",
    "</details>\n",
    "\n",
    "[Back to Index](#Index)"
   ]
  },
  {
   "cell_type": "code",
   "execution_count": null,
   "metadata": {},
   "outputs": [],
   "source": [
    "# compute kinship statistic\n",
    "# takes ~4min to run\n",
    "relatedness_ht = hl.pc_relate(\n",
    "    mt_var_pru_filt.GT, \n",
    "    min_individual_maf=0.05, \n",
    "    min_kinship=0.05, \n",
    "    statistics='kin', \n",
    "    k=20).key_by() \n",
    "\n",
    "# identify closely related individuals in pairs (list of sample IDs) \n",
    "# takes ~2hr & 22min to run\n",
    "related_samples_to_remove = hl.maximal_independent_set(relatedness_ht.i, relatedness_ht.j, False) \n",
    "\n",
    "# subset the filtered and pruned mt to samples that are NOT present in the list of related individuals  \n",
    "mt_unrel = mt_var_pru_filt.filter_cols(hl.is_defined(related_samples_to_remove[mt_var_pru_filt.col_key]), keep=False) \n",
    "\n",
    "# do the same as above but this time subset to samples that are present in the related-individuals list   \n",
    "mt_rel = mt_var_pru_filt.filter_cols(hl.is_defined(related_samples_to_remove[mt_var_pru_filt.col_key]), keep=True) "
   ]
  },
  {
   "cell_type": "code",
   "execution_count": null,
   "metadata": {},
   "outputs": [],
   "source": [
    "# # write out the unrelated and related mts since they are used beyond this notebook in other analyses     \n",
    "# # unrelated mt\n",
    "# mt_unrel.write(unrel_preoutlier_path, overwrite=False) \n",
    "\n",
    "# # related mt \n",
    "# mt_rel.write(rel_preoutlier_path, overwrite=False)"
   ]
  },
  {
   "cell_type": "code",
   "execution_count": null,
   "metadata": {},
   "outputs": [],
   "source": [
    "# read the related and unrelated mts back in \n",
    "# unrelated mt\n",
    "mt_unrel = hl.read_matrix_table(unrel_preoutlier_path)\n",
    "\n",
    "# related mt \n",
    "mt_rel = hl.read_matrix_table(rel_preoutlier_path)"
   ]
  },
  {
   "cell_type": "markdown",
   "metadata": {},
   "source": [
    "# 4. PCA\n",
    "\n",
    "PCA is run on the unrelated samples first. Then, the related samples are projected onto the PC space of the unrelated samples to get their PC scores. This way the population structure and clustering is not affected by the relatedness among samples.  \n",
    "\n",
    "[Back to Index](#Index)"
   ]
  },
  {
   "cell_type": "markdown",
   "metadata": {},
   "source": [
    "### 4a. Function to Run PCA on Unrelated Individuals\n",
    "\n",
    "[Back to Index](#Index)"
   ]
  },
  {
   "cell_type": "code",
   "execution_count": null,
   "metadata": {},
   "outputs": [],
   "source": [
    "def run_pca(mt: hl.MatrixTable, reg_name:str, out_path: str, overwrite: bool = False):\n",
    "    \"\"\"\n",
    "    Runs PCA on a data set\n",
    "    :param mt: data set to run PCA on\n",
    "    :param reg_name: region name for saving output purposes\n",
    "    :param out_path: path for where to save the outputs\n",
    "    :return:\n",
    "    \"\"\"\n",
    "\n",
    "    pca_evals, pca_scores, pca_loadings = hl.hwe_normalized_pca(mt.GT, k=20, compute_loadings=True)\n",
    "    pca_mt = mt.annotate_rows(pca_af=hl.agg.mean(mt.GT.n_alt_alleles()) / 2)\n",
    "    pca_loadings = pca_loadings.annotate(pca_af=pca_mt.rows()[pca_loadings.key].pca_af)\n",
    "    pca_scores = pca_scores.transmute(**{f'PC{i}': pca_scores.scores[i - 1] for i in range(1, 21)})\n",
    "    \n",
    "    pca_scores.export(out_path + reg_name + '_scores.txt.bgz')  # save individual-level-genetic-region PCs\n",
    "    pca_loadings.write(out_path + reg_name + '_loadings.ht', overwrite)  # save PCA loadings"
   ]
  },
  {
   "cell_type": "markdown",
   "metadata": {},
   "source": [
    "### 4b. Function to Project Related Individuals\n",
    "If this function is not working, make sure you used the <code>--packages gnomad</code> argument when starting your cluster (as noted at the beginning of the notebook above).\n",
    "\n",
    "[Back to Index](#Index)"
   ]
  },
  {
   "cell_type": "code",
   "execution_count": null,
   "metadata": {},
   "outputs": [],
   "source": [
    "from gnomad.sample_qc.ancestry import *\n",
    "\n",
    "def project_individuals(pca_loadings, project_mt, reg_name:str, out_path: str, overwrite: bool = False):\n",
    "    \"\"\"\n",
    "    Project samples into predefined PCA space\n",
    "    :param pca_loadings: existing PCA space of unrelated samples \n",
    "    :param project_mt: matrix table of related samples to project  \n",
    "    :param reg_name: region name for saving output purposes\n",
    "    :param out_path: path for where to save PCA projection outputs\n",
    "    :return:\n",
    "    \"\"\"\n",
    "    ht_projections = pc_project(project_mt, pca_loadings)  \n",
    "    ht_projections = ht_projections.transmute(**{f'PC{i}': ht_projections.scores[i - 1] for i in range(1, 21)}) \n",
    "    ht_projections.export(out_path + reg_name + '_projected_scores.txt.bgz') # save output   "
   ]
  },
  {
   "cell_type": "markdown",
   "metadata": {},
   "source": [
    "### 4c. Global PCA\n",
    "\n",
    "We are doing this to see the population structure and clustering on a continental level and contextualize the data globally.    \n",
    "\n",
    "[Back to Index](#Index)"
   ]
  },
  {
   "cell_type": "code",
   "execution_count": null,
   "metadata": {},
   "outputs": [],
   "source": [
    "# run PCA on the unrelated samples\n",
    "run_pca(mt_unrel, 'global', pca_preoutlier_path, False)  \n",
    "\n",
    "# read in the PCA loadings of the unrelated samples\n",
    "loadings = hl.read_table(pca_preoutlier_path+'global_loadings.ht') \n",
    "\n",
    "# project the related samples onto the unrelated-samples' PC space \n",
    "project_individuals(loadings, mt_rel, 'global', pca_preoutlier_path, False) "
   ]
  },
  {
   "cell_type": "markdown",
   "metadata": {},
   "source": [
    "### 4d. Subcontinental PCA \n",
    "\n",
    "To see the population structure and clustering on a subcontinental level and contextualize data within continental regions. This also helped us identify outliers which were removed later on.     \n",
    "\n",
    "When running the following section, the notebook might freeze after printing the log for <code>EUR</code>, <code>AFR</code> and <code>AMR</code>. If this happens, do not restart it. Let it run and follow the progress with the outputs being generated at the path indicated.  \n",
    "\n",
    "When complete, check that there are 21 total output files (3 for each region) in your specified output path.\n",
    "\n",
    "Once you have confirmed you have the desired outputs, do the following:\n",
    "<ol type=\"1\">\n",
    "<li> Save close and halt the current notebook</li>\n",
    "<li> Open a new session</li>\n",
    "<li> Proceed to the next step (run <code>project_relateds</code> function first)</li>\n",
    "</ol>\n",
    "\n",
    "<details><summary> For more information on Hail methods and expressions click <u><span style=\"color:blue\">here</span></u>.</summary> \n",
    "\n",
    "<ul>\n",
    "<li><a href=\"more info https://hail.is/docs/0.2/methods/genetics.html#hail.methods.hwe_normalized_pca\"> More on <i> hwe_normalized_pca() </i></a></li>\n",
    "    \n",
    "<li><a href=\"more info https://hail.is/docs/0.2/hail.MatrixTable.html#hail.MatrixTable.annotate_rows\"> More on <i> annotate_rows() </i></a></li>\n",
    "    \n",
    "<li><a href=\"more info https://hail.is/docs/0.2/hail.Table.html#hail.Table.annotate\"> More on <i> annotate() </i></a></li>\n",
    "    \n",
    "<li><a href=\"more info https://hail.is/docs/0.2/hail.Table.html#hail.Table.transmute\"> More on <i> transmute() </i></a></li>\n",
    "    \n",
    "<li><a href=\"more info https://hail.is/docs/0.2/hail.Table.html#hail.Table.export\"> More on <i> export() </i></a></li>\n",
    "    \n",
    "<li><a href=\"more info https://hail.is/docs/0.2/experimental/index.html#hail.experimental.pc_project\"> More on <i> pc_project() </i></a></li>\n",
    "    \n",
    "<li><a href=\"more info https://hail.is/docs/0.2/hail.expr.Expression.html#hail.expr.Expression.collect\"> More on <i> collect() </i></a></li>\n",
    "</ul>\n",
    "    \n",
    "</details>\n",
    "\n",
    "[Back to Index](#Index)"
   ]
  },
  {
   "cell_type": "code",
   "execution_count": null,
   "metadata": {},
   "outputs": [],
   "source": [
    "# obtain a list of the continental regions in the data set (used the unrelated data set since it had more samples) \n",
    "regions = mt_unrel['hgdp_tgp_meta']['Genetic']['region'].collect()\n",
    "regions = list(dict.fromkeys(regions)) # convert into a list\n",
    "# There are 7 regions: EUR, AFR, AMR, EAS, CSA, OCE, and MID\n",
    "\n",
    "# set argument values for PCA \n",
    "subcont_pca_prefix = pca_preoutlier_path+'subcont_pca/' # path for outputs \n",
    "overwrite = False\n",
    "\n",
    "# for each region, run PCA on the unrelated samples (~27min to run)\n",
    "for i in regions:  \n",
    "    # filter the unrelateds per region\n",
    "    subcont_unrel = mt_unrel.filter_cols(mt_unrel['hgdp_tgp_meta']['Genetic']['region'] == i) \n",
    "    \n",
    "    # run PCA\n",
    "    run_pca(subcont_unrel, i, subcont_pca_prefix, overwrite)"
   ]
  },
  {
   "cell_type": "code",
   "execution_count": null,
   "metadata": {},
   "outputs": [],
   "source": [
    "# for each region, project the related samples onto the unrelated-samples' PC space (~2min to run)\n",
    "for i in regions:\n",
    "    # read in the PCA loadings of the unrelated samples for each region \n",
    "    loadings = hl.read_table(subcont_pca_prefix + i + '_loadings.ht') \n",
    "    \n",
    "    # filter the related mt per region \n",
    "    subcont_rel = mt_rel.filter_cols(mt_rel['hgdp_tgp_meta']['Genetic']['region'] == i)  \n",
    "    \n",
    "    # project \n",
    "    project_individuals(loadings, subcont_rel, i, subcont_pca_prefix, overwrite) "
   ]
  },
  {
   "cell_type": "markdown",
   "metadata": {},
   "source": [
    "# 5. Outlier Removal\n",
    "\n",
    "After plotting the PCs using R (link_the_plotting_Rmarkdown_here), 22 outliers were identified. \n",
    "\n",
    "| sample ID | Genetic region | Population |\n",
    "| --- | --- | --- |\n",
    "| HG01880 | AFR | ACB |\n",
    "| HG01881 | AFR | ACB |\n",
    "| NA20274 | AFR | ASW |\n",
    "| NA20299 | AFR | ASW |\n",
    "| NA20314 | AFR | ASW |\n",
    "| HGDP00013 | CSA | Brahui |\n",
    "| HGDP00029 | CSA | Brahui |\n",
    "| HGDP00057 | CSA | Balochi |\n",
    "| HGDP00130 | CSA | Makrani |\n",
    "| HGDP00150 | CSA | Makrani |\n",
    "| HGDP01298 | EAS | Uygur |\n",
    "| HGDP01303 | EAS | Uygur |\n",
    "| HGDP01300 | EAS | Uygur |\n",
    "| LP6005443-DNA_B02 | EAS | Uygur |\n",
    "| HG01628 | EUR | IBS | \n",
    "| HG01629 | EUR | IBS | \n",
    "| HG01630 | EUR | IBS | \n",
    "| HG01694 | EUR | IBS | \n",
    "| HG01696 | EUR | IBS |\n",
    "| HGDP00621 | MID | Bedouin |\n",
    "| HGDP01270 | MID | Mozabite |\n",
    "| HGDP01271 | MID | Mozabite |"
   ]
  },
  {
   "cell_type": "markdown",
   "metadata": {},
   "source": [
    "<details>\n",
    "<summary> For more information on Hail methods and expressions click <u><span style=\"color:blue\">here</span></u>.</summary> \n",
    "    \n",
    "- <a href=\"more info https://hail.is/docs/0.2/utils/index.html#hail.utils.hadoop_open\"> More on  <i> hl.utils.hadoop_open() </i></a>\n",
    "    \n",
    "- <a href=\"more info https://hail.is/docs/0.2/functions/core.html#hail.expr.functions.literal\"> More on  <i> hl.literal() </i></a>\n",
    "</details>\n",
    "\n",
    "[Back to Index](#Index)"
   ]
  },
  {
   "cell_type": "code",
   "execution_count": null,
   "metadata": {},
   "outputs": [],
   "source": [
    "# read in the unrelated and related mts to remove outliers and rerun pca  \n",
    "mt_unrel_unfiltered = hl.read_matrix_table(unrel_preoutlier_path) # unrelated mt\n",
    "mt_rel_unfiltered = hl.read_matrix_table(rel_preoutlier_path) # related mt\n",
    "\n",
    "# read the outliers file into a list\n",
    "with hl.utils.hadoop_open(outliers_path) as file: \n",
    "    outliers = [line.rstrip('\\n') for line in file]\n",
    "    \n",
    "# capture and broadcast the list as an expression\n",
    "outliers_list = hl.literal(outliers)\n",
    "\n",
    "# remove the 22 outliers from both mts\n",
    "mt_unrel = mt_unrel_unfiltered.filter_cols(~outliers_list.contains(mt_unrel_unfiltered['s']))\n",
    "mt_rel = mt_rel_unfiltered.filter_cols(~outliers_list.contains(mt_rel_unfiltered['s']))\n",
    "\n",
    "# validity check \n",
    "print('Unrelated: Before outlier removal ' + str(mt_unrel_unfiltered.count()[1]) + \n",
    "      ' | After outlier removal ' + str(mt_unrel.count()[1]))\n",
    "\n",
    "print('Related: Before outlier removal: ' + str(mt_rel_unfiltered.count()[1]) + \n",
    "      ' | After outlier removal ' + str(mt_rel.count()[1])) \n",
    "\n",
    "num_outliers = (mt_unrel_unfiltered.count()[1] - mt_unrel.count()[1]) + (mt_rel_unfiltered.count()[1] - mt_rel.count()[1])\n",
    "print('Total samples removed = ' + str(num_outliers))"
   ]
  },
  {
   "cell_type": "markdown",
   "metadata": {},
   "source": [
    "# 6. Rerun PCA\n",
    "\n",
    "**Before running the sections below make sure you have run sections 4a (PCA) and 4b (projection) above.**\n",
    "\n",
    "Here we are using the updated unrelated and related mts (outliers removed) and new paths for the outputs.\n",
    "\n",
    "[Back to Index](#Index)"
   ]
  },
  {
   "cell_type": "markdown",
   "metadata": {},
   "source": [
    "### 6a. Global PCA (without outliers)\n",
    "\n",
    "[Back to Index](#Index)"
   ]
  },
  {
   "cell_type": "code",
   "execution_count": null,
   "metadata": {},
   "outputs": [],
   "source": [
    "# run PCA on the unrelated samples  \n",
    "run_pca(mt_unrel, 'global', pca_postoutlier_path, False)\n",
    "\n",
    "# read in the PCA loadings of the unrelated samples  \n",
    "loadings = hl.read_table(pca_postoutlier_path+'global_loadings.ht') \n",
    "\n",
    "# project the related samples onto the unrelated-samples' PC space \n",
    "project_individuals(loadings, mt_rel, 'global', pca_postoutlier_path, False) "
   ]
  },
  {
   "cell_type": "markdown",
   "metadata": {},
   "source": [
    "### 6b. Subcontinental PCA (without outliers)\n",
    "\n",
    "When running the following section, the notebook might freeze after printing the log for <code>EUR</code>, <code>AFR</code> and <code>AMR</code>. If this happens, do not restart it. Let it run and follow the progress with the outputs being generated at the path indicated.  \n",
    "\n",
    "When complete, check that there are 21 total output files (3 for each region) in your specified output path.\n",
    "\n",
    "Once you have confirmed you have the desired outputs, do the following:\n",
    "<ol type=\"1\">\n",
    "<li> Save close and halt the current notebook</li>\n",
    "<li> Open a new session</li>\n",
    "<li> Proceed to the next step (run <code>project_relateds</code> function first)</li>\n",
    "</ol>\n",
    "\n",
    "<br>\n",
    "<details><summary>For more information on Hail methods and expressions click <u><span style=\"color:blue\">here</span></u>.</summary> \n",
    "\n",
    "<ul>\n",
    "<li><a href=\"more info https://hail.is/docs/0.2/methods/genetics.html#hail.methods.hwe_normalized_pca\"> More on <i> hwe_normalized_pca() </i></a></li>\n",
    "    \n",
    "<li><a href=\"more info https://hail.is/docs/0.2/hail.MatrixTable.html#hail.MatrixTable.annotate_rows\"> More on <i> annotate_rows() </i></a></li>\n",
    "    \n",
    "<li><a href=\"more info https://hail.is/docs/0.2/hail.Table.html#hail.Table.annotate\"> More on <i> annotate() </i></a></li>\n",
    "    \n",
    "<li><a href=\"more info https://hail.is/docs/0.2/hail.Table.html#hail.Table.transmute\"> More on <i> transmute() </i></a></li>\n",
    "    \n",
    "<li><a href=\"more info https://hail.is/docs/0.2/hail.Table.html#hail.Table.export\"> More on <i> export() </i></a></li>\n",
    "    \n",
    "<li><a href=\"more info https://hail.is/docs/0.2/experimental/index.html#hail.experimental.pc_project\"> More on <i> pc_project() </i></a></li>\n",
    "    \n",
    "<li><a href=\"more info https://hail.is/docs/0.2/hail.expr.Expression.html#hail.expr.Expression.collect\"> More on <i> collect() </i></a></li>\n",
    "    </ul>\n",
    "    \n",
    "</details>\n",
    "\n",
    "[Back to Index](#Index)"
   ]
  },
  {
   "cell_type": "code",
   "execution_count": null,
   "metadata": {},
   "outputs": [],
   "source": [
    "# set argument values for PCA \n",
    "subcont_pca_prefix = pca_postoutlier_path+'subcont_pca/' # path for outputs \n",
    "overwrite = False \n",
    "\n",
    "# for each region, run PCA on the unrelated samples (~26 min to run) \n",
    "# \"regions\" is a list containing the 7 continental regions in the data set from section 4d\n",
    "for i in regions: \n",
    "    # filter the unrelateds per region\n",
    "    subcont_unrel = mt_unrel.filter_cols(mt_unrel['hgdp_tgp_meta']['Genetic']['region'] == i)  \n",
    "    \n",
    "    # run PCA\n",
    "    run_pca(subcont_unrel, i, subcont_pca_prefix, overwrite)"
   ]
  },
  {
   "cell_type": "code",
   "execution_count": null,
   "metadata": {},
   "outputs": [],
   "source": [
    "# for each region, project the related samples onto the unrelated-samples' PC space (~3min to run)\n",
    "for i in regions:\n",
    "    # read in the PCA loadings of the unrelated samples for each region\n",
    "    loadings = hl.read_table(subcont_pca_prefix + i + '_loadings.ht') \n",
    "    \n",
    "    # filter the relateds per region \n",
    "    subcont_rel = mt_rel.filter_cols(mt_rel['hgdp_tgp_meta']['Genetic']['region'] == i)  \n",
    "    \n",
    "    # project \n",
    "    project_individuals(loadings, subcont_rel, i, subcont_pca_prefix, overwrite) "
   ]
  },
  {
   "cell_type": "markdown",
   "metadata": {},
   "source": [
    "# 7. Write Out Matrix Table \n",
    "[Back to Index](#Index)"
   ]
  },
  {
   "cell_type": "code",
   "execution_count": null,
   "metadata": {},
   "outputs": [],
   "source": [
    "# # write out mts of unrelated and related samples separately (post-outlier removal) \n",
    "# #unrelated mt\n",
    "# mt_unrel.write(unrel_final_output, overwrite=False)\n",
    "\n",
    "# #related mt\n",
    "# mt_rel.write(rel_final_output, overwrite=False)"
   ]
  }
 ],
 "metadata": {
  "kernelspec": {
   "display_name": "Python 3",
   "language": "python",
   "name": "python3"
  },
  "language_info": {
   "codemirror_mode": {
    "name": "ipython",
    "version": 3
   },
   "file_extension": ".py",
   "mimetype": "text/x-python",
   "name": "python",
   "nbconvert_exporter": "python",
   "pygments_lexer": "ipython3",
   "version": "3.7.9"
  },
  "vscode": {
   "interpreter": {
    "hash": "31f2aee4e71d21fbe5cf8b01ff0e069b9275f58929596ceb00d14d90e3e16cd6"
   }
  }
 },
 "nbformat": 4,
 "nbformat_minor": 5
}

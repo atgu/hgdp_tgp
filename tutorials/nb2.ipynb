{
 "cells": [
  {
   "cell_type": "markdown",
   "id": "confident-nitrogen",
   "metadata": {},
   "source": [
    "## Index\n",
    "- [Reading in data](#Reading-in-the-datasets)\n",
    "- [Annotating table with relatedness information](#Annotating-table-with-relatedness-information)\n",
    "- [Calculating statistics per population](#Calculating-statistics-per-population)\n",
    "- [Formatting table for exporting](#Formatting-table-for-exporting)\n",
    "- [Exporting final table](#Exporting-final-table)"
   ]
  },
  {
   "cell_type": "markdown",
   "id": "unable-oakland",
   "metadata": {},
   "source": [
    "### The purpose of this script is to format and write out a matrix table which will be used to create 'table 1' for our resource manuscript. \n",
    "#### This script contains information on how to:\n",
    "- select specific columns from a matrix table\n",
    "- annotate filter flags onto a matrix table\n",
    "- join the columns of two matrix tables\n",
    "- join two tables\n",
    "- group a matrix table by region, population \n",
    "- use hl.agg.stats to calculate statics for a metric within a population\n",
    "- count the number of samples where a filter flag equals True  \n",
    "\n",
    "**Author: Zan Koenig**"
   ]
  },
  {
   "cell_type": "code",
   "execution_count": 1,
   "id": "criminal-dublin",
   "metadata": {},
   "outputs": [
    {
     "name": "stderr",
     "output_type": "stream",
     "text": [
      "Running on Apache Spark version 3.1.1\n",
      "SparkUI available at http://znk-m.c.diverse-pop-seq-ref.internal:33345\n",
      "Welcome to\n",
      "     __  __     <>__\n",
      "    / /_/ /__  __/ /\n",
      "   / __  / _ `/ / /\n",
      "  /_/ /_/\\_,_/_/_/   version 0.2.77-684f32d73643\n",
      "LOGGING: writing to /home/hail/hail-20211116-2136-0.2.77-684f32d73643.log\n"
     ]
    }
   ],
   "source": [
    "import hail as hl\n",
    "hl.init()"
   ]
  },
  {
   "cell_type": "markdown",
   "id": "incident-olive",
   "metadata": {},
   "source": [
    "# Reading in data"
   ]
  },
  {
   "cell_type": "code",
   "execution_count": 2,
   "id": "foster-earthquake",
   "metadata": {},
   "outputs": [],
   "source": [
    "# Reading in the post QC version of the merged dataset (with metadata)\n",
    "### FIX: NEED TO UPDATE THIS PATH WITH THE NEWEST POST_QC MATRIX TABLE\n",
    "mt = hl.read_matrix_table('gs://hgdp-1kg/hgdp_tgp/qc_and_figure_generation/new_hgdp_tgp_postQC.mt')"
   ]
  },
  {
   "cell_type": "code",
   "execution_count": 3,
   "id": "acknowledged-tongue",
   "metadata": {},
   "outputs": [],
   "source": [
    "# Although sample_qc may already exist I am running it again to ensure it calculates metrics\n",
    "# only for the samples currently in the postQC dataset\n",
    "mt = hl.sample_qc(mt, name = \"sample_qc\")"
   ]
  },
  {
   "cell_type": "code",
   "execution_count": 4,
   "id": "undefined-covering",
   "metadata": {},
   "outputs": [
    {
     "name": "stderr",
     "output_type": "stream",
     "text": [
      "2021-11-16 21:37:00 Hail: WARN: cols(): Resulting column table is sorted by 'col_key'.\n",
      "    To preserve matrix table column order, first unkey columns with 'key_cols_by()'\n"
     ]
    }
   ],
   "source": [
    "# Grabbing only the columns from the matrix table (outputs table of just columns)\n",
    "col_table = mt.cols()"
   ]
  },
  {
   "cell_type": "code",
   "execution_count": 5,
   "id": "banner-buyer",
   "metadata": {},
   "outputs": [],
   "source": [
    "# Writing out a col table with only the columns needed for table 1\n",
    "### FIX: IN THE PROCESS OF UPDATING FILE/FIELD PATHS WITH NEW GEOGRAPHIC REGION FIELD GENERATED\n",
    "### IN THIS SECTION I NEED TO CHANGE COL_TABLE.HGDP_TGP_META.STUDY.REGION WITH COL_TABLE.STUDY_GEO_REGION\n",
    "col_table = col_table.select(col_table.hgdp_tgp_meta.Study.region,\n",
    "                             col_table.hgdp_tgp_meta.Population,\n",
    "                             col_table.sample_qc.n_snp,\n",
    "                             col_table.sample_qc.n_singleton,\n",
    "                             col_table.bam_metrics.mean_coverage)"
   ]
  },
  {
   "cell_type": "code",
   "execution_count": null,
   "id": "renewable-burlington",
   "metadata": {},
   "outputs": [],
   "source": [
    "print_count(col_table)"
   ]
  },
  {
   "cell_type": "code",
   "execution_count": null,
   "id": "450d8932",
   "metadata": {},
   "outputs": [],
   "source": [
    "# writing out col_table as a checkpoint to make the downstream steps run faster\n",
    "# this is done because running sample_qc is computationally expensive\n",
    "col_table.checkpoint('gs://hgdp-1kg/hgdp_tgp/qc_and_figure_generation/table_1_checkpoint.ht', overwrite=True)"
   ]
  },
  {
   "cell_type": "code",
   "execution_count": 8,
   "id": "ranking-provider",
   "metadata": {},
   "outputs": [],
   "source": [
    "# this is a table of only the columns with only postQC information\n",
    "col_table = hl.read_table('gs://hgdp-1kg/hgdp_tgp/qc_and_figure_generation/table_1_checkpoint.ht')"
   ]
  },
  {
   "cell_type": "code",
   "execution_count": 9,
   "id": "center-prisoner",
   "metadata": {},
   "outputs": [
    {
     "data": {
      "text/plain": [
       "4097"
      ]
     },
     "execution_count": 9,
     "metadata": {},
     "output_type": "execute_result"
    }
   ],
   "source": [
    "# Since col_table is a table, count prints the number of rows which is equal to the number of samples\n",
    "col_table.count()"
   ]
  },
  {
   "cell_type": "code",
   "execution_count": 6,
   "outputs": [
    {
     "data": {
      "text/plain": [
       "4097"
      ]
     },
     "execution_count": 6,
     "metadata": {},
     "output_type": "execute_result"
    }
   ],
   "source": [
    "# hl.count() gives the number of rows in col_table which is equivalent to the number of samples\n",
    "col_table.count()"
   ],
   "metadata": {
    "collapsed": false,
    "pycharm": {
     "name": "#%%\n"
    }
   }
  },
  {
   "cell_type": "code",
   "execution_count": null,
   "id": "interested-intermediate",
   "metadata": {},
   "outputs": [],
   "source": [
    "print_count(col_table)"
   ]
  },
  {
   "cell_type": "markdown",
   "id": "complete-hierarchy",
   "metadata": {},
   "source": [
    "# Annotating table with relatedness info\n",
    "This step is conducted so that [INSERT INFORMATION ON REASONING BEHIND RELATEDNESS FILTERING]"
   ]
  },
  {
   "cell_type": "code",
   "execution_count": 10,
   "id": "quarterly-privilege",
   "metadata": {},
   "outputs": [],
   "source": [
    "# Need to get number of unrelateds annotated to the table\n",
    "# Reading in the unrelated and related matrix tables\n",
    "unrelated = hl.read_matrix_table('gs://hgdp-1kg/hgdp_tgp/unrel_updated.mt')\n",
    "related = hl.read_matrix_table('gs://hgdp-1kg/hgdp_tgp/rel_updated.mt')\n",
    "\n",
    "# Annotating both the unrelated and the related tables with a flag named unrelated \n",
    "# set unrelated flag to True for those in the unrelated dataset, and False for those in the related dataset\n",
    "unrelated = unrelated.annotate_cols(unrelated = True)\n",
    "related = related.annotate_cols(unrelated = False)\n",
    "\n",
    "# using hl.cols() to obtain two tables with only the columns from the original matrix tables\n",
    "unrelated_cols = unrelated.cols()\n",
    "related_cols = related.cols()"
   ]
  },
  {
   "cell_type": "code",
   "execution_count": 11,
   "id": "illegal-customer",
   "metadata": {},
   "outputs": [
    {
     "name": "stdout",
     "output_type": "stream",
     "text": [
      "Number of related individuals per population: frozendict({'Naxi': 1, 'PJL': 48, 'Bedouin': 3, 'Pima': 3, 'IBS': 49, 'Mozabite': 1, 'Surui': 1, 'GWD': 60, 'PUR': 34, 'MbutiPygmy': 2, 'Hezhen': 1, 'She': 1, 'ITU': 4, 'BantuKenya': 2, 'Lahu': 3, 'Palestinian': 7, 'Maya': 3, 'STU': 16, 'ACB': 21, 'MXL': 34, 'GIH': 3, 'ASW': 19, 'Orcadian': 2, 'CEU': 55, 'Colombian': 4, 'Karitiana': 2, 'PEL': 37, 'Kalash': 2, 'CDX': 5, 'Makrani': 1, 'Druze': 7, 'CLM': 36, 'CHS': 60, 'BEB': 32, 'GBR': 2, 'Hazara': 4, 'BiakaPygmy': 4, 'YRI': 58, 'Melanesian': 2, 'KHV': 21, 'Japanese': 1, 'Mandenka': 3, 'MSL': 15, 'Sindhi': 1, 'LWK': 5, 'ESN': 45})\n",
      "\n",
      "Number of unrelated individuals per population: frozendict({'Adygei': 17, 'Naxi': 8, 'PJL': 97, 'Tuscan': 8, 'Bedouin': 43, 'Pima': 11, 'BantuSouthAfrica': 8, 'IBS': 107, 'Italian': 11, 'Papuan': 17, 'Mozabite': 27, 'Surui': 7, 'Mongola': 10, 'Russian': 25, 'Basque': 23, 'FIN': 98, 'Sardinian': 27, 'GWD': 116, 'PUR': 104, 'MbutiPygmy': 12, 'Hezhen': 8, 'She': 9, 'ITU': 102, 'BantuKenya': 10, 'Lahu': 5, 'Palestinian': 38, 'CHB': 103, 'Han': 43, 'Uygur': 10, 'JPT': 102, 'Cambodian': 10, 'Maya': 18, 'STU': 98, 'ACB': 95, 'MXL': 63, 'Tujia': 10, 'TSI': 103, 'Xibo': 9, 'GIH': 100, 'ASW': 55, 'Orcadian': 13, 'Oroqen': 8, 'CEU': 121, 'Tu': 10, 'Balochi': 24, 'Colombian': 3, 'Karitiana': 10, 'PEL': 85, 'Kalash': 21, 'CDX': 88, 'Makrani': 24, 'Yakut': 25, 'Druze': 35, 'CLM': 94, 'Daur': 9, 'Dai': 9, 'CHS': 103, 'BEB': 99, 'GBR': 88, 'Hazara': 16, 'Miao': 10, 'BiakaPygmy': 22, 'YRI': 117, 'French': 27, 'Brahui': 25, 'Burusho': 24, 'Melanesian': 11, 'KHV': 101, 'Japanese': 28, 'Mandenka': 20, 'MSL': 83, 'Pathan': 24, 'San': 6, 'Yoruba': 21, 'Sindhi': 23, 'Yi': 10, 'LWK': 92, 'ESN': 103})\n"
     ]
    }
   ],
   "source": [
    "# Annotating the related/unrelated mts with counts per population\n",
    "related_count = related_cols.aggregate(hl.agg.counter(related_cols.hgdp_tgp_meta.Population))\n",
    "unrelated_count = unrelated_cols.aggregate(hl.agg.counter(unrelated_cols.hgdp_tgp_meta.Population))\n",
    "\n",
    "print(f\"Number of related individuals per population: {related_count}\\n\\nNumber of unrelated individuals per population: {unrelated_count}\")"
   ]
  },
  {
   "cell_type": "code",
   "execution_count": 12,
   "id": "hundred-aggregate",
   "metadata": {},
   "outputs": [],
   "source": [
    "# Joining the columns of the unrelated and related datasets\n",
    "mt_rel = unrelated.union_cols(related)\n",
    "\n",
    "# counting the number of unrelated in the matrix table to make sure it is as expected\n",
    "mt_rel.aggregate_cols(hl.agg.counter(mt_rel.unrelated))\n",
    "\n",
    "# creating a table with only the columns from the matrix table containing related information\n",
    "# this is done since the final output will be a tsv and thus must be in table format\n",
    "# Being a table of columns allows it to be annotated onto the existing col_table as shown below\n",
    "rel_table = mt_rel.cols()\n",
    "\n",
    "# annotating the relatedness information onto the column table\n",
    "col_table = col_table.annotate(unrel = rel_table[col_table.s].unrelated)"
   ]
  },
  {
   "cell_type": "markdown",
   "id": "jewish-greek",
   "metadata": {},
   "source": [
    "# Calculating statistics per population\n",
    "In this section, we will be using hl.agg.stats() which calculates the following metrics for a given expression:\n",
    "   - min\n",
    "   - max\n",
    "   - mean\n",
    "   - standard deviation\n",
    "   - number of non-missing records\n",
    "   - sum\n",
    "\n",
    "Using hl.group_by() we calculate these statistics for each of the 78 populations in this dataset.\n",
    "We also use hl.agg.count_where() to count where the field denoting if samples are related or not is True which will give us the number of related samples within each population."
   ]
  },
  {
   "cell_type": "code",
   "execution_count": 13,
   "id": "entitled-magnet",
   "metadata": {},
   "outputs": [],
   "source": [
    "# Calculating stats per population for each metric grouped by geographic region and population\n",
    "table = n_snp = col_table.group_by(\n",
    "    col_table.region, col_table.Population).aggregate(\n",
    "    n_snp_stats = hl.agg.stats(col_table.n_snp),\n",
    "    n_singleton_stats = hl.agg.stats(col_table.n_singleton),\n",
    "    cov_stats = hl.agg.stats(col_table.mean_coverage),\n",
    "    n_unrelated = hl.agg.count_where(col_table.unrel == True))"
   ]
  },
  {
   "cell_type": "code",
   "execution_count": 14,
   "id": "included-bacon",
   "metadata": {},
   "outputs": [
    {
     "name": "stderr",
     "output_type": "stream",
     "text": [
      "2021-11-16 22:11:09 Hail: INFO: Coerced sorted dataset\n",
      "2021-11-16 22:11:11 Hail: INFO: Ordering unsorted dataset with network shuffle\n"
     ]
    },
    {
     "data": {
      "text/html": [
       "<table><thead><tr><td style=\"white-space: nowrap; max-width: 500px; overflow: hidden; text-overflow: ellipsis; \" colspan=\"1\"><div style=\"text-align: left;\"></div></td><td style=\"white-space: nowrap; max-width: 500px; overflow: hidden; text-overflow: ellipsis; \" colspan=\"1\"><div style=\"text-align: left;\"></div></td><td style=\"white-space: nowrap; max-width: 500px; overflow: hidden; text-overflow: ellipsis; \" colspan=\"6\"><div style=\"text-align: left;\"></div></td><td style=\"white-space: nowrap; max-width: 500px; overflow: hidden; text-overflow: ellipsis; \" colspan=\"6\"><div style=\"text-align: left;\"></div></td><td style=\"white-space: nowrap; max-width: 500px; overflow: hidden; text-overflow: ellipsis; \" colspan=\"6\"><div style=\"text-align: left;\"></div></td><td style=\"white-space: nowrap; max-width: 500px; overflow: hidden; text-overflow: ellipsis; \" colspan=\"1\"><div style=\"text-align: left;\"></div></td></tr><tr><td style=\"white-space: nowrap; max-width: 500px; overflow: hidden; text-overflow: ellipsis; \" colspan=\"1\"><div style=\"text-align: left;\"></div></td><td style=\"white-space: nowrap; max-width: 500px; overflow: hidden; text-overflow: ellipsis; \" colspan=\"1\"><div style=\"text-align: left;\"></div></td><td style=\"white-space: nowrap; max-width: 500px; overflow: hidden; text-overflow: ellipsis; \" colspan=\"6\"><div style=\"text-align: left;border-bottom: solid 2px #000; padding-bottom: 5px\">n_snp_stats</div></td><td style=\"white-space: nowrap; max-width: 500px; overflow: hidden; text-overflow: ellipsis; \" colspan=\"6\"><div style=\"text-align: left;border-bottom: solid 2px #000; padding-bottom: 5px\">n_singleton_stats</div></td><td style=\"white-space: nowrap; max-width: 500px; overflow: hidden; text-overflow: ellipsis; \" colspan=\"6\"><div style=\"text-align: left;border-bottom: solid 2px #000; padding-bottom: 5px\">cov_stats</div></td><td style=\"white-space: nowrap; max-width: 500px; overflow: hidden; text-overflow: ellipsis; \" colspan=\"1\"><div style=\"text-align: left;\"></div></td></tr><tr><td style=\"white-space: nowrap; max-width: 500px; overflow: hidden; text-overflow: ellipsis; \" colspan=\"1\"><div style=\"text-align: left;border-bottom: solid 2px #000; padding-bottom: 5px\">region</div></td><td style=\"white-space: nowrap; max-width: 500px; overflow: hidden; text-overflow: ellipsis; \" colspan=\"1\"><div style=\"text-align: left;border-bottom: solid 2px #000; padding-bottom: 5px\">Population</div></td><td style=\"white-space: nowrap; max-width: 500px; overflow: hidden; text-overflow: ellipsis; \" colspan=\"1\"><div style=\"text-align: left;border-bottom: solid 2px #000; padding-bottom: 5px\">mean</div></td><td style=\"white-space: nowrap; max-width: 500px; overflow: hidden; text-overflow: ellipsis; \" colspan=\"1\"><div style=\"text-align: left;border-bottom: solid 2px #000; padding-bottom: 5px\">stdev</div></td><td style=\"white-space: nowrap; max-width: 500px; overflow: hidden; text-overflow: ellipsis; \" colspan=\"1\"><div style=\"text-align: left;border-bottom: solid 2px #000; padding-bottom: 5px\">min</div></td><td style=\"white-space: nowrap; max-width: 500px; overflow: hidden; text-overflow: ellipsis; \" colspan=\"1\"><div style=\"text-align: left;border-bottom: solid 2px #000; padding-bottom: 5px\">max</div></td><td style=\"white-space: nowrap; max-width: 500px; overflow: hidden; text-overflow: ellipsis; \" colspan=\"1\"><div style=\"text-align: left;border-bottom: solid 2px #000; padding-bottom: 5px\">n</div></td><td style=\"white-space: nowrap; max-width: 500px; overflow: hidden; text-overflow: ellipsis; \" colspan=\"1\"><div style=\"text-align: left;border-bottom: solid 2px #000; padding-bottom: 5px\">sum</div></td><td style=\"white-space: nowrap; max-width: 500px; overflow: hidden; text-overflow: ellipsis; \" colspan=\"1\"><div style=\"text-align: left;border-bottom: solid 2px #000; padding-bottom: 5px\">mean</div></td><td style=\"white-space: nowrap; max-width: 500px; overflow: hidden; text-overflow: ellipsis; \" colspan=\"1\"><div style=\"text-align: left;border-bottom: solid 2px #000; padding-bottom: 5px\">stdev</div></td><td style=\"white-space: nowrap; max-width: 500px; overflow: hidden; text-overflow: ellipsis; \" colspan=\"1\"><div style=\"text-align: left;border-bottom: solid 2px #000; padding-bottom: 5px\">min</div></td><td style=\"white-space: nowrap; max-width: 500px; overflow: hidden; text-overflow: ellipsis; \" colspan=\"1\"><div style=\"text-align: left;border-bottom: solid 2px #000; padding-bottom: 5px\">max</div></td><td style=\"white-space: nowrap; max-width: 500px; overflow: hidden; text-overflow: ellipsis; \" colspan=\"1\"><div style=\"text-align: left;border-bottom: solid 2px #000; padding-bottom: 5px\">n</div></td><td style=\"white-space: nowrap; max-width: 500px; overflow: hidden; text-overflow: ellipsis; \" colspan=\"1\"><div style=\"text-align: left;border-bottom: solid 2px #000; padding-bottom: 5px\">sum</div></td><td style=\"white-space: nowrap; max-width: 500px; overflow: hidden; text-overflow: ellipsis; \" colspan=\"1\"><div style=\"text-align: left;border-bottom: solid 2px #000; padding-bottom: 5px\">mean</div></td><td style=\"white-space: nowrap; max-width: 500px; overflow: hidden; text-overflow: ellipsis; \" colspan=\"1\"><div style=\"text-align: left;border-bottom: solid 2px #000; padding-bottom: 5px\">stdev</div></td><td style=\"white-space: nowrap; max-width: 500px; overflow: hidden; text-overflow: ellipsis; \" colspan=\"1\"><div style=\"text-align: left;border-bottom: solid 2px #000; padding-bottom: 5px\">min</div></td><td style=\"white-space: nowrap; max-width: 500px; overflow: hidden; text-overflow: ellipsis; \" colspan=\"1\"><div style=\"text-align: left;border-bottom: solid 2px #000; padding-bottom: 5px\">max</div></td><td style=\"white-space: nowrap; max-width: 500px; overflow: hidden; text-overflow: ellipsis; \" colspan=\"1\"><div style=\"text-align: left;border-bottom: solid 2px #000; padding-bottom: 5px\">n</div></td><td style=\"white-space: nowrap; max-width: 500px; overflow: hidden; text-overflow: ellipsis; \" colspan=\"1\"><div style=\"text-align: left;border-bottom: solid 2px #000; padding-bottom: 5px\">sum</div></td><td style=\"white-space: nowrap; max-width: 500px; overflow: hidden; text-overflow: ellipsis; \" colspan=\"1\"><div style=\"text-align: left;border-bottom: solid 2px #000; padding-bottom: 5px\">n_unrelated</div></td></tr><tr><td style=\"white-space: nowrap; max-width: 500px; overflow: hidden; text-overflow: ellipsis; text-align: left;\">str</td><td style=\"white-space: nowrap; max-width: 500px; overflow: hidden; text-overflow: ellipsis; text-align: left;\">str</td><td style=\"white-space: nowrap; max-width: 500px; overflow: hidden; text-overflow: ellipsis; text-align: left;\">float64</td><td style=\"white-space: nowrap; max-width: 500px; overflow: hidden; text-overflow: ellipsis; text-align: left;\">float64</td><td style=\"white-space: nowrap; max-width: 500px; overflow: hidden; text-overflow: ellipsis; text-align: left;\">float64</td><td style=\"white-space: nowrap; max-width: 500px; overflow: hidden; text-overflow: ellipsis; text-align: left;\">float64</td><td style=\"white-space: nowrap; max-width: 500px; overflow: hidden; text-overflow: ellipsis; text-align: left;\">int64</td><td style=\"white-space: nowrap; max-width: 500px; overflow: hidden; text-overflow: ellipsis; text-align: left;\">float64</td><td style=\"white-space: nowrap; max-width: 500px; overflow: hidden; text-overflow: ellipsis; text-align: left;\">float64</td><td style=\"white-space: nowrap; max-width: 500px; overflow: hidden; text-overflow: ellipsis; text-align: left;\">float64</td><td style=\"white-space: nowrap; max-width: 500px; overflow: hidden; text-overflow: ellipsis; text-align: left;\">float64</td><td style=\"white-space: nowrap; max-width: 500px; overflow: hidden; text-overflow: ellipsis; text-align: left;\">float64</td><td style=\"white-space: nowrap; max-width: 500px; overflow: hidden; text-overflow: ellipsis; text-align: left;\">int64</td><td style=\"white-space: nowrap; max-width: 500px; overflow: hidden; text-overflow: ellipsis; text-align: left;\">float64</td><td style=\"white-space: nowrap; max-width: 500px; overflow: hidden; text-overflow: ellipsis; text-align: left;\">float64</td><td style=\"white-space: nowrap; max-width: 500px; overflow: hidden; text-overflow: ellipsis; text-align: left;\">float64</td><td style=\"white-space: nowrap; max-width: 500px; overflow: hidden; text-overflow: ellipsis; text-align: left;\">float64</td><td style=\"white-space: nowrap; max-width: 500px; overflow: hidden; text-overflow: ellipsis; text-align: left;\">float64</td><td style=\"white-space: nowrap; max-width: 500px; overflow: hidden; text-overflow: ellipsis; text-align: left;\">int64</td><td style=\"white-space: nowrap; max-width: 500px; overflow: hidden; text-overflow: ellipsis; text-align: left;\">float64</td><td style=\"white-space: nowrap; max-width: 500px; overflow: hidden; text-overflow: ellipsis; text-align: left;\">int64</td></tr>\n",
       "</thead><tbody><tr><td style=\"white-space: nowrap; max-width: 500px; overflow: hidden; text-overflow: ellipsis; \">&quot;AFR&quot;</td><td style=\"white-space: nowrap; max-width: 500px; overflow: hidden; text-overflow: ellipsis; \">&quot;ACB&quot;</td><td style=\"white-space: nowrap; max-width: 500px; overflow: hidden; text-overflow: ellipsis; \">6.04e+06</td><td style=\"white-space: nowrap; max-width: 500px; overflow: hidden; text-overflow: ellipsis; \">6.81e+04</td><td style=\"white-space: nowrap; max-width: 500px; overflow: hidden; text-overflow: ellipsis; \">5.73e+06</td><td style=\"white-space: nowrap; max-width: 500px; overflow: hidden; text-overflow: ellipsis; \">6.14e+06</td><td style=\"white-space: nowrap; max-width: 500px; overflow: hidden; text-overflow: ellipsis; \">114</td><td style=\"white-space: nowrap; max-width: 500px; overflow: hidden; text-overflow: ellipsis; \">6.88e+08</td><td style=\"white-space: nowrap; max-width: 500px; overflow: hidden; text-overflow: ellipsis; \">1.57e+04</td><td style=\"white-space: nowrap; max-width: 500px; overflow: hidden; text-overflow: ellipsis; \">8.38e+03</td><td style=\"white-space: nowrap; max-width: 500px; overflow: hidden; text-overflow: ellipsis; \">5.28e+02</td><td style=\"white-space: nowrap; max-width: 500px; overflow: hidden; text-overflow: ellipsis; \">2.75e+04</td><td style=\"white-space: nowrap; max-width: 500px; overflow: hidden; text-overflow: ellipsis; \">114</td><td style=\"white-space: nowrap; max-width: 500px; overflow: hidden; text-overflow: ellipsis; \">1.79e+06</td><td style=\"white-space: nowrap; max-width: 500px; overflow: hidden; text-overflow: ellipsis; \">3.17e+01</td><td style=\"white-space: nowrap; max-width: 500px; overflow: hidden; text-overflow: ellipsis; \">2.48e+00</td><td style=\"white-space: nowrap; max-width: 500px; overflow: hidden; text-overflow: ellipsis; \">2.84e+01</td><td style=\"white-space: nowrap; max-width: 500px; overflow: hidden; text-overflow: ellipsis; \">4.20e+01</td><td style=\"white-space: nowrap; max-width: 500px; overflow: hidden; text-overflow: ellipsis; \">114</td><td style=\"white-space: nowrap; max-width: 500px; overflow: hidden; text-overflow: ellipsis; \">3.62e+03</td><td style=\"white-space: nowrap; max-width: 500px; overflow: hidden; text-overflow: ellipsis; \">94</td></tr>\n",
       "<tr><td style=\"white-space: nowrap; max-width: 500px; overflow: hidden; text-overflow: ellipsis; \">&quot;AFR&quot;</td><td style=\"white-space: nowrap; max-width: 500px; overflow: hidden; text-overflow: ellipsis; \">&quot;ASW&quot;</td><td style=\"white-space: nowrap; max-width: 500px; overflow: hidden; text-overflow: ellipsis; \">5.94e+06</td><td style=\"white-space: nowrap; max-width: 500px; overflow: hidden; text-overflow: ellipsis; \">9.38e+04</td><td style=\"white-space: nowrap; max-width: 500px; overflow: hidden; text-overflow: ellipsis; \">5.67e+06</td><td style=\"white-space: nowrap; max-width: 500px; overflow: hidden; text-overflow: ellipsis; \">6.10e+06</td><td style=\"white-space: nowrap; max-width: 500px; overflow: hidden; text-overflow: ellipsis; \">71</td><td style=\"white-space: nowrap; max-width: 500px; overflow: hidden; text-overflow: ellipsis; \">4.22e+08</td><td style=\"white-space: nowrap; max-width: 500px; overflow: hidden; text-overflow: ellipsis; \">1.40e+04</td><td style=\"white-space: nowrap; max-width: 500px; overflow: hidden; text-overflow: ellipsis; \">8.23e+03</td><td style=\"white-space: nowrap; max-width: 500px; overflow: hidden; text-overflow: ellipsis; \">5.32e+02</td><td style=\"white-space: nowrap; max-width: 500px; overflow: hidden; text-overflow: ellipsis; \">2.76e+04</td><td style=\"white-space: nowrap; max-width: 500px; overflow: hidden; text-overflow: ellipsis; \">71</td><td style=\"white-space: nowrap; max-width: 500px; overflow: hidden; text-overflow: ellipsis; \">9.95e+05</td><td style=\"white-space: nowrap; max-width: 500px; overflow: hidden; text-overflow: ellipsis; \">3.23e+01</td><td style=\"white-space: nowrap; max-width: 500px; overflow: hidden; text-overflow: ellipsis; \">3.36e+00</td><td style=\"white-space: nowrap; max-width: 500px; overflow: hidden; text-overflow: ellipsis; \">2.75e+01</td><td style=\"white-space: nowrap; max-width: 500px; overflow: hidden; text-overflow: ellipsis; \">5.21e+01</td><td style=\"white-space: nowrap; max-width: 500px; overflow: hidden; text-overflow: ellipsis; \">71</td><td style=\"white-space: nowrap; max-width: 500px; overflow: hidden; text-overflow: ellipsis; \">2.29e+03</td><td style=\"white-space: nowrap; max-width: 500px; overflow: hidden; text-overflow: ellipsis; \">52</td></tr>\n",
       "<tr><td style=\"white-space: nowrap; max-width: 500px; overflow: hidden; text-overflow: ellipsis; \">&quot;AFR&quot;</td><td style=\"white-space: nowrap; max-width: 500px; overflow: hidden; text-overflow: ellipsis; \">&quot;ESN&quot;</td><td style=\"white-space: nowrap; max-width: 500px; overflow: hidden; text-overflow: ellipsis; \">6.13e+06</td><td style=\"white-space: nowrap; max-width: 500px; overflow: hidden; text-overflow: ellipsis; \">1.46e+04</td><td style=\"white-space: nowrap; max-width: 500px; overflow: hidden; text-overflow: ellipsis; \">6.09e+06</td><td style=\"white-space: nowrap; max-width: 500px; overflow: hidden; text-overflow: ellipsis; \">6.18e+06</td><td style=\"white-space: nowrap; max-width: 500px; overflow: hidden; text-overflow: ellipsis; \">148</td><td style=\"white-space: nowrap; max-width: 500px; overflow: hidden; text-overflow: ellipsis; \">9.07e+08</td><td style=\"white-space: nowrap; max-width: 500px; overflow: hidden; text-overflow: ellipsis; \">8.56e+03</td><td style=\"white-space: nowrap; max-width: 500px; overflow: hidden; text-overflow: ellipsis; \">5.68e+03</td><td style=\"white-space: nowrap; max-width: 500px; overflow: hidden; text-overflow: ellipsis; \">5.49e+02</td><td style=\"white-space: nowrap; max-width: 500px; overflow: hidden; text-overflow: ellipsis; \">2.00e+04</td><td style=\"white-space: nowrap; max-width: 500px; overflow: hidden; text-overflow: ellipsis; \">148</td><td style=\"white-space: nowrap; max-width: 500px; overflow: hidden; text-overflow: ellipsis; \">1.27e+06</td><td style=\"white-space: nowrap; max-width: 500px; overflow: hidden; text-overflow: ellipsis; \">3.23e+01</td><td style=\"white-space: nowrap; max-width: 500px; overflow: hidden; text-overflow: ellipsis; \">3.23e+00</td><td style=\"white-space: nowrap; max-width: 500px; overflow: hidden; text-overflow: ellipsis; \">2.80e+01</td><td style=\"white-space: nowrap; max-width: 500px; overflow: hidden; text-overflow: ellipsis; \">5.35e+01</td><td style=\"white-space: nowrap; max-width: 500px; overflow: hidden; text-overflow: ellipsis; \">148</td><td style=\"white-space: nowrap; max-width: 500px; overflow: hidden; text-overflow: ellipsis; \">4.78e+03</td><td style=\"white-space: nowrap; max-width: 500px; overflow: hidden; text-overflow: ellipsis; \">103</td></tr>\n",
       "<tr><td style=\"white-space: nowrap; max-width: 500px; overflow: hidden; text-overflow: ellipsis; \">&quot;AFR&quot;</td><td style=\"white-space: nowrap; max-width: 500px; overflow: hidden; text-overflow: ellipsis; \">&quot;GWD&quot;</td><td style=\"white-space: nowrap; max-width: 500px; overflow: hidden; text-overflow: ellipsis; \">6.12e+06</td><td style=\"white-space: nowrap; max-width: 500px; overflow: hidden; text-overflow: ellipsis; \">1.95e+04</td><td style=\"white-space: nowrap; max-width: 500px; overflow: hidden; text-overflow: ellipsis; \">6.06e+06</td><td style=\"white-space: nowrap; max-width: 500px; overflow: hidden; text-overflow: ellipsis; \">6.17e+06</td><td style=\"white-space: nowrap; max-width: 500px; overflow: hidden; text-overflow: ellipsis; \">176</td><td style=\"white-space: nowrap; max-width: 500px; overflow: hidden; text-overflow: ellipsis; \">1.08e+09</td><td style=\"white-space: nowrap; max-width: 500px; overflow: hidden; text-overflow: ellipsis; \">1.04e+04</td><td style=\"white-space: nowrap; max-width: 500px; overflow: hidden; text-overflow: ellipsis; \">6.80e+03</td><td style=\"white-space: nowrap; max-width: 500px; overflow: hidden; text-overflow: ellipsis; \">5.73e+02</td><td style=\"white-space: nowrap; max-width: 500px; overflow: hidden; text-overflow: ellipsis; \">2.60e+04</td><td style=\"white-space: nowrap; max-width: 500px; overflow: hidden; text-overflow: ellipsis; \">176</td><td style=\"white-space: nowrap; max-width: 500px; overflow: hidden; text-overflow: ellipsis; \">1.83e+06</td><td style=\"white-space: nowrap; max-width: 500px; overflow: hidden; text-overflow: ellipsis; \">3.25e+01</td><td style=\"white-space: nowrap; max-width: 500px; overflow: hidden; text-overflow: ellipsis; \">2.71e+00</td><td style=\"white-space: nowrap; max-width: 500px; overflow: hidden; text-overflow: ellipsis; \">2.82e+01</td><td style=\"white-space: nowrap; max-width: 500px; overflow: hidden; text-overflow: ellipsis; \">4.34e+01</td><td style=\"white-space: nowrap; max-width: 500px; overflow: hidden; text-overflow: ellipsis; \">176</td><td style=\"white-space: nowrap; max-width: 500px; overflow: hidden; text-overflow: ellipsis; \">5.72e+03</td><td style=\"white-space: nowrap; max-width: 500px; overflow: hidden; text-overflow: ellipsis; \">116</td></tr>\n",
       "<tr><td style=\"white-space: nowrap; max-width: 500px; overflow: hidden; text-overflow: ellipsis; \">&quot;AFR&quot;</td><td style=\"white-space: nowrap; max-width: 500px; overflow: hidden; text-overflow: ellipsis; \">&quot;LWK&quot;</td><td style=\"white-space: nowrap; max-width: 500px; overflow: hidden; text-overflow: ellipsis; \">6.11e+06</td><td style=\"white-space: nowrap; max-width: 500px; overflow: hidden; text-overflow: ellipsis; \">1.72e+04</td><td style=\"white-space: nowrap; max-width: 500px; overflow: hidden; text-overflow: ellipsis; \">6.06e+06</td><td style=\"white-space: nowrap; max-width: 500px; overflow: hidden; text-overflow: ellipsis; \">6.16e+06</td><td style=\"white-space: nowrap; max-width: 500px; overflow: hidden; text-overflow: ellipsis; \">97</td><td style=\"white-space: nowrap; max-width: 500px; overflow: hidden; text-overflow: ellipsis; \">5.93e+08</td><td style=\"white-space: nowrap; max-width: 500px; overflow: hidden; text-overflow: ellipsis; \">2.58e+04</td><td style=\"white-space: nowrap; max-width: 500px; overflow: hidden; text-overflow: ellipsis; \">7.78e+03</td><td style=\"white-space: nowrap; max-width: 500px; overflow: hidden; text-overflow: ellipsis; \">9.39e+03</td><td style=\"white-space: nowrap; max-width: 500px; overflow: hidden; text-overflow: ellipsis; \">3.98e+04</td><td style=\"white-space: nowrap; max-width: 500px; overflow: hidden; text-overflow: ellipsis; \">97</td><td style=\"white-space: nowrap; max-width: 500px; overflow: hidden; text-overflow: ellipsis; \">2.51e+06</td><td style=\"white-space: nowrap; max-width: 500px; overflow: hidden; text-overflow: ellipsis; \">3.29e+01</td><td style=\"white-space: nowrap; max-width: 500px; overflow: hidden; text-overflow: ellipsis; \">4.32e+00</td><td style=\"white-space: nowrap; max-width: 500px; overflow: hidden; text-overflow: ellipsis; \">2.79e+01</td><td style=\"white-space: nowrap; max-width: 500px; overflow: hidden; text-overflow: ellipsis; \">6.02e+01</td><td style=\"white-space: nowrap; max-width: 500px; overflow: hidden; text-overflow: ellipsis; \">97</td><td style=\"white-space: nowrap; max-width: 500px; overflow: hidden; text-overflow: ellipsis; \">3.19e+03</td><td style=\"white-space: nowrap; max-width: 500px; overflow: hidden; text-overflow: ellipsis; \">92</td></tr>\n",
       "<tr><td style=\"white-space: nowrap; max-width: 500px; overflow: hidden; text-overflow: ellipsis; \">&quot;AFR&quot;</td><td style=\"white-space: nowrap; max-width: 500px; overflow: hidden; text-overflow: ellipsis; \">&quot;MSL&quot;</td><td style=\"white-space: nowrap; max-width: 500px; overflow: hidden; text-overflow: ellipsis; \">6.18e+06</td><td style=\"white-space: nowrap; max-width: 500px; overflow: hidden; text-overflow: ellipsis; \">1.51e+04</td><td style=\"white-space: nowrap; max-width: 500px; overflow: hidden; text-overflow: ellipsis; \">6.13e+06</td><td style=\"white-space: nowrap; max-width: 500px; overflow: hidden; text-overflow: ellipsis; \">6.22e+06</td><td style=\"white-space: nowrap; max-width: 500px; overflow: hidden; text-overflow: ellipsis; \">98</td><td style=\"white-space: nowrap; max-width: 500px; overflow: hidden; text-overflow: ellipsis; \">6.06e+08</td><td style=\"white-space: nowrap; max-width: 500px; overflow: hidden; text-overflow: ellipsis; \">2.13e+04</td><td style=\"white-space: nowrap; max-width: 500px; overflow: hidden; text-overflow: ellipsis; \">8.86e+03</td><td style=\"white-space: nowrap; max-width: 500px; overflow: hidden; text-overflow: ellipsis; \">7.02e+02</td><td style=\"white-space: nowrap; max-width: 500px; overflow: hidden; text-overflow: ellipsis; \">3.11e+04</td><td style=\"white-space: nowrap; max-width: 500px; overflow: hidden; text-overflow: ellipsis; \">98</td><td style=\"white-space: nowrap; max-width: 500px; overflow: hidden; text-overflow: ellipsis; \">2.08e+06</td><td style=\"white-space: nowrap; max-width: 500px; overflow: hidden; text-overflow: ellipsis; \">3.18e+01</td><td style=\"white-space: nowrap; max-width: 500px; overflow: hidden; text-overflow: ellipsis; \">2.69e+00</td><td style=\"white-space: nowrap; max-width: 500px; overflow: hidden; text-overflow: ellipsis; \">2.75e+01</td><td style=\"white-space: nowrap; max-width: 500px; overflow: hidden; text-overflow: ellipsis; \">4.56e+01</td><td style=\"white-space: nowrap; max-width: 500px; overflow: hidden; text-overflow: ellipsis; \">98</td><td style=\"white-space: nowrap; max-width: 500px; overflow: hidden; text-overflow: ellipsis; \">3.12e+03</td><td style=\"white-space: nowrap; max-width: 500px; overflow: hidden; text-overflow: ellipsis; \">83</td></tr>\n",
       "<tr><td style=\"white-space: nowrap; max-width: 500px; overflow: hidden; text-overflow: ellipsis; \">&quot;AFR&quot;</td><td style=\"white-space: nowrap; max-width: 500px; overflow: hidden; text-overflow: ellipsis; \">&quot;YRI&quot;</td><td style=\"white-space: nowrap; max-width: 500px; overflow: hidden; text-overflow: ellipsis; \">6.13e+06</td><td style=\"white-space: nowrap; max-width: 500px; overflow: hidden; text-overflow: ellipsis; \">1.50e+04</td><td style=\"white-space: nowrap; max-width: 500px; overflow: hidden; text-overflow: ellipsis; \">6.08e+06</td><td style=\"white-space: nowrap; max-width: 500px; overflow: hidden; text-overflow: ellipsis; \">6.16e+06</td><td style=\"white-space: nowrap; max-width: 500px; overflow: hidden; text-overflow: ellipsis; \">175</td><td style=\"white-space: nowrap; max-width: 500px; overflow: hidden; text-overflow: ellipsis; \">1.07e+09</td><td style=\"white-space: nowrap; max-width: 500px; overflow: hidden; text-overflow: ellipsis; \">8.38e+03</td><td style=\"white-space: nowrap; max-width: 500px; overflow: hidden; text-overflow: ellipsis; \">5.64e+03</td><td style=\"white-space: nowrap; max-width: 500px; overflow: hidden; text-overflow: ellipsis; \">5.18e+02</td><td style=\"white-space: nowrap; max-width: 500px; overflow: hidden; text-overflow: ellipsis; \">2.30e+04</td><td style=\"white-space: nowrap; max-width: 500px; overflow: hidden; text-overflow: ellipsis; \">175</td><td style=\"white-space: nowrap; max-width: 500px; overflow: hidden; text-overflow: ellipsis; \">1.47e+06</td><td style=\"white-space: nowrap; max-width: 500px; overflow: hidden; text-overflow: ellipsis; \">3.23e+01</td><td style=\"white-space: nowrap; max-width: 500px; overflow: hidden; text-overflow: ellipsis; \">3.59e+00</td><td style=\"white-space: nowrap; max-width: 500px; overflow: hidden; text-overflow: ellipsis; \">2.69e+01</td><td style=\"white-space: nowrap; max-width: 500px; overflow: hidden; text-overflow: ellipsis; \">5.61e+01</td><td style=\"white-space: nowrap; max-width: 500px; overflow: hidden; text-overflow: ellipsis; \">175</td><td style=\"white-space: nowrap; max-width: 500px; overflow: hidden; text-overflow: ellipsis; \">5.65e+03</td><td style=\"white-space: nowrap; max-width: 500px; overflow: hidden; text-overflow: ellipsis; \">117</td></tr>\n",
       "<tr><td style=\"white-space: nowrap; max-width: 500px; overflow: hidden; text-overflow: ellipsis; \">&quot;AMR&quot;</td><td style=\"white-space: nowrap; max-width: 500px; overflow: hidden; text-overflow: ellipsis; \">&quot;CLM&quot;</td><td style=\"white-space: nowrap; max-width: 500px; overflow: hidden; text-overflow: ellipsis; \">5.29e+06</td><td style=\"white-space: nowrap; max-width: 500px; overflow: hidden; text-overflow: ellipsis; \">7.87e+04</td><td style=\"white-space: nowrap; max-width: 500px; overflow: hidden; text-overflow: ellipsis; \">5.17e+06</td><td style=\"white-space: nowrap; max-width: 500px; overflow: hidden; text-overflow: ellipsis; \">5.58e+06</td><td style=\"white-space: nowrap; max-width: 500px; overflow: hidden; text-overflow: ellipsis; \">130</td><td style=\"white-space: nowrap; max-width: 500px; overflow: hidden; text-overflow: ellipsis; \">6.87e+08</td><td style=\"white-space: nowrap; max-width: 500px; overflow: hidden; text-overflow: ellipsis; \">8.88e+03</td><td style=\"white-space: nowrap; max-width: 500px; overflow: hidden; text-overflow: ellipsis; \">6.56e+03</td><td style=\"white-space: nowrap; max-width: 500px; overflow: hidden; text-overflow: ellipsis; \">2.84e+02</td><td style=\"white-space: nowrap; max-width: 500px; overflow: hidden; text-overflow: ellipsis; \">2.62e+04</td><td style=\"white-space: nowrap; max-width: 500px; overflow: hidden; text-overflow: ellipsis; \">130</td><td style=\"white-space: nowrap; max-width: 500px; overflow: hidden; text-overflow: ellipsis; \">1.15e+06</td><td style=\"white-space: nowrap; max-width: 500px; overflow: hidden; text-overflow: ellipsis; \">3.25e+01</td><td style=\"white-space: nowrap; max-width: 500px; overflow: hidden; text-overflow: ellipsis; \">3.14e+00</td><td style=\"white-space: nowrap; max-width: 500px; overflow: hidden; text-overflow: ellipsis; \">2.63e+01</td><td style=\"white-space: nowrap; max-width: 500px; overflow: hidden; text-overflow: ellipsis; \">5.52e+01</td><td style=\"white-space: nowrap; max-width: 500px; overflow: hidden; text-overflow: ellipsis; \">130</td><td style=\"white-space: nowrap; max-width: 500px; overflow: hidden; text-overflow: ellipsis; \">4.23e+03</td><td style=\"white-space: nowrap; max-width: 500px; overflow: hidden; text-overflow: ellipsis; \">94</td></tr>\n",
       "<tr><td style=\"white-space: nowrap; max-width: 500px; overflow: hidden; text-overflow: ellipsis; \">&quot;AMR&quot;</td><td style=\"white-space: nowrap; max-width: 500px; overflow: hidden; text-overflow: ellipsis; \">&quot;MXL&quot;</td><td style=\"white-space: nowrap; max-width: 500px; overflow: hidden; text-overflow: ellipsis; \">5.27e+06</td><td style=\"white-space: nowrap; max-width: 500px; overflow: hidden; text-overflow: ellipsis; \">3.14e+04</td><td style=\"white-space: nowrap; max-width: 500px; overflow: hidden; text-overflow: ellipsis; \">5.18e+06</td><td style=\"white-space: nowrap; max-width: 500px; overflow: hidden; text-overflow: ellipsis; \">5.34e+06</td><td style=\"white-space: nowrap; max-width: 500px; overflow: hidden; text-overflow: ellipsis; \">97</td><td style=\"white-space: nowrap; max-width: 500px; overflow: hidden; text-overflow: ellipsis; \">5.11e+08</td><td style=\"white-space: nowrap; max-width: 500px; overflow: hidden; text-overflow: ellipsis; \">9.27e+03</td><td style=\"white-space: nowrap; max-width: 500px; overflow: hidden; text-overflow: ellipsis; \">7.25e+03</td><td style=\"white-space: nowrap; max-width: 500px; overflow: hidden; text-overflow: ellipsis; \">2.95e+02</td><td style=\"white-space: nowrap; max-width: 500px; overflow: hidden; text-overflow: ellipsis; \">2.83e+04</td><td style=\"white-space: nowrap; max-width: 500px; overflow: hidden; text-overflow: ellipsis; \">97</td><td style=\"white-space: nowrap; max-width: 500px; overflow: hidden; text-overflow: ellipsis; \">8.99e+05</td><td style=\"white-space: nowrap; max-width: 500px; overflow: hidden; text-overflow: ellipsis; \">3.13e+01</td><td style=\"white-space: nowrap; max-width: 500px; overflow: hidden; text-overflow: ellipsis; \">2.11e+00</td><td style=\"white-space: nowrap; max-width: 500px; overflow: hidden; text-overflow: ellipsis; \">2.83e+01</td><td style=\"white-space: nowrap; max-width: 500px; overflow: hidden; text-overflow: ellipsis; \">4.26e+01</td><td style=\"white-space: nowrap; max-width: 500px; overflow: hidden; text-overflow: ellipsis; \">97</td><td style=\"white-space: nowrap; max-width: 500px; overflow: hidden; text-overflow: ellipsis; \">3.04e+03</td><td style=\"white-space: nowrap; max-width: 500px; overflow: hidden; text-overflow: ellipsis; \">63</td></tr>\n",
       "<tr><td style=\"white-space: nowrap; max-width: 500px; overflow: hidden; text-overflow: ellipsis; \">&quot;AMR&quot;</td><td style=\"white-space: nowrap; max-width: 500px; overflow: hidden; text-overflow: ellipsis; \">&quot;PEL&quot;</td><td style=\"white-space: nowrap; max-width: 500px; overflow: hidden; text-overflow: ellipsis; \">5.29e+06</td><td style=\"white-space: nowrap; max-width: 500px; overflow: hidden; text-overflow: ellipsis; \">5.00e+04</td><td style=\"white-space: nowrap; max-width: 500px; overflow: hidden; text-overflow: ellipsis; \">5.23e+06</td><td style=\"white-space: nowrap; max-width: 500px; overflow: hidden; text-overflow: ellipsis; \">5.60e+06</td><td style=\"white-space: nowrap; max-width: 500px; overflow: hidden; text-overflow: ellipsis; \">122</td><td style=\"white-space: nowrap; max-width: 500px; overflow: hidden; text-overflow: ellipsis; \">6.45e+08</td><td style=\"white-space: nowrap; max-width: 500px; overflow: hidden; text-overflow: ellipsis; \">1.17e+04</td><td style=\"white-space: nowrap; max-width: 500px; overflow: hidden; text-overflow: ellipsis; \">8.64e+03</td><td style=\"white-space: nowrap; max-width: 500px; overflow: hidden; text-overflow: ellipsis; \">2.34e+02</td><td style=\"white-space: nowrap; max-width: 500px; overflow: hidden; text-overflow: ellipsis; \">3.15e+04</td><td style=\"white-space: nowrap; max-width: 500px; overflow: hidden; text-overflow: ellipsis; \">122</td><td style=\"white-space: nowrap; max-width: 500px; overflow: hidden; text-overflow: ellipsis; \">1.43e+06</td><td style=\"white-space: nowrap; max-width: 500px; overflow: hidden; text-overflow: ellipsis; \">3.18e+01</td><td style=\"white-space: nowrap; max-width: 500px; overflow: hidden; text-overflow: ellipsis; \">1.94e+00</td><td style=\"white-space: nowrap; max-width: 500px; overflow: hidden; text-overflow: ellipsis; \">2.82e+01</td><td style=\"white-space: nowrap; max-width: 500px; overflow: hidden; text-overflow: ellipsis; \">3.87e+01</td><td style=\"white-space: nowrap; max-width: 500px; overflow: hidden; text-overflow: ellipsis; \">122</td><td style=\"white-space: nowrap; max-width: 500px; overflow: hidden; text-overflow: ellipsis; \">3.88e+03</td><td style=\"white-space: nowrap; max-width: 500px; overflow: hidden; text-overflow: ellipsis; \">85</td></tr>\n",
       "</tbody></table><p style=\"background: #fdd; padding: 0.4em;\">showing top 10 rows</p>\n"
      ],
      "text/plain": [
       "+--------+------------+------------------+-------------------+-----------------+\n",
       "| region | Population | n_snp_stats.mean | n_snp_stats.stdev | n_snp_stats.min |\n",
       "+--------+------------+------------------+-------------------+-----------------+\n",
       "| str    | str        |          float64 |           float64 |         float64 |\n",
       "+--------+------------+------------------+-------------------+-----------------+\n",
       "| \"AFR\"  | \"ACB\"      |         6.04e+06 |          6.81e+04 |        5.73e+06 |\n",
       "| \"AFR\"  | \"ASW\"      |         5.94e+06 |          9.38e+04 |        5.67e+06 |\n",
       "| \"AFR\"  | \"ESN\"      |         6.13e+06 |          1.46e+04 |        6.09e+06 |\n",
       "| \"AFR\"  | \"GWD\"      |         6.12e+06 |          1.95e+04 |        6.06e+06 |\n",
       "| \"AFR\"  | \"LWK\"      |         6.11e+06 |          1.72e+04 |        6.06e+06 |\n",
       "| \"AFR\"  | \"MSL\"      |         6.18e+06 |          1.51e+04 |        6.13e+06 |\n",
       "| \"AFR\"  | \"YRI\"      |         6.13e+06 |          1.50e+04 |        6.08e+06 |\n",
       "| \"AMR\"  | \"CLM\"      |         5.29e+06 |          7.87e+04 |        5.17e+06 |\n",
       "| \"AMR\"  | \"MXL\"      |         5.27e+06 |          3.14e+04 |        5.18e+06 |\n",
       "| \"AMR\"  | \"PEL\"      |         5.29e+06 |          5.00e+04 |        5.23e+06 |\n",
       "+--------+------------+------------------+-------------------+-----------------+\n",
       "\n",
       "+-----------------+---------------+-----------------+------------------------+\n",
       "| n_snp_stats.max | n_snp_stats.n | n_snp_stats.sum | n_singleton_stats.mean |\n",
       "+-----------------+---------------+-----------------+------------------------+\n",
       "|         float64 |         int64 |         float64 |                float64 |\n",
       "+-----------------+---------------+-----------------+------------------------+\n",
       "|        6.14e+06 |           114 |        6.88e+08 |               1.57e+04 |\n",
       "|        6.10e+06 |            71 |        4.22e+08 |               1.40e+04 |\n",
       "|        6.18e+06 |           148 |        9.07e+08 |               8.56e+03 |\n",
       "|        6.17e+06 |           176 |        1.08e+09 |               1.04e+04 |\n",
       "|        6.16e+06 |            97 |        5.93e+08 |               2.58e+04 |\n",
       "|        6.22e+06 |            98 |        6.06e+08 |               2.13e+04 |\n",
       "|        6.16e+06 |           175 |        1.07e+09 |               8.38e+03 |\n",
       "|        5.58e+06 |           130 |        6.87e+08 |               8.88e+03 |\n",
       "|        5.34e+06 |            97 |        5.11e+08 |               9.27e+03 |\n",
       "|        5.60e+06 |           122 |        6.45e+08 |               1.17e+04 |\n",
       "+-----------------+---------------+-----------------+------------------------+\n",
       "\n",
       "+-------------------------+-----------------------+-----------------------+\n",
       "| n_singleton_stats.stdev | n_singleton_stats.min | n_singleton_stats.max |\n",
       "+-------------------------+-----------------------+-----------------------+\n",
       "|                 float64 |               float64 |               float64 |\n",
       "+-------------------------+-----------------------+-----------------------+\n",
       "|                8.38e+03 |              5.28e+02 |              2.75e+04 |\n",
       "|                8.23e+03 |              5.32e+02 |              2.76e+04 |\n",
       "|                5.68e+03 |              5.49e+02 |              2.00e+04 |\n",
       "|                6.80e+03 |              5.73e+02 |              2.60e+04 |\n",
       "|                7.78e+03 |              9.39e+03 |              3.98e+04 |\n",
       "|                8.86e+03 |              7.02e+02 |              3.11e+04 |\n",
       "|                5.64e+03 |              5.18e+02 |              2.30e+04 |\n",
       "|                6.56e+03 |              2.84e+02 |              2.62e+04 |\n",
       "|                7.25e+03 |              2.95e+02 |              2.83e+04 |\n",
       "|                8.64e+03 |              2.34e+02 |              3.15e+04 |\n",
       "+-------------------------+-----------------------+-----------------------+\n",
       "\n",
       "+---------------------+-----------------------+----------------+\n",
       "| n_singleton_stats.n | n_singleton_stats.sum | cov_stats.mean |\n",
       "+---------------------+-----------------------+----------------+\n",
       "|               int64 |               float64 |        float64 |\n",
       "+---------------------+-----------------------+----------------+\n",
       "|                 114 |              1.79e+06 |       3.17e+01 |\n",
       "|                  71 |              9.95e+05 |       3.23e+01 |\n",
       "|                 148 |              1.27e+06 |       3.23e+01 |\n",
       "|                 176 |              1.83e+06 |       3.25e+01 |\n",
       "|                  97 |              2.51e+06 |       3.29e+01 |\n",
       "|                  98 |              2.08e+06 |       3.18e+01 |\n",
       "|                 175 |              1.47e+06 |       3.23e+01 |\n",
       "|                 130 |              1.15e+06 |       3.25e+01 |\n",
       "|                  97 |              8.99e+05 |       3.13e+01 |\n",
       "|                 122 |              1.43e+06 |       3.18e+01 |\n",
       "+---------------------+-----------------------+----------------+\n",
       "\n",
       "+-----------------+---------------+---------------+-------------+\n",
       "| cov_stats.stdev | cov_stats.min | cov_stats.max | cov_stats.n |\n",
       "+-----------------+---------------+---------------+-------------+\n",
       "|         float64 |       float64 |       float64 |       int64 |\n",
       "+-----------------+---------------+---------------+-------------+\n",
       "|        2.48e+00 |      2.84e+01 |      4.20e+01 |         114 |\n",
       "|        3.36e+00 |      2.75e+01 |      5.21e+01 |          71 |\n",
       "|        3.23e+00 |      2.80e+01 |      5.35e+01 |         148 |\n",
       "|        2.71e+00 |      2.82e+01 |      4.34e+01 |         176 |\n",
       "|        4.32e+00 |      2.79e+01 |      6.02e+01 |          97 |\n",
       "|        2.69e+00 |      2.75e+01 |      4.56e+01 |          98 |\n",
       "|        3.59e+00 |      2.69e+01 |      5.61e+01 |         175 |\n",
       "|        3.14e+00 |      2.63e+01 |      5.52e+01 |         130 |\n",
       "|        2.11e+00 |      2.83e+01 |      4.26e+01 |          97 |\n",
       "|        1.94e+00 |      2.82e+01 |      3.87e+01 |         122 |\n",
       "+-----------------+---------------+---------------+-------------+\n",
       "\n",
       "+---------------+-------------+\n",
       "| cov_stats.sum | n_unrelated |\n",
       "+---------------+-------------+\n",
       "|       float64 |       int64 |\n",
       "+---------------+-------------+\n",
       "|      3.62e+03 |          94 |\n",
       "|      2.29e+03 |          52 |\n",
       "|      4.78e+03 |         103 |\n",
       "|      5.72e+03 |         116 |\n",
       "|      3.19e+03 |          92 |\n",
       "|      3.12e+03 |          83 |\n",
       "|      5.65e+03 |         117 |\n",
       "|      4.23e+03 |          94 |\n",
       "|      3.04e+03 |          63 |\n",
       "|      3.88e+03 |          85 |\n",
       "+---------------+-------------+\n",
       "showing top 10 rows"
      ]
     },
     "metadata": {},
     "output_type": "display_data"
    }
   ],
   "source": [
    "# hl.show() prints 10 lines or however many lines specified of a matrix table or table\n",
    "# running it here to check that each of the table field contain what we'd expect\n",
    "table.show()"
   ]
  },
  {
   "cell_type": "markdown",
   "id": "bridal-ecuador",
   "metadata": {},
   "source": [
    "# Formatting table for exporting\n",
    "In this section"
   ]
  },
  {
   "cell_type": "code",
   "execution_count": 21,
   "id": "available-crown",
   "metadata": {},
   "outputs": [],
   "source": [
    "# Flattening out the structs created from annotating the tables\n",
    "# this is done so that when the able is written out, the data is easier to work with\n",
    "# if the tables were written out without flattening the new annotated information would be in a nested structure\n",
    "table = table.flatten()\n",
    "\n",
    "table = table.key_by(table.region, table.Population)"
   ]
  },
  {
   "cell_type": "code",
   "execution_count": 17,
   "id": "closing-bailey",
   "metadata": {},
   "outputs": [
    {
     "name": "stderr",
     "output_type": "stream",
     "text": [
      "2021-06-29 16:31:23 Hail: INFO: Coerced sorted dataset\n",
      "2021-06-29 16:31:24 Hail: INFO: Ordering unsorted dataset with network shuffle\n",
      "2021-06-29 16:31:25 Hail: INFO: Coerced sorted dataset\n",
      "2021-06-29 16:31:25 Hail: INFO: Coerced sorted dataset\n",
      "2021-06-29 16:31:26 Hail: INFO: Ordering unsorted dataset with network shuffle\n",
      "2021-06-29 16:31:27 Hail: INFO: Coerced sorted dataset\n",
      "2021-06-29 16:31:28 Hail: INFO: Coerced sorted dataset\n",
      "2021-06-29 16:31:29 Hail: INFO: Ordering unsorted dataset with network shuffle\n",
      "2021-06-29 16:31:29 Hail: INFO: Coerced sorted dataset\n"
     ]
    },
    {
     "data": {
      "text/html": [
       "<table><thead><tr><td style=\"white-space: nowrap; max-width: 500px; overflow: hidden; text-overflow: ellipsis; \" colspan=\"1\"><div style=\"text-align: left;\"></div></td><td style=\"white-space: nowrap; max-width: 500px; overflow: hidden; text-overflow: ellipsis; \" colspan=\"1\"><div style=\"text-align: left;\"></div></td><td style=\"white-space: nowrap; max-width: 500px; overflow: hidden; text-overflow: ellipsis; \" colspan=\"1\"><div style=\"text-align: left;\"></div></td><td style=\"white-space: nowrap; max-width: 500px; overflow: hidden; text-overflow: ellipsis; \" colspan=\"1\"><div style=\"text-align: left;\"></div></td><td style=\"white-space: nowrap; max-width: 500px; overflow: hidden; text-overflow: ellipsis; \" colspan=\"1\"><div style=\"text-align: left;\"></div></td><td style=\"white-space: nowrap; max-width: 500px; overflow: hidden; text-overflow: ellipsis; \" colspan=\"1\"><div style=\"text-align: left;\"></div></td><td style=\"white-space: nowrap; max-width: 500px; overflow: hidden; text-overflow: ellipsis; \" colspan=\"1\"><div style=\"text-align: left;\"></div></td><td style=\"white-space: nowrap; max-width: 500px; overflow: hidden; text-overflow: ellipsis; \" colspan=\"1\"><div style=\"text-align: left;\"></div></td><td style=\"white-space: nowrap; max-width: 500px; overflow: hidden; text-overflow: ellipsis; \" colspan=\"1\"><div style=\"text-align: left;\"></div></td><td style=\"white-space: nowrap; max-width: 500px; overflow: hidden; text-overflow: ellipsis; \" colspan=\"1\"><div style=\"text-align: left;\"></div></td><td style=\"white-space: nowrap; max-width: 500px; overflow: hidden; text-overflow: ellipsis; \" colspan=\"1\"><div style=\"text-align: left;\"></div></td><td style=\"white-space: nowrap; max-width: 500px; overflow: hidden; text-overflow: ellipsis; \" colspan=\"1\"><div style=\"text-align: left;\"></div></td><td style=\"white-space: nowrap; max-width: 500px; overflow: hidden; text-overflow: ellipsis; \" colspan=\"1\"><div style=\"text-align: left;\"></div></td><td style=\"white-space: nowrap; max-width: 500px; overflow: hidden; text-overflow: ellipsis; \" colspan=\"1\"><div style=\"text-align: left;\"></div></td></tr><tr><td style=\"white-space: nowrap; max-width: 500px; overflow: hidden; text-overflow: ellipsis; \" colspan=\"1\"><div style=\"text-align: left;border-bottom: solid 2px #000; padding-bottom: 5px\">region</div></td><td style=\"white-space: nowrap; max-width: 500px; overflow: hidden; text-overflow: ellipsis; \" colspan=\"1\"><div style=\"text-align: left;border-bottom: solid 2px #000; padding-bottom: 5px\">Population</div></td><td style=\"white-space: nowrap; max-width: 500px; overflow: hidden; text-overflow: ellipsis; \" colspan=\"1\"><div style=\"text-align: left;border-bottom: solid 2px #000; padding-bottom: 5px\">n_unrelated</div></td><td style=\"white-space: nowrap; max-width: 500px; overflow: hidden; text-overflow: ellipsis; \" colspan=\"1\"><div style=\"text-align: left;border-bottom: solid 2px #000; padding-bottom: 5px\">cov_stats.n</div></td><td style=\"white-space: nowrap; max-width: 500px; overflow: hidden; text-overflow: ellipsis; \" colspan=\"1\"><div style=\"text-align: left;border-bottom: solid 2px #000; padding-bottom: 5px\">cov_stats.mean</div></td><td style=\"white-space: nowrap; max-width: 500px; overflow: hidden; text-overflow: ellipsis; \" colspan=\"1\"><div style=\"text-align: left;border-bottom: solid 2px #000; padding-bottom: 5px\">cov_stats.stdev</div></td><td style=\"white-space: nowrap; max-width: 500px; overflow: hidden; text-overflow: ellipsis; \" colspan=\"1\"><div style=\"text-align: left;border-bottom: solid 2px #000; padding-bottom: 5px\">n_snp.n_unrelated</div></td><td style=\"white-space: nowrap; max-width: 500px; overflow: hidden; text-overflow: ellipsis; \" colspan=\"1\"><div style=\"text-align: left;border-bottom: solid 2px #000; padding-bottom: 5px\">n_snp.n_snp_stats.n</div></td><td style=\"white-space: nowrap; max-width: 500px; overflow: hidden; text-overflow: ellipsis; \" colspan=\"1\"><div style=\"text-align: left;border-bottom: solid 2px #000; padding-bottom: 5px\">n_snp.n_snp_stats.mean</div></td><td style=\"white-space: nowrap; max-width: 500px; overflow: hidden; text-overflow: ellipsis; \" colspan=\"1\"><div style=\"text-align: left;border-bottom: solid 2px #000; padding-bottom: 5px\">n_snp.n_snp_stats.stdev</div></td><td style=\"white-space: nowrap; max-width: 500px; overflow: hidden; text-overflow: ellipsis; \" colspan=\"1\"><div style=\"text-align: left;border-bottom: solid 2px #000; padding-bottom: 5px\">n_singleton.n_unrelated</div></td><td style=\"white-space: nowrap; max-width: 500px; overflow: hidden; text-overflow: ellipsis; \" colspan=\"1\"><div style=\"text-align: left;border-bottom: solid 2px #000; padding-bottom: 5px\">n_singleton.n_singleton_stats.n</div></td><td style=\"white-space: nowrap; max-width: 500px; overflow: hidden; text-overflow: ellipsis; \" colspan=\"1\"><div style=\"text-align: left;border-bottom: solid 2px #000; padding-bottom: 5px\">n_singleton.n_singleton_stats.mean</div></td><td style=\"white-space: nowrap; max-width: 500px; overflow: hidden; text-overflow: ellipsis; \" colspan=\"1\"><div style=\"text-align: left;border-bottom: solid 2px #000; padding-bottom: 5px\">n_singleton.n_singleton_stats.stdev</div></td></tr><tr><td style=\"white-space: nowrap; max-width: 500px; overflow: hidden; text-overflow: ellipsis; text-align: left;\">str</td><td style=\"white-space: nowrap; max-width: 500px; overflow: hidden; text-overflow: ellipsis; text-align: left;\">str</td><td style=\"white-space: nowrap; max-width: 500px; overflow: hidden; text-overflow: ellipsis; text-align: left;\">int64</td><td style=\"white-space: nowrap; max-width: 500px; overflow: hidden; text-overflow: ellipsis; text-align: left;\">int64</td><td style=\"white-space: nowrap; max-width: 500px; overflow: hidden; text-overflow: ellipsis; text-align: left;\">float64</td><td style=\"white-space: nowrap; max-width: 500px; overflow: hidden; text-overflow: ellipsis; text-align: left;\">float64</td><td style=\"white-space: nowrap; max-width: 500px; overflow: hidden; text-overflow: ellipsis; text-align: left;\">int64</td><td style=\"white-space: nowrap; max-width: 500px; overflow: hidden; text-overflow: ellipsis; text-align: left;\">int64</td><td style=\"white-space: nowrap; max-width: 500px; overflow: hidden; text-overflow: ellipsis; text-align: left;\">float64</td><td style=\"white-space: nowrap; max-width: 500px; overflow: hidden; text-overflow: ellipsis; text-align: left;\">float64</td><td style=\"white-space: nowrap; max-width: 500px; overflow: hidden; text-overflow: ellipsis; text-align: left;\">int64</td><td style=\"white-space: nowrap; max-width: 500px; overflow: hidden; text-overflow: ellipsis; text-align: left;\">int64</td><td style=\"white-space: nowrap; max-width: 500px; overflow: hidden; text-overflow: ellipsis; text-align: left;\">float64</td><td style=\"white-space: nowrap; max-width: 500px; overflow: hidden; text-overflow: ellipsis; text-align: left;\">float64</td></tr>\n",
       "</thead><tbody><tr><td style=\"white-space: nowrap; max-width: 500px; overflow: hidden; text-overflow: ellipsis; \">&quot;AFR&quot;</td><td style=\"white-space: nowrap; max-width: 500px; overflow: hidden; text-overflow: ellipsis; \">&quot;ACB&quot;</td><td style=\"white-space: nowrap; max-width: 500px; overflow: hidden; text-overflow: ellipsis; \">90</td><td style=\"white-space: nowrap; max-width: 500px; overflow: hidden; text-overflow: ellipsis; \">114</td><td style=\"white-space: nowrap; max-width: 500px; overflow: hidden; text-overflow: ellipsis; \">3.17e+01</td><td style=\"white-space: nowrap; max-width: 500px; overflow: hidden; text-overflow: ellipsis; \">2.48e+00</td><td style=\"white-space: nowrap; max-width: 500px; overflow: hidden; text-overflow: ellipsis; \">90</td><td style=\"white-space: nowrap; max-width: 500px; overflow: hidden; text-overflow: ellipsis; \">114</td><td style=\"white-space: nowrap; max-width: 500px; overflow: hidden; text-overflow: ellipsis; \">6.04e+06</td><td style=\"white-space: nowrap; max-width: 500px; overflow: hidden; text-overflow: ellipsis; \">6.81e+04</td><td style=\"white-space: nowrap; max-width: 500px; overflow: hidden; text-overflow: ellipsis; \">90</td><td style=\"white-space: nowrap; max-width: 500px; overflow: hidden; text-overflow: ellipsis; \">114</td><td style=\"white-space: nowrap; max-width: 500px; overflow: hidden; text-overflow: ellipsis; \">1.57e+04</td><td style=\"white-space: nowrap; max-width: 500px; overflow: hidden; text-overflow: ellipsis; \">8.38e+03</td></tr>\n",
       "<tr><td style=\"white-space: nowrap; max-width: 500px; overflow: hidden; text-overflow: ellipsis; \">&quot;AFR&quot;</td><td style=\"white-space: nowrap; max-width: 500px; overflow: hidden; text-overflow: ellipsis; \">&quot;ASW&quot;</td><td style=\"white-space: nowrap; max-width: 500px; overflow: hidden; text-overflow: ellipsis; \">49</td><td style=\"white-space: nowrap; max-width: 500px; overflow: hidden; text-overflow: ellipsis; \">72</td><td style=\"white-space: nowrap; max-width: 500px; overflow: hidden; text-overflow: ellipsis; \">3.23e+01</td><td style=\"white-space: nowrap; max-width: 500px; overflow: hidden; text-overflow: ellipsis; \">3.34e+00</td><td style=\"white-space: nowrap; max-width: 500px; overflow: hidden; text-overflow: ellipsis; \">49</td><td style=\"white-space: nowrap; max-width: 500px; overflow: hidden; text-overflow: ellipsis; \">72</td><td style=\"white-space: nowrap; max-width: 500px; overflow: hidden; text-overflow: ellipsis; \">5.94e+06</td><td style=\"white-space: nowrap; max-width: 500px; overflow: hidden; text-overflow: ellipsis; \">1.06e+05</td><td style=\"white-space: nowrap; max-width: 500px; overflow: hidden; text-overflow: ellipsis; \">49</td><td style=\"white-space: nowrap; max-width: 500px; overflow: hidden; text-overflow: ellipsis; \">72</td><td style=\"white-space: nowrap; max-width: 500px; overflow: hidden; text-overflow: ellipsis; \">1.39e+04</td><td style=\"white-space: nowrap; max-width: 500px; overflow: hidden; text-overflow: ellipsis; \">8.04e+03</td></tr>\n",
       "<tr><td style=\"white-space: nowrap; max-width: 500px; overflow: hidden; text-overflow: ellipsis; \">&quot;AFR&quot;</td><td style=\"white-space: nowrap; max-width: 500px; overflow: hidden; text-overflow: ellipsis; \">&quot;ESN&quot;</td><td style=\"white-space: nowrap; max-width: 500px; overflow: hidden; text-overflow: ellipsis; \">100</td><td style=\"white-space: nowrap; max-width: 500px; overflow: hidden; text-overflow: ellipsis; \">148</td><td style=\"white-space: nowrap; max-width: 500px; overflow: hidden; text-overflow: ellipsis; \">3.23e+01</td><td style=\"white-space: nowrap; max-width: 500px; overflow: hidden; text-overflow: ellipsis; \">3.23e+00</td><td style=\"white-space: nowrap; max-width: 500px; overflow: hidden; text-overflow: ellipsis; \">100</td><td style=\"white-space: nowrap; max-width: 500px; overflow: hidden; text-overflow: ellipsis; \">148</td><td style=\"white-space: nowrap; max-width: 500px; overflow: hidden; text-overflow: ellipsis; \">6.13e+06</td><td style=\"white-space: nowrap; max-width: 500px; overflow: hidden; text-overflow: ellipsis; \">1.46e+04</td><td style=\"white-space: nowrap; max-width: 500px; overflow: hidden; text-overflow: ellipsis; \">100</td><td style=\"white-space: nowrap; max-width: 500px; overflow: hidden; text-overflow: ellipsis; \">148</td><td style=\"white-space: nowrap; max-width: 500px; overflow: hidden; text-overflow: ellipsis; \">8.56e+03</td><td style=\"white-space: nowrap; max-width: 500px; overflow: hidden; text-overflow: ellipsis; \">5.68e+03</td></tr>\n",
       "<tr><td style=\"white-space: nowrap; max-width: 500px; overflow: hidden; text-overflow: ellipsis; \">&quot;AFR&quot;</td><td style=\"white-space: nowrap; max-width: 500px; overflow: hidden; text-overflow: ellipsis; \">&quot;GWD&quot;</td><td style=\"white-space: nowrap; max-width: 500px; overflow: hidden; text-overflow: ellipsis; \">112</td><td style=\"white-space: nowrap; max-width: 500px; overflow: hidden; text-overflow: ellipsis; \">176</td><td style=\"white-space: nowrap; max-width: 500px; overflow: hidden; text-overflow: ellipsis; \">3.25e+01</td><td style=\"white-space: nowrap; max-width: 500px; overflow: hidden; text-overflow: ellipsis; \">2.71e+00</td><td style=\"white-space: nowrap; max-width: 500px; overflow: hidden; text-overflow: ellipsis; \">112</td><td style=\"white-space: nowrap; max-width: 500px; overflow: hidden; text-overflow: ellipsis; \">176</td><td style=\"white-space: nowrap; max-width: 500px; overflow: hidden; text-overflow: ellipsis; \">6.12e+06</td><td style=\"white-space: nowrap; max-width: 500px; overflow: hidden; text-overflow: ellipsis; \">1.95e+04</td><td style=\"white-space: nowrap; max-width: 500px; overflow: hidden; text-overflow: ellipsis; \">112</td><td style=\"white-space: nowrap; max-width: 500px; overflow: hidden; text-overflow: ellipsis; \">176</td><td style=\"white-space: nowrap; max-width: 500px; overflow: hidden; text-overflow: ellipsis; \">1.04e+04</td><td style=\"white-space: nowrap; max-width: 500px; overflow: hidden; text-overflow: ellipsis; \">6.80e+03</td></tr>\n",
       "<tr><td style=\"white-space: nowrap; max-width: 500px; overflow: hidden; text-overflow: ellipsis; \">&quot;AFR&quot;</td><td style=\"white-space: nowrap; max-width: 500px; overflow: hidden; text-overflow: ellipsis; \">&quot;LWK&quot;</td><td style=\"white-space: nowrap; max-width: 500px; overflow: hidden; text-overflow: ellipsis; \">92</td><td style=\"white-space: nowrap; max-width: 500px; overflow: hidden; text-overflow: ellipsis; \">97</td><td style=\"white-space: nowrap; max-width: 500px; overflow: hidden; text-overflow: ellipsis; \">3.29e+01</td><td style=\"white-space: nowrap; max-width: 500px; overflow: hidden; text-overflow: ellipsis; \">4.32e+00</td><td style=\"white-space: nowrap; max-width: 500px; overflow: hidden; text-overflow: ellipsis; \">92</td><td style=\"white-space: nowrap; max-width: 500px; overflow: hidden; text-overflow: ellipsis; \">97</td><td style=\"white-space: nowrap; max-width: 500px; overflow: hidden; text-overflow: ellipsis; \">6.11e+06</td><td style=\"white-space: nowrap; max-width: 500px; overflow: hidden; text-overflow: ellipsis; \">1.72e+04</td><td style=\"white-space: nowrap; max-width: 500px; overflow: hidden; text-overflow: ellipsis; \">92</td><td style=\"white-space: nowrap; max-width: 500px; overflow: hidden; text-overflow: ellipsis; \">97</td><td style=\"white-space: nowrap; max-width: 500px; overflow: hidden; text-overflow: ellipsis; \">2.58e+04</td><td style=\"white-space: nowrap; max-width: 500px; overflow: hidden; text-overflow: ellipsis; \">7.77e+03</td></tr>\n",
       "<tr><td style=\"white-space: nowrap; max-width: 500px; overflow: hidden; text-overflow: ellipsis; \">&quot;AFR&quot;</td><td style=\"white-space: nowrap; max-width: 500px; overflow: hidden; text-overflow: ellipsis; \">&quot;MSL&quot;</td><td style=\"white-space: nowrap; max-width: 500px; overflow: hidden; text-overflow: ellipsis; \">80</td><td style=\"white-space: nowrap; max-width: 500px; overflow: hidden; text-overflow: ellipsis; \">98</td><td style=\"white-space: nowrap; max-width: 500px; overflow: hidden; text-overflow: ellipsis; \">3.18e+01</td><td style=\"white-space: nowrap; max-width: 500px; overflow: hidden; text-overflow: ellipsis; \">2.69e+00</td><td style=\"white-space: nowrap; max-width: 500px; overflow: hidden; text-overflow: ellipsis; \">80</td><td style=\"white-space: nowrap; max-width: 500px; overflow: hidden; text-overflow: ellipsis; \">98</td><td style=\"white-space: nowrap; max-width: 500px; overflow: hidden; text-overflow: ellipsis; \">6.18e+06</td><td style=\"white-space: nowrap; max-width: 500px; overflow: hidden; text-overflow: ellipsis; \">1.51e+04</td><td style=\"white-space: nowrap; max-width: 500px; overflow: hidden; text-overflow: ellipsis; \">80</td><td style=\"white-space: nowrap; max-width: 500px; overflow: hidden; text-overflow: ellipsis; \">98</td><td style=\"white-space: nowrap; max-width: 500px; overflow: hidden; text-overflow: ellipsis; \">2.13e+04</td><td style=\"white-space: nowrap; max-width: 500px; overflow: hidden; text-overflow: ellipsis; \">8.86e+03</td></tr>\n",
       "<tr><td style=\"white-space: nowrap; max-width: 500px; overflow: hidden; text-overflow: ellipsis; \">&quot;AFR&quot;</td><td style=\"white-space: nowrap; max-width: 500px; overflow: hidden; text-overflow: ellipsis; \">&quot;YRI&quot;</td><td style=\"white-space: nowrap; max-width: 500px; overflow: hidden; text-overflow: ellipsis; \">114</td><td style=\"white-space: nowrap; max-width: 500px; overflow: hidden; text-overflow: ellipsis; \">175</td><td style=\"white-space: nowrap; max-width: 500px; overflow: hidden; text-overflow: ellipsis; \">3.23e+01</td><td style=\"white-space: nowrap; max-width: 500px; overflow: hidden; text-overflow: ellipsis; \">3.59e+00</td><td style=\"white-space: nowrap; max-width: 500px; overflow: hidden; text-overflow: ellipsis; \">114</td><td style=\"white-space: nowrap; max-width: 500px; overflow: hidden; text-overflow: ellipsis; \">175</td><td style=\"white-space: nowrap; max-width: 500px; overflow: hidden; text-overflow: ellipsis; \">6.13e+06</td><td style=\"white-space: nowrap; max-width: 500px; overflow: hidden; text-overflow: ellipsis; \">1.50e+04</td><td style=\"white-space: nowrap; max-width: 500px; overflow: hidden; text-overflow: ellipsis; \">114</td><td style=\"white-space: nowrap; max-width: 500px; overflow: hidden; text-overflow: ellipsis; \">175</td><td style=\"white-space: nowrap; max-width: 500px; overflow: hidden; text-overflow: ellipsis; \">8.38e+03</td><td style=\"white-space: nowrap; max-width: 500px; overflow: hidden; text-overflow: ellipsis; \">5.64e+03</td></tr>\n",
       "<tr><td style=\"white-space: nowrap; max-width: 500px; overflow: hidden; text-overflow: ellipsis; \">&quot;AMR&quot;</td><td style=\"white-space: nowrap; max-width: 500px; overflow: hidden; text-overflow: ellipsis; \">&quot;CLM&quot;</td><td style=\"white-space: nowrap; max-width: 500px; overflow: hidden; text-overflow: ellipsis; \">91</td><td style=\"white-space: nowrap; max-width: 500px; overflow: hidden; text-overflow: ellipsis; \">130</td><td style=\"white-space: nowrap; max-width: 500px; overflow: hidden; text-overflow: ellipsis; \">3.25e+01</td><td style=\"white-space: nowrap; max-width: 500px; overflow: hidden; text-overflow: ellipsis; \">3.14e+00</td><td style=\"white-space: nowrap; max-width: 500px; overflow: hidden; text-overflow: ellipsis; \">91</td><td style=\"white-space: nowrap; max-width: 500px; overflow: hidden; text-overflow: ellipsis; \">130</td><td style=\"white-space: nowrap; max-width: 500px; overflow: hidden; text-overflow: ellipsis; \">5.29e+06</td><td style=\"white-space: nowrap; max-width: 500px; overflow: hidden; text-overflow: ellipsis; \">7.87e+04</td><td style=\"white-space: nowrap; max-width: 500px; overflow: hidden; text-overflow: ellipsis; \">91</td><td style=\"white-space: nowrap; max-width: 500px; overflow: hidden; text-overflow: ellipsis; \">130</td><td style=\"white-space: nowrap; max-width: 500px; overflow: hidden; text-overflow: ellipsis; \">8.88e+03</td><td style=\"white-space: nowrap; max-width: 500px; overflow: hidden; text-overflow: ellipsis; \">6.56e+03</td></tr>\n",
       "<tr><td style=\"white-space: nowrap; max-width: 500px; overflow: hidden; text-overflow: ellipsis; \">&quot;AMR&quot;</td><td style=\"white-space: nowrap; max-width: 500px; overflow: hidden; text-overflow: ellipsis; \">&quot;MXL&quot;</td><td style=\"white-space: nowrap; max-width: 500px; overflow: hidden; text-overflow: ellipsis; \">59</td><td style=\"white-space: nowrap; max-width: 500px; overflow: hidden; text-overflow: ellipsis; \">97</td><td style=\"white-space: nowrap; max-width: 500px; overflow: hidden; text-overflow: ellipsis; \">3.13e+01</td><td style=\"white-space: nowrap; max-width: 500px; overflow: hidden; text-overflow: ellipsis; \">2.11e+00</td><td style=\"white-space: nowrap; max-width: 500px; overflow: hidden; text-overflow: ellipsis; \">59</td><td style=\"white-space: nowrap; max-width: 500px; overflow: hidden; text-overflow: ellipsis; \">97</td><td style=\"white-space: nowrap; max-width: 500px; overflow: hidden; text-overflow: ellipsis; \">5.27e+06</td><td style=\"white-space: nowrap; max-width: 500px; overflow: hidden; text-overflow: ellipsis; \">3.14e+04</td><td style=\"white-space: nowrap; max-width: 500px; overflow: hidden; text-overflow: ellipsis; \">59</td><td style=\"white-space: nowrap; max-width: 500px; overflow: hidden; text-overflow: ellipsis; \">97</td><td style=\"white-space: nowrap; max-width: 500px; overflow: hidden; text-overflow: ellipsis; \">9.26e+03</td><td style=\"white-space: nowrap; max-width: 500px; overflow: hidden; text-overflow: ellipsis; \">7.24e+03</td></tr>\n",
       "<tr><td style=\"white-space: nowrap; max-width: 500px; overflow: hidden; text-overflow: ellipsis; \">&quot;AMR&quot;</td><td style=\"white-space: nowrap; max-width: 500px; overflow: hidden; text-overflow: ellipsis; \">&quot;PEL&quot;</td><td style=\"white-space: nowrap; max-width: 500px; overflow: hidden; text-overflow: ellipsis; \">81</td><td style=\"white-space: nowrap; max-width: 500px; overflow: hidden; text-overflow: ellipsis; \">122</td><td style=\"white-space: nowrap; max-width: 500px; overflow: hidden; text-overflow: ellipsis; \">3.18e+01</td><td style=\"white-space: nowrap; max-width: 500px; overflow: hidden; text-overflow: ellipsis; \">1.94e+00</td><td style=\"white-space: nowrap; max-width: 500px; overflow: hidden; text-overflow: ellipsis; \">81</td><td style=\"white-space: nowrap; max-width: 500px; overflow: hidden; text-overflow: ellipsis; \">122</td><td style=\"white-space: nowrap; max-width: 500px; overflow: hidden; text-overflow: ellipsis; \">5.29e+06</td><td style=\"white-space: nowrap; max-width: 500px; overflow: hidden; text-overflow: ellipsis; \">5.00e+04</td><td style=\"white-space: nowrap; max-width: 500px; overflow: hidden; text-overflow: ellipsis; \">81</td><td style=\"white-space: nowrap; max-width: 500px; overflow: hidden; text-overflow: ellipsis; \">122</td><td style=\"white-space: nowrap; max-width: 500px; overflow: hidden; text-overflow: ellipsis; \">1.17e+04</td><td style=\"white-space: nowrap; max-width: 500px; overflow: hidden; text-overflow: ellipsis; \">8.64e+03</td></tr>\n",
       "</tbody></table><p style=\"background: #fdd; padding: 0.4em;\">showing top 10 rows</p>\n"
      ],
      "text/plain": [
       "+--------+------------+-------------+-------------+----------------+\n",
       "| region | Population | n_unrelated | cov_stats.n | cov_stats.mean |\n",
       "+--------+------------+-------------+-------------+----------------+\n",
       "| str    | str        |       int64 |       int64 |        float64 |\n",
       "+--------+------------+-------------+-------------+----------------+\n",
       "| \"AFR\"  | \"ACB\"      |          90 |         114 |       3.17e+01 |\n",
       "| \"AFR\"  | \"ASW\"      |          49 |          72 |       3.23e+01 |\n",
       "| \"AFR\"  | \"ESN\"      |         100 |         148 |       3.23e+01 |\n",
       "| \"AFR\"  | \"GWD\"      |         112 |         176 |       3.25e+01 |\n",
       "| \"AFR\"  | \"LWK\"      |          92 |          97 |       3.29e+01 |\n",
       "| \"AFR\"  | \"MSL\"      |          80 |          98 |       3.18e+01 |\n",
       "| \"AFR\"  | \"YRI\"      |         114 |         175 |       3.23e+01 |\n",
       "| \"AMR\"  | \"CLM\"      |          91 |         130 |       3.25e+01 |\n",
       "| \"AMR\"  | \"MXL\"      |          59 |          97 |       3.13e+01 |\n",
       "| \"AMR\"  | \"PEL\"      |          81 |         122 |       3.18e+01 |\n",
       "+--------+------------+-------------+-------------+----------------+\n",
       "\n",
       "+-----------------+-------------------+---------------------+\n",
       "| cov_stats.stdev | n_snp.n_unrelated | n_snp.n_snp_stats.n |\n",
       "+-----------------+-------------------+---------------------+\n",
       "|         float64 |             int64 |               int64 |\n",
       "+-----------------+-------------------+---------------------+\n",
       "|        2.48e+00 |                90 |                 114 |\n",
       "|        3.34e+00 |                49 |                  72 |\n",
       "|        3.23e+00 |               100 |                 148 |\n",
       "|        2.71e+00 |               112 |                 176 |\n",
       "|        4.32e+00 |                92 |                  97 |\n",
       "|        2.69e+00 |                80 |                  98 |\n",
       "|        3.59e+00 |               114 |                 175 |\n",
       "|        3.14e+00 |                91 |                 130 |\n",
       "|        2.11e+00 |                59 |                  97 |\n",
       "|        1.94e+00 |                81 |                 122 |\n",
       "+-----------------+-------------------+---------------------+\n",
       "\n",
       "+------------------------+-------------------------+-------------------------+\n",
       "| n_snp.n_snp_stats.mean | n_snp.n_snp_stats.stdev | n_singleton.n_unrelated |\n",
       "+------------------------+-------------------------+-------------------------+\n",
       "|                float64 |                 float64 |                   int64 |\n",
       "+------------------------+-------------------------+-------------------------+\n",
       "|               6.04e+06 |                6.81e+04 |                      90 |\n",
       "|               5.94e+06 |                1.06e+05 |                      49 |\n",
       "|               6.13e+06 |                1.46e+04 |                     100 |\n",
       "|               6.12e+06 |                1.95e+04 |                     112 |\n",
       "|               6.11e+06 |                1.72e+04 |                      92 |\n",
       "|               6.18e+06 |                1.51e+04 |                      80 |\n",
       "|               6.13e+06 |                1.50e+04 |                     114 |\n",
       "|               5.29e+06 |                7.87e+04 |                      91 |\n",
       "|               5.27e+06 |                3.14e+04 |                      59 |\n",
       "|               5.29e+06 |                5.00e+04 |                      81 |\n",
       "+------------------------+-------------------------+-------------------------+\n",
       "\n",
       "+---------------------------------+------------------------------------+\n",
       "| n_singleton.n_singleton_stats.n | n_singleton.n_singleton_stats.mean |\n",
       "+---------------------------------+------------------------------------+\n",
       "|                           int64 |                            float64 |\n",
       "+---------------------------------+------------------------------------+\n",
       "|                             114 |                           1.57e+04 |\n",
       "|                              72 |                           1.39e+04 |\n",
       "|                             148 |                           8.56e+03 |\n",
       "|                             176 |                           1.04e+04 |\n",
       "|                              97 |                           2.58e+04 |\n",
       "|                              98 |                           2.13e+04 |\n",
       "|                             175 |                           8.38e+03 |\n",
       "|                             130 |                           8.88e+03 |\n",
       "|                              97 |                           9.26e+03 |\n",
       "|                             122 |                           1.17e+04 |\n",
       "+---------------------------------+------------------------------------+\n",
       "\n",
       "+-------------------------------------+\n",
       "| n_singleton.n_singleton_stats.stdev |\n",
       "+-------------------------------------+\n",
       "|                             float64 |\n",
       "+-------------------------------------+\n",
       "|                            8.38e+03 |\n",
       "|                            8.04e+03 |\n",
       "|                            5.68e+03 |\n",
       "|                            6.80e+03 |\n",
       "|                            7.77e+03 |\n",
       "|                            8.86e+03 |\n",
       "|                            5.64e+03 |\n",
       "|                            6.56e+03 |\n",
       "|                            7.24e+03 |\n",
       "|                            8.64e+03 |\n",
       "+-------------------------------------+\n",
       "showing top 10 rows"
      ]
     },
     "metadata": {},
     "output_type": "display_data"
    }
   ],
   "source": [
    "table.show()"
   ]
  },
  {
   "cell_type": "code",
   "execution_count": 24,
   "id": "sitting-cricket",
   "metadata": {},
   "outputs": [
    {
     "name": "stdout",
     "output_type": "stream",
     "text": [
      "----------------------------------------\n",
      "Global fields:\n",
      "    None\n",
      "----------------------------------------\n",
      "Row fields:\n",
      "    'region': str \n",
      "    'Population': str \n",
      "    'n_snp_stats.mean': float64 \n",
      "    'n_snp_stats.stdev': float64 \n",
      "    'n_snp_stats.min': float64 \n",
      "    'n_snp_stats.max': float64 \n",
      "    'n_snp_stats.n': int64 \n",
      "    'n_snp_stats.sum': float64 \n",
      "    'n_singleton_stats.mean': float64 \n",
      "    'n_singleton_stats.stdev': float64 \n",
      "    'n_singleton_stats.min': float64 \n",
      "    'n_singleton_stats.max': float64 \n",
      "    'n_singleton_stats.n': int64 \n",
      "    'n_singleton_stats.sum': float64 \n",
      "    'cov_stats.mean': float64 \n",
      "    'cov_stats.stdev': float64 \n",
      "    'cov_stats.min': float64 \n",
      "    'cov_stats.max': float64 \n",
      "    'cov_stats.n': int64 \n",
      "    'cov_stats.sum': float64 \n",
      "    'n_unrelated': int64 \n",
      "----------------------------------------\n",
      "Key: []\n",
      "----------------------------------------\n"
     ]
    }
   ],
   "source": [
    "# Checking on the format of the table after flattening to make sure it is what we expect\n",
    "table.describe()"
   ]
  },
  {
   "cell_type": "code",
   "execution_count": 25,
   "id": "minimal-belize",
   "metadata": {},
   "outputs": [
    {
     "name": "stderr",
     "output_type": "stream",
     "text": [
      "2021-11-16 22:20:22 Hail: INFO: Ordering unsorted dataset with network shuffle\n"
     ]
    },
    {
     "data": {
      "text/plain": [
       "78"
      ]
     },
     "execution_count": 25,
     "metadata": {},
     "output_type": "execute_result"
    }
   ],
   "source": [
    "# one last sanity check before writing out the dataset to make sure you still have the number of rows you expect\n",
    "# in this case, since the data is grouped by global region, population\n",
    "# the number of rows should be equal to the number of populations\n",
    "table.count()"
   ]
  },
  {
   "cell_type": "markdown",
   "id": "improved-memory",
   "metadata": {},
   "source": [
    "# Exporting final table"
   ]
  },
  {
   "cell_type": "code",
   "execution_count": 26,
   "id": "appointed-triumph",
   "metadata": {},
   "outputs": [
    {
     "name": "stderr",
     "output_type": "stream",
     "text": [
      "2021-11-16 22:20:50 Hail: INFO: Coerced sorted dataset\n",
      "2021-11-16 22:20:51 Hail: INFO: Ordering unsorted dataset with network shuffle\n",
      "2021-11-16 22:20:53 Hail: INFO: merging 16 files totalling 14.9K...\n",
      "2021-11-16 22:20:53 Hail: INFO: while writing:\n",
      "    gs://hgdp-1kg/hgdp_tgp/qc_and_figure_generation/table_x.tsv\n",
      "  merge time: 413.016ms\n"
     ]
    }
   ],
   "source": [
    "# writing out the final table x tsv\n",
    "table.export('gs://hgdp-1kg/hgdp_tgp/qc_and_figure_generation/table_1.tsv', header=True)"
   ]
  }
 ],
 "metadata": {
  "kernelspec": {
   "display_name": "Hail",
   "language": "python",
   "name": "hail"
  },
  "language_info": {
   "codemirror_mode": {
    "name": "ipython",
    "version": 3
   },
   "file_extension": ".py",
   "mimetype": "text/x-python",
   "name": "python",
   "nbconvert_exporter": "python",
   "pygments_lexer": "ipython3",
   "version": "3.8.8"
  }
 },
 "nbformat": 4,
 "nbformat_minor": 5
}
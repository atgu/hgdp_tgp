{
 "cells": [
  {
   "cell_type": "markdown",
   "id": "95e6b088",
   "metadata": {},
   "source": [
    "The purpose of this script is to create a table comparing hgdp_tgp subset of gnomad v3 with the following datasets:\n",
    " - Auton et al, 2015 (Phase 3 1000 Genomes: GRCh38 (4-8X))\n",
    " - Karczewski et al (gnomAD v3.0: GRCh38)\n",
    " - Bergstrom et al, 2020 (HGDP (Bergstrom): GRCh38 (30X+))\n",
    " - Byrska-Bishop et al, 2021 (NYGC 1000 Genomes: GRCh38 (30X+))"
   ]
  },
  {
   "cell_type": "code",
   "execution_count": 1,
   "id": "dbeeeb48",
   "metadata": {},
   "outputs": [
    {
     "data": {
      "text/html": [
       "<style>\n",
       "        .bk-notebook-logo {\n",
       "            display: block;\n",
       "            width: 20px;\n",
       "            height: 20px;\n",
       "            background-image: url(data:image/png;base64,iVBORw0KGgoAAAANSUhEUgAAABQAAAAUCAYAAACNiR0NAAAABHNCSVQICAgIfAhkiAAAAAlwSFlzAAALEgAACxIB0t1+/AAAABx0RVh0U29mdHdhcmUAQWRvYmUgRmlyZXdvcmtzIENTNui8sowAAAOkSURBVDiNjZRtaJVlGMd/1/08zzln5zjP1LWcU9N0NkN8m2CYjpgQYQXqSs0I84OLIC0hkEKoPtiH3gmKoiJDU7QpLgoLjLIQCpEsNJ1vqUOdO7ppbuec5+V+rj4ctwzd8IIbbi6u+8f1539dt3A78eXC7QizUF7gyV1fD1Yqg4JWz84yffhm0qkFqBogB9rM8tZdtwVsPUhWhGcFJngGeWrPzHm5oaMmkfEg1usvLFyc8jLRqDOMru7AyC8saQr7GG7f5fvDeH7Ej8CM66nIF+8yngt6HWaKh7k49Soy9nXurCi1o3qUbS3zWfrYeQDTB/Qj6kX6Ybhw4B+bOYoLKCC9H3Nu/leUTZ1JdRWkkn2ldcCamzrcf47KKXdAJllSlxAOkRgyHsGC/zRday5Qld9DyoM4/q/rUoy/CXh3jzOu3bHUVZeU+DEn8FInkPBFlu3+nW3Nw0mk6vCDiWg8CeJaxEwuHS3+z5RgY+YBR6V1Z1nxSOfoaPa4LASWxxdNp+VWTk7+4vzaou8v8PN+xo+KY2xsw6une2frhw05CTYOmQvsEhjhWjn0bmXPjpE1+kplmmkP3suftwTubK9Vq22qKmrBhpY4jvd5afdRA3wGjFAgcnTK2s4hY0/GPNIb0nErGMCRxWOOX64Z8RAC4oCXdklmEvcL8o0BfkNK4lUg9HTl+oPlQxdNo3Mg4Nv175e/1LDGzZen30MEjRUtmXSfiTVu1kK8W4txyV6BMKlbgk3lMwYCiusNy9fVfvvwMxv8Ynl6vxoByANLTWplvuj/nF9m2+PDtt1eiHPBr1oIfhCChQMBw6Aw0UulqTKZdfVvfG7VcfIqLG9bcldL/+pdWTLxLUy8Qq38heUIjh4XlzZxzQm19lLFlr8vdQ97rjZVOLf8nclzckbcD4wxXMidpX30sFd37Fv/GtwwhzhxGVAprjbg0gCAEeIgwCZyTV2Z1REEW8O4py0wsjeloKoMr6iCY6dP92H6Vw/oTyICIthibxjm/DfN9lVz8IqtqKYLUXfoKVMVQVVJOElGjrnnUt9T9wbgp8AyYKaGlqingHZU/uG2NTZSVqwHQTWkx9hxjkpWDaCg6Ckj5qebgBVbT3V3NNXMSiWSDdGV3hrtzla7J+duwPOToIg42ChPQOQjspnSlp1V+Gjdged7+8UN5CRAV7a5EdFNwCjEaBR27b3W890TE7g24NAP/mMDXRWrGoFPQI9ls/MWO2dWFAar/xcOIImbbpA3zgAAAABJRU5ErkJggg==);\n",
       "        }\n",
       "    </style>\n",
       "    <div>\n",
       "        <a href=\"https://bokeh.org\" target=\"_blank\" class=\"bk-notebook-logo\"></a>\n",
       "        <span id=\"a1d821bd-bc84-4abf-8218-d9f9cdf8d991\">Loading BokehJS ...</span>\n",
       "    </div>\n"
      ]
     },
     "metadata": {},
     "output_type": "display_data"
    },
    {
     "data": {
      "application/javascript": [
       "(function(root) {\n",
       "  function now() {\n",
       "    return new Date();\n",
       "  }\n",
       "\n",
       "  const force = true;\n",
       "\n",
       "  if (typeof root._bokeh_onload_callbacks === \"undefined\" || force === true) {\n",
       "    root._bokeh_onload_callbacks = [];\n",
       "    root._bokeh_is_loading = undefined;\n",
       "  }\n",
       "\n",
       "const JS_MIME_TYPE = 'application/javascript';\n",
       "  const HTML_MIME_TYPE = 'text/html';\n",
       "  const EXEC_MIME_TYPE = 'application/vnd.bokehjs_exec.v0+json';\n",
       "  const CLASS_NAME = 'output_bokeh rendered_html';\n",
       "\n",
       "  /**\n",
       "   * Render data to the DOM node\n",
       "   */\n",
       "  function render(props, node) {\n",
       "    const script = document.createElement(\"script\");\n",
       "    node.appendChild(script);\n",
       "  }\n",
       "\n",
       "  /**\n",
       "   * Handle when an output is cleared or removed\n",
       "   */\n",
       "  function handleClearOutput(event, handle) {\n",
       "    function drop(id) {\n",
       "      const view = Bokeh.index.get_by_id(id)\n",
       "      if (view != null) {\n",
       "        view.model.document.clear()\n",
       "        Bokeh.index.delete(view)\n",
       "      }\n",
       "    }\n",
       "\n",
       "    const cell = handle.cell;\n",
       "\n",
       "    const id = cell.output_area._bokeh_element_id;\n",
       "    const server_id = cell.output_area._bokeh_server_id;\n",
       "\n",
       "    // Clean up Bokeh references\n",
       "    if (id != null) {\n",
       "      drop(id)\n",
       "    }\n",
       "\n",
       "    if (server_id !== undefined) {\n",
       "      // Clean up Bokeh references\n",
       "      const cmd_clean = \"from bokeh.io.state import curstate; print(curstate().uuid_to_server['\" + server_id + \"'].get_sessions()[0].document.roots[0]._id)\";\n",
       "      cell.notebook.kernel.execute(cmd_clean, {\n",
       "        iopub: {\n",
       "          output: function(msg) {\n",
       "            const id = msg.content.text.trim()\n",
       "            drop(id)\n",
       "          }\n",
       "        }\n",
       "      });\n",
       "      // Destroy server and session\n",
       "      const cmd_destroy = \"import bokeh.io.notebook as ion; ion.destroy_server('\" + server_id + \"')\";\n",
       "      cell.notebook.kernel.execute(cmd_destroy);\n",
       "    }\n",
       "  }\n",
       "\n",
       "  /**\n",
       "   * Handle when a new output is added\n",
       "   */\n",
       "  function handleAddOutput(event, handle) {\n",
       "    const output_area = handle.output_area;\n",
       "    const output = handle.output;\n",
       "\n",
       "    // limit handleAddOutput to display_data with EXEC_MIME_TYPE content only\n",
       "    if ((output.output_type != \"display_data\") || (!Object.prototype.hasOwnProperty.call(output.data, EXEC_MIME_TYPE))) {\n",
       "      return\n",
       "    }\n",
       "\n",
       "    const toinsert = output_area.element.find(\".\" + CLASS_NAME.split(' ')[0]);\n",
       "\n",
       "    if (output.metadata[EXEC_MIME_TYPE][\"id\"] !== undefined) {\n",
       "      toinsert[toinsert.length - 1].firstChild.textContent = output.data[JS_MIME_TYPE];\n",
       "      // store reference to embed id on output_area\n",
       "      output_area._bokeh_element_id = output.metadata[EXEC_MIME_TYPE][\"id\"];\n",
       "    }\n",
       "    if (output.metadata[EXEC_MIME_TYPE][\"server_id\"] !== undefined) {\n",
       "      const bk_div = document.createElement(\"div\");\n",
       "      bk_div.innerHTML = output.data[HTML_MIME_TYPE];\n",
       "      const script_attrs = bk_div.children[0].attributes;\n",
       "      for (let i = 0; i < script_attrs.length; i++) {\n",
       "        toinsert[toinsert.length - 1].firstChild.setAttribute(script_attrs[i].name, script_attrs[i].value);\n",
       "        toinsert[toinsert.length - 1].firstChild.textContent = bk_div.children[0].textContent\n",
       "      }\n",
       "      // store reference to server id on output_area\n",
       "      output_area._bokeh_server_id = output.metadata[EXEC_MIME_TYPE][\"server_id\"];\n",
       "    }\n",
       "  }\n",
       "\n",
       "  function register_renderer(events, OutputArea) {\n",
       "\n",
       "    function append_mime(data, metadata, element) {\n",
       "      // create a DOM node to render to\n",
       "      const toinsert = this.create_output_subarea(\n",
       "        metadata,\n",
       "        CLASS_NAME,\n",
       "        EXEC_MIME_TYPE\n",
       "      );\n",
       "      this.keyboard_manager.register_events(toinsert);\n",
       "      // Render to node\n",
       "      const props = {data: data, metadata: metadata[EXEC_MIME_TYPE]};\n",
       "      render(props, toinsert[toinsert.length - 1]);\n",
       "      element.append(toinsert);\n",
       "      return toinsert\n",
       "    }\n",
       "\n",
       "    /* Handle when an output is cleared or removed */\n",
       "    events.on('clear_output.CodeCell', handleClearOutput);\n",
       "    events.on('delete.Cell', handleClearOutput);\n",
       "\n",
       "    /* Handle when a new output is added */\n",
       "    events.on('output_added.OutputArea', handleAddOutput);\n",
       "\n",
       "    /**\n",
       "     * Register the mime type and append_mime function with output_area\n",
       "     */\n",
       "    OutputArea.prototype.register_mime_type(EXEC_MIME_TYPE, append_mime, {\n",
       "      /* Is output safe? */\n",
       "      safe: true,\n",
       "      /* Index of renderer in `output_area.display_order` */\n",
       "      index: 0\n",
       "    });\n",
       "  }\n",
       "\n",
       "  // register the mime type if in Jupyter Notebook environment and previously unregistered\n",
       "  if (root.Jupyter !== undefined) {\n",
       "    const events = require('base/js/events');\n",
       "    const OutputArea = require('notebook/js/outputarea').OutputArea;\n",
       "\n",
       "    if (OutputArea.prototype.mime_types().indexOf(EXEC_MIME_TYPE) == -1) {\n",
       "      register_renderer(events, OutputArea);\n",
       "    }\n",
       "  }\n",
       "  if (typeof (root._bokeh_timeout) === \"undefined\" || force === true) {\n",
       "    root._bokeh_timeout = Date.now() + 5000;\n",
       "    root._bokeh_failed_load = false;\n",
       "  }\n",
       "\n",
       "  const NB_LOAD_WARNING = {'data': {'text/html':\n",
       "     \"<div style='background-color: #fdd'>\\n\"+\n",
       "     \"<p>\\n\"+\n",
       "     \"BokehJS does not appear to have successfully loaded. If loading BokehJS from CDN, this \\n\"+\n",
       "     \"may be due to a slow or bad network connection. Possible fixes:\\n\"+\n",
       "     \"</p>\\n\"+\n",
       "     \"<ul>\\n\"+\n",
       "     \"<li>re-rerun `output_notebook()` to attempt to load from CDN again, or</li>\\n\"+\n",
       "     \"<li>use INLINE resources instead, as so:</li>\\n\"+\n",
       "     \"</ul>\\n\"+\n",
       "     \"<code>\\n\"+\n",
       "     \"from bokeh.resources import INLINE\\n\"+\n",
       "     \"output_notebook(resources=INLINE)\\n\"+\n",
       "     \"</code>\\n\"+\n",
       "     \"</div>\"}};\n",
       "\n",
       "  function display_loaded() {\n",
       "    const el = document.getElementById(\"a1d821bd-bc84-4abf-8218-d9f9cdf8d991\");\n",
       "    if (el != null) {\n",
       "      el.textContent = \"BokehJS is loading...\";\n",
       "    }\n",
       "    if (root.Bokeh !== undefined) {\n",
       "      if (el != null) {\n",
       "        el.textContent = \"BokehJS \" + root.Bokeh.version + \" successfully loaded.\";\n",
       "      }\n",
       "    } else if (Date.now() < root._bokeh_timeout) {\n",
       "      setTimeout(display_loaded, 100)\n",
       "    }\n",
       "  }\n",
       "\n",
       "  function run_callbacks() {\n",
       "    try {\n",
       "      root._bokeh_onload_callbacks.forEach(function(callback) {\n",
       "        if (callback != null)\n",
       "          callback();\n",
       "      });\n",
       "    } finally {\n",
       "      delete root._bokeh_onload_callbacks\n",
       "    }\n",
       "    console.debug(\"Bokeh: all callbacks have finished\");\n",
       "  }\n",
       "\n",
       "  function load_libs(css_urls, js_urls, callback) {\n",
       "    if (css_urls == null) css_urls = [];\n",
       "    if (js_urls == null) js_urls = [];\n",
       "\n",
       "    root._bokeh_onload_callbacks.push(callback);\n",
       "    if (root._bokeh_is_loading > 0) {\n",
       "      console.debug(\"Bokeh: BokehJS is being loaded, scheduling callback at\", now());\n",
       "      return null;\n",
       "    }\n",
       "    if (js_urls == null || js_urls.length === 0) {\n",
       "      run_callbacks();\n",
       "      return null;\n",
       "    }\n",
       "    console.debug(\"Bokeh: BokehJS not loaded, scheduling load and callback at\", now());\n",
       "    root._bokeh_is_loading = css_urls.length + js_urls.length;\n",
       "\n",
       "    function on_load() {\n",
       "      root._bokeh_is_loading--;\n",
       "      if (root._bokeh_is_loading === 0) {\n",
       "        console.debug(\"Bokeh: all BokehJS libraries/stylesheets loaded\");\n",
       "        run_callbacks()\n",
       "      }\n",
       "    }\n",
       "\n",
       "    function on_error(url) {\n",
       "      console.error(\"failed to load \" + url);\n",
       "    }\n",
       "\n",
       "    for (let i = 0; i < css_urls.length; i++) {\n",
       "      const url = css_urls[i];\n",
       "      const element = document.createElement(\"link\");\n",
       "      element.onload = on_load;\n",
       "      element.onerror = on_error.bind(null, url);\n",
       "      element.rel = \"stylesheet\";\n",
       "      element.type = \"text/css\";\n",
       "      element.href = url;\n",
       "      console.debug(\"Bokeh: injecting link tag for BokehJS stylesheet: \", url);\n",
       "      document.body.appendChild(element);\n",
       "    }\n",
       "\n",
       "    for (let i = 0; i < js_urls.length; i++) {\n",
       "      const url = js_urls[i];\n",
       "      const element = document.createElement('script');\n",
       "      element.onload = on_load;\n",
       "      element.onerror = on_error.bind(null, url);\n",
       "      element.async = false;\n",
       "      element.src = url;\n",
       "      console.debug(\"Bokeh: injecting script tag for BokehJS library: \", url);\n",
       "      document.head.appendChild(element);\n",
       "    }\n",
       "  };\n",
       "\n",
       "  function inject_raw_css(css) {\n",
       "    const element = document.createElement(\"style\");\n",
       "    element.appendChild(document.createTextNode(css));\n",
       "    document.body.appendChild(element);\n",
       "  }\n",
       "\n",
       "  const js_urls = [\"https://cdn.bokeh.org/bokeh/release/bokeh-3.3.0.min.js\", \"https://cdn.bokeh.org/bokeh/release/bokeh-gl-3.3.0.min.js\", \"https://cdn.bokeh.org/bokeh/release/bokeh-widgets-3.3.0.min.js\", \"https://cdn.bokeh.org/bokeh/release/bokeh-tables-3.3.0.min.js\", \"https://cdn.bokeh.org/bokeh/release/bokeh-mathjax-3.3.0.min.js\"];\n",
       "  const css_urls = [];\n",
       "\n",
       "  const inline_js = [    function(Bokeh) {\n",
       "      Bokeh.set_log_level(\"info\");\n",
       "    },\n",
       "function(Bokeh) {\n",
       "    }\n",
       "  ];\n",
       "\n",
       "  function run_inline_js() {\n",
       "    if (root.Bokeh !== undefined || force === true) {\n",
       "          for (let i = 0; i < inline_js.length; i++) {\n",
       "      inline_js[i].call(root, root.Bokeh);\n",
       "    }\n",
       "if (force === true) {\n",
       "        display_loaded();\n",
       "      }} else if (Date.now() < root._bokeh_timeout) {\n",
       "      setTimeout(run_inline_js, 100);\n",
       "    } else if (!root._bokeh_failed_load) {\n",
       "      console.log(\"Bokeh: BokehJS failed to load within specified timeout.\");\n",
       "      root._bokeh_failed_load = true;\n",
       "    } else if (force !== true) {\n",
       "      const cell = $(document.getElementById(\"a1d821bd-bc84-4abf-8218-d9f9cdf8d991\")).parents('.cell').data().cell;\n",
       "      cell.output_area.append_execute_result(NB_LOAD_WARNING)\n",
       "    }\n",
       "  }\n",
       "\n",
       "  if (root._bokeh_is_loading === 0) {\n",
       "    console.debug(\"Bokeh: BokehJS loaded, going straight to plotting\");\n",
       "    run_inline_js();\n",
       "  } else {\n",
       "    load_libs(css_urls, js_urls, function() {\n",
       "      console.debug(\"Bokeh: BokehJS plotting callback run at\", now());\n",
       "      run_inline_js();\n",
       "    });\n",
       "  }\n",
       "}(window));"
      ],
      "application/vnd.bokehjs_load.v0+json": "(function(root) {\n  function now() {\n    return new Date();\n  }\n\n  const force = true;\n\n  if (typeof root._bokeh_onload_callbacks === \"undefined\" || force === true) {\n    root._bokeh_onload_callbacks = [];\n    root._bokeh_is_loading = undefined;\n  }\n\n\n  if (typeof (root._bokeh_timeout) === \"undefined\" || force === true) {\n    root._bokeh_timeout = Date.now() + 5000;\n    root._bokeh_failed_load = false;\n  }\n\n  const NB_LOAD_WARNING = {'data': {'text/html':\n     \"<div style='background-color: #fdd'>\\n\"+\n     \"<p>\\n\"+\n     \"BokehJS does not appear to have successfully loaded. If loading BokehJS from CDN, this \\n\"+\n     \"may be due to a slow or bad network connection. Possible fixes:\\n\"+\n     \"</p>\\n\"+\n     \"<ul>\\n\"+\n     \"<li>re-rerun `output_notebook()` to attempt to load from CDN again, or</li>\\n\"+\n     \"<li>use INLINE resources instead, as so:</li>\\n\"+\n     \"</ul>\\n\"+\n     \"<code>\\n\"+\n     \"from bokeh.resources import INLINE\\n\"+\n     \"output_notebook(resources=INLINE)\\n\"+\n     \"</code>\\n\"+\n     \"</div>\"}};\n\n  function display_loaded() {\n    const el = document.getElementById(\"a1d821bd-bc84-4abf-8218-d9f9cdf8d991\");\n    if (el != null) {\n      el.textContent = \"BokehJS is loading...\";\n    }\n    if (root.Bokeh !== undefined) {\n      if (el != null) {\n        el.textContent = \"BokehJS \" + root.Bokeh.version + \" successfully loaded.\";\n      }\n    } else if (Date.now() < root._bokeh_timeout) {\n      setTimeout(display_loaded, 100)\n    }\n  }\n\n  function run_callbacks() {\n    try {\n      root._bokeh_onload_callbacks.forEach(function(callback) {\n        if (callback != null)\n          callback();\n      });\n    } finally {\n      delete root._bokeh_onload_callbacks\n    }\n    console.debug(\"Bokeh: all callbacks have finished\");\n  }\n\n  function load_libs(css_urls, js_urls, callback) {\n    if (css_urls == null) css_urls = [];\n    if (js_urls == null) js_urls = [];\n\n    root._bokeh_onload_callbacks.push(callback);\n    if (root._bokeh_is_loading > 0) {\n      console.debug(\"Bokeh: BokehJS is being loaded, scheduling callback at\", now());\n      return null;\n    }\n    if (js_urls == null || js_urls.length === 0) {\n      run_callbacks();\n      return null;\n    }\n    console.debug(\"Bokeh: BokehJS not loaded, scheduling load and callback at\", now());\n    root._bokeh_is_loading = css_urls.length + js_urls.length;\n\n    function on_load() {\n      root._bokeh_is_loading--;\n      if (root._bokeh_is_loading === 0) {\n        console.debug(\"Bokeh: all BokehJS libraries/stylesheets loaded\");\n        run_callbacks()\n      }\n    }\n\n    function on_error(url) {\n      console.error(\"failed to load \" + url);\n    }\n\n    for (let i = 0; i < css_urls.length; i++) {\n      const url = css_urls[i];\n      const element = document.createElement(\"link\");\n      element.onload = on_load;\n      element.onerror = on_error.bind(null, url);\n      element.rel = \"stylesheet\";\n      element.type = \"text/css\";\n      element.href = url;\n      console.debug(\"Bokeh: injecting link tag for BokehJS stylesheet: \", url);\n      document.body.appendChild(element);\n    }\n\n    for (let i = 0; i < js_urls.length; i++) {\n      const url = js_urls[i];\n      const element = document.createElement('script');\n      element.onload = on_load;\n      element.onerror = on_error.bind(null, url);\n      element.async = false;\n      element.src = url;\n      console.debug(\"Bokeh: injecting script tag for BokehJS library: \", url);\n      document.head.appendChild(element);\n    }\n  };\n\n  function inject_raw_css(css) {\n    const element = document.createElement(\"style\");\n    element.appendChild(document.createTextNode(css));\n    document.body.appendChild(element);\n  }\n\n  const js_urls = [\"https://cdn.bokeh.org/bokeh/release/bokeh-3.3.0.min.js\", \"https://cdn.bokeh.org/bokeh/release/bokeh-gl-3.3.0.min.js\", \"https://cdn.bokeh.org/bokeh/release/bokeh-widgets-3.3.0.min.js\", \"https://cdn.bokeh.org/bokeh/release/bokeh-tables-3.3.0.min.js\", \"https://cdn.bokeh.org/bokeh/release/bokeh-mathjax-3.3.0.min.js\"];\n  const css_urls = [];\n\n  const inline_js = [    function(Bokeh) {\n      Bokeh.set_log_level(\"info\");\n    },\nfunction(Bokeh) {\n    }\n  ];\n\n  function run_inline_js() {\n    if (root.Bokeh !== undefined || force === true) {\n          for (let i = 0; i < inline_js.length; i++) {\n      inline_js[i].call(root, root.Bokeh);\n    }\nif (force === true) {\n        display_loaded();\n      }} else if (Date.now() < root._bokeh_timeout) {\n      setTimeout(run_inline_js, 100);\n    } else if (!root._bokeh_failed_load) {\n      console.log(\"Bokeh: BokehJS failed to load within specified timeout.\");\n      root._bokeh_failed_load = true;\n    } else if (force !== true) {\n      const cell = $(document.getElementById(\"a1d821bd-bc84-4abf-8218-d9f9cdf8d991\")).parents('.cell').data().cell;\n      cell.output_area.append_execute_result(NB_LOAD_WARNING)\n    }\n  }\n\n  if (root._bokeh_is_loading === 0) {\n    console.debug(\"Bokeh: BokehJS loaded, going straight to plotting\");\n    run_inline_js();\n  } else {\n    load_libs(css_urls, js_urls, function() {\n      console.debug(\"Bokeh: BokehJS plotting callback run at\", now());\n      run_inline_js();\n    });\n  }\n}(window));"
     },
     "metadata": {},
     "output_type": "display_data"
    },
    {
     "name": "stderr",
     "output_type": "stream",
     "text": [
      "Setting default log level to \"WARN\".\n",
      "To adjust logging level use sc.setLogLevel(newLevel). For SparkR, use setLogLevel(newLevel).\n"
     ]
    },
    {
     "name": "stdout",
     "output_type": "stream",
     "text": [
      "SPARKMONITOR_LISTENER: Started SparkListener for Jupyter Notebook\n",
      "SPARKMONITOR_LISTENER: Port obtained from environment: 52255\n",
      "SPARKMONITOR_LISTENER: Application Started: application_1706631390028_0001 ...Start Time: 1706631981697\n"
     ]
    },
    {
     "name": "stderr",
     "output_type": "stream",
     "text": [
      "Running on Apache Spark version 3.3.0\n",
      "SparkUI available at http://znk-m.c.diverse-pop-seq-ref.internal:34881\n",
      "Welcome to\n",
      "     __  __     <>__\n",
      "    / /_/ /__  __/ /\n",
      "   / __  / _ `/ / /\n",
      "  /_/ /_/\\_,_/_/_/   version 0.2.126-ee77707f4fab\n",
      "LOGGING: writing to /home/hail/hail-20240130-1626-0.2.126-ee77707f4fab.log\n"
     ]
    }
   ],
   "source": [
    "import hail as hl\n",
    "# tmp_dir='gs://hgdp-1kg/temporary-files/'\n",
    "hl.init()"
   ]
  },
  {
   "cell_type": "markdown",
   "id": "27377702",
   "metadata": {},
   "source": [
    "## Calculation/Data Formatting Functions"
   ]
  },
  {
   "cell_type": "code",
   "execution_count": 2,
   "id": "b9d15309",
   "metadata": {},
   "outputs": [],
   "source": [
    "def group_hist(hgdp_1kg, comparison, gnomad_bool):\n",
    "    \n",
    "    if not gnomad_bool:\n",
    "        # Removing missing values from the dataset\n",
    "        hgdp_1kg = hgdp_1kg.filter(hl.is_missing(hgdp_1kg.maf_hgdp_1kg), keep=False)\n",
    "        # Annotating a field with bool of whether each var is in comparison dataset\n",
    "        hgdp_1kg = hgdp_1kg.annotate(in_comparison = hl.is_defined(comparison[hgdp_1kg.locus, hgdp_1kg.alleles]))\n",
    "        # Summary will be returned, grouped table with maf bins\n",
    "        summary = hgdp_1kg.group_by(\n",
    "            cat = hl.case()\n",
    "            .when(hgdp_1kg.maf_hgdp_1kg < 1e-3, \"0.01%-0.1%\")\n",
    "            .when(hgdp_1kg.maf_hgdp_1kg < 1e-2, \"0.1%-1%\")\n",
    "            .when(hgdp_1kg.maf_hgdp_1kg < 1e-1, \"1.0%-10%\")\n",
    "            .default(\"10-50%\")\n",
    "        ).aggregate(\n",
    "            # number of variants in comnparison\n",
    "            n_var = hl.agg.count(),\n",
    "            # number of variants in hgdp+1kgp also in comparison\n",
    "            n_var_in_both= hl.agg.count_where(hgdp_1kg.in_comparison == True))\n",
    "        \n",
    "        comparison = comparison.annotate(not_in_hgdp_1kg = hl.is_missing(hgdp_1kg[comparison.locus, comparison.alleles]))\n",
    "        num = comparison.aggregate(hl.agg.count_where(comparison.not_in_hgdp_1kg == True))\n",
    "        \n",
    "        summary = summary.union(\n",
    "            hl.utils.range_table(1).key_by(cat=\"0%\").select(n_var=num, n_var_in_both=0), unify=True)\n",
    "   \n",
    "    if gnomad_bool:\n",
    "        # Annotating a field with bool of whether each var is in comparison dataset\n",
    "        # go back to check if maf >0 in hgdp+1kg\n",
    "        hgdp_1kg = hgdp_1kg.annotate(in_comparison = hgdp_1kg.gnomad_only_maf > 0)\n",
    "        summary = hgdp_1kg.group_by(\n",
    "            cat = hl.case()\n",
    "            .when(hl.is_missing(hgdp_1kg.hdgp_1kg_only_maf), \"missing\")\n",
    "            .when(hgdp_1kg.hdgp_1kg_only_maf < 1e-3, \"0.01%-0.1%\")\n",
    "            .when(hgdp_1kg.hdgp_1kg_only_maf < 1e-2, \"0.1%-1%\")\n",
    "            .when(hgdp_1kg.hdgp_1kg_only_maf < 1e-1, \"1.0%-10%\")\n",
    "            .default(\"10-50%\")\n",
    "        ).aggregate(\n",
    "            # number of variants in comparison\n",
    "            n_var = hl.agg.count(),\n",
    "            # number of variants in hgdp+1kgp also in comparison\n",
    "            n_var_in_both = hl.agg.count_where(hgdp_1kg.in_comparison == True))\n",
    "        \n",
    "        comparison = comparison.annotate(not_in_hgdp_1kg = hl.is_missing(hgdp_1kg[comparison.locus, comparison.alleles]))\n",
    "        res = comparison.aggregate(hl.agg.counter(comparison.not_in_hgdp_1kg))\n",
    "        print(res)\n",
    "        num = res[True]\n",
    "        #num = comparison.aggregate(hl.agg.count_where(comparison.not_in_hgdp_1kg))\n",
    "       \n",
    "        print(hgdp_1kg.aggregate(hl.agg.counter(hl.is_defined(hgdp_1kg.gnomad_only_maf))))\n",
    "        print(hgdp_1kg.aggregate(hl.agg.counter(hgdp_1kg.gnomad_only_maf > 0)))\n",
    "        \n",
    "        summary = summary.union(\n",
    "            hl.utils.range_table(1).key_by(cat=\"0%\").select(n_var=num, n_var_in_both=0), unify=True)\n",
    "                                 \n",
    "    return summary"
   ]
  },
  {
   "cell_type": "code",
   "execution_count": 3,
   "id": "137fba08",
   "metadata": {},
   "outputs": [],
   "source": [
    "# Given a hail matrix table, and fieldname which is the struct within the AF array is located\n",
    "# creates a new field which contains the minor allele frequency \n",
    "# will create a hail table which only contains the row keys and the the maf field created \n",
    "def get_maf_ht(mt, fieldname):\n",
    "    return mt.select_rows(maf = hl.min(mt[fieldname].AF)).rows()"
   ]
  },
  {
   "cell_type": "code",
   "execution_count": 4,
   "id": "436c2661",
   "metadata": {},
   "outputs": [],
   "source": [
    "# Set up function to:\n",
    "# apply gnomAD's sample, variant and genotype QC filters\n",
    "# remove two contaminated samples identified using CHARR - https://pubmed.ncbi.nlm.nih.gov/37425834/\n",
    "# remove the gnomAD sample that's added for QC purposes\n",
    "# add gnomAD's HGDP+1kGP metadata with the updated population labels as a column field \n",
    "\n",
    "def run_qc(mt):\n",
    "    \n",
    "    ## Apply sample QC filters to dataset \n",
    "    # This filters to only samples that passed gnomAD's sample QC hard filters  \n",
    "    mt = mt.filter_cols(~mt.gnomad_sample_filters.hard_filtered) # removed 31 samples\n",
    "    \n",
    "    ## Apply variant QC filters to dataset\n",
    "    # This subsets to only PASS variants - those which passed gnomAD's variant QC\n",
    "    # PASS variants have an entry in the filters field \n",
    "    mt = mt.filter_rows(hl.len(mt.filters) != 0, keep=False)\n",
    "    \n",
    "    # Remove the two contaminated samples identified by CHARR and 'CHMI_CHMI3_WGS2'\n",
    "    contaminated_samples = {'HGDP01371', 'LP6005441-DNA_A09'}\n",
    "    contaminated_samples_list = hl.literal(contaminated_samples)\n",
    "    mt = mt.filter_cols(~contaminated_samples_list.contains(mt['s']))\n",
    "    \n",
    "    # CHMI_CHMI3_WGS2 is a sample added by gnomAD for QC purposes and has no metadata info \n",
    "    mt = mt.filter_cols(mt.s == 'CHMI_CHMI3_WGS2', keep = False)\n",
    "\n",
    "    # Only keep the variants which are found in the samples that are left \n",
    "    mt = mt.filter_rows(hl.agg.any(mt.GT.is_non_ref()))\n",
    "    \n",
    "    # Read in and add the metadata with the updated population labels as a column field \n",
    "    metadata = hl.import_table(metadata_path, impute = True, key = 's') \n",
    "    mt = mt.annotate_cols(meta_updated = metadata[mt.s])\n",
    "    \n",
    "    ## Apply genotype QC filters to the dataset\n",
    "    # This is done using a function imported from gnomAD and is the last step in the QC process\n",
    "    mt = filter_to_adj(mt)\n",
    "\n",
    "    return mt"
   ]
  },
  {
   "cell_type": "markdown",
   "id": "d0e342f6",
   "metadata": {},
   "source": [
    "## Reading in Datasets"
   ]
  },
  {
   "cell_type": "code",
   "execution_count": 5,
   "id": "c9d697d7",
   "metadata": {},
   "outputs": [],
   "source": [
    "# Pathways for comparison datasets\n",
    "# Setting variables for paths makes it easier to update paths in the future\n",
    "phase3_1kg_path = \"gs://hgdp-1kg/hgdp_tgp/comparison_data/ALL.chr*.shapeit2_integrated_v1a.GRCh38.20181129.phased.vcf.gz\"\n",
    "nygc_1kg_path = \"gs://hgdp-1kg/hgdp_tgp/comparison_data/20201028_CCDG_14151_B01_GRM_WGS_2020-08-05_chr{[1-9],[1-9][0-9]}.recalibrated_variants.vcf.gz\"\n",
    "berg_path = \"gs://hgdp-1kg/hgdp_tgp/comparison_data/hgdp_wgs.20190516.full.chr{[1-9],[1-9][0-9]}.vcf.gz\"\n",
    "gnomadv3_path = \"gs://gcp-public-data--gnomad/release/3.1.2/ht/genomes/gnomad.genomes.v3.1.2.sites.ht\"\n",
    "hgdp_1kg_preQC_path = 'gs://gcp-public-data--gnomad/release/3.1.2/mt/genomes/gnomad.genomes.v3.1.2.hgdp_1kg_subset_dense.mt'\n",
    "# Path for PCA outliers list\n",
    "pca_outlier_path = 'gs://hgdp-1kg/tutorial_datasets/pca/pca_outliers.txt'"
   ]
  },
  {
   "cell_type": "code",
   "execution_count": 6,
   "id": "ee9cf43f",
   "metadata": {},
   "outputs": [
    {
     "name": "stderr",
     "output_type": "stream",
     "text": [
      "[Stage 2:================================================>        (18 + 3) / 21]\r"
     ]
    }
   ],
   "source": [
    "# Reading in comparison datasets\n",
    "# use this to read in the list of vcfs\n",
    "# mt_list = [hl.import_vcf(mt_path,force_bgz = True) for mt_path in mt_paths]\n",
    "\n",
    "phase3_1kg_mt = hl.import_vcf(phase3_1kg_path, force_bgz = True, reference_genome='GRCh38')\n",
    "nygc_1kg_mt = hl.import_vcf(nygc_1kg_path, reference_genome='GRCh38', force_bgz=True)\n",
    "berg_mt = hl.import_vcf(berg_path, force_bgz = True, reference_genome='GRCh38')\n",
    "gnomadv3_ht = hl.read_table(gnomadv3_path)\n",
    "hgdp_1kg_preQC_mt = hl.read_matrix_table(hgdp_1kg_preQC_path)"
   ]
  },
  {
   "cell_type": "code",
   "execution_count": null,
   "id": "6c9e656c",
   "metadata": {},
   "outputs": [],
   "source": [
    "# Run QC on the HGDP+1kGP dataset\n",
    "hgdp_1kg_mt = run_qc(hgdp_1kg_preQC_mt)"
   ]
  },
  {
   "cell_type": "code",
   "execution_count": 6,
   "id": "0c605554",
   "metadata": {},
   "outputs": [],
   "source": [
    "# Remove PCA outliers from the dataset\n",
    "\n",
    "# Use hl.hadoop_open to read in the PCA outliers file into Hail from Google Cloud Storage\n",
    "with hl.utils.hadoop_open(outliers_path) as file:\n",
    "    outliers = [line.rstrip('\\n') for line in file]\n",
    "\n",
    "# Use hl.literal to convert the outliers list from a python object to a Hail expression so that it can be used to filter out samples\n",
    "outliers_list = hl.literal(outliers)\n",
    " \n",
    "# Keep the samples which are not contained in the pca outlier list\n",
    "hgdp_1kg_mt = hgdp_1kg_mt.filter_cols(~outliers_list.contains(hgdp_1kg_mt['s']))"
   ]
  },
  {
   "cell_type": "markdown",
   "id": "2f8d4451",
   "metadata": {},
   "source": [
    "## Splitting Multi-allelics\n",
    "will need to do this for nygc, and bergstrom datasets"
   ]
  },
  {
   "cell_type": "code",
   "execution_count": 7,
   "id": "5088b930",
   "metadata": {},
   "outputs": [],
   "source": [
    "# will want to use hl.split_multi_hts\n",
    "# splitting multialleleics for nygc 1kgp\n",
    "nygc_split_mt = hl.split_multi_hts(nygc_1kg_mt)"
   ]
  },
  {
   "cell_type": "code",
   "execution_count": 14,
   "id": "b1d667b9",
   "metadata": {},
   "outputs": [
    {
     "name": "stderr",
     "output_type": "stream",
     "text": [
      "2022-09-13 16:43:07 Hail: INFO: Coerced sorted dataset\n",
      "2022-09-13 17:24:22 Hail: INFO: Coerced sorted dataset\n"
     ]
    },
    {
     "data": {
      "text/plain": [
       "(128575470, 3202)"
      ]
     },
     "execution_count": 14,
     "metadata": {},
     "output_type": "execute_result"
    }
   ],
   "source": [
    "# getting sample/var count for nygc after split multi\n",
    "nygc_split_mt.count()"
   ]
  },
  {
   "cell_type": "code",
   "execution_count": 8,
   "id": "7683a6bc",
   "metadata": {},
   "outputs": [],
   "source": [
    "# splitting multiallelics for bergstrom\n",
    "berg_split_mt = hl.split_multi_hts(berg_mt, permit_shuffle=True)"
   ]
  },
  {
   "cell_type": "code",
   "execution_count": 9,
   "id": "1c1c2774",
   "metadata": {},
   "outputs": [
    {
     "name": "stderr",
     "output_type": "stream",
     "text": [
      "2022-12-15 21:31:43 Hail: INFO: Coerced prefix-sorted dataset\n",
      "2022-12-15 21:36:38 Hail: INFO: Coerced prefix-sorted dataset\n"
     ]
    },
    {
     "data": {
      "text/plain": [
       "(80857392, 929)"
      ]
     },
     "execution_count": 9,
     "metadata": {},
     "output_type": "execute_result"
    }
   ],
   "source": [
    "# getting sample/var count after bergstrom split multi\n",
    "berg_split_mt.count()"
   ]
  },
  {
   "cell_type": "code",
   "execution_count": 9,
   "id": "2a6254a1",
   "metadata": {},
   "outputs": [],
   "source": [
    "# resetting the names to the ones that are used in the downstream steps of this script\n",
    "nygc_1kg_mt = nygc_split_mt\n",
    "berg_mt = berg_split_mt"
   ]
  },
  {
   "cell_type": "code",
   "execution_count": 12,
   "id": "0718867a",
   "metadata": {},
   "outputs": [],
   "source": [
    "# going to change the number of partitions for each of the datasets to speed up downstream steps\n",
    "nygc_mt = nygc_1kg_mt.naive_coalesce(5000)\n",
    "berg_mt = berg_mt.naive_coalesce(5000)\n",
    "phase3_mt = phase3_1kg_mt.naive_coalesce(5000)\n",
    "hgdp_1kg_mt = hgdp_1kg_mt.naive_coalesce(5000)"
   ]
  },
  {
   "cell_type": "markdown",
   "id": "b87db6ee",
   "metadata": {},
   "source": [
    "## Getting Preliminary counts for all datasets\n",
    "#### Get the initial counts for your datasets before any changes are made so you have a starting var/sample number to compare to once you make changes"
   ]
  },
  {
   "cell_type": "code",
   "execution_count": 18,
   "id": "2cda4ad8",
   "metadata": {},
   "outputs": [
    {
     "data": {
      "text/plain": [
       "(159795273, 4096)"
      ]
     },
     "execution_count": 18,
     "metadata": {},
     "output_type": "execute_result"
    }
   ],
   "source": [
    "hgdp_1kg_mt.count()"
   ]
  },
  {
   "cell_type": "markdown",
   "id": "c9d9cab3",
   "metadata": {},
   "source": [
    "#### HGDP_1kGP Merged dataset\n",
    "- Samples: 4098\n",
    "- Variants: 159,795,273"
   ]
  },
  {
   "cell_type": "code",
   "execution_count": 17,
   "id": "dd28a0e6",
   "metadata": {},
   "outputs": [
    {
     "name": "stderr",
     "output_type": "stream",
     "text": [
      "2022-11-15 15:49:36 Hail: INFO: Coerced sorted dataset\n"
     ]
    },
    {
     "data": {
      "text/plain": [
       "(73257633, 2548)"
      ]
     },
     "execution_count": 17,
     "metadata": {},
     "output_type": "execute_result"
    }
   ],
   "source": [
    "phase3_1kg_mt.count()"
   ]
  },
  {
   "cell_type": "markdown",
   "id": "84989727",
   "metadata": {},
   "source": [
    "#### Phase 3 1kGP\n",
    "- Samples: 2548\n",
    "- Variants: 73,257,633"
   ]
  },
  {
   "cell_type": "code",
   "execution_count": 45,
   "id": "f089a353",
   "metadata": {},
   "outputs": [
    {
     "name": "stderr",
     "output_type": "stream",
     "text": [
      "2022-12-16 17:07:54 Hail: INFO: Coerced prefix-sorted dataset\n",
      "2022-12-16 17:12:35 Hail: INFO: Coerced prefix-sorted dataset\n"
     ]
    },
    {
     "data": {
      "text/plain": [
       "(80857392, 929)"
      ]
     },
     "execution_count": 45,
     "metadata": {},
     "output_type": "execute_result"
    }
   ],
   "source": [
    "berg_mt.count()"
   ]
  },
  {
   "cell_type": "markdown",
   "id": "b0e7b317",
   "metadata": {},
   "source": [
    "#### Bergstrom \n",
    "- Samples: 929\n",
    "- Variants: 80,857,392"
   ]
  },
  {
   "cell_type": "code",
   "execution_count": 17,
   "id": "a1c89840",
   "metadata": {},
   "outputs": [
    {
     "name": "stderr",
     "output_type": "stream",
     "text": [
      "2022-11-17 19:30:51 Hail: INFO: Coerced sorted dataset\n"
     ]
    },
    {
     "data": {
      "text/plain": [
       "(119895186, 3202)"
      ]
     },
     "execution_count": 17,
     "metadata": {},
     "output_type": "execute_result"
    }
   ],
   "source": [
    "nygc_1kg_mt.count()"
   ]
  },
  {
   "cell_type": "markdown",
   "id": "29b6e9c3",
   "metadata": {},
   "source": [
    "#### NYGC 1kGP \n",
    "- Samples: 3202\n",
    "- Variants: 119,895,186"
   ]
  },
  {
   "cell_type": "code",
   "execution_count": 18,
   "id": "7ef9ec8f",
   "metadata": {},
   "outputs": [
    {
     "data": {
      "text/plain": [
       "759302267"
      ]
     },
     "execution_count": 18,
     "metadata": {},
     "output_type": "execute_result"
    }
   ],
   "source": [
    "gnomadv3_ht.count()"
   ]
  },
  {
   "cell_type": "markdown",
   "id": "0bec0a7b",
   "metadata": {},
   "source": [
    "#### gnomAD \n",
    "- Variants: 759,302,267"
   ]
  },
  {
   "cell_type": "markdown",
   "id": "963cc7e1",
   "metadata": {},
   "source": [
    "## Dataset Comparison\n",
    "\n",
    "#### Overall steps for comparison:\n",
    "I will be creating one matrix table per comparison as well as one base matrix table of HGDP_1kGP with a bool field annotated with T/F for each of the comparison datasets\n",
    "\n",
    "For each dataset, I need to obtain -\n",
    "- number of novel variants in hgdp_tgp v3.1 compared to the comparison dataset\n",
    "- number of novel singletons in hgdp_tgp v3.1 compared to the comparison dataset"
   ]
  },
  {
   "cell_type": "markdown",
   "id": "17ed6d7b",
   "metadata": {},
   "source": [
    "Creating a table of just the MAF for each comparison dataset so that I can compare with the hgdp_1kgp dataset"
   ]
  },
  {
   "cell_type": "code",
   "execution_count": 11,
   "id": "82e1ec12",
   "metadata": {},
   "outputs": [],
   "source": [
    "# Running hl.variant_qc() on hgdp+1kgp dataset to get the AF\n",
    "hgdp_1kg_mt_var = hl.variant_qc(hgdp_1kg_mt)"
   ]
  },
  {
   "cell_type": "code",
   "execution_count": 12,
   "id": "8aa156f4",
   "metadata": {},
   "outputs": [],
   "source": [
    "# Creating maf tables for all of the datasets\n",
    "# done using get_maf_ht which takes the min of the allele frequency array in a dataset \n",
    "# given the name of the field which contains and array with the allele frequencies\n",
    "hgdp_1kg_maf = get_maf_ht(hgdp_1kg_mt_var, 'variant_qc')\n",
    "hgdp_1kg_maf = hgdp_1kg_maf.rename({'maf': 'maf_hgdp_1kg'})\n",
    "\n",
    "nygc_maf = get_maf_ht(nygc_1kg_mt, 'info')\n",
    "nygc_maf = nygc_maf.rename({'maf': 'nygc_maf'})\n",
    "\n",
    "berg_maf = get_maf_ht(berg_mt, 'info')\n",
    "berg_maf = berg_maf.rename({'maf': 'berg_maf'})\n",
    "\n",
    "phase3_maf = get_maf_ht(phase3_1kg_mt, 'info')\n",
    "phase3_maf = phase3_maf.rename({'maf': 'phase3_maf'})\n",
    "\n",
    "# # Getting the gnomADv3 maf table\n",
    "# # Cannot use the get_maf_ht function since it is already a table and the format is a bit different\n",
    "# gnomadv3_ht = gnomadv3_ht.annotate(maf = hl.float64(gnomadv3_ht.freq[0].AF))\n",
    "# gnomadv3_ht = gnomadv3_ht.rename({'maf': 'gnomadv3_maf'})\n",
    "# gnomadv3_maf = gnomadv3_ht.select('gnomadv3_maf')"
   ]
  },
  {
   "cell_type": "markdown",
   "id": "07d0c6d1",
   "metadata": {},
   "source": [
    "### Get a separate matrix table with only the gnomAD AF metrics needed in order to write out the gnomAD comparison histogram"
   ]
  },
  {
   "cell_type": "code",
   "execution_count": 13,
   "id": "68fcfda3",
   "metadata": {},
   "outputs": [],
   "source": [
    "# adding a col with a bool for if samples are ~gnomad_high_quality\n",
    "# total of True in this col is equal to the number of samples which are in HGDP+1kGP but not in the gnomAD dataset\n",
    "mt = hgdp_1kg_mt_anno.annotate_cols(not_in_gnomad = ~hgdp_1kg_mt_anno.gnomad_release)"
   ]
  },
  {
   "cell_type": "code",
   "execution_count": 14,
   "id": "25d808c3",
   "metadata": {},
   "outputs": [],
   "source": [
    "# calculating call stats for the whole hgdp_1kg matrix table as well as only for samples which were not in gnomad\n",
    "mt = mt.annotate_rows(hgdp_tgp_stats=hl.agg.call_stats(mt.GT, mt.alleles),\n",
    "                      not_in_gnomad_stats=hl.agg.filter(mt.not_in_gnomad==True,\n",
    "                                                        hl.agg.call_stats(mt.GT, mt.alleles)),\n",
    "                      pca_outlier_stats=hl.agg.filter(mt.is_pca_outlier, hl.agg.call_stats(mt.GT, mt.alleles))\n",
    "                     )"
   ]
  },
  {
   "cell_type": "code",
   "execution_count": 18,
   "id": "711dbb72",
   "metadata": {},
   "outputs": [
    {
     "name": "stderr",
     "output_type": "stream",
     "text": [
      "2022-12-20 15:40:09 Hail: INFO: wrote table with 159795273 rows in 50000 partitions to gs://hgdp-1kg/hgdp_tgp/qc_and_figure_generation/comparison_hists/gnomad_agg_stats_v1.ht\n"
     ]
    }
   ],
   "source": [
    "# mt.rows().write('gs://hgdp-1kg/hgdp_tgp/qc_and_figure_generation/comparison_hists/gnomad_agg_stats_v1.ht')"
   ]
  },
  {
   "cell_type": "code",
   "execution_count": 15,
   "id": "73be844f",
   "metadata": {},
   "outputs": [],
   "source": [
    "ht = hl.read_table('gs://hgdp-1kg/hgdp_tgp/qc_and_figure_generation/comparison_hists/gnomad_agg_stats_v1.ht')"
   ]
  },
  {
   "cell_type": "code",
   "execution_count": 16,
   "id": "8da7328f",
   "metadata": {},
   "outputs": [],
   "source": [
    "# this will give the frequency just for the samples which are only in gnomad (not in 1kgp or HGDP)\n",
    "ht = ht.annotate(gnomad_only_AC=ht.gnomad_freq[0].AC - (ht.hgdp_tgp_stats.AC - ht.not_in_gnomad_stats.AC)) "
   ]
  },
  {
   "cell_type": "code",
   "execution_count": 17,
   "id": "12fbe3a1",
   "metadata": {},
   "outputs": [],
   "source": [
    "# adding a field with the calculated AN for gnomAD only\n",
    "ht = ht.annotate(gnomad_only_AN=ht.gnomad_freq[0].AN - (ht.hgdp_tgp_stats.AN - ht.not_in_gnomad_stats.AN)) "
   ]
  },
  {
   "cell_type": "code",
   "execution_count": 18,
   "id": "f3bbe3df",
   "metadata": {},
   "outputs": [],
   "source": [
    "# Calculating the maf for variants in gnomAD only\n",
    "ht = ht.annotate(gnomad_only_maf = 0.5 - hl.abs(\n",
    "    0.5 - (ht.gnomad_only_AC[1]/ht.gnomad_only_AN)))"
   ]
  },
  {
   "cell_type": "code",
   "execution_count": 19,
   "id": "f4360527",
   "metadata": {},
   "outputs": [],
   "source": [
    "# calculating the maf for variants in HGDP+1kGP only\n",
    "ht = ht.annotate(hdgp_1kg_only_maf = hl.min(\n",
    "    (ht.not_in_gnomad_stats.AC - ht.pca_outlier_stats.AC)/(ht.not_in_gnomad_stats.AN - ht.pca_outlier_stats.AN)\n",
    "))"
   ]
  },
  {
   "cell_type": "code",
   "execution_count": 20,
   "id": "c45ac4b6",
   "metadata": {},
   "outputs": [],
   "source": [
    "ht = ht.select_globals()"
   ]
  },
  {
   "cell_type": "code",
   "execution_count": 21,
   "id": "7d723da1",
   "metadata": {},
   "outputs": [],
   "source": [
    "# trying to create a ht with only the metrics needed for gnomAD comparison\n",
    "hgdp_1kg_gnomad_ht = ht.select('gnomad_only_maf',\n",
    "                             'hdgp_1kg_only_maf',\n",
    "                             'gnomad_only_AC')"
   ]
  },
  {
   "cell_type": "code",
   "execution_count": 88,
   "id": "d6c1b4ce",
   "metadata": {},
   "outputs": [
    {
     "name": "stdout",
     "output_type": "stream",
     "text": [
      "----------------------------------------\n",
      "Global fields:\n",
      "    None\n",
      "----------------------------------------\n",
      "Row fields:\n",
      "    'locus': locus<GRCh38> \n",
      "    'alleles': array<str> \n",
      "    'gnomad_only_maf': float64 \n",
      "    'hdgp_1kg_only_maf': float64 \n",
      "    'gnomad_only_AC': array<int32> \n",
      "----------------------------------------\n",
      "Key: ['locus', 'alleles']\n",
      "----------------------------------------\n"
     ]
    }
   ],
   "source": [
    "# hgdp_1kg_gnomad_ht.describe()"
   ]
  },
  {
   "cell_type": "markdown",
   "id": "12e34ccc",
   "metadata": {},
   "source": [
    "# New method for comparison plots"
   ]
  },
  {
   "cell_type": "code",
   "execution_count": 22,
   "id": "480134ec",
   "metadata": {},
   "outputs": [],
   "source": [
    "# Changing the number of partitions for each of the datasets to speed up downstream steps\n",
    "nygc_maf = nygc_maf.naive_coalesce(5000)\n",
    "berg_maf = berg_maf.naive_coalesce(5000)\n",
    "phase3_maf = phase3_maf.naive_coalesce(5000)\n",
    "hgdp_1kg_maf = hgdp_1kg_maf.naive_coalesce(5000)\n",
    "gnomadv3_ht = gnomadv3_ht.naive_coalesce(5000)"
   ]
  },
  {
   "cell_type": "code",
   "execution_count": 23,
   "id": "33481df4",
   "metadata": {
    "scrolled": true
   },
   "outputs": [
    {
     "name": "stdout",
     "output_type": "stream",
     "text": [
      "frozendict({False: 155484090, True: 603818177})\n",
      "frozendict({False: 4311183, True: 155484090})\n",
      "frozendict({False: 35064853, True: 120419237, None: 4311183})\n"
     ]
    },
    {
     "name": "stderr",
     "output_type": "stream",
     "text": [
      "2022-12-20 21:17:11 Hail: INFO: Coerced sorted dataset\n",
      "2022-12-20 21:17:11 Hail: INFO: Coerced dataset with out-of-order partitions.\n",
      "2022-12-20 21:17:11 Hail: INFO: Coerced sorted dataset\n"
     ]
    }
   ],
   "source": [
    "# Creating a table with the aggregated values for phase3 1kGP\n",
    "gnomAD_hist = group_hist(hgdp_1kg_gnomad_ht, gnomadv3_ht, True).persist()"
   ]
  },
  {
   "cell_type": "code",
   "execution_count": 24,
   "id": "98676580",
   "metadata": {},
   "outputs": [
    {
     "data": {
      "text/html": [
       "<table><thead><tr><td style=\"white-space: nowrap; max-width: 500px; overflow: hidden; text-overflow: ellipsis; \" colspan=\"1\"><div style=\"text-align: left;\"></div></td><td style=\"white-space: nowrap; max-width: 500px; overflow: hidden; text-overflow: ellipsis; \" colspan=\"1\"><div style=\"text-align: left;\"></div></td><td style=\"white-space: nowrap; max-width: 500px; overflow: hidden; text-overflow: ellipsis; \" colspan=\"1\"><div style=\"text-align: left;\"></div></td></tr><tr><td style=\"white-space: nowrap; max-width: 500px; overflow: hidden; text-overflow: ellipsis; \" colspan=\"1\"><div style=\"text-align: left;border-bottom: solid 2px #000; padding-bottom: 5px\">cat</div></td><td style=\"white-space: nowrap; max-width: 500px; overflow: hidden; text-overflow: ellipsis; \" colspan=\"1\"><div style=\"text-align: left;border-bottom: solid 2px #000; padding-bottom: 5px\">n_var</div></td><td style=\"white-space: nowrap; max-width: 500px; overflow: hidden; text-overflow: ellipsis; \" colspan=\"1\"><div style=\"text-align: left;border-bottom: solid 2px #000; padding-bottom: 5px\">n_var_in_both</div></td></tr><tr><td style=\"white-space: nowrap; max-width: 500px; overflow: hidden; text-overflow: ellipsis; text-align: left;\">str</td><td style=\"white-space: nowrap; max-width: 500px; overflow: hidden; text-overflow: ellipsis; text-align: left;\">int64</td><td style=\"white-space: nowrap; max-width: 500px; overflow: hidden; text-overflow: ellipsis; text-align: left;\">int64</td></tr>\n",
       "</thead><tbody><tr><td style=\"white-space: nowrap; max-width: 500px; overflow: hidden; text-overflow: ellipsis; \">&quot;0%&quot;</td><td style=\"white-space: nowrap; max-width: 500px; overflow: hidden; text-overflow: ellipsis; \">603818177</td><td style=\"white-space: nowrap; max-width: 500px; overflow: hidden; text-overflow: ellipsis; \">0</td></tr>\n",
       "<tr><td style=\"white-space: nowrap; max-width: 500px; overflow: hidden; text-overflow: ellipsis; \">&quot;0.01%-0.1%&quot;</td><td style=\"white-space: nowrap; max-width: 500px; overflow: hidden; text-overflow: ellipsis; \">113052143</td><td style=\"white-space: nowrap; max-width: 500px; overflow: hidden; text-overflow: ellipsis; \">75383600</td></tr>\n",
       "<tr><td style=\"white-space: nowrap; max-width: 500px; overflow: hidden; text-overflow: ellipsis; \">&quot;0.1%-1%&quot;</td><td style=\"white-space: nowrap; max-width: 500px; overflow: hidden; text-overflow: ellipsis; \">27485532</td><td style=\"white-space: nowrap; max-width: 500px; overflow: hidden; text-overflow: ellipsis; \">25792458</td></tr>\n",
       "<tr><td style=\"white-space: nowrap; max-width: 500px; overflow: hidden; text-overflow: ellipsis; \">&quot;1.0%-10%&quot;</td><td style=\"white-space: nowrap; max-width: 500px; overflow: hidden; text-overflow: ellipsis; \">11730447</td><td style=\"white-space: nowrap; max-width: 500px; overflow: hidden; text-overflow: ellipsis; \">11719115</td></tr>\n",
       "<tr><td style=\"white-space: nowrap; max-width: 500px; overflow: hidden; text-overflow: ellipsis; \">&quot;10-50%&quot;</td><td style=\"white-space: nowrap; max-width: 500px; overflow: hidden; text-overflow: ellipsis; \">7527151</td><td style=\"white-space: nowrap; max-width: 500px; overflow: hidden; text-overflow: ellipsis; \">7524064</td></tr>\n",
       "</tbody></table>"
      ],
      "text/plain": [
       "+--------------+-----------+---------------+\n",
       "| cat          |     n_var | n_var_in_both |\n",
       "+--------------+-----------+---------------+\n",
       "| str          |     int64 |         int64 |\n",
       "+--------------+-----------+---------------+\n",
       "| \"0%\"         | 603818177 |             0 |\n",
       "| \"0.01%-0.1%\" | 113052143 |      75383600 |\n",
       "| \"0.1%-1%\"    |  27485532 |      25792458 |\n",
       "| \"1.0%-10%\"   |  11730447 |      11719115 |\n",
       "| \"10-50%\"     |   7527151 |       7524064 |\n",
       "+--------------+-----------+---------------+"
      ]
     },
     "metadata": {},
     "output_type": "display_data"
    }
   ],
   "source": [
    "# gnomAD_hist.show()"
   ]
  },
  {
   "cell_type": "code",
   "execution_count": 25,
   "id": "1418c4d2",
   "metadata": {
    "scrolled": true
   },
   "outputs": [
    {
     "name": "stderr",
     "output_type": "stream",
     "text": [
      "2022-12-20 21:18:31 Hail: INFO: merging 6 files totalling 145...\n",
      "2022-12-20 21:18:32 Hail: INFO: while writing:\n",
      "    gs://hgdp-1kg/hgdp_tgp/qc_and_figure_generation/comparison_hists/gnomAD_new_hist.tsv\n",
      "  merge time: 601.119ms\n"
     ]
    }
   ],
   "source": [
    "gnomAD_hist.export('gs://hgdp-1kg/hgdp_tgp/qc_and_figure_generation/comparison_hists/gnomAD_hist.tsv')"
   ]
  },
  {
   "cell_type": "code",
   "execution_count": 71,
   "id": "e68dcd83",
   "metadata": {},
   "outputs": [
    {
     "name": "stderr",
     "output_type": "stream",
     "text": [
      "2022-12-16 19:16:18 Hail: INFO: Coerced prefix-sorted dataset\n",
      "2022-12-16 19:18:45 Hail: INFO: Ordering unsorted dataset with network shuffle\n",
      "2022-12-16 19:21:06 Hail: INFO: Coerced prefix-sorted dataset\n",
      "2022-12-16 19:23:30 Hail: INFO: Ordering unsorted dataset with network shuffle\n",
      "2022-12-16 19:43:36 Hail: INFO: Coerced almost-sorted dataset\n",
      "2022-12-16 19:43:36 Hail: INFO: Coerced dataset with out-of-order partitions.\n",
      "2022-12-16 19:46:05 Hail: INFO: Ordering unsorted dataset with network shuffle\n",
      "2022-12-16 19:48:25 Hail: INFO: Coerced almost-sorted dataset\n",
      "2022-12-16 19:48:25 Hail: INFO: Coerced dataset with out-of-order partitions.\n",
      "2022-12-16 19:50:51 Hail: INFO: Ordering unsorted dataset with network shuffle\n",
      "2022-12-16 20:07:00 Hail: INFO: Coerced sorted dataset\n",
      "2022-12-16 20:07:00 Hail: INFO: Coerced dataset with out-of-order partitions.\n",
      "2022-12-16 20:07:00 Hail: INFO: Coerced sorted dataset\n"
     ]
    }
   ],
   "source": [
    "# creating a table with the aggregated values - testing with bergstrom data 1st\n",
    "bergstrom_hist = group_hist(hgdp_1kg_maf, berg_maf, False).persist()"
   ]
  },
  {
   "cell_type": "code",
   "execution_count": 72,
   "id": "e6da8a8b",
   "metadata": {},
   "outputs": [
    {
     "data": {
      "text/html": [
       "<table><thead><tr><td style=\"white-space: nowrap; max-width: 500px; overflow: hidden; text-overflow: ellipsis; \" colspan=\"1\"><div style=\"text-align: left;\"></div></td><td style=\"white-space: nowrap; max-width: 500px; overflow: hidden; text-overflow: ellipsis; \" colspan=\"1\"><div style=\"text-align: left;\"></div></td><td style=\"white-space: nowrap; max-width: 500px; overflow: hidden; text-overflow: ellipsis; \" colspan=\"1\"><div style=\"text-align: left;\"></div></td></tr><tr><td style=\"white-space: nowrap; max-width: 500px; overflow: hidden; text-overflow: ellipsis; \" colspan=\"1\"><div style=\"text-align: left;border-bottom: solid 2px #000; padding-bottom: 5px\">cat</div></td><td style=\"white-space: nowrap; max-width: 500px; overflow: hidden; text-overflow: ellipsis; \" colspan=\"1\"><div style=\"text-align: left;border-bottom: solid 2px #000; padding-bottom: 5px\">n_var</div></td><td style=\"white-space: nowrap; max-width: 500px; overflow: hidden; text-overflow: ellipsis; \" colspan=\"1\"><div style=\"text-align: left;border-bottom: solid 2px #000; padding-bottom: 5px\">n_var_in_both</div></td></tr><tr><td style=\"white-space: nowrap; max-width: 500px; overflow: hidden; text-overflow: ellipsis; text-align: left;\">str</td><td style=\"white-space: nowrap; max-width: 500px; overflow: hidden; text-overflow: ellipsis; text-align: left;\">int64</td><td style=\"white-space: nowrap; max-width: 500px; overflow: hidden; text-overflow: ellipsis; text-align: left;\">int64</td></tr>\n",
       "</thead><tbody><tr><td style=\"white-space: nowrap; max-width: 500px; overflow: hidden; text-overflow: ellipsis; \">&quot;0%&quot;</td><td style=\"white-space: nowrap; max-width: 500px; overflow: hidden; text-overflow: ellipsis; \">8084110</td><td style=\"white-space: nowrap; max-width: 500px; overflow: hidden; text-overflow: ellipsis; \">0</td></tr>\n",
       "<tr><td style=\"white-space: nowrap; max-width: 500px; overflow: hidden; text-overflow: ellipsis; \">&quot;0.01%-0.1%&quot;</td><td style=\"white-space: nowrap; max-width: 500px; overflow: hidden; text-overflow: ellipsis; \">120211765</td><td style=\"white-space: nowrap; max-width: 500px; overflow: hidden; text-overflow: ellipsis; \">38839090</td></tr>\n",
       "<tr><td style=\"white-space: nowrap; max-width: 500px; overflow: hidden; text-overflow: ellipsis; \">&quot;0.1%-1%&quot;</td><td style=\"white-space: nowrap; max-width: 500px; overflow: hidden; text-overflow: ellipsis; \">21980145</td><td style=\"white-space: nowrap; max-width: 500px; overflow: hidden; text-overflow: ellipsis; \">17369958</td></tr>\n",
       "<tr><td style=\"white-space: nowrap; max-width: 500px; overflow: hidden; text-overflow: ellipsis; \">&quot;1.0%-10%&quot;</td><td style=\"white-space: nowrap; max-width: 500px; overflow: hidden; text-overflow: ellipsis; \">10369257</td><td style=\"white-space: nowrap; max-width: 500px; overflow: hidden; text-overflow: ellipsis; \">9602871</td></tr>\n",
       "<tr><td style=\"white-space: nowrap; max-width: 500px; overflow: hidden; text-overflow: ellipsis; \">&quot;10-50%&quot;</td><td style=\"white-space: nowrap; max-width: 500px; overflow: hidden; text-overflow: ellipsis; \">7231815</td><td style=\"white-space: nowrap; max-width: 500px; overflow: hidden; text-overflow: ellipsis; \">6961356</td></tr>\n",
       "</tbody></table>"
      ],
      "text/plain": [
       "+--------------+-----------+---------------+\n",
       "| cat          |     n_var | n_var_in_both |\n",
       "+--------------+-----------+---------------+\n",
       "| str          |     int64 |         int64 |\n",
       "+--------------+-----------+---------------+\n",
       "| \"0%\"         |   8084110 |             0 |\n",
       "| \"0.01%-0.1%\" | 120211765 |      38839090 |\n",
       "| \"0.1%-1%\"    |  21980145 |      17369958 |\n",
       "| \"1.0%-10%\"   |  10369257 |       9602871 |\n",
       "| \"10-50%\"     |   7231815 |       6961356 |\n",
       "+--------------+-----------+---------------+"
      ]
     },
     "metadata": {},
     "output_type": "display_data"
    }
   ],
   "source": [
    "# bergstrom_hist.show()"
   ]
  },
  {
   "cell_type": "code",
   "execution_count": 49,
   "id": "866a4dd4",
   "metadata": {},
   "outputs": [
    {
     "name": "stderr",
     "output_type": "stream",
     "text": [
      "2022-12-16 17:57:16 Hail: INFO: merging 6 files totalling 142...\n",
      "2022-12-16 17:57:17 Hail: INFO: while writing:\n",
      "    gs://hgdp-1kg/hgdp_tgp/qc_and_figure_generation/comparison_hists/berg_new_hist.tsv\n",
      "  merge time: 615.260ms\n"
     ]
    }
   ],
   "source": [
    "bergstrom_hist.export('gs://hgdp-1kg/hgdp_tgp/qc_and_figure_generation/comparison_hists/berg_hist.tsv')"
   ]
  },
  {
   "cell_type": "code",
   "execution_count": 33,
   "id": "cad68f30",
   "metadata": {},
   "outputs": [
    {
     "name": "stderr",
     "output_type": "stream",
     "text": [
      "2022-12-15 19:04:11 Hail: INFO: Coerced sorted dataset\n",
      "2022-12-15 19:06:42 Hail: INFO: Coerced sorted dataset\n",
      "2022-12-15 19:44:10 Hail: INFO: Coerced sorted dataset\n",
      "2022-12-15 19:44:10 Hail: INFO: Coerced dataset with out-of-order partitions.\n",
      "2022-12-15 19:46:46 Hail: INFO: Coerced sorted dataset\n",
      "2022-12-15 19:46:46 Hail: INFO: Coerced dataset with out-of-order partitions.\n",
      "2022-12-15 19:57:56 Hail: INFO: Coerced sorted dataset\n",
      "2022-12-15 19:57:56 Hail: INFO: Coerced dataset with out-of-order partitions.\n",
      "2022-12-15 19:57:56 Hail: INFO: Coerced sorted dataset\n"
     ]
    }
   ],
   "source": [
    "# Creating a table with the aggregated values for NYGC\n",
    "nygc_hist = group_hist(hgdp_1kg_maf, nygc_maf, False).persist()"
   ]
  },
  {
   "cell_type": "code",
   "execution_count": 34,
   "id": "0ca452da",
   "metadata": {},
   "outputs": [
    {
     "data": {
      "text/html": [
       "<table><thead><tr><td style=\"white-space: nowrap; max-width: 500px; overflow: hidden; text-overflow: ellipsis; \" colspan=\"1\"><div style=\"text-align: left;\"></div></td><td style=\"white-space: nowrap; max-width: 500px; overflow: hidden; text-overflow: ellipsis; \" colspan=\"1\"><div style=\"text-align: left;\"></div></td><td style=\"white-space: nowrap; max-width: 500px; overflow: hidden; text-overflow: ellipsis; \" colspan=\"1\"><div style=\"text-align: left;\"></div></td></tr><tr><td style=\"white-space: nowrap; max-width: 500px; overflow: hidden; text-overflow: ellipsis; \" colspan=\"1\"><div style=\"text-align: left;border-bottom: solid 2px #000; padding-bottom: 5px\">cat</div></td><td style=\"white-space: nowrap; max-width: 500px; overflow: hidden; text-overflow: ellipsis; \" colspan=\"1\"><div style=\"text-align: left;border-bottom: solid 2px #000; padding-bottom: 5px\">n_var</div></td><td style=\"white-space: nowrap; max-width: 500px; overflow: hidden; text-overflow: ellipsis; \" colspan=\"1\"><div style=\"text-align: left;border-bottom: solid 2px #000; padding-bottom: 5px\">n_var_in_both</div></td></tr><tr><td style=\"white-space: nowrap; max-width: 500px; overflow: hidden; text-overflow: ellipsis; text-align: left;\">str</td><td style=\"white-space: nowrap; max-width: 500px; overflow: hidden; text-overflow: ellipsis; text-align: left;\">int64</td><td style=\"white-space: nowrap; max-width: 500px; overflow: hidden; text-overflow: ellipsis; text-align: left;\">int64</td></tr>\n",
       "</thead><tbody><tr><td style=\"white-space: nowrap; max-width: 500px; overflow: hidden; text-overflow: ellipsis; \">&quot;0%&quot;</td><td style=\"white-space: nowrap; max-width: 500px; overflow: hidden; text-overflow: ellipsis; \">12566553</td><td style=\"white-space: nowrap; max-width: 500px; overflow: hidden; text-overflow: ellipsis; \">0</td></tr>\n",
       "<tr><td style=\"white-space: nowrap; max-width: 500px; overflow: hidden; text-overflow: ellipsis; \">&quot;0.01%-0.1%&quot;</td><td style=\"white-space: nowrap; max-width: 500px; overflow: hidden; text-overflow: ellipsis; \">120211765</td><td style=\"white-space: nowrap; max-width: 500px; overflow: hidden; text-overflow: ellipsis; \">80874034</td></tr>\n",
       "<tr><td style=\"white-space: nowrap; max-width: 500px; overflow: hidden; text-overflow: ellipsis; \">&quot;0.1%-1%&quot;</td><td style=\"white-space: nowrap; max-width: 500px; overflow: hidden; text-overflow: ellipsis; \">21980145</td><td style=\"white-space: nowrap; max-width: 500px; overflow: hidden; text-overflow: ellipsis; \">19042508</td></tr>\n",
       "<tr><td style=\"white-space: nowrap; max-width: 500px; overflow: hidden; text-overflow: ellipsis; \">&quot;1.0%-10%&quot;</td><td style=\"white-space: nowrap; max-width: 500px; overflow: hidden; text-overflow: ellipsis; \">10369257</td><td style=\"white-space: nowrap; max-width: 500px; overflow: hidden; text-overflow: ellipsis; \">9352622</td></tr>\n",
       "<tr><td style=\"white-space: nowrap; max-width: 500px; overflow: hidden; text-overflow: ellipsis; \">&quot;10-50%&quot;</td><td style=\"white-space: nowrap; max-width: 500px; overflow: hidden; text-overflow: ellipsis; \">7231815</td><td style=\"white-space: nowrap; max-width: 500px; overflow: hidden; text-overflow: ellipsis; \">6739753</td></tr>\n",
       "</tbody></table>"
      ],
      "text/plain": [
       "+--------------+-----------+---------------+\n",
       "| cat          |     n_var | n_var_in_both |\n",
       "+--------------+-----------+---------------+\n",
       "| str          |     int64 |         int64 |\n",
       "+--------------+-----------+---------------+\n",
       "| \"0%\"         |  12566553 |             0 |\n",
       "| \"0.01%-0.1%\" | 120211765 |      80874034 |\n",
       "| \"0.1%-1%\"    |  21980145 |      19042508 |\n",
       "| \"1.0%-10%\"   |  10369257 |       9352622 |\n",
       "| \"10-50%\"     |   7231815 |       6739753 |\n",
       "+--------------+-----------+---------------+"
      ]
     },
     "metadata": {},
     "output_type": "display_data"
    }
   ],
   "source": [
    "# nygc_hist.show()"
   ]
  },
  {
   "cell_type": "code",
   "execution_count": 37,
   "id": "1aa6a1f1",
   "metadata": {},
   "outputs": [
    {
     "name": "stderr",
     "output_type": "stream",
     "text": [
      "2022-12-15 20:06:44 Hail: INFO: merging 6 files totalling 143...\n",
      "2022-12-15 20:06:44 Hail: INFO: while writing:\n",
      "    gs://hgdp-1kg/hgdp_tgp/qc_and_figure_generation/comparison_hists/nygc_new_hist_v1.tsv\n",
      "  merge time: 210.899ms\n"
     ]
    }
   ],
   "source": [
    "nygc_hist.export('gs://hgdp-1kg/hgdp_tgp/qc_and_figure_generation/comparison_hists/nygc_hist.tsv')"
   ]
  },
  {
   "cell_type": "code",
   "execution_count": 28,
   "id": "a7912c4d",
   "metadata": {},
   "outputs": [
    {
     "name": "stderr",
     "output_type": "stream",
     "text": [
      "2022-12-15 17:06:28 Hail: INFO: Coerced sorted dataset\n",
      "2022-12-15 17:51:17 Hail: INFO: Coerced sorted dataset\n",
      "2022-12-15 17:51:17 Hail: INFO: Coerced dataset with out-of-order partitions.\n",
      "2022-12-15 18:08:11 Hail: INFO: Coerced sorted dataset\n",
      "2022-12-15 18:08:11 Hail: INFO: Coerced dataset with out-of-order partitions.\n",
      "2022-12-15 18:08:11 Hail: INFO: Coerced sorted dataset\n"
     ]
    }
   ],
   "source": [
    "# Creating a table with the aggregated values for phase3 1kGP\n",
    "phase3_hist = group_hist(hgdp_1kg_maf, phase3_maf, False).persist()"
   ]
  },
  {
   "cell_type": "code",
   "execution_count": 29,
   "id": "af0e9b0e",
   "metadata": {},
   "outputs": [
    {
     "data": {
      "text/html": [
       "<table><thead><tr><td style=\"white-space: nowrap; max-width: 500px; overflow: hidden; text-overflow: ellipsis; \" colspan=\"1\"><div style=\"text-align: left;\"></div></td><td style=\"white-space: nowrap; max-width: 500px; overflow: hidden; text-overflow: ellipsis; \" colspan=\"1\"><div style=\"text-align: left;\"></div></td><td style=\"white-space: nowrap; max-width: 500px; overflow: hidden; text-overflow: ellipsis; \" colspan=\"1\"><div style=\"text-align: left;\"></div></td></tr><tr><td style=\"white-space: nowrap; max-width: 500px; overflow: hidden; text-overflow: ellipsis; \" colspan=\"1\"><div style=\"text-align: left;border-bottom: solid 2px #000; padding-bottom: 5px\">cat</div></td><td style=\"white-space: nowrap; max-width: 500px; overflow: hidden; text-overflow: ellipsis; \" colspan=\"1\"><div style=\"text-align: left;border-bottom: solid 2px #000; padding-bottom: 5px\">n_var</div></td><td style=\"white-space: nowrap; max-width: 500px; overflow: hidden; text-overflow: ellipsis; \" colspan=\"1\"><div style=\"text-align: left;border-bottom: solid 2px #000; padding-bottom: 5px\">n_var_in_both</div></td></tr><tr><td style=\"white-space: nowrap; max-width: 500px; overflow: hidden; text-overflow: ellipsis; text-align: left;\">str</td><td style=\"white-space: nowrap; max-width: 500px; overflow: hidden; text-overflow: ellipsis; text-align: left;\">int64</td><td style=\"white-space: nowrap; max-width: 500px; overflow: hidden; text-overflow: ellipsis; text-align: left;\">int64</td></tr>\n",
       "</thead><tbody><tr><td style=\"white-space: nowrap; max-width: 500px; overflow: hidden; text-overflow: ellipsis; \">&quot;0%&quot;</td><td style=\"white-space: nowrap; max-width: 500px; overflow: hidden; text-overflow: ellipsis; \">2129515</td><td style=\"white-space: nowrap; max-width: 500px; overflow: hidden; text-overflow: ellipsis; \">0</td></tr>\n",
       "<tr><td style=\"white-space: nowrap; max-width: 500px; overflow: hidden; text-overflow: ellipsis; \">&quot;0.01%-0.1%&quot;</td><td style=\"white-space: nowrap; max-width: 500px; overflow: hidden; text-overflow: ellipsis; \">120211765</td><td style=\"white-space: nowrap; max-width: 500px; overflow: hidden; text-overflow: ellipsis; \">45207677</td></tr>\n",
       "<tr><td style=\"white-space: nowrap; max-width: 500px; overflow: hidden; text-overflow: ellipsis; \">&quot;0.1%-1%&quot;</td><td style=\"white-space: nowrap; max-width: 500px; overflow: hidden; text-overflow: ellipsis; \">21980145</td><td style=\"white-space: nowrap; max-width: 500px; overflow: hidden; text-overflow: ellipsis; \">14199060</td></tr>\n",
       "<tr><td style=\"white-space: nowrap; max-width: 500px; overflow: hidden; text-overflow: ellipsis; \">&quot;1.0%-10%&quot;</td><td style=\"white-space: nowrap; max-width: 500px; overflow: hidden; text-overflow: ellipsis; \">10369257</td><td style=\"white-space: nowrap; max-width: 500px; overflow: hidden; text-overflow: ellipsis; \">6611461</td></tr>\n",
       "<tr><td style=\"white-space: nowrap; max-width: 500px; overflow: hidden; text-overflow: ellipsis; \">&quot;10-50%&quot;</td><td style=\"white-space: nowrap; max-width: 500px; overflow: hidden; text-overflow: ellipsis; \">7231815</td><td style=\"white-space: nowrap; max-width: 500px; overflow: hidden; text-overflow: ellipsis; \">5109920</td></tr>\n",
       "</tbody></table>"
      ],
      "text/plain": [
       "+--------------+-----------+---------------+\n",
       "| cat          |     n_var | n_var_in_both |\n",
       "+--------------+-----------+---------------+\n",
       "| str          |     int64 |         int64 |\n",
       "+--------------+-----------+---------------+\n",
       "| \"0%\"         |   2129515 |             0 |\n",
       "| \"0.01%-0.1%\" | 120211765 |      45207677 |\n",
       "| \"0.1%-1%\"    |  21980145 |      14199060 |\n",
       "| \"1.0%-10%\"   |  10369257 |       6611461 |\n",
       "| \"10-50%\"     |   7231815 |       5109920 |\n",
       "+--------------+-----------+---------------+"
      ]
     },
     "metadata": {},
     "output_type": "display_data"
    }
   ],
   "source": [
    "# phase3_hist.show()"
   ]
  },
  {
   "cell_type": "code",
   "execution_count": 30,
   "id": "861e8539",
   "metadata": {},
   "outputs": [
    {
     "name": "stderr",
     "output_type": "stream",
     "text": [
      "2022-12-15 18:21:57 Hail: INFO: merging 6 files totalling 142...\n",
      "2022-12-15 18:21:57 Hail: INFO: while writing:\n",
      "    gs://hgdp-1kg/hgdp_tgp/qc_and_figure_generation/comparison_hists/phase3_new_hist.tsv\n",
      "  merge time: 339.141ms\n"
     ]
    }
   ],
   "source": [
    "phase3_hist.export('gs://hgdp-1kg/hgdp_tgp/qc_and_figure_generation/comparison_hists/phase3_hist.tsv')"
   ]
  }
 ],
 "metadata": {
  "kernelspec": {
   "display_name": "Hail",
   "language": "python",
   "name": "hail"
  },
  "language_info": {
   "codemirror_mode": {
    "name": "ipython",
    "version": 3
   },
   "file_extension": ".py",
   "mimetype": "text/x-python",
   "name": "python",
   "nbconvert_exporter": "python",
   "pygments_lexer": "ipython3",
   "version": "3.10.8"
  }
 },
 "nbformat": 4,
 "nbformat_minor": 5
}
